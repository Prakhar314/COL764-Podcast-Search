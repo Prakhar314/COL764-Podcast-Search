{
  "nbformat": 4,
  "nbformat_minor": 0,
  "metadata": {
    "kernelspec": {
      "name": "python3",
      "display_name": "Python 3",
      "language": "python"
    },
    "language_info": {
      "name": "python",
      "version": "3.6.13",
      "mimetype": "text/x-python",
      "codemirror_mode": {
        "name": "ipython",
        "version": 3
      },
      "pygments_lexer": "ipython3",
      "nbconvert_exporter": "python",
      "file_extension": ".py"
    },
    "colab": {
      "name": "pointwise.ipynb",
      "provenance": [],
      "collapsed_sections": [],
      "include_colab_link": true
    },
    "widgets": {
      "application/vnd.jupyter.widget-state+json": {
        "7d83c02fce9847799b97799f6c7cb26a": {
          "model_module": "@jupyter-widgets/controls",
          "model_name": "HBoxModel",
          "model_module_version": "1.5.0",
          "state": {
            "_view_name": "HBoxView",
            "_dom_classes": [],
            "_model_name": "HBoxModel",
            "_view_module": "@jupyter-widgets/controls",
            "_model_module_version": "1.5.0",
            "_view_count": null,
            "_view_module_version": "1.5.0",
            "box_style": "",
            "layout": "IPY_MODEL_b42c57d6306c44848f4b32ed0cff7b71",
            "_model_module": "@jupyter-widgets/controls",
            "children": [
              "IPY_MODEL_8c25b8f52db14b3e9650dee09c05a386",
              "IPY_MODEL_24bd8eb5517847eb925fd4b13eb11458",
              "IPY_MODEL_5c9e3e7789534596ba016ee514001131"
            ]
          }
        },
        "b42c57d6306c44848f4b32ed0cff7b71": {
          "model_module": "@jupyter-widgets/base",
          "model_name": "LayoutModel",
          "model_module_version": "1.2.0",
          "state": {
            "_view_name": "LayoutView",
            "grid_template_rows": null,
            "right": null,
            "justify_content": null,
            "_view_module": "@jupyter-widgets/base",
            "overflow": null,
            "_model_module_version": "1.2.0",
            "_view_count": null,
            "flex_flow": null,
            "width": null,
            "min_width": null,
            "border": null,
            "align_items": null,
            "bottom": null,
            "_model_module": "@jupyter-widgets/base",
            "top": null,
            "grid_column": null,
            "overflow_y": null,
            "overflow_x": null,
            "grid_auto_flow": null,
            "grid_area": null,
            "grid_template_columns": null,
            "flex": null,
            "_model_name": "LayoutModel",
            "justify_items": null,
            "grid_row": null,
            "max_height": null,
            "align_content": null,
            "visibility": null,
            "align_self": null,
            "height": null,
            "min_height": null,
            "padding": null,
            "grid_auto_rows": null,
            "grid_gap": null,
            "max_width": null,
            "order": null,
            "_view_module_version": "1.2.0",
            "grid_template_areas": null,
            "object_position": null,
            "object_fit": null,
            "grid_auto_columns": null,
            "margin": null,
            "display": null,
            "left": null
          }
        },
        "8c25b8f52db14b3e9650dee09c05a386": {
          "model_module": "@jupyter-widgets/controls",
          "model_name": "HTMLModel",
          "model_module_version": "1.5.0",
          "state": {
            "_view_name": "HTMLView",
            "style": "IPY_MODEL_9356380d04e44bd888292ddd298a15c0",
            "_dom_classes": [],
            "description": "",
            "_model_name": "HTMLModel",
            "placeholder": "​",
            "_view_module": "@jupyter-widgets/controls",
            "_model_module_version": "1.5.0",
            "value": "Downloading: 100%",
            "_view_count": null,
            "_view_module_version": "1.5.0",
            "description_tooltip": null,
            "_model_module": "@jupyter-widgets/controls",
            "layout": "IPY_MODEL_ed83acd8499748a79dfbd8aca5888e23"
          }
        },
        "24bd8eb5517847eb925fd4b13eb11458": {
          "model_module": "@jupyter-widgets/controls",
          "model_name": "FloatProgressModel",
          "model_module_version": "1.5.0",
          "state": {
            "_view_name": "ProgressView",
            "style": "IPY_MODEL_d894ec5981ca4e889166790020acdd51",
            "_dom_classes": [],
            "description": "",
            "_model_name": "FloatProgressModel",
            "bar_style": "success",
            "max": 231508,
            "_view_module": "@jupyter-widgets/controls",
            "_model_module_version": "1.5.0",
            "value": 231508,
            "_view_count": null,
            "_view_module_version": "1.5.0",
            "orientation": "horizontal",
            "min": 0,
            "description_tooltip": null,
            "_model_module": "@jupyter-widgets/controls",
            "layout": "IPY_MODEL_11455f1bf42b4a0492ccc4aa2b7b48b7"
          }
        },
        "5c9e3e7789534596ba016ee514001131": {
          "model_module": "@jupyter-widgets/controls",
          "model_name": "HTMLModel",
          "model_module_version": "1.5.0",
          "state": {
            "_view_name": "HTMLView",
            "style": "IPY_MODEL_f75f0094416c4eabbb4ddfe7246285e5",
            "_dom_classes": [],
            "description": "",
            "_model_name": "HTMLModel",
            "placeholder": "​",
            "_view_module": "@jupyter-widgets/controls",
            "_model_module_version": "1.5.0",
            "value": " 226k/226k [00:00&lt;00:00, 563kB/s]",
            "_view_count": null,
            "_view_module_version": "1.5.0",
            "description_tooltip": null,
            "_model_module": "@jupyter-widgets/controls",
            "layout": "IPY_MODEL_74df22c8aeec45b081492c7bce7bab51"
          }
        },
        "9356380d04e44bd888292ddd298a15c0": {
          "model_module": "@jupyter-widgets/controls",
          "model_name": "DescriptionStyleModel",
          "model_module_version": "1.5.0",
          "state": {
            "_view_name": "StyleView",
            "_model_name": "DescriptionStyleModel",
            "description_width": "",
            "_view_module": "@jupyter-widgets/base",
            "_model_module_version": "1.5.0",
            "_view_count": null,
            "_view_module_version": "1.2.0",
            "_model_module": "@jupyter-widgets/controls"
          }
        },
        "ed83acd8499748a79dfbd8aca5888e23": {
          "model_module": "@jupyter-widgets/base",
          "model_name": "LayoutModel",
          "model_module_version": "1.2.0",
          "state": {
            "_view_name": "LayoutView",
            "grid_template_rows": null,
            "right": null,
            "justify_content": null,
            "_view_module": "@jupyter-widgets/base",
            "overflow": null,
            "_model_module_version": "1.2.0",
            "_view_count": null,
            "flex_flow": null,
            "width": null,
            "min_width": null,
            "border": null,
            "align_items": null,
            "bottom": null,
            "_model_module": "@jupyter-widgets/base",
            "top": null,
            "grid_column": null,
            "overflow_y": null,
            "overflow_x": null,
            "grid_auto_flow": null,
            "grid_area": null,
            "grid_template_columns": null,
            "flex": null,
            "_model_name": "LayoutModel",
            "justify_items": null,
            "grid_row": null,
            "max_height": null,
            "align_content": null,
            "visibility": null,
            "align_self": null,
            "height": null,
            "min_height": null,
            "padding": null,
            "grid_auto_rows": null,
            "grid_gap": null,
            "max_width": null,
            "order": null,
            "_view_module_version": "1.2.0",
            "grid_template_areas": null,
            "object_position": null,
            "object_fit": null,
            "grid_auto_columns": null,
            "margin": null,
            "display": null,
            "left": null
          }
        },
        "d894ec5981ca4e889166790020acdd51": {
          "model_module": "@jupyter-widgets/controls",
          "model_name": "ProgressStyleModel",
          "model_module_version": "1.5.0",
          "state": {
            "_view_name": "StyleView",
            "_model_name": "ProgressStyleModel",
            "description_width": "",
            "_view_module": "@jupyter-widgets/base",
            "_model_module_version": "1.5.0",
            "_view_count": null,
            "_view_module_version": "1.2.0",
            "bar_color": null,
            "_model_module": "@jupyter-widgets/controls"
          }
        },
        "11455f1bf42b4a0492ccc4aa2b7b48b7": {
          "model_module": "@jupyter-widgets/base",
          "model_name": "LayoutModel",
          "model_module_version": "1.2.0",
          "state": {
            "_view_name": "LayoutView",
            "grid_template_rows": null,
            "right": null,
            "justify_content": null,
            "_view_module": "@jupyter-widgets/base",
            "overflow": null,
            "_model_module_version": "1.2.0",
            "_view_count": null,
            "flex_flow": null,
            "width": null,
            "min_width": null,
            "border": null,
            "align_items": null,
            "bottom": null,
            "_model_module": "@jupyter-widgets/base",
            "top": null,
            "grid_column": null,
            "overflow_y": null,
            "overflow_x": null,
            "grid_auto_flow": null,
            "grid_area": null,
            "grid_template_columns": null,
            "flex": null,
            "_model_name": "LayoutModel",
            "justify_items": null,
            "grid_row": null,
            "max_height": null,
            "align_content": null,
            "visibility": null,
            "align_self": null,
            "height": null,
            "min_height": null,
            "padding": null,
            "grid_auto_rows": null,
            "grid_gap": null,
            "max_width": null,
            "order": null,
            "_view_module_version": "1.2.0",
            "grid_template_areas": null,
            "object_position": null,
            "object_fit": null,
            "grid_auto_columns": null,
            "margin": null,
            "display": null,
            "left": null
          }
        },
        "f75f0094416c4eabbb4ddfe7246285e5": {
          "model_module": "@jupyter-widgets/controls",
          "model_name": "DescriptionStyleModel",
          "model_module_version": "1.5.0",
          "state": {
            "_view_name": "StyleView",
            "_model_name": "DescriptionStyleModel",
            "description_width": "",
            "_view_module": "@jupyter-widgets/base",
            "_model_module_version": "1.5.0",
            "_view_count": null,
            "_view_module_version": "1.2.0",
            "_model_module": "@jupyter-widgets/controls"
          }
        },
        "74df22c8aeec45b081492c7bce7bab51": {
          "model_module": "@jupyter-widgets/base",
          "model_name": "LayoutModel",
          "model_module_version": "1.2.0",
          "state": {
            "_view_name": "LayoutView",
            "grid_template_rows": null,
            "right": null,
            "justify_content": null,
            "_view_module": "@jupyter-widgets/base",
            "overflow": null,
            "_model_module_version": "1.2.0",
            "_view_count": null,
            "flex_flow": null,
            "width": null,
            "min_width": null,
            "border": null,
            "align_items": null,
            "bottom": null,
            "_model_module": "@jupyter-widgets/base",
            "top": null,
            "grid_column": null,
            "overflow_y": null,
            "overflow_x": null,
            "grid_auto_flow": null,
            "grid_area": null,
            "grid_template_columns": null,
            "flex": null,
            "_model_name": "LayoutModel",
            "justify_items": null,
            "grid_row": null,
            "max_height": null,
            "align_content": null,
            "visibility": null,
            "align_self": null,
            "height": null,
            "min_height": null,
            "padding": null,
            "grid_auto_rows": null,
            "grid_gap": null,
            "max_width": null,
            "order": null,
            "_view_module_version": "1.2.0",
            "grid_template_areas": null,
            "object_position": null,
            "object_fit": null,
            "grid_auto_columns": null,
            "margin": null,
            "display": null,
            "left": null
          }
        },
        "717129c1f0e14ffd8abb845cf6a0bdbd": {
          "model_module": "@jupyter-widgets/controls",
          "model_name": "HBoxModel",
          "model_module_version": "1.5.0",
          "state": {
            "_view_name": "HBoxView",
            "_dom_classes": [],
            "_model_name": "HBoxModel",
            "_view_module": "@jupyter-widgets/controls",
            "_model_module_version": "1.5.0",
            "_view_count": null,
            "_view_module_version": "1.5.0",
            "box_style": "",
            "layout": "IPY_MODEL_a5912c1cfe8b47f2966524e1505dad5d",
            "_model_module": "@jupyter-widgets/controls",
            "children": [
              "IPY_MODEL_c8b91f048a0241168ddfb7dce3a857bf",
              "IPY_MODEL_ef88ce568bc040e883539e4848e363cb",
              "IPY_MODEL_b222004304ed4b6f9c0eb3ea648673a1"
            ]
          }
        },
        "a5912c1cfe8b47f2966524e1505dad5d": {
          "model_module": "@jupyter-widgets/base",
          "model_name": "LayoutModel",
          "model_module_version": "1.2.0",
          "state": {
            "_view_name": "LayoutView",
            "grid_template_rows": null,
            "right": null,
            "justify_content": null,
            "_view_module": "@jupyter-widgets/base",
            "overflow": null,
            "_model_module_version": "1.2.0",
            "_view_count": null,
            "flex_flow": null,
            "width": null,
            "min_width": null,
            "border": null,
            "align_items": null,
            "bottom": null,
            "_model_module": "@jupyter-widgets/base",
            "top": null,
            "grid_column": null,
            "overflow_y": null,
            "overflow_x": null,
            "grid_auto_flow": null,
            "grid_area": null,
            "grid_template_columns": null,
            "flex": null,
            "_model_name": "LayoutModel",
            "justify_items": null,
            "grid_row": null,
            "max_height": null,
            "align_content": null,
            "visibility": null,
            "align_self": null,
            "height": null,
            "min_height": null,
            "padding": null,
            "grid_auto_rows": null,
            "grid_gap": null,
            "max_width": null,
            "order": null,
            "_view_module_version": "1.2.0",
            "grid_template_areas": null,
            "object_position": null,
            "object_fit": null,
            "grid_auto_columns": null,
            "margin": null,
            "display": null,
            "left": null
          }
        },
        "c8b91f048a0241168ddfb7dce3a857bf": {
          "model_module": "@jupyter-widgets/controls",
          "model_name": "HTMLModel",
          "model_module_version": "1.5.0",
          "state": {
            "_view_name": "HTMLView",
            "style": "IPY_MODEL_bd309d3d93224c1aa6fc5e7951c256c4",
            "_dom_classes": [],
            "description": "",
            "_model_name": "HTMLModel",
            "placeholder": "​",
            "_view_module": "@jupyter-widgets/controls",
            "_model_module_version": "1.5.0",
            "value": "Downloading: 100%",
            "_view_count": null,
            "_view_module_version": "1.5.0",
            "description_tooltip": null,
            "_model_module": "@jupyter-widgets/controls",
            "layout": "IPY_MODEL_cd5a4484a52a4d5e922a67b7c3399f09"
          }
        },
        "ef88ce568bc040e883539e4848e363cb": {
          "model_module": "@jupyter-widgets/controls",
          "model_name": "FloatProgressModel",
          "model_module_version": "1.5.0",
          "state": {
            "_view_name": "ProgressView",
            "style": "IPY_MODEL_3bbdd73e9fb34180b93ee696fe09777e",
            "_dom_classes": [],
            "description": "",
            "_model_name": "FloatProgressModel",
            "bar_style": "success",
            "max": 28,
            "_view_module": "@jupyter-widgets/controls",
            "_model_module_version": "1.5.0",
            "value": 28,
            "_view_count": null,
            "_view_module_version": "1.5.0",
            "orientation": "horizontal",
            "min": 0,
            "description_tooltip": null,
            "_model_module": "@jupyter-widgets/controls",
            "layout": "IPY_MODEL_be494cc2b66f419cab7141b4d7463ec7"
          }
        },
        "b222004304ed4b6f9c0eb3ea648673a1": {
          "model_module": "@jupyter-widgets/controls",
          "model_name": "HTMLModel",
          "model_module_version": "1.5.0",
          "state": {
            "_view_name": "HTMLView",
            "style": "IPY_MODEL_18c8a2878de44d208c69dd18063e3cbe",
            "_dom_classes": [],
            "description": "",
            "_model_name": "HTMLModel",
            "placeholder": "​",
            "_view_module": "@jupyter-widgets/controls",
            "_model_module_version": "1.5.0",
            "value": " 28.0/28.0 [00:00&lt;00:00, 628B/s]",
            "_view_count": null,
            "_view_module_version": "1.5.0",
            "description_tooltip": null,
            "_model_module": "@jupyter-widgets/controls",
            "layout": "IPY_MODEL_f8850cf9bcff4b94abd31c6b659d4142"
          }
        },
        "bd309d3d93224c1aa6fc5e7951c256c4": {
          "model_module": "@jupyter-widgets/controls",
          "model_name": "DescriptionStyleModel",
          "model_module_version": "1.5.0",
          "state": {
            "_view_name": "StyleView",
            "_model_name": "DescriptionStyleModel",
            "description_width": "",
            "_view_module": "@jupyter-widgets/base",
            "_model_module_version": "1.5.0",
            "_view_count": null,
            "_view_module_version": "1.2.0",
            "_model_module": "@jupyter-widgets/controls"
          }
        },
        "cd5a4484a52a4d5e922a67b7c3399f09": {
          "model_module": "@jupyter-widgets/base",
          "model_name": "LayoutModel",
          "model_module_version": "1.2.0",
          "state": {
            "_view_name": "LayoutView",
            "grid_template_rows": null,
            "right": null,
            "justify_content": null,
            "_view_module": "@jupyter-widgets/base",
            "overflow": null,
            "_model_module_version": "1.2.0",
            "_view_count": null,
            "flex_flow": null,
            "width": null,
            "min_width": null,
            "border": null,
            "align_items": null,
            "bottom": null,
            "_model_module": "@jupyter-widgets/base",
            "top": null,
            "grid_column": null,
            "overflow_y": null,
            "overflow_x": null,
            "grid_auto_flow": null,
            "grid_area": null,
            "grid_template_columns": null,
            "flex": null,
            "_model_name": "LayoutModel",
            "justify_items": null,
            "grid_row": null,
            "max_height": null,
            "align_content": null,
            "visibility": null,
            "align_self": null,
            "height": null,
            "min_height": null,
            "padding": null,
            "grid_auto_rows": null,
            "grid_gap": null,
            "max_width": null,
            "order": null,
            "_view_module_version": "1.2.0",
            "grid_template_areas": null,
            "object_position": null,
            "object_fit": null,
            "grid_auto_columns": null,
            "margin": null,
            "display": null,
            "left": null
          }
        },
        "3bbdd73e9fb34180b93ee696fe09777e": {
          "model_module": "@jupyter-widgets/controls",
          "model_name": "ProgressStyleModel",
          "model_module_version": "1.5.0",
          "state": {
            "_view_name": "StyleView",
            "_model_name": "ProgressStyleModel",
            "description_width": "",
            "_view_module": "@jupyter-widgets/base",
            "_model_module_version": "1.5.0",
            "_view_count": null,
            "_view_module_version": "1.2.0",
            "bar_color": null,
            "_model_module": "@jupyter-widgets/controls"
          }
        },
        "be494cc2b66f419cab7141b4d7463ec7": {
          "model_module": "@jupyter-widgets/base",
          "model_name": "LayoutModel",
          "model_module_version": "1.2.0",
          "state": {
            "_view_name": "LayoutView",
            "grid_template_rows": null,
            "right": null,
            "justify_content": null,
            "_view_module": "@jupyter-widgets/base",
            "overflow": null,
            "_model_module_version": "1.2.0",
            "_view_count": null,
            "flex_flow": null,
            "width": null,
            "min_width": null,
            "border": null,
            "align_items": null,
            "bottom": null,
            "_model_module": "@jupyter-widgets/base",
            "top": null,
            "grid_column": null,
            "overflow_y": null,
            "overflow_x": null,
            "grid_auto_flow": null,
            "grid_area": null,
            "grid_template_columns": null,
            "flex": null,
            "_model_name": "LayoutModel",
            "justify_items": null,
            "grid_row": null,
            "max_height": null,
            "align_content": null,
            "visibility": null,
            "align_self": null,
            "height": null,
            "min_height": null,
            "padding": null,
            "grid_auto_rows": null,
            "grid_gap": null,
            "max_width": null,
            "order": null,
            "_view_module_version": "1.2.0",
            "grid_template_areas": null,
            "object_position": null,
            "object_fit": null,
            "grid_auto_columns": null,
            "margin": null,
            "display": null,
            "left": null
          }
        },
        "18c8a2878de44d208c69dd18063e3cbe": {
          "model_module": "@jupyter-widgets/controls",
          "model_name": "DescriptionStyleModel",
          "model_module_version": "1.5.0",
          "state": {
            "_view_name": "StyleView",
            "_model_name": "DescriptionStyleModel",
            "description_width": "",
            "_view_module": "@jupyter-widgets/base",
            "_model_module_version": "1.5.0",
            "_view_count": null,
            "_view_module_version": "1.2.0",
            "_model_module": "@jupyter-widgets/controls"
          }
        },
        "f8850cf9bcff4b94abd31c6b659d4142": {
          "model_module": "@jupyter-widgets/base",
          "model_name": "LayoutModel",
          "model_module_version": "1.2.0",
          "state": {
            "_view_name": "LayoutView",
            "grid_template_rows": null,
            "right": null,
            "justify_content": null,
            "_view_module": "@jupyter-widgets/base",
            "overflow": null,
            "_model_module_version": "1.2.0",
            "_view_count": null,
            "flex_flow": null,
            "width": null,
            "min_width": null,
            "border": null,
            "align_items": null,
            "bottom": null,
            "_model_module": "@jupyter-widgets/base",
            "top": null,
            "grid_column": null,
            "overflow_y": null,
            "overflow_x": null,
            "grid_auto_flow": null,
            "grid_area": null,
            "grid_template_columns": null,
            "flex": null,
            "_model_name": "LayoutModel",
            "justify_items": null,
            "grid_row": null,
            "max_height": null,
            "align_content": null,
            "visibility": null,
            "align_self": null,
            "height": null,
            "min_height": null,
            "padding": null,
            "grid_auto_rows": null,
            "grid_gap": null,
            "max_width": null,
            "order": null,
            "_view_module_version": "1.2.0",
            "grid_template_areas": null,
            "object_position": null,
            "object_fit": null,
            "grid_auto_columns": null,
            "margin": null,
            "display": null,
            "left": null
          }
        },
        "74750153d7ff4fd3b807ed95a2616078": {
          "model_module": "@jupyter-widgets/controls",
          "model_name": "HBoxModel",
          "model_module_version": "1.5.0",
          "state": {
            "_view_name": "HBoxView",
            "_dom_classes": [],
            "_model_name": "HBoxModel",
            "_view_module": "@jupyter-widgets/controls",
            "_model_module_version": "1.5.0",
            "_view_count": null,
            "_view_module_version": "1.5.0",
            "box_style": "",
            "layout": "IPY_MODEL_c56cdadc0a354ceeb55392ced552037a",
            "_model_module": "@jupyter-widgets/controls",
            "children": [
              "IPY_MODEL_4ef2f83d18a4439ebbc01dd64f9369c7",
              "IPY_MODEL_c5ed8f6081dc4caaa290a6a45135f800",
              "IPY_MODEL_2f8d7469ad1348649c7e3ac8ce2aaa70"
            ]
          }
        },
        "c56cdadc0a354ceeb55392ced552037a": {
          "model_module": "@jupyter-widgets/base",
          "model_name": "LayoutModel",
          "model_module_version": "1.2.0",
          "state": {
            "_view_name": "LayoutView",
            "grid_template_rows": null,
            "right": null,
            "justify_content": null,
            "_view_module": "@jupyter-widgets/base",
            "overflow": null,
            "_model_module_version": "1.2.0",
            "_view_count": null,
            "flex_flow": null,
            "width": null,
            "min_width": null,
            "border": null,
            "align_items": null,
            "bottom": null,
            "_model_module": "@jupyter-widgets/base",
            "top": null,
            "grid_column": null,
            "overflow_y": null,
            "overflow_x": null,
            "grid_auto_flow": null,
            "grid_area": null,
            "grid_template_columns": null,
            "flex": null,
            "_model_name": "LayoutModel",
            "justify_items": null,
            "grid_row": null,
            "max_height": null,
            "align_content": null,
            "visibility": null,
            "align_self": null,
            "height": null,
            "min_height": null,
            "padding": null,
            "grid_auto_rows": null,
            "grid_gap": null,
            "max_width": null,
            "order": null,
            "_view_module_version": "1.2.0",
            "grid_template_areas": null,
            "object_position": null,
            "object_fit": null,
            "grid_auto_columns": null,
            "margin": null,
            "display": null,
            "left": null
          }
        },
        "4ef2f83d18a4439ebbc01dd64f9369c7": {
          "model_module": "@jupyter-widgets/controls",
          "model_name": "HTMLModel",
          "model_module_version": "1.5.0",
          "state": {
            "_view_name": "HTMLView",
            "style": "IPY_MODEL_63fb128c5b344a2a8696f684f1c6ff29",
            "_dom_classes": [],
            "description": "",
            "_model_name": "HTMLModel",
            "placeholder": "​",
            "_view_module": "@jupyter-widgets/controls",
            "_model_module_version": "1.5.0",
            "value": "Downloading: 100%",
            "_view_count": null,
            "_view_module_version": "1.5.0",
            "description_tooltip": null,
            "_model_module": "@jupyter-widgets/controls",
            "layout": "IPY_MODEL_c3158101015a4d1a8a3ea6b177561782"
          }
        },
        "c5ed8f6081dc4caaa290a6a45135f800": {
          "model_module": "@jupyter-widgets/controls",
          "model_name": "FloatProgressModel",
          "model_module_version": "1.5.0",
          "state": {
            "_view_name": "ProgressView",
            "style": "IPY_MODEL_9eadcf1d444f4e24bfafa204edb6b7e0",
            "_dom_classes": [],
            "description": "",
            "_model_name": "FloatProgressModel",
            "bar_style": "success",
            "max": 466062,
            "_view_module": "@jupyter-widgets/controls",
            "_model_module_version": "1.5.0",
            "value": 466062,
            "_view_count": null,
            "_view_module_version": "1.5.0",
            "orientation": "horizontal",
            "min": 0,
            "description_tooltip": null,
            "_model_module": "@jupyter-widgets/controls",
            "layout": "IPY_MODEL_220bb726790d4534be7f428e03cdc0a5"
          }
        },
        "2f8d7469ad1348649c7e3ac8ce2aaa70": {
          "model_module": "@jupyter-widgets/controls",
          "model_name": "HTMLModel",
          "model_module_version": "1.5.0",
          "state": {
            "_view_name": "HTMLView",
            "style": "IPY_MODEL_d6b1f91309b24599811127313a9605cc",
            "_dom_classes": [],
            "description": "",
            "_model_name": "HTMLModel",
            "placeholder": "​",
            "_view_module": "@jupyter-widgets/controls",
            "_model_module_version": "1.5.0",
            "value": " 455k/455k [00:00&lt;00:00, 693kB/s]",
            "_view_count": null,
            "_view_module_version": "1.5.0",
            "description_tooltip": null,
            "_model_module": "@jupyter-widgets/controls",
            "layout": "IPY_MODEL_83d0f3f3c0b74ad9aba58cef20442cc9"
          }
        },
        "63fb128c5b344a2a8696f684f1c6ff29": {
          "model_module": "@jupyter-widgets/controls",
          "model_name": "DescriptionStyleModel",
          "model_module_version": "1.5.0",
          "state": {
            "_view_name": "StyleView",
            "_model_name": "DescriptionStyleModel",
            "description_width": "",
            "_view_module": "@jupyter-widgets/base",
            "_model_module_version": "1.5.0",
            "_view_count": null,
            "_view_module_version": "1.2.0",
            "_model_module": "@jupyter-widgets/controls"
          }
        },
        "c3158101015a4d1a8a3ea6b177561782": {
          "model_module": "@jupyter-widgets/base",
          "model_name": "LayoutModel",
          "model_module_version": "1.2.0",
          "state": {
            "_view_name": "LayoutView",
            "grid_template_rows": null,
            "right": null,
            "justify_content": null,
            "_view_module": "@jupyter-widgets/base",
            "overflow": null,
            "_model_module_version": "1.2.0",
            "_view_count": null,
            "flex_flow": null,
            "width": null,
            "min_width": null,
            "border": null,
            "align_items": null,
            "bottom": null,
            "_model_module": "@jupyter-widgets/base",
            "top": null,
            "grid_column": null,
            "overflow_y": null,
            "overflow_x": null,
            "grid_auto_flow": null,
            "grid_area": null,
            "grid_template_columns": null,
            "flex": null,
            "_model_name": "LayoutModel",
            "justify_items": null,
            "grid_row": null,
            "max_height": null,
            "align_content": null,
            "visibility": null,
            "align_self": null,
            "height": null,
            "min_height": null,
            "padding": null,
            "grid_auto_rows": null,
            "grid_gap": null,
            "max_width": null,
            "order": null,
            "_view_module_version": "1.2.0",
            "grid_template_areas": null,
            "object_position": null,
            "object_fit": null,
            "grid_auto_columns": null,
            "margin": null,
            "display": null,
            "left": null
          }
        },
        "9eadcf1d444f4e24bfafa204edb6b7e0": {
          "model_module": "@jupyter-widgets/controls",
          "model_name": "ProgressStyleModel",
          "model_module_version": "1.5.0",
          "state": {
            "_view_name": "StyleView",
            "_model_name": "ProgressStyleModel",
            "description_width": "",
            "_view_module": "@jupyter-widgets/base",
            "_model_module_version": "1.5.0",
            "_view_count": null,
            "_view_module_version": "1.2.0",
            "bar_color": null,
            "_model_module": "@jupyter-widgets/controls"
          }
        },
        "220bb726790d4534be7f428e03cdc0a5": {
          "model_module": "@jupyter-widgets/base",
          "model_name": "LayoutModel",
          "model_module_version": "1.2.0",
          "state": {
            "_view_name": "LayoutView",
            "grid_template_rows": null,
            "right": null,
            "justify_content": null,
            "_view_module": "@jupyter-widgets/base",
            "overflow": null,
            "_model_module_version": "1.2.0",
            "_view_count": null,
            "flex_flow": null,
            "width": null,
            "min_width": null,
            "border": null,
            "align_items": null,
            "bottom": null,
            "_model_module": "@jupyter-widgets/base",
            "top": null,
            "grid_column": null,
            "overflow_y": null,
            "overflow_x": null,
            "grid_auto_flow": null,
            "grid_area": null,
            "grid_template_columns": null,
            "flex": null,
            "_model_name": "LayoutModel",
            "justify_items": null,
            "grid_row": null,
            "max_height": null,
            "align_content": null,
            "visibility": null,
            "align_self": null,
            "height": null,
            "min_height": null,
            "padding": null,
            "grid_auto_rows": null,
            "grid_gap": null,
            "max_width": null,
            "order": null,
            "_view_module_version": "1.2.0",
            "grid_template_areas": null,
            "object_position": null,
            "object_fit": null,
            "grid_auto_columns": null,
            "margin": null,
            "display": null,
            "left": null
          }
        },
        "d6b1f91309b24599811127313a9605cc": {
          "model_module": "@jupyter-widgets/controls",
          "model_name": "DescriptionStyleModel",
          "model_module_version": "1.5.0",
          "state": {
            "_view_name": "StyleView",
            "_model_name": "DescriptionStyleModel",
            "description_width": "",
            "_view_module": "@jupyter-widgets/base",
            "_model_module_version": "1.5.0",
            "_view_count": null,
            "_view_module_version": "1.2.0",
            "_model_module": "@jupyter-widgets/controls"
          }
        },
        "83d0f3f3c0b74ad9aba58cef20442cc9": {
          "model_module": "@jupyter-widgets/base",
          "model_name": "LayoutModel",
          "model_module_version": "1.2.0",
          "state": {
            "_view_name": "LayoutView",
            "grid_template_rows": null,
            "right": null,
            "justify_content": null,
            "_view_module": "@jupyter-widgets/base",
            "overflow": null,
            "_model_module_version": "1.2.0",
            "_view_count": null,
            "flex_flow": null,
            "width": null,
            "min_width": null,
            "border": null,
            "align_items": null,
            "bottom": null,
            "_model_module": "@jupyter-widgets/base",
            "top": null,
            "grid_column": null,
            "overflow_y": null,
            "overflow_x": null,
            "grid_auto_flow": null,
            "grid_area": null,
            "grid_template_columns": null,
            "flex": null,
            "_model_name": "LayoutModel",
            "justify_items": null,
            "grid_row": null,
            "max_height": null,
            "align_content": null,
            "visibility": null,
            "align_self": null,
            "height": null,
            "min_height": null,
            "padding": null,
            "grid_auto_rows": null,
            "grid_gap": null,
            "max_width": null,
            "order": null,
            "_view_module_version": "1.2.0",
            "grid_template_areas": null,
            "object_position": null,
            "object_fit": null,
            "grid_auto_columns": null,
            "margin": null,
            "display": null,
            "left": null
          }
        },
        "b3e31a84cae54dc3992afdd60db8c008": {
          "model_module": "@jupyter-widgets/controls",
          "model_name": "HBoxModel",
          "model_module_version": "1.5.0",
          "state": {
            "_view_name": "HBoxView",
            "_dom_classes": [],
            "_model_name": "HBoxModel",
            "_view_module": "@jupyter-widgets/controls",
            "_model_module_version": "1.5.0",
            "_view_count": null,
            "_view_module_version": "1.5.0",
            "box_style": "",
            "layout": "IPY_MODEL_09f4433d0cba4f3bac1641cb7cc26bd5",
            "_model_module": "@jupyter-widgets/controls",
            "children": [
              "IPY_MODEL_04268a39073a4d10b5b2d3bcd9e1cd1d",
              "IPY_MODEL_3dd27aaad06e4b5baf19b9a80f9f6d40",
              "IPY_MODEL_a7f1b8dd1475425a8abbf00ebf346f48"
            ]
          }
        },
        "09f4433d0cba4f3bac1641cb7cc26bd5": {
          "model_module": "@jupyter-widgets/base",
          "model_name": "LayoutModel",
          "model_module_version": "1.2.0",
          "state": {
            "_view_name": "LayoutView",
            "grid_template_rows": null,
            "right": null,
            "justify_content": null,
            "_view_module": "@jupyter-widgets/base",
            "overflow": null,
            "_model_module_version": "1.2.0",
            "_view_count": null,
            "flex_flow": null,
            "width": null,
            "min_width": null,
            "border": null,
            "align_items": null,
            "bottom": null,
            "_model_module": "@jupyter-widgets/base",
            "top": null,
            "grid_column": null,
            "overflow_y": null,
            "overflow_x": null,
            "grid_auto_flow": null,
            "grid_area": null,
            "grid_template_columns": null,
            "flex": null,
            "_model_name": "LayoutModel",
            "justify_items": null,
            "grid_row": null,
            "max_height": null,
            "align_content": null,
            "visibility": null,
            "align_self": null,
            "height": null,
            "min_height": null,
            "padding": null,
            "grid_auto_rows": null,
            "grid_gap": null,
            "max_width": null,
            "order": null,
            "_view_module_version": "1.2.0",
            "grid_template_areas": null,
            "object_position": null,
            "object_fit": null,
            "grid_auto_columns": null,
            "margin": null,
            "display": null,
            "left": null
          }
        },
        "04268a39073a4d10b5b2d3bcd9e1cd1d": {
          "model_module": "@jupyter-widgets/controls",
          "model_name": "HTMLModel",
          "model_module_version": "1.5.0",
          "state": {
            "_view_name": "HTMLView",
            "style": "IPY_MODEL_bee437826b5b4eeba78c372987fe2153",
            "_dom_classes": [],
            "description": "",
            "_model_name": "HTMLModel",
            "placeholder": "​",
            "_view_module": "@jupyter-widgets/controls",
            "_model_module_version": "1.5.0",
            "value": "Downloading: 100%",
            "_view_count": null,
            "_view_module_version": "1.5.0",
            "description_tooltip": null,
            "_model_module": "@jupyter-widgets/controls",
            "layout": "IPY_MODEL_4cdb067d7d004c1ba6d073fbf2daf2d1"
          }
        },
        "3dd27aaad06e4b5baf19b9a80f9f6d40": {
          "model_module": "@jupyter-widgets/controls",
          "model_name": "FloatProgressModel",
          "model_module_version": "1.5.0",
          "state": {
            "_view_name": "ProgressView",
            "style": "IPY_MODEL_a81e732790be4ffc9a4d95135b04e0e9",
            "_dom_classes": [],
            "description": "",
            "_model_name": "FloatProgressModel",
            "bar_style": "success",
            "max": 570,
            "_view_module": "@jupyter-widgets/controls",
            "_model_module_version": "1.5.0",
            "value": 570,
            "_view_count": null,
            "_view_module_version": "1.5.0",
            "orientation": "horizontal",
            "min": 0,
            "description_tooltip": null,
            "_model_module": "@jupyter-widgets/controls",
            "layout": "IPY_MODEL_79ba86be8ee04fd384d9d5d91120050a"
          }
        },
        "a7f1b8dd1475425a8abbf00ebf346f48": {
          "model_module": "@jupyter-widgets/controls",
          "model_name": "HTMLModel",
          "model_module_version": "1.5.0",
          "state": {
            "_view_name": "HTMLView",
            "style": "IPY_MODEL_eac7b3d52404417ba9ad35ef9ecd9c52",
            "_dom_classes": [],
            "description": "",
            "_model_name": "HTMLModel",
            "placeholder": "​",
            "_view_module": "@jupyter-widgets/controls",
            "_model_module_version": "1.5.0",
            "value": " 570/570 [00:00&lt;00:00, 14.4kB/s]",
            "_view_count": null,
            "_view_module_version": "1.5.0",
            "description_tooltip": null,
            "_model_module": "@jupyter-widgets/controls",
            "layout": "IPY_MODEL_17a48cd53e884b5191c410bb7ca8474d"
          }
        },
        "bee437826b5b4eeba78c372987fe2153": {
          "model_module": "@jupyter-widgets/controls",
          "model_name": "DescriptionStyleModel",
          "model_module_version": "1.5.0",
          "state": {
            "_view_name": "StyleView",
            "_model_name": "DescriptionStyleModel",
            "description_width": "",
            "_view_module": "@jupyter-widgets/base",
            "_model_module_version": "1.5.0",
            "_view_count": null,
            "_view_module_version": "1.2.0",
            "_model_module": "@jupyter-widgets/controls"
          }
        },
        "4cdb067d7d004c1ba6d073fbf2daf2d1": {
          "model_module": "@jupyter-widgets/base",
          "model_name": "LayoutModel",
          "model_module_version": "1.2.0",
          "state": {
            "_view_name": "LayoutView",
            "grid_template_rows": null,
            "right": null,
            "justify_content": null,
            "_view_module": "@jupyter-widgets/base",
            "overflow": null,
            "_model_module_version": "1.2.0",
            "_view_count": null,
            "flex_flow": null,
            "width": null,
            "min_width": null,
            "border": null,
            "align_items": null,
            "bottom": null,
            "_model_module": "@jupyter-widgets/base",
            "top": null,
            "grid_column": null,
            "overflow_y": null,
            "overflow_x": null,
            "grid_auto_flow": null,
            "grid_area": null,
            "grid_template_columns": null,
            "flex": null,
            "_model_name": "LayoutModel",
            "justify_items": null,
            "grid_row": null,
            "max_height": null,
            "align_content": null,
            "visibility": null,
            "align_self": null,
            "height": null,
            "min_height": null,
            "padding": null,
            "grid_auto_rows": null,
            "grid_gap": null,
            "max_width": null,
            "order": null,
            "_view_module_version": "1.2.0",
            "grid_template_areas": null,
            "object_position": null,
            "object_fit": null,
            "grid_auto_columns": null,
            "margin": null,
            "display": null,
            "left": null
          }
        },
        "a81e732790be4ffc9a4d95135b04e0e9": {
          "model_module": "@jupyter-widgets/controls",
          "model_name": "ProgressStyleModel",
          "model_module_version": "1.5.0",
          "state": {
            "_view_name": "StyleView",
            "_model_name": "ProgressStyleModel",
            "description_width": "",
            "_view_module": "@jupyter-widgets/base",
            "_model_module_version": "1.5.0",
            "_view_count": null,
            "_view_module_version": "1.2.0",
            "bar_color": null,
            "_model_module": "@jupyter-widgets/controls"
          }
        },
        "79ba86be8ee04fd384d9d5d91120050a": {
          "model_module": "@jupyter-widgets/base",
          "model_name": "LayoutModel",
          "model_module_version": "1.2.0",
          "state": {
            "_view_name": "LayoutView",
            "grid_template_rows": null,
            "right": null,
            "justify_content": null,
            "_view_module": "@jupyter-widgets/base",
            "overflow": null,
            "_model_module_version": "1.2.0",
            "_view_count": null,
            "flex_flow": null,
            "width": null,
            "min_width": null,
            "border": null,
            "align_items": null,
            "bottom": null,
            "_model_module": "@jupyter-widgets/base",
            "top": null,
            "grid_column": null,
            "overflow_y": null,
            "overflow_x": null,
            "grid_auto_flow": null,
            "grid_area": null,
            "grid_template_columns": null,
            "flex": null,
            "_model_name": "LayoutModel",
            "justify_items": null,
            "grid_row": null,
            "max_height": null,
            "align_content": null,
            "visibility": null,
            "align_self": null,
            "height": null,
            "min_height": null,
            "padding": null,
            "grid_auto_rows": null,
            "grid_gap": null,
            "max_width": null,
            "order": null,
            "_view_module_version": "1.2.0",
            "grid_template_areas": null,
            "object_position": null,
            "object_fit": null,
            "grid_auto_columns": null,
            "margin": null,
            "display": null,
            "left": null
          }
        },
        "eac7b3d52404417ba9ad35ef9ecd9c52": {
          "model_module": "@jupyter-widgets/controls",
          "model_name": "DescriptionStyleModel",
          "model_module_version": "1.5.0",
          "state": {
            "_view_name": "StyleView",
            "_model_name": "DescriptionStyleModel",
            "description_width": "",
            "_view_module": "@jupyter-widgets/base",
            "_model_module_version": "1.5.0",
            "_view_count": null,
            "_view_module_version": "1.2.0",
            "_model_module": "@jupyter-widgets/controls"
          }
        },
        "17a48cd53e884b5191c410bb7ca8474d": {
          "model_module": "@jupyter-widgets/base",
          "model_name": "LayoutModel",
          "model_module_version": "1.2.0",
          "state": {
            "_view_name": "LayoutView",
            "grid_template_rows": null,
            "right": null,
            "justify_content": null,
            "_view_module": "@jupyter-widgets/base",
            "overflow": null,
            "_model_module_version": "1.2.0",
            "_view_count": null,
            "flex_flow": null,
            "width": null,
            "min_width": null,
            "border": null,
            "align_items": null,
            "bottom": null,
            "_model_module": "@jupyter-widgets/base",
            "top": null,
            "grid_column": null,
            "overflow_y": null,
            "overflow_x": null,
            "grid_auto_flow": null,
            "grid_area": null,
            "grid_template_columns": null,
            "flex": null,
            "_model_name": "LayoutModel",
            "justify_items": null,
            "grid_row": null,
            "max_height": null,
            "align_content": null,
            "visibility": null,
            "align_self": null,
            "height": null,
            "min_height": null,
            "padding": null,
            "grid_auto_rows": null,
            "grid_gap": null,
            "max_width": null,
            "order": null,
            "_view_module_version": "1.2.0",
            "grid_template_areas": null,
            "object_position": null,
            "object_fit": null,
            "grid_auto_columns": null,
            "margin": null,
            "display": null,
            "left": null
          }
        },
        "1fa44654b6714ca6b2829639ce106879": {
          "model_module": "@jupyter-widgets/controls",
          "model_name": "HBoxModel",
          "model_module_version": "1.5.0",
          "state": {
            "_view_name": "HBoxView",
            "_dom_classes": [],
            "_model_name": "HBoxModel",
            "_view_module": "@jupyter-widgets/controls",
            "_model_module_version": "1.5.0",
            "_view_count": null,
            "_view_module_version": "1.5.0",
            "box_style": "",
            "layout": "IPY_MODEL_c2d9d82991a14f53a7277d98adc200d9",
            "_model_module": "@jupyter-widgets/controls",
            "children": [
              "IPY_MODEL_e5a20502e73942eaaaa4392714851e9e",
              "IPY_MODEL_895cee7e497c4308a0d437102a3a6c49",
              "IPY_MODEL_905e6404a4b5466ba123a6852fbba79a"
            ]
          }
        },
        "c2d9d82991a14f53a7277d98adc200d9": {
          "model_module": "@jupyter-widgets/base",
          "model_name": "LayoutModel",
          "model_module_version": "1.2.0",
          "state": {
            "_view_name": "LayoutView",
            "grid_template_rows": null,
            "right": null,
            "justify_content": null,
            "_view_module": "@jupyter-widgets/base",
            "overflow": null,
            "_model_module_version": "1.2.0",
            "_view_count": null,
            "flex_flow": null,
            "width": null,
            "min_width": null,
            "border": null,
            "align_items": null,
            "bottom": null,
            "_model_module": "@jupyter-widgets/base",
            "top": null,
            "grid_column": null,
            "overflow_y": null,
            "overflow_x": null,
            "grid_auto_flow": null,
            "grid_area": null,
            "grid_template_columns": null,
            "flex": null,
            "_model_name": "LayoutModel",
            "justify_items": null,
            "grid_row": null,
            "max_height": null,
            "align_content": null,
            "visibility": null,
            "align_self": null,
            "height": null,
            "min_height": null,
            "padding": null,
            "grid_auto_rows": null,
            "grid_gap": null,
            "max_width": null,
            "order": null,
            "_view_module_version": "1.2.0",
            "grid_template_areas": null,
            "object_position": null,
            "object_fit": null,
            "grid_auto_columns": null,
            "margin": null,
            "display": null,
            "left": null
          }
        },
        "e5a20502e73942eaaaa4392714851e9e": {
          "model_module": "@jupyter-widgets/controls",
          "model_name": "HTMLModel",
          "model_module_version": "1.5.0",
          "state": {
            "_view_name": "HTMLView",
            "style": "IPY_MODEL_4646226d3ac94c588525e5b09678897f",
            "_dom_classes": [],
            "description": "",
            "_model_name": "HTMLModel",
            "placeholder": "​",
            "_view_module": "@jupyter-widgets/controls",
            "_model_module_version": "1.5.0",
            "value": "Downloading: 100%",
            "_view_count": null,
            "_view_module_version": "1.5.0",
            "description_tooltip": null,
            "_model_module": "@jupyter-widgets/controls",
            "layout": "IPY_MODEL_71b2529700b04d06a421ecbf07093162"
          }
        },
        "895cee7e497c4308a0d437102a3a6c49": {
          "model_module": "@jupyter-widgets/controls",
          "model_name": "FloatProgressModel",
          "model_module_version": "1.5.0",
          "state": {
            "_view_name": "ProgressView",
            "style": "IPY_MODEL_d097d12eed3242828da1578439354630",
            "_dom_classes": [],
            "description": "",
            "_model_name": "FloatProgressModel",
            "bar_style": "success",
            "max": 536063208,
            "_view_module": "@jupyter-widgets/controls",
            "_model_module_version": "1.5.0",
            "value": 536063208,
            "_view_count": null,
            "_view_module_version": "1.5.0",
            "orientation": "horizontal",
            "min": 0,
            "description_tooltip": null,
            "_model_module": "@jupyter-widgets/controls",
            "layout": "IPY_MODEL_9adcaf220d27448a94da5607a0c42687"
          }
        },
        "905e6404a4b5466ba123a6852fbba79a": {
          "model_module": "@jupyter-widgets/controls",
          "model_name": "HTMLModel",
          "model_module_version": "1.5.0",
          "state": {
            "_view_name": "HTMLView",
            "style": "IPY_MODEL_9cacc16f333d4202a1e36e8fa73ef7ec",
            "_dom_classes": [],
            "description": "",
            "_model_name": "HTMLModel",
            "placeholder": "​",
            "_view_module": "@jupyter-widgets/controls",
            "_model_module_version": "1.5.0",
            "value": " 511M/511M [00:18&lt;00:00, 29.3MB/s]",
            "_view_count": null,
            "_view_module_version": "1.5.0",
            "description_tooltip": null,
            "_model_module": "@jupyter-widgets/controls",
            "layout": "IPY_MODEL_7699d933e9b94c0688e22a4a0b216fa4"
          }
        },
        "4646226d3ac94c588525e5b09678897f": {
          "model_module": "@jupyter-widgets/controls",
          "model_name": "DescriptionStyleModel",
          "model_module_version": "1.5.0",
          "state": {
            "_view_name": "StyleView",
            "_model_name": "DescriptionStyleModel",
            "description_width": "",
            "_view_module": "@jupyter-widgets/base",
            "_model_module_version": "1.5.0",
            "_view_count": null,
            "_view_module_version": "1.2.0",
            "_model_module": "@jupyter-widgets/controls"
          }
        },
        "71b2529700b04d06a421ecbf07093162": {
          "model_module": "@jupyter-widgets/base",
          "model_name": "LayoutModel",
          "model_module_version": "1.2.0",
          "state": {
            "_view_name": "LayoutView",
            "grid_template_rows": null,
            "right": null,
            "justify_content": null,
            "_view_module": "@jupyter-widgets/base",
            "overflow": null,
            "_model_module_version": "1.2.0",
            "_view_count": null,
            "flex_flow": null,
            "width": null,
            "min_width": null,
            "border": null,
            "align_items": null,
            "bottom": null,
            "_model_module": "@jupyter-widgets/base",
            "top": null,
            "grid_column": null,
            "overflow_y": null,
            "overflow_x": null,
            "grid_auto_flow": null,
            "grid_area": null,
            "grid_template_columns": null,
            "flex": null,
            "_model_name": "LayoutModel",
            "justify_items": null,
            "grid_row": null,
            "max_height": null,
            "align_content": null,
            "visibility": null,
            "align_self": null,
            "height": null,
            "min_height": null,
            "padding": null,
            "grid_auto_rows": null,
            "grid_gap": null,
            "max_width": null,
            "order": null,
            "_view_module_version": "1.2.0",
            "grid_template_areas": null,
            "object_position": null,
            "object_fit": null,
            "grid_auto_columns": null,
            "margin": null,
            "display": null,
            "left": null
          }
        },
        "d097d12eed3242828da1578439354630": {
          "model_module": "@jupyter-widgets/controls",
          "model_name": "ProgressStyleModel",
          "model_module_version": "1.5.0",
          "state": {
            "_view_name": "StyleView",
            "_model_name": "ProgressStyleModel",
            "description_width": "",
            "_view_module": "@jupyter-widgets/base",
            "_model_module_version": "1.5.0",
            "_view_count": null,
            "_view_module_version": "1.2.0",
            "bar_color": null,
            "_model_module": "@jupyter-widgets/controls"
          }
        },
        "9adcaf220d27448a94da5607a0c42687": {
          "model_module": "@jupyter-widgets/base",
          "model_name": "LayoutModel",
          "model_module_version": "1.2.0",
          "state": {
            "_view_name": "LayoutView",
            "grid_template_rows": null,
            "right": null,
            "justify_content": null,
            "_view_module": "@jupyter-widgets/base",
            "overflow": null,
            "_model_module_version": "1.2.0",
            "_view_count": null,
            "flex_flow": null,
            "width": null,
            "min_width": null,
            "border": null,
            "align_items": null,
            "bottom": null,
            "_model_module": "@jupyter-widgets/base",
            "top": null,
            "grid_column": null,
            "overflow_y": null,
            "overflow_x": null,
            "grid_auto_flow": null,
            "grid_area": null,
            "grid_template_columns": null,
            "flex": null,
            "_model_name": "LayoutModel",
            "justify_items": null,
            "grid_row": null,
            "max_height": null,
            "align_content": null,
            "visibility": null,
            "align_self": null,
            "height": null,
            "min_height": null,
            "padding": null,
            "grid_auto_rows": null,
            "grid_gap": null,
            "max_width": null,
            "order": null,
            "_view_module_version": "1.2.0",
            "grid_template_areas": null,
            "object_position": null,
            "object_fit": null,
            "grid_auto_columns": null,
            "margin": null,
            "display": null,
            "left": null
          }
        },
        "9cacc16f333d4202a1e36e8fa73ef7ec": {
          "model_module": "@jupyter-widgets/controls",
          "model_name": "DescriptionStyleModel",
          "model_module_version": "1.5.0",
          "state": {
            "_view_name": "StyleView",
            "_model_name": "DescriptionStyleModel",
            "description_width": "",
            "_view_module": "@jupyter-widgets/base",
            "_model_module_version": "1.5.0",
            "_view_count": null,
            "_view_module_version": "1.2.0",
            "_model_module": "@jupyter-widgets/controls"
          }
        },
        "7699d933e9b94c0688e22a4a0b216fa4": {
          "model_module": "@jupyter-widgets/base",
          "model_name": "LayoutModel",
          "model_module_version": "1.2.0",
          "state": {
            "_view_name": "LayoutView",
            "grid_template_rows": null,
            "right": null,
            "justify_content": null,
            "_view_module": "@jupyter-widgets/base",
            "overflow": null,
            "_model_module_version": "1.2.0",
            "_view_count": null,
            "flex_flow": null,
            "width": null,
            "min_width": null,
            "border": null,
            "align_items": null,
            "bottom": null,
            "_model_module": "@jupyter-widgets/base",
            "top": null,
            "grid_column": null,
            "overflow_y": null,
            "overflow_x": null,
            "grid_auto_flow": null,
            "grid_area": null,
            "grid_template_columns": null,
            "flex": null,
            "_model_name": "LayoutModel",
            "justify_items": null,
            "grid_row": null,
            "max_height": null,
            "align_content": null,
            "visibility": null,
            "align_self": null,
            "height": null,
            "min_height": null,
            "padding": null,
            "grid_auto_rows": null,
            "grid_gap": null,
            "max_width": null,
            "order": null,
            "_view_module_version": "1.2.0",
            "grid_template_areas": null,
            "object_position": null,
            "object_fit": null,
            "grid_auto_columns": null,
            "margin": null,
            "display": null,
            "left": null
          }
        }
      }
    },
    "accelerator": "GPU"
  },
  "cells": [
    {
      "cell_type": "markdown",
      "metadata": {
        "id": "view-in-github",
        "colab_type": "text"
      },
      "source": [
        "<a href=\"https://colab.research.google.com/github/Prakhar314/COL764-Project/blob/main/notebooks/pointwise.ipynb\" target=\"_parent\"><img src=\"https://colab.research.google.com/assets/colab-badge.svg\" alt=\"Open In Colab\"/></a>"
      ]
    },
    {
      "cell_type": "markdown",
      "metadata": {
        "id": "79zo_E1ADpTU"
      },
      "source": [
        "### Install Dependencies"
      ]
    },
    {
      "cell_type": "code",
      "metadata": {
        "colab": {
          "base_uri": "https://localhost:8080/"
        },
        "id": "ht6Ah8MrMDKi",
        "outputId": "fd38adae-e565-40db-bab3-fe0e7f5c7f64"
      },
      "source": [
        "!pip install tensorflow-addons transformers"
      ],
      "execution_count": 1,
      "outputs": [
        {
          "output_type": "stream",
          "name": "stdout",
          "text": [
            "Collecting tensorflow-addons\n",
            "  Downloading tensorflow_addons-0.15.0-cp37-cp37m-manylinux_2_12_x86_64.manylinux2010_x86_64.whl (1.1 MB)\n",
            "\u001b[K     |████████████████████████████████| 1.1 MB 5.0 MB/s \n",
            "\u001b[?25hCollecting transformers\n",
            "  Downloading transformers-4.12.5-py3-none-any.whl (3.1 MB)\n",
            "\u001b[K     |████████████████████████████████| 3.1 MB 27.2 MB/s \n",
            "\u001b[?25hRequirement already satisfied: typeguard>=2.7 in /usr/local/lib/python3.7/dist-packages (from tensorflow-addons) (2.7.1)\n",
            "Collecting sacremoses\n",
            "  Downloading sacremoses-0.0.46-py3-none-any.whl (895 kB)\n",
            "\u001b[K     |████████████████████████████████| 895 kB 37.0 MB/s \n",
            "\u001b[?25hRequirement already satisfied: numpy>=1.17 in /usr/local/lib/python3.7/dist-packages (from transformers) (1.19.5)\n",
            "Collecting huggingface-hub<1.0,>=0.1.0\n",
            "  Downloading huggingface_hub-0.1.2-py3-none-any.whl (59 kB)\n",
            "\u001b[K     |████████████████████████████████| 59 kB 6.6 MB/s \n",
            "\u001b[?25hCollecting tokenizers<0.11,>=0.10.1\n",
            "  Downloading tokenizers-0.10.3-cp37-cp37m-manylinux_2_5_x86_64.manylinux1_x86_64.manylinux_2_12_x86_64.manylinux2010_x86_64.whl (3.3 MB)\n",
            "\u001b[K     |████████████████████████████████| 3.3 MB 34.4 MB/s \n",
            "\u001b[?25hRequirement already satisfied: importlib-metadata in /usr/local/lib/python3.7/dist-packages (from transformers) (4.8.2)\n",
            "Requirement already satisfied: packaging>=20.0 in /usr/local/lib/python3.7/dist-packages (from transformers) (21.3)\n",
            "Requirement already satisfied: filelock in /usr/local/lib/python3.7/dist-packages (from transformers) (3.4.0)\n",
            "Requirement already satisfied: requests in /usr/local/lib/python3.7/dist-packages (from transformers) (2.23.0)\n",
            "Collecting pyyaml>=5.1\n",
            "  Downloading PyYAML-6.0-cp37-cp37m-manylinux_2_5_x86_64.manylinux1_x86_64.manylinux_2_12_x86_64.manylinux2010_x86_64.whl (596 kB)\n",
            "\u001b[K     |████████████████████████████████| 596 kB 45.7 MB/s \n",
            "\u001b[?25hRequirement already satisfied: regex!=2019.12.17 in /usr/local/lib/python3.7/dist-packages (from transformers) (2019.12.20)\n",
            "Requirement already satisfied: tqdm>=4.27 in /usr/local/lib/python3.7/dist-packages (from transformers) (4.62.3)\n",
            "Requirement already satisfied: typing-extensions>=3.7.4.3 in /usr/local/lib/python3.7/dist-packages (from huggingface-hub<1.0,>=0.1.0->transformers) (3.10.0.2)\n",
            "Requirement already satisfied: pyparsing!=3.0.5,>=2.0.2 in /usr/local/lib/python3.7/dist-packages (from packaging>=20.0->transformers) (3.0.6)\n",
            "Requirement already satisfied: zipp>=0.5 in /usr/local/lib/python3.7/dist-packages (from importlib-metadata->transformers) (3.6.0)\n",
            "Requirement already satisfied: certifi>=2017.4.17 in /usr/local/lib/python3.7/dist-packages (from requests->transformers) (2021.10.8)\n",
            "Requirement already satisfied: chardet<4,>=3.0.2 in /usr/local/lib/python3.7/dist-packages (from requests->transformers) (3.0.4)\n",
            "Requirement already satisfied: idna<3,>=2.5 in /usr/local/lib/python3.7/dist-packages (from requests->transformers) (2.10)\n",
            "Requirement already satisfied: urllib3!=1.25.0,!=1.25.1,<1.26,>=1.21.1 in /usr/local/lib/python3.7/dist-packages (from requests->transformers) (1.24.3)\n",
            "Requirement already satisfied: six in /usr/local/lib/python3.7/dist-packages (from sacremoses->transformers) (1.15.0)\n",
            "Requirement already satisfied: joblib in /usr/local/lib/python3.7/dist-packages (from sacremoses->transformers) (1.1.0)\n",
            "Requirement already satisfied: click in /usr/local/lib/python3.7/dist-packages (from sacremoses->transformers) (7.1.2)\n",
            "Installing collected packages: pyyaml, tokenizers, sacremoses, huggingface-hub, transformers, tensorflow-addons\n",
            "  Attempting uninstall: pyyaml\n",
            "    Found existing installation: PyYAML 3.13\n",
            "    Uninstalling PyYAML-3.13:\n",
            "      Successfully uninstalled PyYAML-3.13\n",
            "Successfully installed huggingface-hub-0.1.2 pyyaml-6.0 sacremoses-0.0.46 tensorflow-addons-0.15.0 tokenizers-0.10.3 transformers-4.12.5\n"
          ]
        }
      ]
    },
    {
      "cell_type": "markdown",
      "metadata": {
        "id": "yRmpBTqqDt1L"
      },
      "source": [
        "### Load Data"
      ]
    },
    {
      "cell_type": "markdown",
      "metadata": {
        "id": "RSmryDWED8GH"
      },
      "source": [
        "#### Import libraries"
      ]
    },
    {
      "cell_type": "code",
      "metadata": {
        "id": "eMCN2eHkNQlG"
      },
      "source": [
        "import gc\n",
        "import random\n",
        "import os\n",
        "\n",
        "import matplotlib.pyplot as plt\n",
        "import pandas as pd\n",
        "import numpy as np\n",
        "from sklearn.utils import class_weight\n",
        "from sklearn.model_selection import train_test_split\n",
        "import transformers\n",
        "from transformers import BertTokenizer, TFBertModel, BertConfig\n",
        "import tensorflow as tf\n",
        "import tensorflow_addons as tfa"
      ],
      "execution_count": 2,
      "outputs": []
    },
    {
      "cell_type": "code",
      "metadata": {
        "id": "XnL24nxgFBZl"
      },
      "source": [
        "random.seed(0)\n",
        "np.random.seed(0)\n",
        "tf.random.set_seed(0)"
      ],
      "execution_count": 3,
      "outputs": []
    },
    {
      "cell_type": "markdown",
      "metadata": {
        "id": "aUiED5I_DzrT"
      },
      "source": [
        "#### Attach drive and unpack"
      ]
    },
    {
      "cell_type": "code",
      "metadata": {
        "colab": {
          "base_uri": "https://localhost:8080/"
        },
        "id": "4nqdP-dfkcR4",
        "outputId": "c7eeb191-530a-4e2e-fab3-042c76dee6e1"
      },
      "source": [
        "from google.colab import drive\n",
        "drive.mount('/content/gdrive')"
      ],
      "execution_count": 4,
      "outputs": [
        {
          "output_type": "stream",
          "name": "stdout",
          "text": [
            "Mounted at /content/gdrive\n"
          ]
        }
      ]
    },
    {
      "cell_type": "code",
      "metadata": {
        "id": "XU5ddgDQ7BHa"
      },
      "source": [
        "# !rm /content/gdrive/MyDrive/col764/pointwise_best_model.h5"
      ],
      "execution_count": 5,
      "outputs": []
    },
    {
      "cell_type": "code",
      "metadata": {
        "id": "nL9d-zDCL1Cn"
      },
      "source": [
        "!tar -xf /content/gdrive/MyDrive/col764/collectionandqueries.tar.gz"
      ],
      "execution_count": 6,
      "outputs": []
    },
    {
      "cell_type": "code",
      "metadata": {
        "id": "8VzNHdQHjqRz"
      },
      "source": [
        "!tar -xf /content/gdrive/MyDrive/col764/top1000.dev.tar.gz"
      ],
      "execution_count": 7,
      "outputs": []
    },
    {
      "cell_type": "code",
      "metadata": {
        "id": "hbND7lDwMpaY",
        "colab": {
          "base_uri": "https://localhost:8080/"
        },
        "outputId": "e25e9f19-4138-43e7-de6e-fb6cf739db22"
      },
      "source": [
        "!ls -alh"
      ],
      "execution_count": 8,
      "outputs": [
        {
          "output_type": "stream",
          "name": "stdout",
          "text": [
            "total 5.4G\n",
            "drwxr-xr-x 1 root    root    4.0K Nov 24 16:39 .\n",
            "drwxr-xr-x 1 root    root    4.0K Nov 24 16:35 ..\n",
            "-rwxrwxrwx 1    1000    1000 2.9G Nov 13  2018 collection.tsv\n",
            "drwxr-xr-x 4 root    root    4.0K Nov 18 14:35 .config\n",
            "drwx------ 5 root    root    4.0K Nov 24 16:37 gdrive\n",
            "-rwxrwxrwx 1    1000    1000 140K Jan 22  2019 qrels.dev.small.tsv\n",
            "-rwxrwxrwx 1    1000    1000  11M Nov 28  2018 qrels.train.tsv\n",
            "-rw-rw-r-- 1    1000    1000 284K May  2  2019 queries.dev.small.tsv\n",
            "-rwxrwxrwx 1    1000    1000 4.3M Nov 13  2018 queries.dev.tsv\n",
            "-rw-rw-r-- 1    1000    1000 275K May  2  2019 queries.eval.small.tsv\n",
            "-rwxrwxrwx 1    1000    1000 4.3M Nov 13  2018 queries.eval.tsv\n",
            "-rwxrwxrwx 1    1000    1000  34M Nov 13  2018 queries.train.tsv\n",
            "drwxr-xr-x 1 root    root    4.0K Nov 18 14:36 sample_data\n",
            "-rwxrwx--- 1 8045835 1049089 2.5G Jul 17  2019 top1000.dev\n"
          ]
        }
      ]
    },
    {
      "cell_type": "code",
      "metadata": {
        "colab": {
          "base_uri": "https://localhost:8080/"
        },
        "id": "F5VafgNymJTo",
        "outputId": "ecd18e36-2dde-4f15-cdeb-a960bda388b4"
      },
      "source": [
        "!wget https://msmarco.blob.core.windows.net/msmarcoranking/qrels.dev.tsv"
      ],
      "execution_count": 9,
      "outputs": [
        {
          "output_type": "stream",
          "name": "stdout",
          "text": [
            "--2021-11-24 16:40:14--  https://msmarco.blob.core.windows.net/msmarcoranking/qrels.dev.tsv\n",
            "Resolving msmarco.blob.core.windows.net (msmarco.blob.core.windows.net)... 20.150.34.4\n",
            "Connecting to msmarco.blob.core.windows.net (msmarco.blob.core.windows.net)|20.150.34.4|:443... connected.\n",
            "HTTP request sent, awaiting response... 200 OK\n",
            "Length: 1201626 (1.1M) [text/tab-separated-values]\n",
            "Saving to: ‘qrels.dev.tsv’\n",
            "\n",
            "qrels.dev.tsv       100%[===================>]   1.15M  3.23MB/s    in 0.4s    \n",
            "\n",
            "2021-11-24 16:40:15 (3.23 MB/s) - ‘qrels.dev.tsv’ saved [1201626/1201626]\n",
            "\n"
          ]
        }
      ]
    },
    {
      "cell_type": "markdown",
      "metadata": {
        "id": "c2HC62o7EEOS"
      },
      "source": [
        "#### Read data"
      ]
    },
    {
      "cell_type": "code",
      "metadata": {
        "id": "sf9ZOl7UJWXr"
      },
      "source": [
        "root_dir = \"/content/gdrive/MyDrive/col764/\""
      ],
      "execution_count": 10,
      "outputs": []
    },
    {
      "cell_type": "code",
      "metadata": {
        "id": "tZO67YfnOrDe"
      },
      "source": [
        "qrels = pd.read_csv('qrels.dev.tsv',sep='\\t',header=None)"
      ],
      "execution_count": 11,
      "outputs": []
    },
    {
      "cell_type": "markdown",
      "metadata": {
        "id": "82dVruLZ2sll"
      },
      "source": [
        "Piars of queries and relevant passages"
      ]
    },
    {
      "cell_type": "code",
      "metadata": {
        "id": "ZeML2VPEsO3S",
        "colab": {
          "base_uri": "https://localhost:8080/",
          "height": 423
        },
        "outputId": "1d4a7b84-9398-4c23-da73-d95a43591607"
      },
      "source": [
        "qrels"
      ],
      "execution_count": 12,
      "outputs": [
        {
          "output_type": "execute_result",
          "data": {
            "text/html": [
              "<div>\n",
              "<style scoped>\n",
              "    .dataframe tbody tr th:only-of-type {\n",
              "        vertical-align: middle;\n",
              "    }\n",
              "\n",
              "    .dataframe tbody tr th {\n",
              "        vertical-align: top;\n",
              "    }\n",
              "\n",
              "    .dataframe thead th {\n",
              "        text-align: right;\n",
              "    }\n",
              "</style>\n",
              "<table border=\"1\" class=\"dataframe\">\n",
              "  <thead>\n",
              "    <tr style=\"text-align: right;\">\n",
              "      <th></th>\n",
              "      <th>0</th>\n",
              "      <th>1</th>\n",
              "      <th>2</th>\n",
              "      <th>3</th>\n",
              "    </tr>\n",
              "  </thead>\n",
              "  <tbody>\n",
              "    <tr>\n",
              "      <th>0</th>\n",
              "      <td>1102432</td>\n",
              "      <td>0</td>\n",
              "      <td>2026790</td>\n",
              "      <td>1</td>\n",
              "    </tr>\n",
              "    <tr>\n",
              "      <th>1</th>\n",
              "      <td>1102431</td>\n",
              "      <td>0</td>\n",
              "      <td>7066866</td>\n",
              "      <td>1</td>\n",
              "    </tr>\n",
              "    <tr>\n",
              "      <th>2</th>\n",
              "      <td>1102431</td>\n",
              "      <td>0</td>\n",
              "      <td>7066867</td>\n",
              "      <td>1</td>\n",
              "    </tr>\n",
              "    <tr>\n",
              "      <th>3</th>\n",
              "      <td>1090282</td>\n",
              "      <td>0</td>\n",
              "      <td>7066900</td>\n",
              "      <td>1</td>\n",
              "    </tr>\n",
              "    <tr>\n",
              "      <th>4</th>\n",
              "      <td>39449</td>\n",
              "      <td>0</td>\n",
              "      <td>7066905</td>\n",
              "      <td>1</td>\n",
              "    </tr>\n",
              "    <tr>\n",
              "      <th>...</th>\n",
              "      <td>...</td>\n",
              "      <td>...</td>\n",
              "      <td>...</td>\n",
              "      <td>...</td>\n",
              "    </tr>\n",
              "    <tr>\n",
              "      <th>59268</th>\n",
              "      <td>150337</td>\n",
              "      <td>0</td>\n",
              "      <td>8009410</td>\n",
              "      <td>1</td>\n",
              "    </tr>\n",
              "    <tr>\n",
              "      <th>59269</th>\n",
              "      <td>22241</td>\n",
              "      <td>0</td>\n",
              "      <td>8009429</td>\n",
              "      <td>1</td>\n",
              "    </tr>\n",
              "    <tr>\n",
              "      <th>59270</th>\n",
              "      <td>129177</td>\n",
              "      <td>0</td>\n",
              "      <td>8009442</td>\n",
              "      <td>1</td>\n",
              "    </tr>\n",
              "    <tr>\n",
              "      <th>59271</th>\n",
              "      <td>190655</td>\n",
              "      <td>0</td>\n",
              "      <td>3576091</td>\n",
              "      <td>1</td>\n",
              "    </tr>\n",
              "    <tr>\n",
              "      <th>59272</th>\n",
              "      <td>371455</td>\n",
              "      <td>0</td>\n",
              "      <td>8009476</td>\n",
              "      <td>1</td>\n",
              "    </tr>\n",
              "  </tbody>\n",
              "</table>\n",
              "<p>59273 rows × 4 columns</p>\n",
              "</div>"
            ],
            "text/plain": [
              "             0  1        2  3\n",
              "0      1102432  0  2026790  1\n",
              "1      1102431  0  7066866  1\n",
              "2      1102431  0  7066867  1\n",
              "3      1090282  0  7066900  1\n",
              "4        39449  0  7066905  1\n",
              "...        ... ..      ... ..\n",
              "59268   150337  0  8009410  1\n",
              "59269    22241  0  8009429  1\n",
              "59270   129177  0  8009442  1\n",
              "59271   190655  0  3576091  1\n",
              "59272   371455  0  8009476  1\n",
              "\n",
              "[59273 rows x 4 columns]"
            ]
          },
          "metadata": {},
          "execution_count": 12
        }
      ]
    },
    {
      "cell_type": "markdown",
      "metadata": {
        "id": "LjCF6bmd2i4k"
      },
      "source": [
        "Unique queries"
      ]
    },
    {
      "cell_type": "code",
      "metadata": {
        "colab": {
          "base_uri": "https://localhost:8080/"
        },
        "id": "DW5JPCl8zO9_",
        "outputId": "c2cb58db-0adf-4b3f-8f0d-80eea65a29e0"
      },
      "source": [
        "len(qrels[0].unique())"
      ],
      "execution_count": 13,
      "outputs": [
        {
          "output_type": "execute_result",
          "data": {
            "text/plain": [
              "55578"
            ]
          },
          "metadata": {},
          "execution_count": 13
        }
      ]
    },
    {
      "cell_type": "markdown",
      "metadata": {
        "id": "0pIKQpXY2oQH"
      },
      "source": [
        "Pairs of queries and passages"
      ]
    },
    {
      "cell_type": "code",
      "metadata": {
        "id": "NymwwYDIokb-",
        "colab": {
          "base_uri": "https://localhost:8080/",
          "height": 206
        },
        "outputId": "6ee40244-b931-46f1-9774-56827afb0b17"
      },
      "source": [
        "top1000 = pd.read_csv('top1000.dev',sep='\\t',header=None)\n",
        "top1000.head(5)"
      ],
      "execution_count": 14,
      "outputs": [
        {
          "output_type": "execute_result",
          "data": {
            "text/html": [
              "<div>\n",
              "<style scoped>\n",
              "    .dataframe tbody tr th:only-of-type {\n",
              "        vertical-align: middle;\n",
              "    }\n",
              "\n",
              "    .dataframe tbody tr th {\n",
              "        vertical-align: top;\n",
              "    }\n",
              "\n",
              "    .dataframe thead th {\n",
              "        text-align: right;\n",
              "    }\n",
              "</style>\n",
              "<table border=\"1\" class=\"dataframe\">\n",
              "  <thead>\n",
              "    <tr style=\"text-align: right;\">\n",
              "      <th></th>\n",
              "      <th>0</th>\n",
              "      <th>1</th>\n",
              "      <th>2</th>\n",
              "      <th>3</th>\n",
              "    </tr>\n",
              "  </thead>\n",
              "  <tbody>\n",
              "    <tr>\n",
              "      <th>0</th>\n",
              "      <td>188714</td>\n",
              "      <td>1000052</td>\n",
              "      <td>foods and supplements to lower blood sugar</td>\n",
              "      <td>Watch portion sizes: ■ Even healthy foods will...</td>\n",
              "    </tr>\n",
              "    <tr>\n",
              "      <th>1</th>\n",
              "      <td>1082792</td>\n",
              "      <td>1000084</td>\n",
              "      <td>what does the golgi apparatus do to the protei...</td>\n",
              "      <td>Start studying Bonding, Carbs, Proteins, Lipid...</td>\n",
              "    </tr>\n",
              "    <tr>\n",
              "      <th>2</th>\n",
              "      <td>995526</td>\n",
              "      <td>1000094</td>\n",
              "      <td>where is the federal penitentiary in ind</td>\n",
              "      <td>It takes THOUSANDS of Macy's associates to bri...</td>\n",
              "    </tr>\n",
              "    <tr>\n",
              "      <th>3</th>\n",
              "      <td>199776</td>\n",
              "      <td>1000115</td>\n",
              "      <td>health benefits of eating vegetarian</td>\n",
              "      <td>The good news is that you will discover what g...</td>\n",
              "    </tr>\n",
              "    <tr>\n",
              "      <th>4</th>\n",
              "      <td>660957</td>\n",
              "      <td>1000115</td>\n",
              "      <td>what foods are good if you have gout?</td>\n",
              "      <td>The good news is that you will discover what g...</td>\n",
              "    </tr>\n",
              "  </tbody>\n",
              "</table>\n",
              "</div>"
            ],
            "text/plain": [
              "         0  ...                                                  3\n",
              "0   188714  ...  Watch portion sizes: ■ Even healthy foods will...\n",
              "1  1082792  ...  Start studying Bonding, Carbs, Proteins, Lipid...\n",
              "2   995526  ...  It takes THOUSANDS of Macy's associates to bri...\n",
              "3   199776  ...  The good news is that you will discover what g...\n",
              "4   660957  ...  The good news is that you will discover what g...\n",
              "\n",
              "[5 rows x 4 columns]"
            ]
          },
          "metadata": {},
          "execution_count": 14
        }
      ]
    },
    {
      "cell_type": "markdown",
      "metadata": {
        "id": "_RBLkXv-2flT"
      },
      "source": [
        "Unique queries"
      ]
    },
    {
      "cell_type": "code",
      "metadata": {
        "colab": {
          "base_uri": "https://localhost:8080/"
        },
        "id": "tqSdiM5syu7i",
        "outputId": "1025c1f0-f531-40cb-dc51-18abf96d6f0f"
      },
      "source": [
        "len(top1000[0].unique())"
      ],
      "execution_count": 15,
      "outputs": [
        {
          "output_type": "execute_result",
          "data": {
            "text/plain": [
              "6980"
            ]
          },
          "metadata": {},
          "execution_count": 15
        }
      ]
    },
    {
      "cell_type": "code",
      "metadata": {
        "colab": {
          "base_uri": "https://localhost:8080/",
          "height": 423
        },
        "id": "PFC29Z0AVI-w",
        "outputId": "cc211503-e660-4fde-bcd7-5916214b7a92"
      },
      "source": [
        "top1000 = top1000.sort_values(by=0).reset_index(drop=True)\n",
        "top1000"
      ],
      "execution_count": 16,
      "outputs": [
        {
          "output_type": "execute_result",
          "data": {
            "text/html": [
              "<div>\n",
              "<style scoped>\n",
              "    .dataframe tbody tr th:only-of-type {\n",
              "        vertical-align: middle;\n",
              "    }\n",
              "\n",
              "    .dataframe tbody tr th {\n",
              "        vertical-align: top;\n",
              "    }\n",
              "\n",
              "    .dataframe thead th {\n",
              "        text-align: right;\n",
              "    }\n",
              "</style>\n",
              "<table border=\"1\" class=\"dataframe\">\n",
              "  <thead>\n",
              "    <tr style=\"text-align: right;\">\n",
              "      <th></th>\n",
              "      <th>0</th>\n",
              "      <th>1</th>\n",
              "      <th>2</th>\n",
              "      <th>3</th>\n",
              "    </tr>\n",
              "  </thead>\n",
              "  <tbody>\n",
              "    <tr>\n",
              "      <th>0</th>\n",
              "      <td>2</td>\n",
              "      <td>2700543</td>\n",
              "      <td>Androgen receptor define</td>\n",
              "      <td>Structure-function of the glucagon receptor fa...</td>\n",
              "    </tr>\n",
              "    <tr>\n",
              "      <th>1</th>\n",
              "      <td>2</td>\n",
              "      <td>2726978</td>\n",
              "      <td>Androgen receptor define</td>\n",
              "      <td>In pharmacology, an antagonist binds to the re...</td>\n",
              "    </tr>\n",
              "    <tr>\n",
              "      <th>2</th>\n",
              "      <td>2</td>\n",
              "      <td>2726974</td>\n",
              "      <td>Androgen receptor define</td>\n",
              "      <td>A drug antagonist is any drug that binds with ...</td>\n",
              "    </tr>\n",
              "    <tr>\n",
              "      <th>3</th>\n",
              "      <td>2</td>\n",
              "      <td>3046559</td>\n",
              "      <td>Androgen receptor define</td>\n",
              "      <td>A neurotransmitter receptor located in the pre...</td>\n",
              "    </tr>\n",
              "    <tr>\n",
              "      <th>4</th>\n",
              "      <td>2</td>\n",
              "      <td>1817960</td>\n",
              "      <td>Androgen receptor define</td>\n",
              "      <td>Effect of Beta2 Receptor Activation on Smooth ...</td>\n",
              "    </tr>\n",
              "    <tr>\n",
              "      <th>...</th>\n",
              "      <td>...</td>\n",
              "      <td>...</td>\n",
              "      <td>...</td>\n",
              "      <td>...</td>\n",
              "    </tr>\n",
              "    <tr>\n",
              "      <th>6668962</th>\n",
              "      <td>1102400</td>\n",
              "      <td>991048</td>\n",
              "      <td>why do bears hibernate</td>\n",
              "      <td>Hibernate mode uses the hiberfil.sys file to s...</td>\n",
              "    </tr>\n",
              "    <tr>\n",
              "      <th>6668963</th>\n",
              "      <td>1102400</td>\n",
              "      <td>5714166</td>\n",
              "      <td>why do bears hibernate</td>\n",
              "      <td>Black Bear. Though rarely seen by most New Yor...</td>\n",
              "    </tr>\n",
              "    <tr>\n",
              "      <th>6668964</th>\n",
              "      <td>1102400</td>\n",
              "      <td>7225717</td>\n",
              "      <td>why do bears hibernate</td>\n",
              "      <td>The gummy bears grew in all of the. liquids, e...</td>\n",
              "    </tr>\n",
              "    <tr>\n",
              "      <th>6668965</th>\n",
              "      <td>1102400</td>\n",
              "      <td>260344</td>\n",
              "      <td>why do bears hibernate</td>\n",
              "      <td>In Asia, a large tiger might sometimes kill an...</td>\n",
              "    </tr>\n",
              "    <tr>\n",
              "      <th>6668966</th>\n",
              "      <td>1102400</td>\n",
              "      <td>550524</td>\n",
              "      <td>why do bears hibernate</td>\n",
              "      <td>Panda Bears do not live in snow climate. Unlik...</td>\n",
              "    </tr>\n",
              "  </tbody>\n",
              "</table>\n",
              "<p>6668967 rows × 4 columns</p>\n",
              "</div>"
            ],
            "text/plain": [
              "               0  ...                                                  3\n",
              "0              2  ...  Structure-function of the glucagon receptor fa...\n",
              "1              2  ...  In pharmacology, an antagonist binds to the re...\n",
              "2              2  ...  A drug antagonist is any drug that binds with ...\n",
              "3              2  ...  A neurotransmitter receptor located in the pre...\n",
              "4              2  ...  Effect of Beta2 Receptor Activation on Smooth ...\n",
              "...          ...  ...                                                ...\n",
              "6668962  1102400  ...  Hibernate mode uses the hiberfil.sys file to s...\n",
              "6668963  1102400  ...  Black Bear. Though rarely seen by most New Yor...\n",
              "6668964  1102400  ...  The gummy bears grew in all of the. liquids, e...\n",
              "6668965  1102400  ...  In Asia, a large tiger might sometimes kill an...\n",
              "6668966  1102400  ...  Panda Bears do not live in snow climate. Unlik...\n",
              "\n",
              "[6668967 rows x 4 columns]"
            ]
          },
          "metadata": {},
          "execution_count": 16
        }
      ]
    },
    {
      "cell_type": "markdown",
      "metadata": {
        "id": "L0kwJ5HAE2bE"
      },
      "source": [
        "### Preprocessing"
      ]
    },
    {
      "cell_type": "markdown",
      "metadata": {
        "id": "yTn6ictJHTKu"
      },
      "source": [
        "Set train set size (number of query passage pairs)"
      ]
    },
    {
      "cell_type": "code",
      "metadata": {
        "id": "VxRywptC6GYQ"
      },
      "source": [
        "bert_model_name = 'bert-base-uncased'\n",
        "passage_per_query = 50\n",
        "num_queries = 100"
      ],
      "execution_count": 17,
      "outputs": []
    },
    {
      "cell_type": "code",
      "metadata": {
        "id": "yCI_0Af6uGGf",
        "colab": {
          "base_uri": "https://localhost:8080/",
          "height": 145,
          "referenced_widgets": [
            "7d83c02fce9847799b97799f6c7cb26a",
            "b42c57d6306c44848f4b32ed0cff7b71",
            "8c25b8f52db14b3e9650dee09c05a386",
            "24bd8eb5517847eb925fd4b13eb11458",
            "5c9e3e7789534596ba016ee514001131",
            "9356380d04e44bd888292ddd298a15c0",
            "ed83acd8499748a79dfbd8aca5888e23",
            "d894ec5981ca4e889166790020acdd51",
            "11455f1bf42b4a0492ccc4aa2b7b48b7",
            "f75f0094416c4eabbb4ddfe7246285e5",
            "74df22c8aeec45b081492c7bce7bab51",
            "717129c1f0e14ffd8abb845cf6a0bdbd",
            "a5912c1cfe8b47f2966524e1505dad5d",
            "c8b91f048a0241168ddfb7dce3a857bf",
            "ef88ce568bc040e883539e4848e363cb",
            "b222004304ed4b6f9c0eb3ea648673a1",
            "bd309d3d93224c1aa6fc5e7951c256c4",
            "cd5a4484a52a4d5e922a67b7c3399f09",
            "3bbdd73e9fb34180b93ee696fe09777e",
            "be494cc2b66f419cab7141b4d7463ec7",
            "18c8a2878de44d208c69dd18063e3cbe",
            "f8850cf9bcff4b94abd31c6b659d4142",
            "74750153d7ff4fd3b807ed95a2616078",
            "c56cdadc0a354ceeb55392ced552037a",
            "4ef2f83d18a4439ebbc01dd64f9369c7",
            "c5ed8f6081dc4caaa290a6a45135f800",
            "2f8d7469ad1348649c7e3ac8ce2aaa70",
            "63fb128c5b344a2a8696f684f1c6ff29",
            "c3158101015a4d1a8a3ea6b177561782",
            "9eadcf1d444f4e24bfafa204edb6b7e0",
            "220bb726790d4534be7f428e03cdc0a5",
            "d6b1f91309b24599811127313a9605cc",
            "83d0f3f3c0b74ad9aba58cef20442cc9",
            "b3e31a84cae54dc3992afdd60db8c008",
            "09f4433d0cba4f3bac1641cb7cc26bd5",
            "04268a39073a4d10b5b2d3bcd9e1cd1d",
            "3dd27aaad06e4b5baf19b9a80f9f6d40",
            "a7f1b8dd1475425a8abbf00ebf346f48",
            "bee437826b5b4eeba78c372987fe2153",
            "4cdb067d7d004c1ba6d073fbf2daf2d1",
            "a81e732790be4ffc9a4d95135b04e0e9",
            "79ba86be8ee04fd384d9d5d91120050a",
            "eac7b3d52404417ba9ad35ef9ecd9c52",
            "17a48cd53e884b5191c410bb7ca8474d"
          ]
        },
        "outputId": "3d7df055-6ebe-40f2-e78b-295bb952a46b"
      },
      "source": [
        "tokenizer = BertTokenizer.from_pretrained(bert_model_name)"
      ],
      "execution_count": 18,
      "outputs": [
        {
          "output_type": "display_data",
          "data": {
            "application/vnd.jupyter.widget-view+json": {
              "model_id": "7d83c02fce9847799b97799f6c7cb26a",
              "version_minor": 0,
              "version_major": 2
            },
            "text/plain": [
              "Downloading:   0%|          | 0.00/226k [00:00<?, ?B/s]"
            ]
          },
          "metadata": {}
        },
        {
          "output_type": "display_data",
          "data": {
            "application/vnd.jupyter.widget-view+json": {
              "model_id": "717129c1f0e14ffd8abb845cf6a0bdbd",
              "version_minor": 0,
              "version_major": 2
            },
            "text/plain": [
              "Downloading:   0%|          | 0.00/28.0 [00:00<?, ?B/s]"
            ]
          },
          "metadata": {}
        },
        {
          "output_type": "display_data",
          "data": {
            "application/vnd.jupyter.widget-view+json": {
              "model_id": "74750153d7ff4fd3b807ed95a2616078",
              "version_minor": 0,
              "version_major": 2
            },
            "text/plain": [
              "Downloading:   0%|          | 0.00/455k [00:00<?, ?B/s]"
            ]
          },
          "metadata": {}
        },
        {
          "output_type": "display_data",
          "data": {
            "application/vnd.jupyter.widget-view+json": {
              "model_id": "b3e31a84cae54dc3992afdd60db8c008",
              "version_minor": 0,
              "version_major": 2
            },
            "text/plain": [
              "Downloading:   0%|          | 0.00/570 [00:00<?, ?B/s]"
            ]
          },
          "metadata": {}
        }
      ]
    },
    {
      "cell_type": "code",
      "metadata": {
        "colab": {
          "base_uri": "https://localhost:8080/"
        },
        "id": "L5jb33LaMFjd",
        "outputId": "d408a769-61f3-4733-8b58-55ff2d183ddc"
      },
      "source": [
        "tokenizer.save_pretrained('./bert-tokenizer/')"
      ],
      "execution_count": 19,
      "outputs": [
        {
          "output_type": "execute_result",
          "data": {
            "text/plain": [
              "('./bert-tokenizer/tokenizer_config.json',\n",
              " './bert-tokenizer/special_tokens_map.json',\n",
              " './bert-tokenizer/vocab.txt',\n",
              " './bert-tokenizer/added_tokens.json')"
            ]
          },
          "metadata": {},
          "execution_count": 19
        }
      ]
    },
    {
      "cell_type": "code",
      "metadata": {
        "colab": {
          "base_uri": "https://localhost:8080/"
        },
        "id": "gfNXxysLMZYK",
        "outputId": "e4103d43-fed2-461d-c0a3-6c7f02440c99"
      },
      "source": [
        "!tar -zcvf bert-tokenizer.tar.gz bert-tokenizer"
      ],
      "execution_count": 20,
      "outputs": [
        {
          "output_type": "stream",
          "name": "stdout",
          "text": [
            "bert-tokenizer/\n",
            "bert-tokenizer/vocab.txt\n",
            "bert-tokenizer/tokenizer_config.json\n",
            "bert-tokenizer/special_tokens_map.json\n"
          ]
        }
      ]
    },
    {
      "cell_type": "code",
      "metadata": {
        "id": "Sk263gyeoxj3"
      },
      "source": [
        "qrels = qrels[[0,2]].rename(columns={0: 0, 2: 1})"
      ],
      "execution_count": 21,
      "outputs": []
    },
    {
      "cell_type": "code",
      "metadata": {
        "colab": {
          "base_uri": "https://localhost:8080/",
          "height": 423
        },
        "id": "ygAoeC29qYq9",
        "outputId": "f81099f5-858d-4732-e644-acb198d498e1"
      },
      "source": [
        "qrels['y']=1\n",
        "qrels"
      ],
      "execution_count": 22,
      "outputs": [
        {
          "output_type": "execute_result",
          "data": {
            "text/html": [
              "<div>\n",
              "<style scoped>\n",
              "    .dataframe tbody tr th:only-of-type {\n",
              "        vertical-align: middle;\n",
              "    }\n",
              "\n",
              "    .dataframe tbody tr th {\n",
              "        vertical-align: top;\n",
              "    }\n",
              "\n",
              "    .dataframe thead th {\n",
              "        text-align: right;\n",
              "    }\n",
              "</style>\n",
              "<table border=\"1\" class=\"dataframe\">\n",
              "  <thead>\n",
              "    <tr style=\"text-align: right;\">\n",
              "      <th></th>\n",
              "      <th>0</th>\n",
              "      <th>1</th>\n",
              "      <th>y</th>\n",
              "    </tr>\n",
              "  </thead>\n",
              "  <tbody>\n",
              "    <tr>\n",
              "      <th>0</th>\n",
              "      <td>1102432</td>\n",
              "      <td>2026790</td>\n",
              "      <td>1</td>\n",
              "    </tr>\n",
              "    <tr>\n",
              "      <th>1</th>\n",
              "      <td>1102431</td>\n",
              "      <td>7066866</td>\n",
              "      <td>1</td>\n",
              "    </tr>\n",
              "    <tr>\n",
              "      <th>2</th>\n",
              "      <td>1102431</td>\n",
              "      <td>7066867</td>\n",
              "      <td>1</td>\n",
              "    </tr>\n",
              "    <tr>\n",
              "      <th>3</th>\n",
              "      <td>1090282</td>\n",
              "      <td>7066900</td>\n",
              "      <td>1</td>\n",
              "    </tr>\n",
              "    <tr>\n",
              "      <th>4</th>\n",
              "      <td>39449</td>\n",
              "      <td>7066905</td>\n",
              "      <td>1</td>\n",
              "    </tr>\n",
              "    <tr>\n",
              "      <th>...</th>\n",
              "      <td>...</td>\n",
              "      <td>...</td>\n",
              "      <td>...</td>\n",
              "    </tr>\n",
              "    <tr>\n",
              "      <th>59268</th>\n",
              "      <td>150337</td>\n",
              "      <td>8009410</td>\n",
              "      <td>1</td>\n",
              "    </tr>\n",
              "    <tr>\n",
              "      <th>59269</th>\n",
              "      <td>22241</td>\n",
              "      <td>8009429</td>\n",
              "      <td>1</td>\n",
              "    </tr>\n",
              "    <tr>\n",
              "      <th>59270</th>\n",
              "      <td>129177</td>\n",
              "      <td>8009442</td>\n",
              "      <td>1</td>\n",
              "    </tr>\n",
              "    <tr>\n",
              "      <th>59271</th>\n",
              "      <td>190655</td>\n",
              "      <td>3576091</td>\n",
              "      <td>1</td>\n",
              "    </tr>\n",
              "    <tr>\n",
              "      <th>59272</th>\n",
              "      <td>371455</td>\n",
              "      <td>8009476</td>\n",
              "      <td>1</td>\n",
              "    </tr>\n",
              "  </tbody>\n",
              "</table>\n",
              "<p>59273 rows × 3 columns</p>\n",
              "</div>"
            ],
            "text/plain": [
              "             0        1  y\n",
              "0      1102432  2026790  1\n",
              "1      1102431  7066866  1\n",
              "2      1102431  7066867  1\n",
              "3      1090282  7066900  1\n",
              "4        39449  7066905  1\n",
              "...        ...      ... ..\n",
              "59268   150337  8009410  1\n",
              "59269    22241  8009429  1\n",
              "59270   129177  8009442  1\n",
              "59271   190655  3576091  1\n",
              "59272   371455  8009476  1\n",
              "\n",
              "[59273 rows x 3 columns]"
            ]
          },
          "metadata": {},
          "execution_count": 22
        }
      ]
    },
    {
      "cell_type": "markdown",
      "metadata": {
        "id": "GNQRoidUMRyU"
      },
      "source": [
        "Train Test Split"
      ]
    },
    {
      "cell_type": "code",
      "metadata": {
        "id": "ml7TpoQjSuHg"
      },
      "source": [
        "qrels = qrels[qrels[0].isin(top1000[0].unique()[:num_queries])]"
      ],
      "execution_count": 23,
      "outputs": []
    },
    {
      "cell_type": "code",
      "metadata": {
        "id": "49S_hp55Ti6D"
      },
      "source": [
        "split = np.random.choice(qrels[0].unique(),qrels.shape[0]//5)\n",
        "train_queries = qrels[~qrels[0].isin(split)]\n",
        "test_queries = qrels[qrels[0].isin(split)]"
      ],
      "execution_count": 24,
      "outputs": []
    },
    {
      "cell_type": "code",
      "metadata": {
        "id": "mOJczIkQMTvm"
      },
      "source": [
        "assert not train_queries[0].isin(test_queries[0]).any()"
      ],
      "execution_count": 25,
      "outputs": []
    },
    {
      "cell_type": "markdown",
      "metadata": {
        "id": "pxzUzi1jHJ1y"
      },
      "source": [
        "Add labels"
      ]
    },
    {
      "cell_type": "code",
      "metadata": {
        "id": "QRBpIykWPtDa"
      },
      "source": [
        "def generateTable(queries):\n",
        "  # Add labels\n",
        "  df = pd.merge(top1000, queries,  how='left', left_on=[0,1], right_on = [0,1]).fillna(0)\n",
        "  # drop queries not in set\n",
        "  df = df[df[0].isin(queries[0])][[2,3,'y']]\n",
        "  # positive samples\n",
        "  df_p = df[df['y']==1].reset_index(drop=True)\n",
        "  # negative samples\n",
        "  df_n = df[(df[2].isin(df_p[2])) & (df['y']==0)]\n",
        "  # sample\n",
        "  df_n = df_n.groupby(2).sample(n=passage_per_query,replace=True).drop_duplicates().reset_index(drop=True)\n",
        "  # append and shuffle\n",
        "  df = df_p.append(df_n, ignore_index=True).sample(frac=1).reset_index(drop=True)\n",
        "  return df\n"
      ],
      "execution_count": 26,
      "outputs": []
    },
    {
      "cell_type": "code",
      "metadata": {
        "id": "7E-VfLGdRZJN"
      },
      "source": [
        "train_set = generateTable(train_queries)\n",
        "test_set = generateTable(test_queries)"
      ],
      "execution_count": 27,
      "outputs": []
    },
    {
      "cell_type": "code",
      "metadata": {
        "colab": {
          "base_uri": "https://localhost:8080/",
          "height": 206
        },
        "id": "-HBv2hFLWA7U",
        "outputId": "f5279d9f-cee5-489a-f59b-c3fd63ad096e"
      },
      "source": [
        "train_set.head(5)"
      ],
      "execution_count": 28,
      "outputs": [
        {
          "output_type": "execute_result",
          "data": {
            "text/html": [
              "<div>\n",
              "<style scoped>\n",
              "    .dataframe tbody tr th:only-of-type {\n",
              "        vertical-align: middle;\n",
              "    }\n",
              "\n",
              "    .dataframe tbody tr th {\n",
              "        vertical-align: top;\n",
              "    }\n",
              "\n",
              "    .dataframe thead th {\n",
              "        text-align: right;\n",
              "    }\n",
              "</style>\n",
              "<table border=\"1\" class=\"dataframe\">\n",
              "  <thead>\n",
              "    <tr style=\"text-align: right;\">\n",
              "      <th></th>\n",
              "      <th>2</th>\n",
              "      <th>3</th>\n",
              "      <th>y</th>\n",
              "    </tr>\n",
              "  </thead>\n",
              "  <tbody>\n",
              "    <tr>\n",
              "      <th>0</th>\n",
              "      <td>an increase of adh causes the kidneys to _____...</td>\n",
              "      <td>Dark yellow urine is a sign of dehydration. Yo...</td>\n",
              "      <td>0.0</td>\n",
              "    </tr>\n",
              "    <tr>\n",
              "      <th>1</th>\n",
              "      <td>all of the following were created by the first...</td>\n",
              "      <td>John Hanson was the first president of the Con...</td>\n",
              "      <td>0.0</td>\n",
              "    </tr>\n",
              "    <tr>\n",
              "      <th>2</th>\n",
              "      <td>actress who plays alice on the magicians</td>\n",
              "      <td>Princess Alice died peacefully in her sleep at...</td>\n",
              "      <td>0.0</td>\n",
              "    </tr>\n",
              "    <tr>\n",
              "      <th>3</th>\n",
              "      <td>array definition computer</td>\n",
              "      <td>A single value in a JavaScript array is called...</td>\n",
              "      <td>0.0</td>\n",
              "    </tr>\n",
              "    <tr>\n",
              "      <th>4</th>\n",
              "      <td>amp definition</td>\n",
              "      <td>See, the default power adapter that comes with...</td>\n",
              "      <td>0.0</td>\n",
              "    </tr>\n",
              "  </tbody>\n",
              "</table>\n",
              "</div>"
            ],
            "text/plain": [
              "                                                   2  ...    y\n",
              "0  an increase of adh causes the kidneys to _____...  ...  0.0\n",
              "1  all of the following were created by the first...  ...  0.0\n",
              "2           actress who plays alice on the magicians  ...  0.0\n",
              "3                          array definition computer  ...  0.0\n",
              "4                                     amp definition  ...  0.0\n",
              "\n",
              "[5 rows x 3 columns]"
            ]
          },
          "metadata": {},
          "execution_count": 28
        }
      ]
    },
    {
      "cell_type": "code",
      "metadata": {
        "colab": {
          "base_uri": "https://localhost:8080/",
          "height": 206
        },
        "id": "oeswGav31jSA",
        "outputId": "9edd5dd5-b733-4237-ef0b-e684100b38b2"
      },
      "source": [
        "train_set[(train_set['y']==1) & (train_set[2].isin(train_set[:5][2]))].head(5)"
      ],
      "execution_count": 29,
      "outputs": [
        {
          "output_type": "execute_result",
          "data": {
            "text/html": [
              "<div>\n",
              "<style scoped>\n",
              "    .dataframe tbody tr th:only-of-type {\n",
              "        vertical-align: middle;\n",
              "    }\n",
              "\n",
              "    .dataframe tbody tr th {\n",
              "        vertical-align: top;\n",
              "    }\n",
              "\n",
              "    .dataframe thead th {\n",
              "        text-align: right;\n",
              "    }\n",
              "</style>\n",
              "<table border=\"1\" class=\"dataframe\">\n",
              "  <thead>\n",
              "    <tr style=\"text-align: right;\">\n",
              "      <th></th>\n",
              "      <th>2</th>\n",
              "      <th>3</th>\n",
              "      <th>y</th>\n",
              "    </tr>\n",
              "  </thead>\n",
              "  <tbody>\n",
              "    <tr>\n",
              "      <th>309</th>\n",
              "      <td>all of the following were created by the first...</td>\n",
              "      <td>(on Archives.gov). One of the first acts of th...</td>\n",
              "      <td>1.0</td>\n",
              "    </tr>\n",
              "    <tr>\n",
              "      <th>1607</th>\n",
              "      <td>an increase of adh causes the kidneys to _____...</td>\n",
              "      <td>Anti-diuretic hormone (ADH) and kidney functio...</td>\n",
              "      <td>1.0</td>\n",
              "    </tr>\n",
              "    <tr>\n",
              "      <th>1999</th>\n",
              "      <td>array definition computer</td>\n",
              "      <td>CS241 Dr Ghemri 1. Arrays. Definition: An arra...</td>\n",
              "      <td>1.0</td>\n",
              "    </tr>\n",
              "    <tr>\n",
              "      <th>2047</th>\n",
              "      <td>amp definition</td>\n",
              "      <td>Definition of AMP. : a nucleotide C10H12N5O3H2...</td>\n",
              "      <td>1.0</td>\n",
              "    </tr>\n",
              "    <tr>\n",
              "      <th>2717</th>\n",
              "      <td>actress who plays alice on the magicians</td>\n",
              "      <td>The Magicians just suffered its first major lo...</td>\n",
              "      <td>1.0</td>\n",
              "    </tr>\n",
              "  </tbody>\n",
              "</table>\n",
              "</div>"
            ],
            "text/plain": [
              "                                                      2  ...    y\n",
              "309   all of the following were created by the first...  ...  1.0\n",
              "1607  an increase of adh causes the kidneys to _____...  ...  1.0\n",
              "1999                          array definition computer  ...  1.0\n",
              "2047                                     amp definition  ...  1.0\n",
              "2717           actress who plays alice on the magicians  ...  1.0\n",
              "\n",
              "[5 rows x 3 columns]"
            ]
          },
          "metadata": {},
          "execution_count": 29
        }
      ]
    },
    {
      "cell_type": "code",
      "metadata": {
        "colab": {
          "base_uri": "https://localhost:8080/",
          "height": 73
        },
        "id": "AmZ25MQY2PNg",
        "outputId": "224c76da-a679-4e33-8990-240d10923b7f"
      },
      "source": [
        "train_set.loc[2717,3]"
      ],
      "execution_count": 30,
      "outputs": [
        {
          "output_type": "execute_result",
          "data": {
            "application/vnd.google.colaboratory.intrinsic+json": {
              "type": "string"
            },
            "text/plain": [
              "'The Magicians just suffered its first major loss, and this is not going to be an easy one to recover from. Quentin (Jason Ralph), Alice (Olivia Taylor Dudley), Eliot (Hale Appleman), Margo (Summer Bishil), and Penny (Arjun Gupta) spent the first couple of episodes this season preparing to face the Beast again, after their first attempt went so very, very wrong thanks to Julia.'"
            ]
          },
          "metadata": {},
          "execution_count": 30
        }
      ]
    },
    {
      "cell_type": "code",
      "metadata": {
        "colab": {
          "base_uri": "https://localhost:8080/",
          "height": 54
        },
        "id": "fuiIYxdo2H1_",
        "outputId": "e67edf15-172e-47a2-b7d7-a48c78fdf2a0"
      },
      "source": [
        "train_set.loc[2,3]"
      ],
      "execution_count": 31,
      "outputs": [
        {
          "output_type": "execute_result",
          "data": {
            "application/vnd.google.colaboratory.intrinsic+json": {
              "type": "string"
            },
            "text/plain": [
              "'Princess Alice died peacefully in her sleep at Kensington Palace in the presence of her immediate family.. Lady Alice Christabel Montagu Douglas Scott was born at Montagu House, London, and was the third daughter of the seventh Duke of Buccleuch.'"
            ]
          },
          "metadata": {},
          "execution_count": 31
        }
      ]
    },
    {
      "cell_type": "markdown",
      "metadata": {
        "id": "RZOXX1AXVDDz"
      },
      "source": [
        "There shouldn't be any overlap in queries"
      ]
    },
    {
      "cell_type": "code",
      "metadata": {
        "id": "A3RKquFpSAY7"
      },
      "source": [
        "assert not train_set[2].isin(test_set[2]).any()"
      ],
      "execution_count": 32,
      "outputs": []
    },
    {
      "cell_type": "code",
      "metadata": {
        "id": "dMPmK1Ftd-we"
      },
      "source": [
        "# from sklearn.model_selection import train_test_split\n",
        "# train_set,test_set = train_test_split(train_set,test_size=0.2)"
      ],
      "execution_count": 33,
      "outputs": []
    },
    {
      "cell_type": "code",
      "metadata": {
        "id": "iArgIYaTTcSf"
      },
      "source": [
        "# batch_size = 128\n",
        "# def generateSamples(df):\n",
        "#   for i,row in df.iterrows():\n",
        "#     q = tokenizer(row[2], return_tensors=\"tf\",padding=\"max_length\",max_length=q_trunc,truncation=True)\n",
        "#     p = tokenizer(row[3], return_tensors=\"tf\",padding=\"max_length\",max_length=p_trunc,truncation=True)\n",
        "#     X={}\n",
        "#     for id in ['input_ids','token_type_ids','attention_mask']:\n",
        "#       X[id] = tf.concat([q[id],p[id][:,1:]],1)\n",
        "#     yield X,[row['y']]\n",
        "# type_dict = {id:tf.int32 for id in ['input_ids','token_type_ids','attention_mask']}\n",
        "# train_ds = tf.data.Dataset.from_generator(lambda :generateSamples(train_set),(type_dict,tf.int32))\n",
        "# train_ds = train_ds.batch(batch_size).prefetch(1)\n",
        "# test_ds = tf.data.Dataset.from_generator(lambda :generateSamples(test_set),(type_dict,tf.int32))\n",
        "# test_ds = test_ds.batch(batch_size).prefetch(1)"
      ],
      "execution_count": 34,
      "outputs": []
    },
    {
      "cell_type": "markdown",
      "metadata": {
        "id": "p2D0kjEuGnG1"
      },
      "source": [
        "##### Tokenize"
      ]
    },
    {
      "cell_type": "markdown",
      "metadata": {
        "id": "NvevQZLZG2Is"
      },
      "source": [
        "Truncation Limits"
      ]
    },
    {
      "cell_type": "code",
      "metadata": {
        "id": "waoCl3mPKT5-"
      },
      "source": [
        "q_trunc = 64\n",
        "p_trunc = 449\n",
        "assert q_trunc+p_trunc-1==512"
      ],
      "execution_count": 35,
      "outputs": []
    },
    {
      "cell_type": "markdown",
      "metadata": {
        "id": "RoMzxje6Gam0"
      },
      "source": [
        "Create training set"
      ]
    },
    {
      "cell_type": "code",
      "metadata": {
        "id": "GKWuDTH6NH0c"
      },
      "source": [
        "def generateSet(df):\n",
        "  # tokenize\n",
        "  q = tokenizer(df[2].values.tolist(), return_tensors=\"tf\",padding=\"max_length\",max_length=q_trunc,truncation=True)\n",
        "  p = tokenizer(df[3].values.tolist(), return_tensors=\"tf\",padding=\"max_length\",max_length=p_trunc,truncation=True)\n",
        "  # distribution\n",
        "  plt.hist(tf.math.reduce_sum(p['attention_mask'],axis=1).numpy())\n",
        "  plt.show()\n",
        "  \n",
        "  X=[]\n",
        "  # labels\n",
        "  y = df['y']\n",
        "  for id in ['input_ids','token_type_ids','attention_mask']:\n",
        "    X.append(tf.concat([q[id],p[id][:,1:]],1))\n",
        "  # delete unwanted variables\n",
        "  q = None\n",
        "  p = None\n",
        "  gc.collect()\n",
        "  return X,y"
      ],
      "execution_count": 36,
      "outputs": []
    },
    {
      "cell_type": "markdown",
      "metadata": {
        "id": "XtGfQ-XP121H"
      },
      "source": [
        "Distribution over tokens"
      ]
    },
    {
      "cell_type": "code",
      "metadata": {
        "colab": {
          "base_uri": "https://localhost:8080/",
          "height": 283
        },
        "id": "MHLa1p0N33bv",
        "outputId": "9d21420d-aa15-492d-a07b-5d9095e78ccc"
      },
      "source": [
        "train_set[3].apply(lambda x:len(x.split())).hist()"
      ],
      "execution_count": 37,
      "outputs": [
        {
          "output_type": "execute_result",
          "data": {
            "text/plain": [
              "<matplotlib.axes._subplots.AxesSubplot at 0x7f759d503610>"
            ]
          },
          "metadata": {},
          "execution_count": 37
        },
        {
          "output_type": "display_data",
          "data": {
            "image/png": "[encoded data removed]",
            "text/plain": [
              "<Figure size 432x288 with 1 Axes>"
            ]
          },
          "metadata": {
            "needs_background": "light"
          }
        }
      ]
    },
    {
      "cell_type": "code",
      "metadata": {
        "id": "C0RwmpFlNZJh",
        "colab": {
          "base_uri": "https://localhost:8080/",
          "height": 513
        },
        "outputId": "9011f2f6-a022-48d1-b27d-6ccfc19d8165"
      },
      "source": [
        "X_train,y_train = generateSet(train_set)\n",
        "X_test,y_test = generateSet(test_set)"
      ],
      "execution_count": 38,
      "outputs": [
        {
          "output_type": "display_data",
          "data": {
            "image/png": "[encoded data removed]",
            "text/plain": [
              "<Figure size 432x288 with 1 Axes>"
            ]
          },
          "metadata": {
            "needs_background": "light"
          }
        },
        {
          "output_type": "display_data",
          "data": {
            "image/png": "[encoded data removed]",
            "text/plain": [
              "<Figure size 432x288 with 1 Axes>"
            ]
          },
          "metadata": {
            "needs_background": "light"
          }
        }
      ]
    },
    {
      "cell_type": "markdown",
      "metadata": {
        "id": "acJNGLWlEYLi"
      },
      "source": [
        "#### Setup Tensorflow"
      ]
    },
    {
      "cell_type": "markdown",
      "metadata": {
        "id": "IJx2-RzjGQyk"
      },
      "source": [
        "Setup TPU"
      ]
    },
    {
      "cell_type": "code",
      "metadata": {
        "id": "-WcTtRCHuCJX"
      },
      "source": [
        "# #Get a handle to the attached TPU. On GCP it will be the CloudTPU itself\n",
        "# resolver = tf.distribute.cluster_resolver.TPUClusterResolver(tpu='grpc://' + os.environ['COLAB_TPU_ADDR'])\n",
        "# #Connect to the TPU handle and initialise it\n",
        "# tf.config.experimental_connect_to_cluster(resolver)\n",
        "# tf.tpu.experimental.initialize_tpu_system(resolver)\n",
        "# strategy = tf.distribute.experimental.TPUStrategy(resolver)"
      ],
      "execution_count": 39,
      "outputs": []
    },
    {
      "cell_type": "code",
      "metadata": {
        "id": "Fto_1UDRaX6U"
      },
      "source": [
        "tf.config.run_functions_eagerly(False)"
      ],
      "execution_count": 40,
      "outputs": []
    },
    {
      "cell_type": "markdown",
      "metadata": {
        "id": "EkLMSq0cEpOJ"
      },
      "source": [
        "### Create Model"
      ]
    },
    {
      "cell_type": "markdown",
      "metadata": {
        "id": "_4CFH49qGLeW"
      },
      "source": [
        "Batch size: 128 on TPU, 8 on GPU"
      ]
    },
    {
      "cell_type": "code",
      "metadata": {
        "id": "_hSqFAqrX224"
      },
      "source": [
        "num_epochs = 2\n",
        "batch_size = 8\n",
        "num_train_steps = X_train[0].shape[0]//batch_size*num_epochs"
      ],
      "execution_count": 41,
      "outputs": []
    },
    {
      "cell_type": "markdown",
      "metadata": {
        "id": "GT8o-TsoFvAI"
      },
      "source": [
        "A model with three inputs:\n",
        "- Input IDs\n",
        "- Token Type IDs\n",
        "- Attention Masks\n",
        "These are from tokenizer.\n",
        "\n",
        "Fed to BERT, from which the [CLS] vector is taken, and fed into a dense layer with one output after sigmoid."
      ]
    },
    {
      "cell_type": "code",
      "metadata": {
        "id": "4L9t0GEb8zob"
      },
      "source": [
        "def create_inputs(num_nodes,name):\n",
        "  layers = []\n",
        "  for layer_name in ['input_ids','token_type_ids','attention_mask']:\n",
        "    layers.append(tf.keras.layers.Input(shape=(num_nodes,),dtype=tf.int32,name=layer_name))\n",
        "  return layers\n",
        "\n",
        "def create_model(output_bias=None):\n",
        "    if output_bias is not None:\n",
        "      output_bias = tf.keras.initializers.Constant(output_bias)\n",
        "    config = BertConfig(hidden_dropout_prob=0.1)\n",
        "    bert = TFBertModel.from_pretrained(bert_model_name,config=config)\n",
        "    bert.save_pretrained('./bert-model/')\n",
        "    for layer in bert.layers[:]:\n",
        "      if isinstance(layer, transformers.models.bert.modeling_tf_bert.TFBertMainLayer):\n",
        "        layer.embeddings.trainable=False\n",
        "        layer.pooler.trainable=False\n",
        "        for idx, layer in enumerate(layer.encoder.layer):\n",
        "            # print(layer)\n",
        "            # freeze first 10\n",
        "            if idx in range(10):\n",
        "                layer.trainable = False\n",
        "      else:\n",
        "        layer.trainable = False\n",
        "              \n",
        "    input_layer = create_inputs(512,'pair')\n",
        "    bert_out = bert(input_layer).last_hidden_state\n",
        "    cls = tf.keras.layers.Lambda(lambda x:x[:,0,:])(bert_out)\n",
        "    # print(avg_q.shape)\n",
        "    output = tf.keras.layers.Dense(1, activation=\"sigmoid\",bias_initializer=output_bias)(cls)\n",
        "    model = tf.keras.models.Model(inputs=input_layer, outputs=[output])\n",
        "    opt,schedule = transformers.create_optimizer(num_train_steps=num_train_steps,init_lr=3e-5,adam_beta1=0.9,adam_beta2=0.999,weight_decay_rate=0.01,num_warmup_steps=num_train_steps//20)\n",
        "    # opt = tfa.optimizers.RectifiedAdam()\n",
        "    model.compile(optimizer=opt,\n",
        "              loss=tf.keras.losses.BinaryCrossentropy(),\n",
        "              metrics=[tf.keras.metrics.BinaryAccuracy(),\n",
        "                       tf.keras.metrics.AUC(curve=\"ROC\")])\n",
        "    model.summary()\n",
        "    return model"
      ],
      "execution_count": 42,
      "outputs": []
    },
    {
      "cell_type": "markdown",
      "metadata": {
        "id": "VZJlWpc0Fqar"
      },
      "source": [
        "Save on best validation loss"
      ]
    },
    {
      "cell_type": "code",
      "metadata": {
        "id": "IMdRLXOCFD4V"
      },
      "source": [
        "checkpoint = tf.keras.callbacks.ModelCheckpoint(root_dir + \"pointwise_best_model.h5\", monitor='val_loss', verbose=1, save_weights_only=True, save_best_only=True, mode='min', save_freq='epoch')"
      ],
      "execution_count": 43,
      "outputs": []
    },
    {
      "cell_type": "markdown",
      "metadata": {
        "id": "_T9pFD06Fo9U"
      },
      "source": [
        "Check GPU"
      ]
    },
    {
      "cell_type": "code",
      "metadata": {
        "id": "OAj81oYua79R",
        "colab": {
          "base_uri": "https://localhost:8080/",
          "height": 36
        },
        "outputId": "9f16b530-3ea8-460c-bb3a-dc8115ab7cc6"
      },
      "source": [
        "tf.test.gpu_device_name()"
      ],
      "execution_count": 44,
      "outputs": [
        {
          "output_type": "execute_result",
          "data": {
            "application/vnd.google.colaboratory.intrinsic+json": {
              "type": "string"
            },
            "text/plain": [
              "'/device:GPU:0'"
            ]
          },
          "metadata": {},
          "execution_count": 44
        }
      ]
    },
    {
      "cell_type": "markdown",
      "metadata": {
        "id": "8JdoAcjaFm-c"
      },
      "source": [
        "Free memory"
      ]
    },
    {
      "cell_type": "code",
      "metadata": {
        "id": "UfARg8ouZSzj",
        "colab": {
          "base_uri": "https://localhost:8080/"
        },
        "outputId": "bc6a10ba-1be2-40f5-ffba-d67c1a0f0d43"
      },
      "source": [
        "gc.collect()"
      ],
      "execution_count": 45,
      "outputs": [
        {
          "output_type": "execute_result",
          "data": {
            "text/plain": [
              "150"
            ]
          },
          "metadata": {},
          "execution_count": 45
        }
      ]
    },
    {
      "cell_type": "markdown",
      "metadata": {
        "id": "uW_gd4UzFlg1"
      },
      "source": [
        "Hide warnings"
      ]
    },
    {
      "cell_type": "code",
      "metadata": {
        "id": "4g8FPQfDgF4S"
      },
      "source": [
        "import os\n",
        "os.environ['TF_CPP_MIN_LOG_LEVEL'] = '2' \n",
        "tf.get_logger().setLevel('WARNING')"
      ],
      "execution_count": 46,
      "outputs": []
    },
    {
      "cell_type": "markdown",
      "metadata": {
        "id": "RvAL0-Q4FiJl"
      },
      "source": [
        "Biases, and class weights"
      ]
    },
    {
      "cell_type": "code",
      "metadata": {
        "id": "xmwQY008BMyx"
      },
      "source": [
        "total = len(train_set['y'])\n",
        "pos = train_set['y'].sum()\n",
        "neg = total-pos\n",
        "initial_bias = np.log([pos/neg])\n",
        "\n",
        "weight_for_0 = (1 / neg) * (total / 2.0)\n",
        "weight_for_1 = (1 / pos) * (total / 2.0)\n",
        "\n",
        "class_weight = {0: weight_for_0, 1: weight_for_1}\n",
        "# class_weight={0:1,1:1}"
      ],
      "execution_count": 47,
      "outputs": []
    },
    {
      "cell_type": "markdown",
      "metadata": {
        "id": "gjkTLj-YFS-G"
      },
      "source": [
        "#### Train"
      ]
    },
    {
      "cell_type": "code",
      "metadata": {
        "id": "4pIAdMxRFbTF"
      },
      "source": [
        "def createAndRun():\n",
        "  model = None\n",
        "  if initial_bias:\n",
        "    print(\"Bias\",initial_bias)\n",
        "    model = create_model(initial_bias)\n",
        "  else:\n",
        "    model = create_model()\n",
        "  gc.collect()\n",
        "  print(\"Class weight\",class_weight)\n",
        "  # model.fit(x=train_ds, epochs=4, verbose=1, validation_data=test_ds, callbacks=[checkpoint])\n",
        "  history = model.fit(x=X_train, y=y_train, batch_size=batch_size, epochs=num_epochs, verbose=1, validation_data=(X_test,y_test), use_multiprocessing=False, callbacks=[checkpoint],class_weight=class_weight)\n",
        "  model.save_weights('final_model.h5')\n",
        "  return model,history\n",
        "\n",
        "def cpu():\n",
        "  return createAndRun()\n",
        "\n",
        "def gpu():\n",
        "  with tf.device('/device:GPU:0'):\n",
        "    return createAndRun()\n",
        "\n",
        "def tpu():\n",
        "  with strategy.scope():\n",
        "    return createAndRun()"
      ],
      "execution_count": 48,
      "outputs": []
    },
    {
      "cell_type": "code",
      "metadata": {
        "id": "uUb1eYjwcXdo"
      },
      "source": [
        "# model,history = cpu()"
      ],
      "execution_count": 49,
      "outputs": []
    },
    {
      "cell_type": "code",
      "metadata": {
        "colab": {
          "base_uri": "https://localhost:8080/",
          "height": 922,
          "referenced_widgets": [
            "1fa44654b6714ca6b2829639ce106879",
            "c2d9d82991a14f53a7277d98adc200d9",
            "e5a20502e73942eaaaa4392714851e9e",
            "895cee7e497c4308a0d437102a3a6c49",
            "905e6404a4b5466ba123a6852fbba79a",
            "4646226d3ac94c588525e5b09678897f",
            "71b2529700b04d06a421ecbf07093162",
            "d097d12eed3242828da1578439354630",
            "9adcaf220d27448a94da5607a0c42687",
            "9cacc16f333d4202a1e36e8fa73ef7ec",
            "7699d933e9b94c0688e22a4a0b216fa4"
          ]
        },
        "id": "f6G--AfwklAr",
        "outputId": "451972dd-4f2f-42c9-ae13-8ef408e477e9"
      },
      "source": [
        "model,history = gpu()"
      ],
      "execution_count": 50,
      "outputs": [
        {
          "output_type": "stream",
          "name": "stdout",
          "text": [
            "Bias [-3.82835531]\n"
          ]
        },
        {
          "output_type": "display_data",
          "data": {
            "application/vnd.jupyter.widget-view+json": {
              "model_id": "1fa44654b6714ca6b2829639ce106879",
              "version_minor": 0,
              "version_major": 2
            },
            "text/plain": [
              "Downloading:   0%|          | 0.00/511M [00:00<?, ?B/s]"
            ]
          },
          "metadata": {}
        },
        {
          "output_type": "stream",
          "name": "stderr",
          "text": [
            "Some layers from the model checkpoint at bert-base-uncased were not used when initializing TFBertModel: ['nsp___cls', 'mlm___cls']\n",
            "- This IS expected if you are initializing TFBertModel from the checkpoint of a model trained on another task or with another architecture (e.g. initializing a BertForSequenceClassification model from a BertForPreTraining model).\n",
            "- This IS NOT expected if you are initializing TFBertModel from the checkpoint of a model that you expect to be exactly identical (initializing a BertForSequenceClassification model from a BertForSequenceClassification model).\n",
            "All the layers of TFBertModel were initialized from the model checkpoint at bert-base-uncased.\n",
            "If your task is similar to the task the model of the checkpoint was trained on, you can already use TFBertModel for predictions without further training.\n"
          ]
        },
        {
          "output_type": "stream",
          "name": "stdout",
          "text": [
            "Model: \"model\"\n",
            "__________________________________________________________________________________________________\n",
            " Layer (type)                   Output Shape         Param #     Connected to                     \n",
            "==================================================================================================\n",
            " input_ids (InputLayer)         [(None, 512)]        0           []                               \n",
            "                                                                                                  \n",
            " token_type_ids (InputLayer)    [(None, 512)]        0           []                               \n",
            "                                                                                                  \n",
            " attention_mask (InputLayer)    [(None, 512)]        0           []                               \n",
            "                                                                                                  \n",
            " tf_bert_model (TFBertModel)    TFBaseModelOutputWi  109482240   ['input_ids[0][0]',              \n",
            "                                thPoolingAndCrossAt               'token_type_ids[0][0]',         \n",
            "                                tentions(last_hidde               'attention_mask[0][0]']         \n",
            "                                n_state=(None, 512,                                               \n",
            "                                 768),                                                            \n",
            "                                 pooler_output=(Non                                               \n",
            "                                e, 768),                                                          \n",
            "                                 past_key_values=No                                               \n",
            "                                ne, hidden_states=N                                               \n",
            "                                one, attentions=Non                                               \n",
            "                                e, cross_attentions                                               \n",
            "                                =None)                                                            \n",
            "                                                                                                  \n",
            " lambda (Lambda)                (None, 768)          0           ['tf_bert_model[0][0]']          \n",
            "                                                                                                  \n",
            " dense (Dense)                  (None, 1)            769         ['lambda[0][0]']                 \n",
            "                                                                                                  \n",
            "==================================================================================================\n",
            "Total params: 109,483,009\n",
            "Trainable params: 14,176,513\n",
            "Non-trainable params: 95,306,496\n",
            "__________________________________________________________________________________________________\n",
            "Class weight {0: 0.5108726752503577, 1: 23.49342105263158}\n",
            "Epoch 1/2\n",
            "447/447 [==============================] - ETA: 0s - loss: 0.8789 - binary_accuracy: 0.5388 - auc: 0.4802\n",
            "Epoch 00001: val_loss improved from inf to 0.98300, saving model to /content/gdrive/MyDrive/col764/pointwise_best_model.h5\n",
            "447/447 [==============================] - 449s 963ms/step - loss: 0.8789 - binary_accuracy: 0.5388 - auc: 0.4802 - val_loss: 0.9830 - val_binary_accuracy: 0.0293 - val_auc: 0.5325\n",
            "Epoch 2/2\n",
            "447/447 [==============================] - ETA: 0s - loss: 0.6987 - binary_accuracy: 0.5024 - auc: 0.5453\n",
            "Epoch 00002: val_loss improved from 0.98300 to 0.60323, saving model to /content/gdrive/MyDrive/col764/pointwise_best_model.h5\n",
            "447/447 [==============================] - 425s 951ms/step - loss: 0.6987 - binary_accuracy: 0.5024 - auc: 0.5453 - val_loss: 0.6032 - val_binary_accuracy: 0.8318 - val_auc: 0.5484\n"
          ]
        }
      ]
    },
    {
      "cell_type": "code",
      "metadata": {
        "id": "Golkc-ggfhdW"
      },
      "source": [
        "# model,history = tpu()"
      ],
      "execution_count": 51,
      "outputs": []
    },
    {
      "cell_type": "code",
      "metadata": {
        "id": "du8VESG-Mjzw",
        "colab": {
          "base_uri": "https://localhost:8080/"
        },
        "outputId": "a2cbd53f-da84-48f0-9964-0533738d0159"
      },
      "source": [
        "!tar -zcvf bert-model.tar.gz bert-model"
      ],
      "execution_count": 52,
      "outputs": [
        {
          "output_type": "stream",
          "name": "stdout",
          "text": [
            "bert-model/\n",
            "bert-model/config.json\n",
            "bert-model/tf_model.h5\n"
          ]
        }
      ]
    }
  ]
}