{
  "nbformat": 4,
  "nbformat_minor": 0,
  "metadata": {
    "colab": {
      "name": "pairwise_evaluate.ipynb",
      "provenance": [],
      "collapsed_sections": [],
      "authorship_tag": "ABX9TyMlMrNuPdbF9l7n7zc/89OL",
      "include_colab_link": true
    },
    "kernelspec": {
      "name": "python3",
      "display_name": "Python 3"
    },
    "language_info": {
      "name": "python"
    },
    "accelerator": "GPU",
    "widgets": {
      "application/vnd.jupyter.widget-state+json": {
        "2f34355c89e04c76a3c1f1055af07124": {
          "model_module": "@jupyter-widgets/controls",
          "model_name": "HBoxModel",
          "model_module_version": "1.5.0",
          "state": {
            "_view_name": "HBoxView",
            "_dom_classes": [],
            "_model_name": "HBoxModel",
            "_view_module": "@jupyter-widgets/controls",
            "_model_module_version": "1.5.0",
            "_view_count": null,
            "_view_module_version": "1.5.0",
            "box_style": "",
            "layout": "IPY_MODEL_63e0c95435d84ab5873c8896b3f4a274",
            "_model_module": "@jupyter-widgets/controls",
            "children": [
              "IPY_MODEL_ad65fae2943c4c9ea488e726cab0e807",
              "IPY_MODEL_65b07bb988354be48cd88def02f775f2",
              "IPY_MODEL_09f31b645e3a4792acfca11fcc500166"
            ]
          }
        },
        "63e0c95435d84ab5873c8896b3f4a274": {
          "model_module": "@jupyter-widgets/base",
          "model_name": "LayoutModel",
          "model_module_version": "1.2.0",
          "state": {
            "_view_name": "LayoutView",
            "grid_template_rows": null,
            "right": null,
            "justify_content": null,
            "_view_module": "@jupyter-widgets/base",
            "overflow": null,
            "_model_module_version": "1.2.0",
            "_view_count": null,
            "flex_flow": null,
            "width": null,
            "min_width": null,
            "border": null,
            "align_items": null,
            "bottom": null,
            "_model_module": "@jupyter-widgets/base",
            "top": null,
            "grid_column": null,
            "overflow_y": null,
            "overflow_x": null,
            "grid_auto_flow": null,
            "grid_area": null,
            "grid_template_columns": null,
            "flex": null,
            "_model_name": "LayoutModel",
            "justify_items": null,
            "grid_row": null,
            "max_height": null,
            "align_content": null,
            "visibility": null,
            "align_self": null,
            "height": null,
            "min_height": null,
            "padding": null,
            "grid_auto_rows": null,
            "grid_gap": null,
            "max_width": null,
            "order": null,
            "_view_module_version": "1.2.0",
            "grid_template_areas": null,
            "object_position": null,
            "object_fit": null,
            "grid_auto_columns": null,
            "margin": null,
            "display": null,
            "left": null
          }
        },
        "ad65fae2943c4c9ea488e726cab0e807": {
          "model_module": "@jupyter-widgets/controls",
          "model_name": "HTMLModel",
          "model_module_version": "1.5.0",
          "state": {
            "_view_name": "HTMLView",
            "style": "IPY_MODEL_67ee5d020ad940c4acc713f7bc513a86",
            "_dom_classes": [],
            "description": "",
            "_model_name": "HTMLModel",
            "placeholder": "​",
            "_view_module": "@jupyter-widgets/controls",
            "_model_module_version": "1.5.0",
            "value": "Downloading: 100%",
            "_view_count": null,
            "_view_module_version": "1.5.0",
            "description_tooltip": null,
            "_model_module": "@jupyter-widgets/controls",
            "layout": "IPY_MODEL_dab2731059054153873b16d37824127c"
          }
        },
        "65b07bb988354be48cd88def02f775f2": {
          "model_module": "@jupyter-widgets/controls",
          "model_name": "FloatProgressModel",
          "model_module_version": "1.5.0",
          "state": {
            "_view_name": "ProgressView",
            "style": "IPY_MODEL_d3c4b5f7085b43979849f8c51e344599",
            "_dom_classes": [],
            "description": "",
            "_model_name": "FloatProgressModel",
            "bar_style": "success",
            "max": 231508,
            "_view_module": "@jupyter-widgets/controls",
            "_model_module_version": "1.5.0",
            "value": 231508,
            "_view_count": null,
            "_view_module_version": "1.5.0",
            "orientation": "horizontal",
            "min": 0,
            "description_tooltip": null,
            "_model_module": "@jupyter-widgets/controls",
            "layout": "IPY_MODEL_39ae7a65177c429ab6c276477c47e4ac"
          }
        },
        "09f31b645e3a4792acfca11fcc500166": {
          "model_module": "@jupyter-widgets/controls",
          "model_name": "HTMLModel",
          "model_module_version": "1.5.0",
          "state": {
            "_view_name": "HTMLView",
            "style": "IPY_MODEL_37db3dac39db43fabfa193dff0aad76b",
            "_dom_classes": [],
            "description": "",
            "_model_name": "HTMLModel",
            "placeholder": "​",
            "_view_module": "@jupyter-widgets/controls",
            "_model_module_version": "1.5.0",
            "value": " 226k/226k [00:00&lt;00:00, 1.00MB/s]",
            "_view_count": null,
            "_view_module_version": "1.5.0",
            "description_tooltip": null,
            "_model_module": "@jupyter-widgets/controls",
            "layout": "IPY_MODEL_571dc67fe3f648239296b17168a15ae7"
          }
        },
        "67ee5d020ad940c4acc713f7bc513a86": {
          "model_module": "@jupyter-widgets/controls",
          "model_name": "DescriptionStyleModel",
          "model_module_version": "1.5.0",
          "state": {
            "_view_name": "StyleView",
            "_model_name": "DescriptionStyleModel",
            "description_width": "",
            "_view_module": "@jupyter-widgets/base",
            "_model_module_version": "1.5.0",
            "_view_count": null,
            "_view_module_version": "1.2.0",
            "_model_module": "@jupyter-widgets/controls"
          }
        },
        "dab2731059054153873b16d37824127c": {
          "model_module": "@jupyter-widgets/base",
          "model_name": "LayoutModel",
          "model_module_version": "1.2.0",
          "state": {
            "_view_name": "LayoutView",
            "grid_template_rows": null,
            "right": null,
            "justify_content": null,
            "_view_module": "@jupyter-widgets/base",
            "overflow": null,
            "_model_module_version": "1.2.0",
            "_view_count": null,
            "flex_flow": null,
            "width": null,
            "min_width": null,
            "border": null,
            "align_items": null,
            "bottom": null,
            "_model_module": "@jupyter-widgets/base",
            "top": null,
            "grid_column": null,
            "overflow_y": null,
            "overflow_x": null,
            "grid_auto_flow": null,
            "grid_area": null,
            "grid_template_columns": null,
            "flex": null,
            "_model_name": "LayoutModel",
            "justify_items": null,
            "grid_row": null,
            "max_height": null,
            "align_content": null,
            "visibility": null,
            "align_self": null,
            "height": null,
            "min_height": null,
            "padding": null,
            "grid_auto_rows": null,
            "grid_gap": null,
            "max_width": null,
            "order": null,
            "_view_module_version": "1.2.0",
            "grid_template_areas": null,
            "object_position": null,
            "object_fit": null,
            "grid_auto_columns": null,
            "margin": null,
            "display": null,
            "left": null
          }
        },
        "d3c4b5f7085b43979849f8c51e344599": {
          "model_module": "@jupyter-widgets/controls",
          "model_name": "ProgressStyleModel",
          "model_module_version": "1.5.0",
          "state": {
            "_view_name": "StyleView",
            "_model_name": "ProgressStyleModel",
            "description_width": "",
            "_view_module": "@jupyter-widgets/base",
            "_model_module_version": "1.5.0",
            "_view_count": null,
            "_view_module_version": "1.2.0",
            "bar_color": null,
            "_model_module": "@jupyter-widgets/controls"
          }
        },
        "39ae7a65177c429ab6c276477c47e4ac": {
          "model_module": "@jupyter-widgets/base",
          "model_name": "LayoutModel",
          "model_module_version": "1.2.0",
          "state": {
            "_view_name": "LayoutView",
            "grid_template_rows": null,
            "right": null,
            "justify_content": null,
            "_view_module": "@jupyter-widgets/base",
            "overflow": null,
            "_model_module_version": "1.2.0",
            "_view_count": null,
            "flex_flow": null,
            "width": null,
            "min_width": null,
            "border": null,
            "align_items": null,
            "bottom": null,
            "_model_module": "@jupyter-widgets/base",
            "top": null,
            "grid_column": null,
            "overflow_y": null,
            "overflow_x": null,
            "grid_auto_flow": null,
            "grid_area": null,
            "grid_template_columns": null,
            "flex": null,
            "_model_name": "LayoutModel",
            "justify_items": null,
            "grid_row": null,
            "max_height": null,
            "align_content": null,
            "visibility": null,
            "align_self": null,
            "height": null,
            "min_height": null,
            "padding": null,
            "grid_auto_rows": null,
            "grid_gap": null,
            "max_width": null,
            "order": null,
            "_view_module_version": "1.2.0",
            "grid_template_areas": null,
            "object_position": null,
            "object_fit": null,
            "grid_auto_columns": null,
            "margin": null,
            "display": null,
            "left": null
          }
        },
        "37db3dac39db43fabfa193dff0aad76b": {
          "model_module": "@jupyter-widgets/controls",
          "model_name": "DescriptionStyleModel",
          "model_module_version": "1.5.0",
          "state": {
            "_view_name": "StyleView",
            "_model_name": "DescriptionStyleModel",
            "description_width": "",
            "_view_module": "@jupyter-widgets/base",
            "_model_module_version": "1.5.0",
            "_view_count": null,
            "_view_module_version": "1.2.0",
            "_model_module": "@jupyter-widgets/controls"
          }
        },
        "571dc67fe3f648239296b17168a15ae7": {
          "model_module": "@jupyter-widgets/base",
          "model_name": "LayoutModel",
          "model_module_version": "1.2.0",
          "state": {
            "_view_name": "LayoutView",
            "grid_template_rows": null,
            "right": null,
            "justify_content": null,
            "_view_module": "@jupyter-widgets/base",
            "overflow": null,
            "_model_module_version": "1.2.0",
            "_view_count": null,
            "flex_flow": null,
            "width": null,
            "min_width": null,
            "border": null,
            "align_items": null,
            "bottom": null,
            "_model_module": "@jupyter-widgets/base",
            "top": null,
            "grid_column": null,
            "overflow_y": null,
            "overflow_x": null,
            "grid_auto_flow": null,
            "grid_area": null,
            "grid_template_columns": null,
            "flex": null,
            "_model_name": "LayoutModel",
            "justify_items": null,
            "grid_row": null,
            "max_height": null,
            "align_content": null,
            "visibility": null,
            "align_self": null,
            "height": null,
            "min_height": null,
            "padding": null,
            "grid_auto_rows": null,
            "grid_gap": null,
            "max_width": null,
            "order": null,
            "_view_module_version": "1.2.0",
            "grid_template_areas": null,
            "object_position": null,
            "object_fit": null,
            "grid_auto_columns": null,
            "margin": null,
            "display": null,
            "left": null
          }
        },
        "b32ce89b28924acf9956edd032a860e4": {
          "model_module": "@jupyter-widgets/controls",
          "model_name": "HBoxModel",
          "model_module_version": "1.5.0",
          "state": {
            "_view_name": "HBoxView",
            "_dom_classes": [],
            "_model_name": "HBoxModel",
            "_view_module": "@jupyter-widgets/controls",
            "_model_module_version": "1.5.0",
            "_view_count": null,
            "_view_module_version": "1.5.0",
            "box_style": "",
            "layout": "IPY_MODEL_559bd25ff9aa441cb4a7cff5e73ec388",
            "_model_module": "@jupyter-widgets/controls",
            "children": [
              "IPY_MODEL_9454c67e59f740f9af95b7808a884aa1",
              "IPY_MODEL_fd7589032012423eb8f438ff42dbac27",
              "IPY_MODEL_cb79c7c2d5c84c748bea0775ee5ba134"
            ]
          }
        },
        "559bd25ff9aa441cb4a7cff5e73ec388": {
          "model_module": "@jupyter-widgets/base",
          "model_name": "LayoutModel",
          "model_module_version": "1.2.0",
          "state": {
            "_view_name": "LayoutView",
            "grid_template_rows": null,
            "right": null,
            "justify_content": null,
            "_view_module": "@jupyter-widgets/base",
            "overflow": null,
            "_model_module_version": "1.2.0",
            "_view_count": null,
            "flex_flow": null,
            "width": null,
            "min_width": null,
            "border": null,
            "align_items": null,
            "bottom": null,
            "_model_module": "@jupyter-widgets/base",
            "top": null,
            "grid_column": null,
            "overflow_y": null,
            "overflow_x": null,
            "grid_auto_flow": null,
            "grid_area": null,
            "grid_template_columns": null,
            "flex": null,
            "_model_name": "LayoutModel",
            "justify_items": null,
            "grid_row": null,
            "max_height": null,
            "align_content": null,
            "visibility": null,
            "align_self": null,
            "height": null,
            "min_height": null,
            "padding": null,
            "grid_auto_rows": null,
            "grid_gap": null,
            "max_width": null,
            "order": null,
            "_view_module_version": "1.2.0",
            "grid_template_areas": null,
            "object_position": null,
            "object_fit": null,
            "grid_auto_columns": null,
            "margin": null,
            "display": null,
            "left": null
          }
        },
        "9454c67e59f740f9af95b7808a884aa1": {
          "model_module": "@jupyter-widgets/controls",
          "model_name": "HTMLModel",
          "model_module_version": "1.5.0",
          "state": {
            "_view_name": "HTMLView",
            "style": "IPY_MODEL_d8833a1671414aa49d534a0daf5ab2c7",
            "_dom_classes": [],
            "description": "",
            "_model_name": "HTMLModel",
            "placeholder": "​",
            "_view_module": "@jupyter-widgets/controls",
            "_model_module_version": "1.5.0",
            "value": "Downloading: 100%",
            "_view_count": null,
            "_view_module_version": "1.5.0",
            "description_tooltip": null,
            "_model_module": "@jupyter-widgets/controls",
            "layout": "IPY_MODEL_454e7093ba2546d4bc57823b5ae4f84c"
          }
        },
        "fd7589032012423eb8f438ff42dbac27": {
          "model_module": "@jupyter-widgets/controls",
          "model_name": "FloatProgressModel",
          "model_module_version": "1.5.0",
          "state": {
            "_view_name": "ProgressView",
            "style": "IPY_MODEL_aec138e872d64cc2bf378b27c2168de9",
            "_dom_classes": [],
            "description": "",
            "_model_name": "FloatProgressModel",
            "bar_style": "success",
            "max": 28,
            "_view_module": "@jupyter-widgets/controls",
            "_model_module_version": "1.5.0",
            "value": 28,
            "_view_count": null,
            "_view_module_version": "1.5.0",
            "orientation": "horizontal",
            "min": 0,
            "description_tooltip": null,
            "_model_module": "@jupyter-widgets/controls",
            "layout": "IPY_MODEL_62ddb126ee664598bc49cd935766f1f3"
          }
        },
        "cb79c7c2d5c84c748bea0775ee5ba134": {
          "model_module": "@jupyter-widgets/controls",
          "model_name": "HTMLModel",
          "model_module_version": "1.5.0",
          "state": {
            "_view_name": "HTMLView",
            "style": "IPY_MODEL_3b8e54039ca248d1b087726c5f757577",
            "_dom_classes": [],
            "description": "",
            "_model_name": "HTMLModel",
            "placeholder": "​",
            "_view_module": "@jupyter-widgets/controls",
            "_model_module_version": "1.5.0",
            "value": " 28.0/28.0 [00:00&lt;00:00, 639B/s]",
            "_view_count": null,
            "_view_module_version": "1.5.0",
            "description_tooltip": null,
            "_model_module": "@jupyter-widgets/controls",
            "layout": "IPY_MODEL_2f061ed7279b4951afc77f0bd90c35a2"
          }
        },
        "d8833a1671414aa49d534a0daf5ab2c7": {
          "model_module": "@jupyter-widgets/controls",
          "model_name": "DescriptionStyleModel",
          "model_module_version": "1.5.0",
          "state": {
            "_view_name": "StyleView",
            "_model_name": "DescriptionStyleModel",
            "description_width": "",
            "_view_module": "@jupyter-widgets/base",
            "_model_module_version": "1.5.0",
            "_view_count": null,
            "_view_module_version": "1.2.0",
            "_model_module": "@jupyter-widgets/controls"
          }
        },
        "454e7093ba2546d4bc57823b5ae4f84c": {
          "model_module": "@jupyter-widgets/base",
          "model_name": "LayoutModel",
          "model_module_version": "1.2.0",
          "state": {
            "_view_name": "LayoutView",
            "grid_template_rows": null,
            "right": null,
            "justify_content": null,
            "_view_module": "@jupyter-widgets/base",
            "overflow": null,
            "_model_module_version": "1.2.0",
            "_view_count": null,
            "flex_flow": null,
            "width": null,
            "min_width": null,
            "border": null,
            "align_items": null,
            "bottom": null,
            "_model_module": "@jupyter-widgets/base",
            "top": null,
            "grid_column": null,
            "overflow_y": null,
            "overflow_x": null,
            "grid_auto_flow": null,
            "grid_area": null,
            "grid_template_columns": null,
            "flex": null,
            "_model_name": "LayoutModel",
            "justify_items": null,
            "grid_row": null,
            "max_height": null,
            "align_content": null,
            "visibility": null,
            "align_self": null,
            "height": null,
            "min_height": null,
            "padding": null,
            "grid_auto_rows": null,
            "grid_gap": null,
            "max_width": null,
            "order": null,
            "_view_module_version": "1.2.0",
            "grid_template_areas": null,
            "object_position": null,
            "object_fit": null,
            "grid_auto_columns": null,
            "margin": null,
            "display": null,
            "left": null
          }
        },
        "aec138e872d64cc2bf378b27c2168de9": {
          "model_module": "@jupyter-widgets/controls",
          "model_name": "ProgressStyleModel",
          "model_module_version": "1.5.0",
          "state": {
            "_view_name": "StyleView",
            "_model_name": "ProgressStyleModel",
            "description_width": "",
            "_view_module": "@jupyter-widgets/base",
            "_model_module_version": "1.5.0",
            "_view_count": null,
            "_view_module_version": "1.2.0",
            "bar_color": null,
            "_model_module": "@jupyter-widgets/controls"
          }
        },
        "62ddb126ee664598bc49cd935766f1f3": {
          "model_module": "@jupyter-widgets/base",
          "model_name": "LayoutModel",
          "model_module_version": "1.2.0",
          "state": {
            "_view_name": "LayoutView",
            "grid_template_rows": null,
            "right": null,
            "justify_content": null,
            "_view_module": "@jupyter-widgets/base",
            "overflow": null,
            "_model_module_version": "1.2.0",
            "_view_count": null,
            "flex_flow": null,
            "width": null,
            "min_width": null,
            "border": null,
            "align_items": null,
            "bottom": null,
            "_model_module": "@jupyter-widgets/base",
            "top": null,
            "grid_column": null,
            "overflow_y": null,
            "overflow_x": null,
            "grid_auto_flow": null,
            "grid_area": null,
            "grid_template_columns": null,
            "flex": null,
            "_model_name": "LayoutModel",
            "justify_items": null,
            "grid_row": null,
            "max_height": null,
            "align_content": null,
            "visibility": null,
            "align_self": null,
            "height": null,
            "min_height": null,
            "padding": null,
            "grid_auto_rows": null,
            "grid_gap": null,
            "max_width": null,
            "order": null,
            "_view_module_version": "1.2.0",
            "grid_template_areas": null,
            "object_position": null,
            "object_fit": null,
            "grid_auto_columns": null,
            "margin": null,
            "display": null,
            "left": null
          }
        },
        "3b8e54039ca248d1b087726c5f757577": {
          "model_module": "@jupyter-widgets/controls",
          "model_name": "DescriptionStyleModel",
          "model_module_version": "1.5.0",
          "state": {
            "_view_name": "StyleView",
            "_model_name": "DescriptionStyleModel",
            "description_width": "",
            "_view_module": "@jupyter-widgets/base",
            "_model_module_version": "1.5.0",
            "_view_count": null,
            "_view_module_version": "1.2.0",
            "_model_module": "@jupyter-widgets/controls"
          }
        },
        "2f061ed7279b4951afc77f0bd90c35a2": {
          "model_module": "@jupyter-widgets/base",
          "model_name": "LayoutModel",
          "model_module_version": "1.2.0",
          "state": {
            "_view_name": "LayoutView",
            "grid_template_rows": null,
            "right": null,
            "justify_content": null,
            "_view_module": "@jupyter-widgets/base",
            "overflow": null,
            "_model_module_version": "1.2.0",
            "_view_count": null,
            "flex_flow": null,
            "width": null,
            "min_width": null,
            "border": null,
            "align_items": null,
            "bottom": null,
            "_model_module": "@jupyter-widgets/base",
            "top": null,
            "grid_column": null,
            "overflow_y": null,
            "overflow_x": null,
            "grid_auto_flow": null,
            "grid_area": null,
            "grid_template_columns": null,
            "flex": null,
            "_model_name": "LayoutModel",
            "justify_items": null,
            "grid_row": null,
            "max_height": null,
            "align_content": null,
            "visibility": null,
            "align_self": null,
            "height": null,
            "min_height": null,
            "padding": null,
            "grid_auto_rows": null,
            "grid_gap": null,
            "max_width": null,
            "order": null,
            "_view_module_version": "1.2.0",
            "grid_template_areas": null,
            "object_position": null,
            "object_fit": null,
            "grid_auto_columns": null,
            "margin": null,
            "display": null,
            "left": null
          }
        },
        "12a3bf0c2cbe4810a6ef3a000b7c1d0a": {
          "model_module": "@jupyter-widgets/controls",
          "model_name": "HBoxModel",
          "model_module_version": "1.5.0",
          "state": {
            "_view_name": "HBoxView",
            "_dom_classes": [],
            "_model_name": "HBoxModel",
            "_view_module": "@jupyter-widgets/controls",
            "_model_module_version": "1.5.0",
            "_view_count": null,
            "_view_module_version": "1.5.0",
            "box_style": "",
            "layout": "IPY_MODEL_b4b5d0e6366e4a43a3e9b255e0cb2b88",
            "_model_module": "@jupyter-widgets/controls",
            "children": [
              "IPY_MODEL_b2a97e70e2c94b7abd421524a4f9dc1b",
              "IPY_MODEL_45fb1d824ac44141ad4450764c33c19b",
              "IPY_MODEL_7b8512516a244d4d9dd594d1cf3198ce"
            ]
          }
        },
        "b4b5d0e6366e4a43a3e9b255e0cb2b88": {
          "model_module": "@jupyter-widgets/base",
          "model_name": "LayoutModel",
          "model_module_version": "1.2.0",
          "state": {
            "_view_name": "LayoutView",
            "grid_template_rows": null,
            "right": null,
            "justify_content": null,
            "_view_module": "@jupyter-widgets/base",
            "overflow": null,
            "_model_module_version": "1.2.0",
            "_view_count": null,
            "flex_flow": null,
            "width": null,
            "min_width": null,
            "border": null,
            "align_items": null,
            "bottom": null,
            "_model_module": "@jupyter-widgets/base",
            "top": null,
            "grid_column": null,
            "overflow_y": null,
            "overflow_x": null,
            "grid_auto_flow": null,
            "grid_area": null,
            "grid_template_columns": null,
            "flex": null,
            "_model_name": "LayoutModel",
            "justify_items": null,
            "grid_row": null,
            "max_height": null,
            "align_content": null,
            "visibility": null,
            "align_self": null,
            "height": null,
            "min_height": null,
            "padding": null,
            "grid_auto_rows": null,
            "grid_gap": null,
            "max_width": null,
            "order": null,
            "_view_module_version": "1.2.0",
            "grid_template_areas": null,
            "object_position": null,
            "object_fit": null,
            "grid_auto_columns": null,
            "margin": null,
            "display": null,
            "left": null
          }
        },
        "b2a97e70e2c94b7abd421524a4f9dc1b": {
          "model_module": "@jupyter-widgets/controls",
          "model_name": "HTMLModel",
          "model_module_version": "1.5.0",
          "state": {
            "_view_name": "HTMLView",
            "style": "IPY_MODEL_c108c7d6622a4efd9f3e7260d43871cb",
            "_dom_classes": [],
            "description": "",
            "_model_name": "HTMLModel",
            "placeholder": "​",
            "_view_module": "@jupyter-widgets/controls",
            "_model_module_version": "1.5.0",
            "value": "Downloading: 100%",
            "_view_count": null,
            "_view_module_version": "1.5.0",
            "description_tooltip": null,
            "_model_module": "@jupyter-widgets/controls",
            "layout": "IPY_MODEL_a120cb9d815843bab48a06f6c2d1e981"
          }
        },
        "45fb1d824ac44141ad4450764c33c19b": {
          "model_module": "@jupyter-widgets/controls",
          "model_name": "FloatProgressModel",
          "model_module_version": "1.5.0",
          "state": {
            "_view_name": "ProgressView",
            "style": "IPY_MODEL_3b7d50709d2f4831ae18f0d495e00b03",
            "_dom_classes": [],
            "description": "",
            "_model_name": "FloatProgressModel",
            "bar_style": "success",
            "max": 466062,
            "_view_module": "@jupyter-widgets/controls",
            "_model_module_version": "1.5.0",
            "value": 466062,
            "_view_count": null,
            "_view_module_version": "1.5.0",
            "orientation": "horizontal",
            "min": 0,
            "description_tooltip": null,
            "_model_module": "@jupyter-widgets/controls",
            "layout": "IPY_MODEL_ab9ce55bd87f4bb2b0d8eafcf7c3c094"
          }
        },
        "7b8512516a244d4d9dd594d1cf3198ce": {
          "model_module": "@jupyter-widgets/controls",
          "model_name": "HTMLModel",
          "model_module_version": "1.5.0",
          "state": {
            "_view_name": "HTMLView",
            "style": "IPY_MODEL_5e278ca5fe9f45db928f0b2046a35264",
            "_dom_classes": [],
            "description": "",
            "_model_name": "HTMLModel",
            "placeholder": "​",
            "_view_module": "@jupyter-widgets/controls",
            "_model_module_version": "1.5.0",
            "value": " 455k/455k [00:00&lt;00:00, 1.14MB/s]",
            "_view_count": null,
            "_view_module_version": "1.5.0",
            "description_tooltip": null,
            "_model_module": "@jupyter-widgets/controls",
            "layout": "IPY_MODEL_b449b15545544eb59359116785e8a51f"
          }
        },
        "c108c7d6622a4efd9f3e7260d43871cb": {
          "model_module": "@jupyter-widgets/controls",
          "model_name": "DescriptionStyleModel",
          "model_module_version": "1.5.0",
          "state": {
            "_view_name": "StyleView",
            "_model_name": "DescriptionStyleModel",
            "description_width": "",
            "_view_module": "@jupyter-widgets/base",
            "_model_module_version": "1.5.0",
            "_view_count": null,
            "_view_module_version": "1.2.0",
            "_model_module": "@jupyter-widgets/controls"
          }
        },
        "a120cb9d815843bab48a06f6c2d1e981": {
          "model_module": "@jupyter-widgets/base",
          "model_name": "LayoutModel",
          "model_module_version": "1.2.0",
          "state": {
            "_view_name": "LayoutView",
            "grid_template_rows": null,
            "right": null,
            "justify_content": null,
            "_view_module": "@jupyter-widgets/base",
            "overflow": null,
            "_model_module_version": "1.2.0",
            "_view_count": null,
            "flex_flow": null,
            "width": null,
            "min_width": null,
            "border": null,
            "align_items": null,
            "bottom": null,
            "_model_module": "@jupyter-widgets/base",
            "top": null,
            "grid_column": null,
            "overflow_y": null,
            "overflow_x": null,
            "grid_auto_flow": null,
            "grid_area": null,
            "grid_template_columns": null,
            "flex": null,
            "_model_name": "LayoutModel",
            "justify_items": null,
            "grid_row": null,
            "max_height": null,
            "align_content": null,
            "visibility": null,
            "align_self": null,
            "height": null,
            "min_height": null,
            "padding": null,
            "grid_auto_rows": null,
            "grid_gap": null,
            "max_width": null,
            "order": null,
            "_view_module_version": "1.2.0",
            "grid_template_areas": null,
            "object_position": null,
            "object_fit": null,
            "grid_auto_columns": null,
            "margin": null,
            "display": null,
            "left": null
          }
        },
        "3b7d50709d2f4831ae18f0d495e00b03": {
          "model_module": "@jupyter-widgets/controls",
          "model_name": "ProgressStyleModel",
          "model_module_version": "1.5.0",
          "state": {
            "_view_name": "StyleView",
            "_model_name": "ProgressStyleModel",
            "description_width": "",
            "_view_module": "@jupyter-widgets/base",
            "_model_module_version": "1.5.0",
            "_view_count": null,
            "_view_module_version": "1.2.0",
            "bar_color": null,
            "_model_module": "@jupyter-widgets/controls"
          }
        },
        "ab9ce55bd87f4bb2b0d8eafcf7c3c094": {
          "model_module": "@jupyter-widgets/base",
          "model_name": "LayoutModel",
          "model_module_version": "1.2.0",
          "state": {
            "_view_name": "LayoutView",
            "grid_template_rows": null,
            "right": null,
            "justify_content": null,
            "_view_module": "@jupyter-widgets/base",
            "overflow": null,
            "_model_module_version": "1.2.0",
            "_view_count": null,
            "flex_flow": null,
            "width": null,
            "min_width": null,
            "border": null,
            "align_items": null,
            "bottom": null,
            "_model_module": "@jupyter-widgets/base",
            "top": null,
            "grid_column": null,
            "overflow_y": null,
            "overflow_x": null,
            "grid_auto_flow": null,
            "grid_area": null,
            "grid_template_columns": null,
            "flex": null,
            "_model_name": "LayoutModel",
            "justify_items": null,
            "grid_row": null,
            "max_height": null,
            "align_content": null,
            "visibility": null,
            "align_self": null,
            "height": null,
            "min_height": null,
            "padding": null,
            "grid_auto_rows": null,
            "grid_gap": null,
            "max_width": null,
            "order": null,
            "_view_module_version": "1.2.0",
            "grid_template_areas": null,
            "object_position": null,
            "object_fit": null,
            "grid_auto_columns": null,
            "margin": null,
            "display": null,
            "left": null
          }
        },
        "5e278ca5fe9f45db928f0b2046a35264": {
          "model_module": "@jupyter-widgets/controls",
          "model_name": "DescriptionStyleModel",
          "model_module_version": "1.5.0",
          "state": {
            "_view_name": "StyleView",
            "_model_name": "DescriptionStyleModel",
            "description_width": "",
            "_view_module": "@jupyter-widgets/base",
            "_model_module_version": "1.5.0",
            "_view_count": null,
            "_view_module_version": "1.2.0",
            "_model_module": "@jupyter-widgets/controls"
          }
        },
        "b449b15545544eb59359116785e8a51f": {
          "model_module": "@jupyter-widgets/base",
          "model_name": "LayoutModel",
          "model_module_version": "1.2.0",
          "state": {
            "_view_name": "LayoutView",
            "grid_template_rows": null,
            "right": null,
            "justify_content": null,
            "_view_module": "@jupyter-widgets/base",
            "overflow": null,
            "_model_module_version": "1.2.0",
            "_view_count": null,
            "flex_flow": null,
            "width": null,
            "min_width": null,
            "border": null,
            "align_items": null,
            "bottom": null,
            "_model_module": "@jupyter-widgets/base",
            "top": null,
            "grid_column": null,
            "overflow_y": null,
            "overflow_x": null,
            "grid_auto_flow": null,
            "grid_area": null,
            "grid_template_columns": null,
            "flex": null,
            "_model_name": "LayoutModel",
            "justify_items": null,
            "grid_row": null,
            "max_height": null,
            "align_content": null,
            "visibility": null,
            "align_self": null,
            "height": null,
            "min_height": null,
            "padding": null,
            "grid_auto_rows": null,
            "grid_gap": null,
            "max_width": null,
            "order": null,
            "_view_module_version": "1.2.0",
            "grid_template_areas": null,
            "object_position": null,
            "object_fit": null,
            "grid_auto_columns": null,
            "margin": null,
            "display": null,
            "left": null
          }
        },
        "fb0ddb6dd2c8482ea7484b4760744d0b": {
          "model_module": "@jupyter-widgets/controls",
          "model_name": "HBoxModel",
          "model_module_version": "1.5.0",
          "state": {
            "_view_name": "HBoxView",
            "_dom_classes": [],
            "_model_name": "HBoxModel",
            "_view_module": "@jupyter-widgets/controls",
            "_model_module_version": "1.5.0",
            "_view_count": null,
            "_view_module_version": "1.5.0",
            "box_style": "",
            "layout": "IPY_MODEL_3f976ac2121d46f59c099ea3f3793f22",
            "_model_module": "@jupyter-widgets/controls",
            "children": [
              "IPY_MODEL_58d98c08718f4dbbb6df85dc8d92a09e",
              "IPY_MODEL_12d75030b2e74fd2a9fa46aec96d7dd9",
              "IPY_MODEL_34434f475ca54c77965373705ad1d323"
            ]
          }
        },
        "3f976ac2121d46f59c099ea3f3793f22": {
          "model_module": "@jupyter-widgets/base",
          "model_name": "LayoutModel",
          "model_module_version": "1.2.0",
          "state": {
            "_view_name": "LayoutView",
            "grid_template_rows": null,
            "right": null,
            "justify_content": null,
            "_view_module": "@jupyter-widgets/base",
            "overflow": null,
            "_model_module_version": "1.2.0",
            "_view_count": null,
            "flex_flow": null,
            "width": null,
            "min_width": null,
            "border": null,
            "align_items": null,
            "bottom": null,
            "_model_module": "@jupyter-widgets/base",
            "top": null,
            "grid_column": null,
            "overflow_y": null,
            "overflow_x": null,
            "grid_auto_flow": null,
            "grid_area": null,
            "grid_template_columns": null,
            "flex": null,
            "_model_name": "LayoutModel",
            "justify_items": null,
            "grid_row": null,
            "max_height": null,
            "align_content": null,
            "visibility": null,
            "align_self": null,
            "height": null,
            "min_height": null,
            "padding": null,
            "grid_auto_rows": null,
            "grid_gap": null,
            "max_width": null,
            "order": null,
            "_view_module_version": "1.2.0",
            "grid_template_areas": null,
            "object_position": null,
            "object_fit": null,
            "grid_auto_columns": null,
            "margin": null,
            "display": null,
            "left": null
          }
        },
        "58d98c08718f4dbbb6df85dc8d92a09e": {
          "model_module": "@jupyter-widgets/controls",
          "model_name": "HTMLModel",
          "model_module_version": "1.5.0",
          "state": {
            "_view_name": "HTMLView",
            "style": "IPY_MODEL_5a111b8443bd417c880c50ab0392acb2",
            "_dom_classes": [],
            "description": "",
            "_model_name": "HTMLModel",
            "placeholder": "​",
            "_view_module": "@jupyter-widgets/controls",
            "_model_module_version": "1.5.0",
            "value": "Downloading: 100%",
            "_view_count": null,
            "_view_module_version": "1.5.0",
            "description_tooltip": null,
            "_model_module": "@jupyter-widgets/controls",
            "layout": "IPY_MODEL_1a9210279fb24a5ba6053e270bd9b794"
          }
        },
        "12d75030b2e74fd2a9fa46aec96d7dd9": {
          "model_module": "@jupyter-widgets/controls",
          "model_name": "FloatProgressModel",
          "model_module_version": "1.5.0",
          "state": {
            "_view_name": "ProgressView",
            "style": "IPY_MODEL_af9fd8ca61694a1081a6b8e1f13034c8",
            "_dom_classes": [],
            "description": "",
            "_model_name": "FloatProgressModel",
            "bar_style": "success",
            "max": 570,
            "_view_module": "@jupyter-widgets/controls",
            "_model_module_version": "1.5.0",
            "value": 570,
            "_view_count": null,
            "_view_module_version": "1.5.0",
            "orientation": "horizontal",
            "min": 0,
            "description_tooltip": null,
            "_model_module": "@jupyter-widgets/controls",
            "layout": "IPY_MODEL_6c801f7d7056469f81f48f349818b89e"
          }
        },
        "34434f475ca54c77965373705ad1d323": {
          "model_module": "@jupyter-widgets/controls",
          "model_name": "HTMLModel",
          "model_module_version": "1.5.0",
          "state": {
            "_view_name": "HTMLView",
            "style": "IPY_MODEL_97bb8f4ea96d4f748f2e8422865e6813",
            "_dom_classes": [],
            "description": "",
            "_model_name": "HTMLModel",
            "placeholder": "​",
            "_view_module": "@jupyter-widgets/controls",
            "_model_module_version": "1.5.0",
            "value": " 570/570 [00:00&lt;00:00, 13.1kB/s]",
            "_view_count": null,
            "_view_module_version": "1.5.0",
            "description_tooltip": null,
            "_model_module": "@jupyter-widgets/controls",
            "layout": "IPY_MODEL_0b7326e08f4240b1bcf9d600a8afdd6b"
          }
        },
        "5a111b8443bd417c880c50ab0392acb2": {
          "model_module": "@jupyter-widgets/controls",
          "model_name": "DescriptionStyleModel",
          "model_module_version": "1.5.0",
          "state": {
            "_view_name": "StyleView",
            "_model_name": "DescriptionStyleModel",
            "description_width": "",
            "_view_module": "@jupyter-widgets/base",
            "_model_module_version": "1.5.0",
            "_view_count": null,
            "_view_module_version": "1.2.0",
            "_model_module": "@jupyter-widgets/controls"
          }
        },
        "1a9210279fb24a5ba6053e270bd9b794": {
          "model_module": "@jupyter-widgets/base",
          "model_name": "LayoutModel",
          "model_module_version": "1.2.0",
          "state": {
            "_view_name": "LayoutView",
            "grid_template_rows": null,
            "right": null,
            "justify_content": null,
            "_view_module": "@jupyter-widgets/base",
            "overflow": null,
            "_model_module_version": "1.2.0",
            "_view_count": null,
            "flex_flow": null,
            "width": null,
            "min_width": null,
            "border": null,
            "align_items": null,
            "bottom": null,
            "_model_module": "@jupyter-widgets/base",
            "top": null,
            "grid_column": null,
            "overflow_y": null,
            "overflow_x": null,
            "grid_auto_flow": null,
            "grid_area": null,
            "grid_template_columns": null,
            "flex": null,
            "_model_name": "LayoutModel",
            "justify_items": null,
            "grid_row": null,
            "max_height": null,
            "align_content": null,
            "visibility": null,
            "align_self": null,
            "height": null,
            "min_height": null,
            "padding": null,
            "grid_auto_rows": null,
            "grid_gap": null,
            "max_width": null,
            "order": null,
            "_view_module_version": "1.2.0",
            "grid_template_areas": null,
            "object_position": null,
            "object_fit": null,
            "grid_auto_columns": null,
            "margin": null,
            "display": null,
            "left": null
          }
        },
        "af9fd8ca61694a1081a6b8e1f13034c8": {
          "model_module": "@jupyter-widgets/controls",
          "model_name": "ProgressStyleModel",
          "model_module_version": "1.5.0",
          "state": {
            "_view_name": "StyleView",
            "_model_name": "ProgressStyleModel",
            "description_width": "",
            "_view_module": "@jupyter-widgets/base",
            "_model_module_version": "1.5.0",
            "_view_count": null,
            "_view_module_version": "1.2.0",
            "bar_color": null,
            "_model_module": "@jupyter-widgets/controls"
          }
        },
        "6c801f7d7056469f81f48f349818b89e": {
          "model_module": "@jupyter-widgets/base",
          "model_name": "LayoutModel",
          "model_module_version": "1.2.0",
          "state": {
            "_view_name": "LayoutView",
            "grid_template_rows": null,
            "right": null,
            "justify_content": null,
            "_view_module": "@jupyter-widgets/base",
            "overflow": null,
            "_model_module_version": "1.2.0",
            "_view_count": null,
            "flex_flow": null,
            "width": null,
            "min_width": null,
            "border": null,
            "align_items": null,
            "bottom": null,
            "_model_module": "@jupyter-widgets/base",
            "top": null,
            "grid_column": null,
            "overflow_y": null,
            "overflow_x": null,
            "grid_auto_flow": null,
            "grid_area": null,
            "grid_template_columns": null,
            "flex": null,
            "_model_name": "LayoutModel",
            "justify_items": null,
            "grid_row": null,
            "max_height": null,
            "align_content": null,
            "visibility": null,
            "align_self": null,
            "height": null,
            "min_height": null,
            "padding": null,
            "grid_auto_rows": null,
            "grid_gap": null,
            "max_width": null,
            "order": null,
            "_view_module_version": "1.2.0",
            "grid_template_areas": null,
            "object_position": null,
            "object_fit": null,
            "grid_auto_columns": null,
            "margin": null,
            "display": null,
            "left": null
          }
        },
        "97bb8f4ea96d4f748f2e8422865e6813": {
          "model_module": "@jupyter-widgets/controls",
          "model_name": "DescriptionStyleModel",
          "model_module_version": "1.5.0",
          "state": {
            "_view_name": "StyleView",
            "_model_name": "DescriptionStyleModel",
            "description_width": "",
            "_view_module": "@jupyter-widgets/base",
            "_model_module_version": "1.5.0",
            "_view_count": null,
            "_view_module_version": "1.2.0",
            "_model_module": "@jupyter-widgets/controls"
          }
        },
        "0b7326e08f4240b1bcf9d600a8afdd6b": {
          "model_module": "@jupyter-widgets/base",
          "model_name": "LayoutModel",
          "model_module_version": "1.2.0",
          "state": {
            "_view_name": "LayoutView",
            "grid_template_rows": null,
            "right": null,
            "justify_content": null,
            "_view_module": "@jupyter-widgets/base",
            "overflow": null,
            "_model_module_version": "1.2.0",
            "_view_count": null,
            "flex_flow": null,
            "width": null,
            "min_width": null,
            "border": null,
            "align_items": null,
            "bottom": null,
            "_model_module": "@jupyter-widgets/base",
            "top": null,
            "grid_column": null,
            "overflow_y": null,
            "overflow_x": null,
            "grid_auto_flow": null,
            "grid_area": null,
            "grid_template_columns": null,
            "flex": null,
            "_model_name": "LayoutModel",
            "justify_items": null,
            "grid_row": null,
            "max_height": null,
            "align_content": null,
            "visibility": null,
            "align_self": null,
            "height": null,
            "min_height": null,
            "padding": null,
            "grid_auto_rows": null,
            "grid_gap": null,
            "max_width": null,
            "order": null,
            "_view_module_version": "1.2.0",
            "grid_template_areas": null,
            "object_position": null,
            "object_fit": null,
            "grid_auto_columns": null,
            "margin": null,
            "display": null,
            "left": null
          }
        },
        "317654aa39544d5eae67adfa09b8c858": {
          "model_module": "@jupyter-widgets/controls",
          "model_name": "HBoxModel",
          "model_module_version": "1.5.0",
          "state": {
            "_view_name": "HBoxView",
            "_dom_classes": [],
            "_model_name": "HBoxModel",
            "_view_module": "@jupyter-widgets/controls",
            "_model_module_version": "1.5.0",
            "_view_count": null,
            "_view_module_version": "1.5.0",
            "box_style": "",
            "layout": "IPY_MODEL_6c10fbb4faae44b3b94c2f6f9452da7c",
            "_model_module": "@jupyter-widgets/controls",
            "children": [
              "IPY_MODEL_4afe69d93f6e456399cbfc9d6f63e894",
              "IPY_MODEL_bc49eb1e93f74224a277d846c7709832",
              "IPY_MODEL_450de3d6af3a46ea84e82f014814cdd3"
            ]
          }
        },
        "6c10fbb4faae44b3b94c2f6f9452da7c": {
          "model_module": "@jupyter-widgets/base",
          "model_name": "LayoutModel",
          "model_module_version": "1.2.0",
          "state": {
            "_view_name": "LayoutView",
            "grid_template_rows": null,
            "right": null,
            "justify_content": null,
            "_view_module": "@jupyter-widgets/base",
            "overflow": null,
            "_model_module_version": "1.2.0",
            "_view_count": null,
            "flex_flow": null,
            "width": null,
            "min_width": null,
            "border": null,
            "align_items": null,
            "bottom": null,
            "_model_module": "@jupyter-widgets/base",
            "top": null,
            "grid_column": null,
            "overflow_y": null,
            "overflow_x": null,
            "grid_auto_flow": null,
            "grid_area": null,
            "grid_template_columns": null,
            "flex": null,
            "_model_name": "LayoutModel",
            "justify_items": null,
            "grid_row": null,
            "max_height": null,
            "align_content": null,
            "visibility": null,
            "align_self": null,
            "height": null,
            "min_height": null,
            "padding": null,
            "grid_auto_rows": null,
            "grid_gap": null,
            "max_width": null,
            "order": null,
            "_view_module_version": "1.2.0",
            "grid_template_areas": null,
            "object_position": null,
            "object_fit": null,
            "grid_auto_columns": null,
            "margin": null,
            "display": null,
            "left": null
          }
        },
        "4afe69d93f6e456399cbfc9d6f63e894": {
          "model_module": "@jupyter-widgets/controls",
          "model_name": "HTMLModel",
          "model_module_version": "1.5.0",
          "state": {
            "_view_name": "HTMLView",
            "style": "IPY_MODEL_f8f15360a3a34d2c983624dd0f134331",
            "_dom_classes": [],
            "description": "",
            "_model_name": "HTMLModel",
            "placeholder": "​",
            "_view_module": "@jupyter-widgets/controls",
            "_model_module_version": "1.5.0",
            "value": "Downloading: 100%",
            "_view_count": null,
            "_view_module_version": "1.5.0",
            "description_tooltip": null,
            "_model_module": "@jupyter-widgets/controls",
            "layout": "IPY_MODEL_c002d079c19042d0921469a1dc8566f6"
          }
        },
        "bc49eb1e93f74224a277d846c7709832": {
          "model_module": "@jupyter-widgets/controls",
          "model_name": "FloatProgressModel",
          "model_module_version": "1.5.0",
          "state": {
            "_view_name": "ProgressView",
            "style": "IPY_MODEL_a8a2ff80b2ef4d7c968d458cdb2a327d",
            "_dom_classes": [],
            "description": "",
            "_model_name": "FloatProgressModel",
            "bar_style": "success",
            "max": 536063208,
            "_view_module": "@jupyter-widgets/controls",
            "_model_module_version": "1.5.0",
            "value": 536063208,
            "_view_count": null,
            "_view_module_version": "1.5.0",
            "orientation": "horizontal",
            "min": 0,
            "description_tooltip": null,
            "_model_module": "@jupyter-widgets/controls",
            "layout": "IPY_MODEL_9de1d42541664cb8b90a0b4e57c0db09"
          }
        },
        "450de3d6af3a46ea84e82f014814cdd3": {
          "model_module": "@jupyter-widgets/controls",
          "model_name": "HTMLModel",
          "model_module_version": "1.5.0",
          "state": {
            "_view_name": "HTMLView",
            "style": "IPY_MODEL_89b249109f904f46a5648f0d48c37869",
            "_dom_classes": [],
            "description": "",
            "_model_name": "HTMLModel",
            "placeholder": "​",
            "_view_module": "@jupyter-widgets/controls",
            "_model_module_version": "1.5.0",
            "value": " 511M/511M [00:18&lt;00:00, 31.4MB/s]",
            "_view_count": null,
            "_view_module_version": "1.5.0",
            "description_tooltip": null,
            "_model_module": "@jupyter-widgets/controls",
            "layout": "IPY_MODEL_5850b082f54f4750b07aded833f2fac4"
          }
        },
        "f8f15360a3a34d2c983624dd0f134331": {
          "model_module": "@jupyter-widgets/controls",
          "model_name": "DescriptionStyleModel",
          "model_module_version": "1.5.0",
          "state": {
            "_view_name": "StyleView",
            "_model_name": "DescriptionStyleModel",
            "description_width": "",
            "_view_module": "@jupyter-widgets/base",
            "_model_module_version": "1.5.0",
            "_view_count": null,
            "_view_module_version": "1.2.0",
            "_model_module": "@jupyter-widgets/controls"
          }
        },
        "c002d079c19042d0921469a1dc8566f6": {
          "model_module": "@jupyter-widgets/base",
          "model_name": "LayoutModel",
          "model_module_version": "1.2.0",
          "state": {
            "_view_name": "LayoutView",
            "grid_template_rows": null,
            "right": null,
            "justify_content": null,
            "_view_module": "@jupyter-widgets/base",
            "overflow": null,
            "_model_module_version": "1.2.0",
            "_view_count": null,
            "flex_flow": null,
            "width": null,
            "min_width": null,
            "border": null,
            "align_items": null,
            "bottom": null,
            "_model_module": "@jupyter-widgets/base",
            "top": null,
            "grid_column": null,
            "overflow_y": null,
            "overflow_x": null,
            "grid_auto_flow": null,
            "grid_area": null,
            "grid_template_columns": null,
            "flex": null,
            "_model_name": "LayoutModel",
            "justify_items": null,
            "grid_row": null,
            "max_height": null,
            "align_content": null,
            "visibility": null,
            "align_self": null,
            "height": null,
            "min_height": null,
            "padding": null,
            "grid_auto_rows": null,
            "grid_gap": null,
            "max_width": null,
            "order": null,
            "_view_module_version": "1.2.0",
            "grid_template_areas": null,
            "object_position": null,
            "object_fit": null,
            "grid_auto_columns": null,
            "margin": null,
            "display": null,
            "left": null
          }
        },
        "a8a2ff80b2ef4d7c968d458cdb2a327d": {
          "model_module": "@jupyter-widgets/controls",
          "model_name": "ProgressStyleModel",
          "model_module_version": "1.5.0",
          "state": {
            "_view_name": "StyleView",
            "_model_name": "ProgressStyleModel",
            "description_width": "",
            "_view_module": "@jupyter-widgets/base",
            "_model_module_version": "1.5.0",
            "_view_count": null,
            "_view_module_version": "1.2.0",
            "bar_color": null,
            "_model_module": "@jupyter-widgets/controls"
          }
        },
        "9de1d42541664cb8b90a0b4e57c0db09": {
          "model_module": "@jupyter-widgets/base",
          "model_name": "LayoutModel",
          "model_module_version": "1.2.0",
          "state": {
            "_view_name": "LayoutView",
            "grid_template_rows": null,
            "right": null,
            "justify_content": null,
            "_view_module": "@jupyter-widgets/base",
            "overflow": null,
            "_model_module_version": "1.2.0",
            "_view_count": null,
            "flex_flow": null,
            "width": null,
            "min_width": null,
            "border": null,
            "align_items": null,
            "bottom": null,
            "_model_module": "@jupyter-widgets/base",
            "top": null,
            "grid_column": null,
            "overflow_y": null,
            "overflow_x": null,
            "grid_auto_flow": null,
            "grid_area": null,
            "grid_template_columns": null,
            "flex": null,
            "_model_name": "LayoutModel",
            "justify_items": null,
            "grid_row": null,
            "max_height": null,
            "align_content": null,
            "visibility": null,
            "align_self": null,
            "height": null,
            "min_height": null,
            "padding": null,
            "grid_auto_rows": null,
            "grid_gap": null,
            "max_width": null,
            "order": null,
            "_view_module_version": "1.2.0",
            "grid_template_areas": null,
            "object_position": null,
            "object_fit": null,
            "grid_auto_columns": null,
            "margin": null,
            "display": null,
            "left": null
          }
        },
        "89b249109f904f46a5648f0d48c37869": {
          "model_module": "@jupyter-widgets/controls",
          "model_name": "DescriptionStyleModel",
          "model_module_version": "1.5.0",
          "state": {
            "_view_name": "StyleView",
            "_model_name": "DescriptionStyleModel",
            "description_width": "",
            "_view_module": "@jupyter-widgets/base",
            "_model_module_version": "1.5.0",
            "_view_count": null,
            "_view_module_version": "1.2.0",
            "_model_module": "@jupyter-widgets/controls"
          }
        },
        "5850b082f54f4750b07aded833f2fac4": {
          "model_module": "@jupyter-widgets/base",
          "model_name": "LayoutModel",
          "model_module_version": "1.2.0",
          "state": {
            "_view_name": "LayoutView",
            "grid_template_rows": null,
            "right": null,
            "justify_content": null,
            "_view_module": "@jupyter-widgets/base",
            "overflow": null,
            "_model_module_version": "1.2.0",
            "_view_count": null,
            "flex_flow": null,
            "width": null,
            "min_width": null,
            "border": null,
            "align_items": null,
            "bottom": null,
            "_model_module": "@jupyter-widgets/base",
            "top": null,
            "grid_column": null,
            "overflow_y": null,
            "overflow_x": null,
            "grid_auto_flow": null,
            "grid_area": null,
            "grid_template_columns": null,
            "flex": null,
            "_model_name": "LayoutModel",
            "justify_items": null,
            "grid_row": null,
            "max_height": null,
            "align_content": null,
            "visibility": null,
            "align_self": null,
            "height": null,
            "min_height": null,
            "padding": null,
            "grid_auto_rows": null,
            "grid_gap": null,
            "max_width": null,
            "order": null,
            "_view_module_version": "1.2.0",
            "grid_template_areas": null,
            "object_position": null,
            "object_fit": null,
            "grid_auto_columns": null,
            "margin": null,
            "display": null,
            "left": null
          }
        }
      }
    }
  },
  "cells": [
    {
      "cell_type": "markdown",
      "metadata": {
        "id": "view-in-github",
        "colab_type": "text"
      },
      "source": [
        "<a href=\"https://colab.research.google.com/github/Prakhar314/COL764-Project/blob/main/notebooks/pairwise_evaluate.ipynb\" target=\"_parent\"><img src=\"https://colab.research.google.com/assets/colab-badge.svg\" alt=\"Open In Colab\"/></a>"
      ]
    },
    {
      "cell_type": "code",
      "metadata": {
        "id": "dv_SVvXto1LR"
      },
      "source": [
        "import os\n",
        "import matplotlib.pyplot as plt\n",
        "import pandas as pd"
      ],
      "execution_count": 46,
      "outputs": []
    },
    {
      "cell_type": "code",
      "metadata": {
        "colab": {
          "base_uri": "https://localhost:8080/"
        },
        "id": "LPlkYCaWso8_",
        "outputId": "96e57c9c-3c0a-4d37-ba94-75d71b6ac248"
      },
      "source": [
        "!pip install transformers tensorflow-addons"
      ],
      "execution_count": 1,
      "outputs": [
        {
          "output_type": "stream",
          "name": "stdout",
          "text": [
            "Collecting transformers\n",
            "  Downloading transformers-4.12.5-py3-none-any.whl (3.1 MB)\n",
            "\u001b[K     |████████████████████████████████| 3.1 MB 5.4 MB/s \n",
            "\u001b[?25hCollecting tensorflow-addons\n",
            "  Downloading tensorflow_addons-0.15.0-cp37-cp37m-manylinux_2_12_x86_64.manylinux2010_x86_64.whl (1.1 MB)\n",
            "\u001b[K     |████████████████████████████████| 1.1 MB 34.3 MB/s \n",
            "\u001b[?25hCollecting huggingface-hub<1.0,>=0.1.0\n",
            "  Downloading huggingface_hub-0.1.2-py3-none-any.whl (59 kB)\n",
            "\u001b[K     |████████████████████████████████| 59 kB 5.8 MB/s \n",
            "\u001b[?25hRequirement already satisfied: numpy>=1.17 in /usr/local/lib/python3.7/dist-packages (from transformers) (1.19.5)\n",
            "Collecting tokenizers<0.11,>=0.10.1\n",
            "  Downloading tokenizers-0.10.3-cp37-cp37m-manylinux_2_5_x86_64.manylinux1_x86_64.manylinux_2_12_x86_64.manylinux2010_x86_64.whl (3.3 MB)\n",
            "\u001b[K     |████████████████████████████████| 3.3 MB 33.4 MB/s \n",
            "\u001b[?25hRequirement already satisfied: importlib-metadata in /usr/local/lib/python3.7/dist-packages (from transformers) (4.8.2)\n",
            "Requirement already satisfied: tqdm>=4.27 in /usr/local/lib/python3.7/dist-packages (from transformers) (4.62.3)\n",
            "Requirement already satisfied: requests in /usr/local/lib/python3.7/dist-packages (from transformers) (2.23.0)\n",
            "Requirement already satisfied: packaging>=20.0 in /usr/local/lib/python3.7/dist-packages (from transformers) (21.3)\n",
            "Requirement already satisfied: regex!=2019.12.17 in /usr/local/lib/python3.7/dist-packages (from transformers) (2019.12.20)\n",
            "Collecting sacremoses\n",
            "  Downloading sacremoses-0.0.46-py3-none-any.whl (895 kB)\n",
            "\u001b[K     |████████████████████████████████| 895 kB 31.4 MB/s \n",
            "\u001b[?25hRequirement already satisfied: filelock in /usr/local/lib/python3.7/dist-packages (from transformers) (3.4.0)\n",
            "Collecting pyyaml>=5.1\n",
            "  Downloading PyYAML-6.0-cp37-cp37m-manylinux_2_5_x86_64.manylinux1_x86_64.manylinux_2_12_x86_64.manylinux2010_x86_64.whl (596 kB)\n",
            "\u001b[K     |████████████████████████████████| 596 kB 33.6 MB/s \n",
            "\u001b[?25hRequirement already satisfied: typing-extensions>=3.7.4.3 in /usr/local/lib/python3.7/dist-packages (from huggingface-hub<1.0,>=0.1.0->transformers) (3.10.0.2)\n",
            "Requirement already satisfied: pyparsing!=3.0.5,>=2.0.2 in /usr/local/lib/python3.7/dist-packages (from packaging>=20.0->transformers) (3.0.6)\n",
            "Requirement already satisfied: typeguard>=2.7 in /usr/local/lib/python3.7/dist-packages (from tensorflow-addons) (2.7.1)\n",
            "Requirement already satisfied: zipp>=0.5 in /usr/local/lib/python3.7/dist-packages (from importlib-metadata->transformers) (3.6.0)\n",
            "Requirement already satisfied: idna<3,>=2.5 in /usr/local/lib/python3.7/dist-packages (from requests->transformers) (2.10)\n",
            "Requirement already satisfied: chardet<4,>=3.0.2 in /usr/local/lib/python3.7/dist-packages (from requests->transformers) (3.0.4)\n",
            "Requirement already satisfied: urllib3!=1.25.0,!=1.25.1,<1.26,>=1.21.1 in /usr/local/lib/python3.7/dist-packages (from requests->transformers) (1.24.3)\n",
            "Requirement already satisfied: certifi>=2017.4.17 in /usr/local/lib/python3.7/dist-packages (from requests->transformers) (2021.10.8)\n",
            "Requirement already satisfied: six in /usr/local/lib/python3.7/dist-packages (from sacremoses->transformers) (1.15.0)\n",
            "Requirement already satisfied: click in /usr/local/lib/python3.7/dist-packages (from sacremoses->transformers) (7.1.2)\n",
            "Requirement already satisfied: joblib in /usr/local/lib/python3.7/dist-packages (from sacremoses->transformers) (1.1.0)\n",
            "Installing collected packages: pyyaml, tokenizers, sacremoses, huggingface-hub, transformers, tensorflow-addons\n",
            "  Attempting uninstall: pyyaml\n",
            "    Found existing installation: PyYAML 3.13\n",
            "    Uninstalling PyYAML-3.13:\n",
            "      Successfully uninstalled PyYAML-3.13\n",
            "Successfully installed huggingface-hub-0.1.2 pyyaml-6.0 sacremoses-0.0.46 tensorflow-addons-0.15.0 tokenizers-0.10.3 transformers-4.12.5\n"
          ]
        }
      ]
    },
    {
      "cell_type": "code",
      "metadata": {
        "colab": {
          "base_uri": "https://localhost:8080/"
        },
        "id": "OGXBKO8Hi3Xv",
        "outputId": "2d082985-fc38-4701-de37-91e9f958c0ed"
      },
      "source": [
        "from google.colab import drive\n",
        "drive.mount('/content/gdrive')"
      ],
      "execution_count": 2,
      "outputs": [
        {
          "output_type": "stream",
          "name": "stdout",
          "text": [
            "Mounted at /content/gdrive\n"
          ]
        }
      ]
    },
    {
      "cell_type": "markdown",
      "metadata": {
        "id": "LFhXNsE5q0Go"
      },
      "source": [
        "### Model"
      ]
    },
    {
      "cell_type": "code",
      "metadata": {
        "id": "ghUElKIQs-HA"
      },
      "source": [
        "import transformers\n",
        "from transformers import BertTokenizer, BertConfig, TFBertModel\n",
        "import tensorflow as tf\n",
        "import tensorflow_addons as tfa"
      ],
      "execution_count": 3,
      "outputs": []
    },
    {
      "cell_type": "code",
      "metadata": {
        "id": "5JXknXB6s4iT",
        "colab": {
          "base_uri": "https://localhost:8080/",
          "height": 145,
          "referenced_widgets": [
            "2f34355c89e04c76a3c1f1055af07124",
            "63e0c95435d84ab5873c8896b3f4a274",
            "ad65fae2943c4c9ea488e726cab0e807",
            "65b07bb988354be48cd88def02f775f2",
            "09f31b645e3a4792acfca11fcc500166",
            "67ee5d020ad940c4acc713f7bc513a86",
            "dab2731059054153873b16d37824127c",
            "d3c4b5f7085b43979849f8c51e344599",
            "39ae7a65177c429ab6c276477c47e4ac",
            "37db3dac39db43fabfa193dff0aad76b",
            "571dc67fe3f648239296b17168a15ae7",
            "b32ce89b28924acf9956edd032a860e4",
            "559bd25ff9aa441cb4a7cff5e73ec388",
            "9454c67e59f740f9af95b7808a884aa1",
            "fd7589032012423eb8f438ff42dbac27",
            "cb79c7c2d5c84c748bea0775ee5ba134",
            "d8833a1671414aa49d534a0daf5ab2c7",
            "454e7093ba2546d4bc57823b5ae4f84c",
            "aec138e872d64cc2bf378b27c2168de9",
            "62ddb126ee664598bc49cd935766f1f3",
            "3b8e54039ca248d1b087726c5f757577",
            "2f061ed7279b4951afc77f0bd90c35a2",
            "12a3bf0c2cbe4810a6ef3a000b7c1d0a",
            "b4b5d0e6366e4a43a3e9b255e0cb2b88",
            "b2a97e70e2c94b7abd421524a4f9dc1b",
            "45fb1d824ac44141ad4450764c33c19b",
            "7b8512516a244d4d9dd594d1cf3198ce",
            "c108c7d6622a4efd9f3e7260d43871cb",
            "a120cb9d815843bab48a06f6c2d1e981",
            "3b7d50709d2f4831ae18f0d495e00b03",
            "ab9ce55bd87f4bb2b0d8eafcf7c3c094",
            "5e278ca5fe9f45db928f0b2046a35264",
            "b449b15545544eb59359116785e8a51f",
            "fb0ddb6dd2c8482ea7484b4760744d0b",
            "3f976ac2121d46f59c099ea3f3793f22",
            "58d98c08718f4dbbb6df85dc8d92a09e",
            "12d75030b2e74fd2a9fa46aec96d7dd9",
            "34434f475ca54c77965373705ad1d323",
            "5a111b8443bd417c880c50ab0392acb2",
            "1a9210279fb24a5ba6053e270bd9b794",
            "af9fd8ca61694a1081a6b8e1f13034c8",
            "6c801f7d7056469f81f48f349818b89e",
            "97bb8f4ea96d4f748f2e8422865e6813",
            "0b7326e08f4240b1bcf9d600a8afdd6b"
          ]
        },
        "outputId": "331a9d09-b623-45af-dfe0-afcd7bd7b6db"
      },
      "source": [
        "bert_model_name = 'bert-base-uncased'\n",
        "tokenizer = BertTokenizer.from_pretrained(bert_model_name)"
      ],
      "execution_count": 4,
      "outputs": [
        {
          "output_type": "display_data",
          "data": {
            "application/vnd.jupyter.widget-view+json": {
              "model_id": "2f34355c89e04c76a3c1f1055af07124",
              "version_minor": 0,
              "version_major": 2
            },
            "text/plain": [
              "Downloading:   0%|          | 0.00/226k [00:00<?, ?B/s]"
            ]
          },
          "metadata": {}
        },
        {
          "output_type": "display_data",
          "data": {
            "application/vnd.jupyter.widget-view+json": {
              "model_id": "b32ce89b28924acf9956edd032a860e4",
              "version_minor": 0,
              "version_major": 2
            },
            "text/plain": [
              "Downloading:   0%|          | 0.00/28.0 [00:00<?, ?B/s]"
            ]
          },
          "metadata": {}
        },
        {
          "output_type": "display_data",
          "data": {
            "application/vnd.jupyter.widget-view+json": {
              "model_id": "12a3bf0c2cbe4810a6ef3a000b7c1d0a",
              "version_minor": 0,
              "version_major": 2
            },
            "text/plain": [
              "Downloading:   0%|          | 0.00/455k [00:00<?, ?B/s]"
            ]
          },
          "metadata": {}
        },
        {
          "output_type": "display_data",
          "data": {
            "application/vnd.jupyter.widget-view+json": {
              "model_id": "fb0ddb6dd2c8482ea7484b4760744d0b",
              "version_minor": 0,
              "version_major": 2
            },
            "text/plain": [
              "Downloading:   0%|          | 0.00/570 [00:00<?, ?B/s]"
            ]
          },
          "metadata": {}
        }
      ]
    },
    {
      "cell_type": "markdown",
      "metadata": {
        "id": "bFtNTKAoq5gQ"
      },
      "source": [
        "#### Pointwise"
      ]
    },
    {
      "cell_type": "code",
      "metadata": {
        "id": "XA9HvTqzqzx5"
      },
      "source": [
        "def create_inputs(num_nodes,name):\n",
        "  layers = []\n",
        "  for layer_name in ['input_ids','token_type_ids','attention_mask']:\n",
        "    layers.append(tf.keras.layers.Input(shape=(num_nodes,),dtype=tf.int32,name=layer_name+f'_{name}'))\n",
        "  return layers\n",
        "\n",
        "def create_model_pairwise(output_bias=None):\n",
        "    if output_bias is not None:\n",
        "      output_bias = tf.keras.initializers.Constant(output_bias)\n",
        "    config = BertConfig(hidden_dropout_prob=0.1)\n",
        "    bert = TFBertModel.from_pretrained(bert_model_name,config=config)\n",
        "    bert.save_pretrained('./bert-model/')\n",
        "    for layer in bert.layers[:]:\n",
        "      if isinstance(layer, transformers.models.bert.modeling_tf_bert.TFBertMainLayer):\n",
        "        layer.embeddings.trainable=False\n",
        "        layer.pooler.trainable=False\n",
        "        for idx, layer in enumerate(layer.encoder.layer):\n",
        "            # print(layer)\n",
        "            # freeze first 10\n",
        "            if idx in range(10):\n",
        "                layer.trainable = False\n",
        "      else:\n",
        "        layer.trainable = False\n",
        "              \n",
        "    input_1 = create_inputs(512,'pair_1')\n",
        "    input_2 = create_inputs(512,'pair_2')\n",
        "    bert_out_1 = bert(input_1).last_hidden_state\n",
        "    bert_out_2 = bert(input_2).last_hidden_state\n",
        "    cls_1 = tf.keras.layers.Lambda(lambda x:x[:,0,:])(bert_out_1)\n",
        "    cls_2 = tf.keras.layers.Lambda(lambda x:x[:,0,:])(bert_out_2)\n",
        "    concated = tf.keras.layers.Concatenate()([cls_1,cls_2])\n",
        "    # print(avg_q.shape)\n",
        "    output = tf.keras.layers.Dense(1, activation=\"sigmoid\",bias_initializer=output_bias)(concated)\n",
        "    model = tf.keras.models.Model(inputs=[input_1,input_2], outputs=[output])\n",
        "    # opt,schedule = transformers.create_optimizer(num_train_steps=num_train_steps,init_lr=3e-5,adam_beta1=0.9,adam_beta2=0.999,weight_decay_rate=0.01,num_warmup_steps=num_train_steps//10)\n",
        "    opt = tfa.optimizers.RectifiedAdam(learning_rate=3e-5)\n",
        "    model.compile(optimizer=opt,\n",
        "              loss=tf.keras.losses.BinaryCrossentropy(),\n",
        "              metrics=[tf.keras.metrics.BinaryAccuracy(),\n",
        "                       tf.keras.metrics.AUC(curve=\"ROC\")])\n",
        "    model.summary()\n",
        "    return model"
      ],
      "execution_count": 5,
      "outputs": []
    },
    {
      "cell_type": "markdown",
      "metadata": {
        "id": "SahKPvzNrEnm"
      },
      "source": [
        "#### Load Weights"
      ]
    },
    {
      "cell_type": "code",
      "metadata": {
        "colab": {
          "base_uri": "https://localhost:8080/",
          "height": 1000,
          "referenced_widgets": [
            "317654aa39544d5eae67adfa09b8c858",
            "6c10fbb4faae44b3b94c2f6f9452da7c",
            "4afe69d93f6e456399cbfc9d6f63e894",
            "bc49eb1e93f74224a277d846c7709832",
            "450de3d6af3a46ea84e82f014814cdd3",
            "f8f15360a3a34d2c983624dd0f134331",
            "c002d079c19042d0921469a1dc8566f6",
            "a8a2ff80b2ef4d7c968d458cdb2a327d",
            "9de1d42541664cb8b90a0b4e57c0db09",
            "89b249109f904f46a5648f0d48c37869",
            "5850b082f54f4750b07aded833f2fac4"
          ]
        },
        "id": "50K2k5PKq8Tt",
        "outputId": "c5ca3e4b-98ac-41e5-c9cc-1e4eb7507b8f"
      },
      "source": [
        "model = create_model_pairwise()"
      ],
      "execution_count": 6,
      "outputs": [
        {
          "output_type": "display_data",
          "data": {
            "application/vnd.jupyter.widget-view+json": {
              "model_id": "317654aa39544d5eae67adfa09b8c858",
              "version_minor": 0,
              "version_major": 2
            },
            "text/plain": [
              "Downloading:   0%|          | 0.00/511M [00:00<?, ?B/s]"
            ]
          },
          "metadata": {}
        },
        {
          "output_type": "stream",
          "name": "stderr",
          "text": [
            "Some layers from the model checkpoint at bert-base-uncased were not used when initializing TFBertModel: ['nsp___cls', 'mlm___cls']\n",
            "- This IS expected if you are initializing TFBertModel from the checkpoint of a model trained on another task or with another architecture (e.g. initializing a BertForSequenceClassification model from a BertForPreTraining model).\n",
            "- This IS NOT expected if you are initializing TFBertModel from the checkpoint of a model that you expect to be exactly identical (initializing a BertForSequenceClassification model from a BertForSequenceClassification model).\n",
            "All the layers of TFBertModel were initialized from the model checkpoint at bert-base-uncased.\n",
            "If your task is similar to the task the model of the checkpoint was trained on, you can already use TFBertModel for predictions without further training.\n"
          ]
        },
        {
          "output_type": "stream",
          "name": "stdout",
          "text": [
            "Model: \"model\"\n",
            "__________________________________________________________________________________________________\n",
            " Layer (type)                   Output Shape         Param #     Connected to                     \n",
            "==================================================================================================\n",
            " input_ids_pair_1 (InputLayer)  [(None, 512)]        0           []                               \n",
            "                                                                                                  \n",
            " token_type_ids_pair_1 (InputLa  [(None, 512)]       0           []                               \n",
            " yer)                                                                                             \n",
            "                                                                                                  \n",
            " attention_mask_pair_1 (InputLa  [(None, 512)]       0           []                               \n",
            " yer)                                                                                             \n",
            "                                                                                                  \n",
            " input_ids_pair_2 (InputLayer)  [(None, 512)]        0           []                               \n",
            "                                                                                                  \n",
            " token_type_ids_pair_2 (InputLa  [(None, 512)]       0           []                               \n",
            " yer)                                                                                             \n",
            "                                                                                                  \n",
            " attention_mask_pair_2 (InputLa  [(None, 512)]       0           []                               \n",
            " yer)                                                                                             \n",
            "                                                                                                  \n",
            " tf_bert_model (TFBertModel)    TFBaseModelOutputWi  109482240   ['input_ids_pair_1[0][0]',       \n",
            "                                thPoolingAndCrossAt               'token_type_ids_pair_1[0][0]',  \n",
            "                                tentions(last_hidde               'attention_mask_pair_1[0][0]',  \n",
            "                                n_state=(None, 512,               'input_ids_pair_2[0][0]',       \n",
            "                                 768),                            'token_type_ids_pair_2[0][0]',  \n",
            "                                 pooler_output=(Non               'attention_mask_pair_2[0][0]']  \n",
            "                                e, 768),                                                          \n",
            "                                 past_key_values=No                                               \n",
            "                                ne, hidden_states=N                                               \n",
            "                                one, attentions=Non                                               \n",
            "                                e, cross_attentions                                               \n",
            "                                =None)                                                            \n",
            "                                                                                                  \n",
            " lambda (Lambda)                (None, 768)          0           ['tf_bert_model[0][0]']          \n",
            "                                                                                                  \n",
            " lambda_1 (Lambda)              (None, 768)          0           ['tf_bert_model[1][0]']          \n",
            "                                                                                                  \n",
            " concatenate (Concatenate)      (None, 1536)         0           ['lambda[0][0]',                 \n",
            "                                                                  'lambda_1[0][0]']               \n",
            "                                                                                                  \n",
            " dense (Dense)                  (None, 1)            1537        ['concatenate[0][0]']            \n",
            "                                                                                                  \n",
            "==================================================================================================\n",
            "Total params: 109,483,777\n",
            "Trainable params: 14,177,281\n",
            "Non-trainable params: 95,306,496\n",
            "__________________________________________________________________________________________________\n"
          ]
        }
      ]
    },
    {
      "cell_type": "code",
      "metadata": {
        "id": "zM0fYgcDrHki"
      },
      "source": [
        "model.load_weights(\"/content/gdrive/MyDrive/col764/pairwise_best_model_freeze10.h5\")"
      ],
      "execution_count": 7,
      "outputs": []
    },
    {
      "cell_type": "markdown",
      "metadata": {
        "id": "OXj5jjvtypXN"
      },
      "source": [
        "### Load Data"
      ]
    },
    {
      "cell_type": "code",
      "metadata": {
        "id": "Z9jr0VwKyr9M"
      },
      "source": [
        "!tar -zxf /content/gdrive/MyDrive/col764/output_qrel_only.tar.gz"
      ],
      "execution_count": 8,
      "outputs": []
    },
    {
      "cell_type": "code",
      "metadata": {
        "colab": {
          "base_uri": "https://localhost:8080/"
        },
        "id": "wiC2z3cEzunN",
        "outputId": "4870e103-665e-4f9d-9105-a1976fa85cdf"
      },
      "source": [
        "!ls /content/gdrive/MyDrive/col764/results"
      ],
      "execution_count": 9,
      "outputs": [
        {
          "output_type": "stream",
          "name": "stdout",
          "text": [
            "run.desc.test.txt   run.query.test.txt\t\t run.query.train.txt\n",
            "run.desc.train.txt  run.query.test.txt.reranked\n"
          ]
        }
      ]
    },
    {
      "cell_type": "code",
      "metadata": {
        "id": "15BXOVJmy-bw"
      },
      "source": [
        ""
      ],
      "execution_count": 10,
      "outputs": []
    },
    {
      "cell_type": "code",
      "metadata": {
        "id": "ddpYshepzloJ"
      },
      "source": [
        ""
      ],
      "execution_count": 11,
      "outputs": []
    },
    {
      "cell_type": "code",
      "metadata": {
        "id": "P9E_WRl42iJU"
      },
      "source": [
        "query_file = '/content/gdrive/MyDrive/col764/queries/podcasts_2020_topics_test_query.tsv'"
      ],
      "execution_count": 12,
      "outputs": []
    },
    {
      "cell_type": "code",
      "metadata": {
        "id": "-_yQVvwADFuy"
      },
      "source": [
        "queries = pd.read_csv(query_file,sep='\\t',header=None)\n",
        "queries.columns = ['qnum','query']"
      ],
      "execution_count": 13,
      "outputs": []
    },
    {
      "cell_type": "code",
      "metadata": {
        "colab": {
          "base_uri": "https://localhost:8080/",
          "height": 1000
        },
        "id": "GUfHTuZJDM5N",
        "outputId": "59da0660-a60e-488b-dff8-142c05eec8fb"
      },
      "source": [
        "queries"
      ],
      "execution_count": 14,
      "outputs": [
        {
          "output_type": "execute_result",
          "data": {
            "text/html": [
              "<div>\n",
              "<style scoped>\n",
              "    .dataframe tbody tr th:only-of-type {\n",
              "        vertical-align: middle;\n",
              "    }\n",
              "\n",
              "    .dataframe tbody tr th {\n",
              "        vertical-align: top;\n",
              "    }\n",
              "\n",
              "    .dataframe thead th {\n",
              "        text-align: right;\n",
              "    }\n",
              "</style>\n",
              "<table border=\"1\" class=\"dataframe\">\n",
              "  <thead>\n",
              "    <tr style=\"text-align: right;\">\n",
              "      <th></th>\n",
              "      <th>qnum</th>\n",
              "      <th>query</th>\n",
              "    </tr>\n",
              "  </thead>\n",
              "  <tbody>\n",
              "    <tr>\n",
              "      <th>0</th>\n",
              "      <td>9</td>\n",
              "      <td>trump call ukrainian president</td>\n",
              "    </tr>\n",
              "    <tr>\n",
              "      <th>1</th>\n",
              "      <td>10</td>\n",
              "      <td>boeing 737 crash causes</td>\n",
              "    </tr>\n",
              "    <tr>\n",
              "      <th>2</th>\n",
              "      <td>11</td>\n",
              "      <td>how to cook turkey</td>\n",
              "    </tr>\n",
              "    <tr>\n",
              "      <th>3</th>\n",
              "      <td>12</td>\n",
              "      <td>imran khan career</td>\n",
              "    </tr>\n",
              "    <tr>\n",
              "      <th>4</th>\n",
              "      <td>13</td>\n",
              "      <td>drug addiction recovery</td>\n",
              "    </tr>\n",
              "    <tr>\n",
              "      <th>5</th>\n",
              "      <td>14</td>\n",
              "      <td>near death experiences</td>\n",
              "    </tr>\n",
              "    <tr>\n",
              "      <th>6</th>\n",
              "      <td>15</td>\n",
              "      <td>podcast about podcasts</td>\n",
              "    </tr>\n",
              "    <tr>\n",
              "      <th>7</th>\n",
              "      <td>16</td>\n",
              "      <td>causes and prevention of wildfires</td>\n",
              "    </tr>\n",
              "    <tr>\n",
              "      <th>8</th>\n",
              "      <td>17</td>\n",
              "      <td>time between meetings</td>\n",
              "    </tr>\n",
              "    <tr>\n",
              "      <th>9</th>\n",
              "      <td>18</td>\n",
              "      <td>women in stem</td>\n",
              "    </tr>\n",
              "    <tr>\n",
              "      <th>10</th>\n",
              "      <td>19</td>\n",
              "      <td>ai in healthcare</td>\n",
              "    </tr>\n",
              "    <tr>\n",
              "      <th>11</th>\n",
              "      <td>20</td>\n",
              "      <td>cost of childcare</td>\n",
              "    </tr>\n",
              "    <tr>\n",
              "      <th>12</th>\n",
              "      <td>21</td>\n",
              "      <td>juneteenth</td>\n",
              "    </tr>\n",
              "    <tr>\n",
              "      <th>13</th>\n",
              "      <td>22</td>\n",
              "      <td>chernobyl hbo</td>\n",
              "    </tr>\n",
              "    <tr>\n",
              "      <th>14</th>\n",
              "      <td>23</td>\n",
              "      <td>notre dame fire</td>\n",
              "    </tr>\n",
              "    <tr>\n",
              "      <th>15</th>\n",
              "      <td>24</td>\n",
              "      <td>france yellow vest protests</td>\n",
              "    </tr>\n",
              "    <tr>\n",
              "      <th>16</th>\n",
              "      <td>25</td>\n",
              "      <td>black lives matter</td>\n",
              "    </tr>\n",
              "    <tr>\n",
              "      <th>17</th>\n",
              "      <td>26</td>\n",
              "      <td>bob woodward</td>\n",
              "    </tr>\n",
              "    <tr>\n",
              "      <th>18</th>\n",
              "      <td>27</td>\n",
              "      <td>civil rights protest stories</td>\n",
              "    </tr>\n",
              "    <tr>\n",
              "      <th>19</th>\n",
              "      <td>28</td>\n",
              "      <td>yo-yo dieting</td>\n",
              "    </tr>\n",
              "    <tr>\n",
              "      <th>20</th>\n",
              "      <td>29</td>\n",
              "      <td>racism in canada</td>\n",
              "    </tr>\n",
              "    <tr>\n",
              "      <th>21</th>\n",
              "      <td>30</td>\n",
              "      <td>motherhood</td>\n",
              "    </tr>\n",
              "    <tr>\n",
              "      <th>22</th>\n",
              "      <td>31</td>\n",
              "      <td>horoscope reading cancer</td>\n",
              "    </tr>\n",
              "    <tr>\n",
              "      <th>23</th>\n",
              "      <td>32</td>\n",
              "      <td>giants game december 22</td>\n",
              "    </tr>\n",
              "    <tr>\n",
              "      <th>24</th>\n",
              "      <td>33</td>\n",
              "      <td>hvac industry environmentalism</td>\n",
              "    </tr>\n",
              "    <tr>\n",
              "      <th>25</th>\n",
              "      <td>34</td>\n",
              "      <td>halloween stories and chat</td>\n",
              "    </tr>\n",
              "    <tr>\n",
              "      <th>26</th>\n",
              "      <td>35</td>\n",
              "      <td>living debt free</td>\n",
              "    </tr>\n",
              "    <tr>\n",
              "      <th>27</th>\n",
              "      <td>36</td>\n",
              "      <td>cryptocurrency risks</td>\n",
              "    </tr>\n",
              "    <tr>\n",
              "      <th>28</th>\n",
              "      <td>37</td>\n",
              "      <td>slow travel</td>\n",
              "    </tr>\n",
              "    <tr>\n",
              "      <th>29</th>\n",
              "      <td>38</td>\n",
              "      <td>workplace diversity</td>\n",
              "    </tr>\n",
              "    <tr>\n",
              "      <th>30</th>\n",
              "      <td>39</td>\n",
              "      <td>social media marketing</td>\n",
              "    </tr>\n",
              "    <tr>\n",
              "      <th>31</th>\n",
              "      <td>40</td>\n",
              "      <td>bees dying</td>\n",
              "    </tr>\n",
              "    <tr>\n",
              "      <th>32</th>\n",
              "      <td>41</td>\n",
              "      <td>gmo food labeling</td>\n",
              "    </tr>\n",
              "    <tr>\n",
              "      <th>33</th>\n",
              "      <td>42</td>\n",
              "      <td>fyre festival</td>\n",
              "    </tr>\n",
              "    <tr>\n",
              "      <th>34</th>\n",
              "      <td>43</td>\n",
              "      <td>hong kong protests</td>\n",
              "    </tr>\n",
              "    <tr>\n",
              "      <th>35</th>\n",
              "      <td>44</td>\n",
              "      <td>thanksgiving comedy special</td>\n",
              "    </tr>\n",
              "    <tr>\n",
              "      <th>36</th>\n",
              "      <td>45</td>\n",
              "      <td>drafting tight ends</td>\n",
              "    </tr>\n",
              "    <tr>\n",
              "      <th>37</th>\n",
              "      <td>46</td>\n",
              "      <td>missouri quilt mom</td>\n",
              "    </tr>\n",
              "    <tr>\n",
              "      <th>38</th>\n",
              "      <td>47</td>\n",
              "      <td>sci-fi author interview mars</td>\n",
              "    </tr>\n",
              "    <tr>\n",
              "      <th>39</th>\n",
              "      <td>48</td>\n",
              "      <td>spike lee movie score</td>\n",
              "    </tr>\n",
              "    <tr>\n",
              "      <th>40</th>\n",
              "      <td>49</td>\n",
              "      <td>thrift store smell</td>\n",
              "    </tr>\n",
              "    <tr>\n",
              "      <th>41</th>\n",
              "      <td>50</td>\n",
              "      <td>coast guard coxswain</td>\n",
              "    </tr>\n",
              "    <tr>\n",
              "      <th>42</th>\n",
              "      <td>51</td>\n",
              "      <td>queer eye veteran</td>\n",
              "    </tr>\n",
              "    <tr>\n",
              "      <th>43</th>\n",
              "      <td>52</td>\n",
              "      <td>fauci interview</td>\n",
              "    </tr>\n",
              "    <tr>\n",
              "      <th>44</th>\n",
              "      <td>53</td>\n",
              "      <td>recommended books for entrepreneurs</td>\n",
              "    </tr>\n",
              "    <tr>\n",
              "      <th>45</th>\n",
              "      <td>54</td>\n",
              "      <td>bias in college admissions</td>\n",
              "    </tr>\n",
              "    <tr>\n",
              "      <th>46</th>\n",
              "      <td>55</td>\n",
              "      <td>malcolm x biography</td>\n",
              "    </tr>\n",
              "    <tr>\n",
              "      <th>47</th>\n",
              "      <td>56</td>\n",
              "      <td>gaslighting</td>\n",
              "    </tr>\n",
              "    <tr>\n",
              "      <th>48</th>\n",
              "      <td>57</td>\n",
              "      <td>nefertiti</td>\n",
              "    </tr>\n",
              "    <tr>\n",
              "      <th>49</th>\n",
              "      <td>58</td>\n",
              "      <td>sam bush interview</td>\n",
              "    </tr>\n",
              "  </tbody>\n",
              "</table>\n",
              "</div>"
            ],
            "text/plain": [
              "    qnum                                query\n",
              "0      9       trump call ukrainian president\n",
              "1     10              boeing 737 crash causes\n",
              "2     11                   how to cook turkey\n",
              "3     12                    imran khan career\n",
              "4     13              drug addiction recovery\n",
              "5     14               near death experiences\n",
              "6     15               podcast about podcasts\n",
              "7     16   causes and prevention of wildfires\n",
              "8     17                time between meetings\n",
              "9     18                        women in stem\n",
              "10    19                     ai in healthcare\n",
              "11    20                    cost of childcare\n",
              "12    21                           juneteenth\n",
              "13    22                        chernobyl hbo\n",
              "14    23                      notre dame fire\n",
              "15    24          france yellow vest protests\n",
              "16    25                   black lives matter\n",
              "17    26                         bob woodward\n",
              "18    27         civil rights protest stories\n",
              "19    28                        yo-yo dieting\n",
              "20    29                     racism in canada\n",
              "21    30                           motherhood\n",
              "22    31             horoscope reading cancer\n",
              "23    32              giants game december 22\n",
              "24    33       hvac industry environmentalism\n",
              "25    34           halloween stories and chat\n",
              "26    35                     living debt free\n",
              "27    36                 cryptocurrency risks\n",
              "28    37                          slow travel\n",
              "29    38                  workplace diversity\n",
              "30    39               social media marketing\n",
              "31    40                           bees dying\n",
              "32    41                    gmo food labeling\n",
              "33    42                        fyre festival\n",
              "34    43                   hong kong protests\n",
              "35    44          thanksgiving comedy special\n",
              "36    45                  drafting tight ends\n",
              "37    46                   missouri quilt mom\n",
              "38    47         sci-fi author interview mars\n",
              "39    48                spike lee movie score\n",
              "40    49                   thrift store smell\n",
              "41    50                 coast guard coxswain\n",
              "42    51                    queer eye veteran\n",
              "43    52                      fauci interview\n",
              "44    53  recommended books for entrepreneurs\n",
              "45    54           bias in college admissions\n",
              "46    55                  malcolm x biography\n",
              "47    56                          gaslighting\n",
              "48    57                            nefertiti\n",
              "49    58                   sam bush interview"
            ]
          },
          "metadata": {},
          "execution_count": 14
        }
      ]
    },
    {
      "cell_type": "code",
      "metadata": {
        "id": "i0-ku5woz3qf"
      },
      "source": [
        "results_file = '/content/gdrive/MyDrive/col764/results/run.query.test.txt'"
      ],
      "execution_count": 15,
      "outputs": []
    },
    {
      "cell_type": "code",
      "metadata": {
        "id": "bZNjSKORzq1a"
      },
      "source": [
        "bm25_ranks = pd.read_csv(results_file,sep=' ',header=None)\n",
        "bm25_ranks.columns = ['qnum','qid','epid','rank','score','runid']"
      ],
      "execution_count": 16,
      "outputs": []
    },
    {
      "cell_type": "code",
      "metadata": {
        "colab": {
          "base_uri": "https://localhost:8080/",
          "height": 443
        },
        "id": "BAql2YMV0ENg",
        "outputId": "79ff8457-1fe0-406e-e59f-f4daf1dbaf1c"
      },
      "source": [
        "bm25_ranks"
      ],
      "execution_count": 17,
      "outputs": [
        {
          "output_type": "execute_result",
          "data": {
            "text/html": [
              "<div>\n",
              "<style scoped>\n",
              "    .dataframe tbody tr th:only-of-type {\n",
              "        vertical-align: middle;\n",
              "    }\n",
              "\n",
              "    .dataframe tbody tr th {\n",
              "        vertical-align: top;\n",
              "    }\n",
              "\n",
              "    .dataframe thead th {\n",
              "        text-align: right;\n",
              "    }\n",
              "</style>\n",
              "<table border=\"1\" class=\"dataframe\">\n",
              "  <thead>\n",
              "    <tr style=\"text-align: right;\">\n",
              "      <th></th>\n",
              "      <th>qnum</th>\n",
              "      <th>qid</th>\n",
              "      <th>epid</th>\n",
              "      <th>rank</th>\n",
              "      <th>score</th>\n",
              "      <th>runid</th>\n",
              "    </tr>\n",
              "  </thead>\n",
              "  <tbody>\n",
              "    <tr>\n",
              "      <th>0</th>\n",
              "      <td>9</td>\n",
              "      <td>Q0</td>\n",
              "      <td>spotify:episode:6O8djf3RL94yNfaoWqvk3r_840.0</td>\n",
              "      <td>1</td>\n",
              "      <td>16.569401</td>\n",
              "      <td>Anserini</td>\n",
              "    </tr>\n",
              "    <tr>\n",
              "      <th>1</th>\n",
              "      <td>9</td>\n",
              "      <td>Q0</td>\n",
              "      <td>spotify:episode:3gJ0fBXYRryWAjgwxY4q6C_240.0</td>\n",
              "      <td>2</td>\n",
              "      <td>16.302999</td>\n",
              "      <td>Anserini</td>\n",
              "    </tr>\n",
              "    <tr>\n",
              "      <th>2</th>\n",
              "      <td>9</td>\n",
              "      <td>Q0</td>\n",
              "      <td>spotify:episode:6svv5L5kRn8groSsM8gkpc_3180.0</td>\n",
              "      <td>3</td>\n",
              "      <td>15.984800</td>\n",
              "      <td>Anserini</td>\n",
              "    </tr>\n",
              "    <tr>\n",
              "      <th>3</th>\n",
              "      <td>9</td>\n",
              "      <td>Q0</td>\n",
              "      <td>spotify:episode:4JqqVFhNjtlwoIMl5tvL8R_780.0</td>\n",
              "      <td>4</td>\n",
              "      <td>15.275800</td>\n",
              "      <td>Anserini</td>\n",
              "    </tr>\n",
              "    <tr>\n",
              "      <th>4</th>\n",
              "      <td>9</td>\n",
              "      <td>Q0</td>\n",
              "      <td>spotify:episode:3gJ0fBXYRryWAjgwxY4q6C_0.0</td>\n",
              "      <td>5</td>\n",
              "      <td>14.734600</td>\n",
              "      <td>Anserini</td>\n",
              "    </tr>\n",
              "    <tr>\n",
              "      <th>...</th>\n",
              "      <td>...</td>\n",
              "      <td>...</td>\n",
              "      <td>...</td>\n",
              "      <td>...</td>\n",
              "      <td>...</td>\n",
              "      <td>...</td>\n",
              "    </tr>\n",
              "    <tr>\n",
              "      <th>47753</th>\n",
              "      <td>58</td>\n",
              "      <td>Q0</td>\n",
              "      <td>spotify:episode:30j4F0dABykbXJuGevrfNB_1920.0</td>\n",
              "      <td>996</td>\n",
              "      <td>4.663695</td>\n",
              "      <td>Anserini</td>\n",
              "    </tr>\n",
              "    <tr>\n",
              "      <th>47754</th>\n",
              "      <td>58</td>\n",
              "      <td>Q0</td>\n",
              "      <td>spotify:episode:3ALoC0SU00c8RtxQHohesZ_1440.0</td>\n",
              "      <td>997</td>\n",
              "      <td>4.663694</td>\n",
              "      <td>Anserini</td>\n",
              "    </tr>\n",
              "    <tr>\n",
              "      <th>47755</th>\n",
              "      <td>58</td>\n",
              "      <td>Q0</td>\n",
              "      <td>spotify:episode:3ALoC0SU00c8RtxQHohesZ_420.0</td>\n",
              "      <td>998</td>\n",
              "      <td>4.663693</td>\n",
              "      <td>Anserini</td>\n",
              "    </tr>\n",
              "    <tr>\n",
              "      <th>47756</th>\n",
              "      <td>58</td>\n",
              "      <td>Q0</td>\n",
              "      <td>spotify:episode:3bieaciVail62osQ0YC8JE_1380.0</td>\n",
              "      <td>999</td>\n",
              "      <td>4.663692</td>\n",
              "      <td>Anserini</td>\n",
              "    </tr>\n",
              "    <tr>\n",
              "      <th>47757</th>\n",
              "      <td>58</td>\n",
              "      <td>Q0</td>\n",
              "      <td>spotify:episode:46C2ViLe0XIWBxQEIW0RpM_1020.0</td>\n",
              "      <td>1000</td>\n",
              "      <td>4.663691</td>\n",
              "      <td>Anserini</td>\n",
              "    </tr>\n",
              "  </tbody>\n",
              "</table>\n",
              "<p>47758 rows × 6 columns</p>\n",
              "</div>"
            ],
            "text/plain": [
              "       qnum qid  ...      score     runid\n",
              "0         9  Q0  ...  16.569401  Anserini\n",
              "1         9  Q0  ...  16.302999  Anserini\n",
              "2         9  Q0  ...  15.984800  Anserini\n",
              "3         9  Q0  ...  15.275800  Anserini\n",
              "4         9  Q0  ...  14.734600  Anserini\n",
              "...     ...  ..  ...        ...       ...\n",
              "47753    58  Q0  ...   4.663695  Anserini\n",
              "47754    58  Q0  ...   4.663694  Anserini\n",
              "47755    58  Q0  ...   4.663693  Anserini\n",
              "47756    58  Q0  ...   4.663692  Anserini\n",
              "47757    58  Q0  ...   4.663691  Anserini\n",
              "\n",
              "[47758 rows x 6 columns]"
            ]
          },
          "metadata": {},
          "execution_count": 17
        }
      ]
    },
    {
      "cell_type": "code",
      "metadata": {
        "id": "BHJG1JotK9PX"
      },
      "source": [
        "bm25_ranks = bm25_ranks[bm25_ranks['rank']<21].reset_index(drop=True)"
      ],
      "execution_count": 18,
      "outputs": []
    },
    {
      "cell_type": "code",
      "metadata": {
        "id": "6JdrhHAJ0tc7"
      },
      "source": [
        "episode_contents = {k:None for k in bm25_ranks.epid.unique()}"
      ],
      "execution_count": 19,
      "outputs": []
    },
    {
      "cell_type": "code",
      "metadata": {
        "colab": {
          "base_uri": "https://localhost:8080/"
        },
        "id": "_XH7UC2N161K",
        "outputId": "07f7aeea-4ca2-4fac-a9a5-be57f52d167d"
      },
      "source": [
        "!ls /content/"
      ],
      "execution_count": 20,
      "outputs": [
        {
          "output_type": "stream",
          "name": "stdout",
          "text": [
            "bert-model  gdrive  output_copy  sample_data\n"
          ]
        }
      ]
    },
    {
      "cell_type": "code",
      "metadata": {
        "id": "KzeQQHXCzJm1"
      },
      "source": [
        "import json\n",
        "for root, dirs, files in os.walk('/content/output_copy'):\n",
        "  files.sort()\n",
        "  for file in files:\n",
        "    # print(file)\n",
        "    with open(root+\"/\"+file,'r') as f:\n",
        "      episode_segments = json.load(f)\n",
        "      for segment in episode_segments:\n",
        "        if segment['id'] in episode_contents:\n",
        "          episode_contents[segment['id']] = segment['contents']"
      ],
      "execution_count": 21,
      "outputs": []
    },
    {
      "cell_type": "code",
      "metadata": {
        "colab": {
          "base_uri": "https://localhost:8080/"
        },
        "id": "IelSspxn1fPb",
        "outputId": "43a86f4d-a3df-45c2-b19a-b46368ff90ff"
      },
      "source": [
        "len(sorted(list(episode_contents.keys())))"
      ],
      "execution_count": 22,
      "outputs": [
        {
          "output_type": "execute_result",
          "data": {
            "text/plain": [
              "1000"
            ]
          },
          "metadata": {},
          "execution_count": 22
        }
      ]
    },
    {
      "cell_type": "code",
      "metadata": {
        "id": "U_iVzB5WLTgp"
      },
      "source": [
        "bm25_ranks['segment'] = bm25_ranks['epid'].map(episode_contents)"
      ],
      "execution_count": 23,
      "outputs": []
    },
    {
      "cell_type": "code",
      "metadata": {
        "id": "alrFrfp9LiQu"
      },
      "source": [
        "bm25_ranks=bm25_ranks.merge(queries,how='left',left_on='qnum',right_on='qnum')"
      ],
      "execution_count": 24,
      "outputs": []
    },
    {
      "cell_type": "code",
      "metadata": {
        "id": "vYLPkdz3v9qV"
      },
      "source": [
        "bm25_ranks = bm25_ranks.merge(bm25_ranks[['qnum','segment','epid']],how='left',left_on='qnum',right_on='qnum')"
      ],
      "execution_count": 25,
      "outputs": []
    },
    {
      "cell_type": "markdown",
      "metadata": {
        "id": "tEPseJqA1GLF"
      },
      "source": [
        "Distribution of token sizes"
      ]
    },
    {
      "cell_type": "code",
      "metadata": {
        "colab": {
          "base_uri": "https://localhost:8080/",
          "height": 283
        },
        "id": "wWKh7uKp0C1P",
        "outputId": "65ed9491-162e-4c9d-8649-c6e6fd6287b1"
      },
      "source": [
        "pd.DataFrame(bm25_ranks['segment_y'].unique()).apply(lambda x:len(x[0].split()),axis=1).hist()"
      ],
      "execution_count": 26,
      "outputs": [
        {
          "output_type": "execute_result",
          "data": {
            "text/plain": [
              "<matplotlib.axes._subplots.AxesSubplot at 0x7f2d61c33f50>"
            ]
          },
          "metadata": {},
          "execution_count": 26
        },
        {
          "output_type": "display_data",
          "data": {
            "image/png": "[encoded data removed]",
            "text/plain": [
              "<Figure size 432x288 with 1 Axes>"
            ]
          },
          "metadata": {
            "needs_background": "light"
          }
        }
      ]
    },
    {
      "cell_type": "code",
      "metadata": {
        "colab": {
          "base_uri": "https://localhost:8080/",
          "height": 283
        },
        "id": "0AtvDFjH1FnJ",
        "outputId": "c6133d43-c101-4fd3-93cb-2d7a14f44a03"
      },
      "source": [
        "pd.DataFrame(bm25_ranks['query'].unique()).apply(lambda x:len(x[0].split()),axis=1).hist()"
      ],
      "execution_count": 27,
      "outputs": [
        {
          "output_type": "execute_result",
          "data": {
            "text/plain": [
              "<matplotlib.axes._subplots.AxesSubplot at 0x7f2d6328ed90>"
            ]
          },
          "metadata": {},
          "execution_count": 27
        },
        {
          "output_type": "display_data",
          "data": {
            "image/png": "[encoded data removed]",
            "text/plain": [
              "<Figure size 432x288 with 1 Axes>"
            ]
          },
          "metadata": {
            "needs_background": "light"
          }
        }
      ]
    },
    {
      "cell_type": "markdown",
      "metadata": {
        "id": "YPuwFSSwz2bO"
      },
      "source": [
        "### Reranking"
      ]
    },
    {
      "cell_type": "code",
      "metadata": {
        "id": "MYDOjNRgt5eW"
      },
      "source": [
        "q_trunc = 64\n",
        "p_trunc = 512-64+1"
      ],
      "execution_count": 28,
      "outputs": []
    },
    {
      "cell_type": "code",
      "metadata": {
        "id": "FjF14HTFu7HB"
      },
      "source": [
        "import gc\n",
        "import numpy as np"
      ],
      "execution_count": 29,
      "outputs": []
    },
    {
      "cell_type": "code",
      "metadata": {
        "colab": {
          "base_uri": "https://localhost:8080/"
        },
        "id": "398g7Ja6MkNn",
        "outputId": "7934c56a-c488-4eee-b38d-0d45259e0ef2"
      },
      "source": [
        "q = tokenizer(bm25_ranks['query'].values.tolist(), return_tensors=\"tf\",padding=\"max_length\",max_length=q_trunc,truncation=True)\n",
        "p_1 = tokenizer(bm25_ranks['segment_x'].values.tolist(), return_tensors=\"tf\",padding=\"max_length\",max_length=p_trunc,truncation=True)\n",
        "p_2 = tokenizer(bm25_ranks['segment_y'].values.tolist(), return_tensors=\"tf\",padding=\"max_length\",max_length=p_trunc,truncation=True)\n",
        "X_test = []\n",
        "for id in ['input_ids','token_type_ids','attention_mask']:\n",
        "  X_test.append(tf.concat([q[id],p_1[id][:,1:]],1))\n",
        "for id in ['input_ids','token_type_ids','attention_mask']:\n",
        "  X_test.append(tf.concat([q[id],p_2[id][:,1:]],1))\n",
        "q = None\n",
        "p_1 = None\n",
        "p_2 = None\n",
        "gc.collect()"
      ],
      "execution_count": 30,
      "outputs": [
        {
          "output_type": "execute_result",
          "data": {
            "text/plain": [
              "0"
            ]
          },
          "metadata": {},
          "execution_count": 30
        }
      ]
    },
    {
      "cell_type": "code",
      "metadata": {
        "id": "2fTZQ14CNHmV",
        "colab": {
          "base_uri": "https://localhost:8080/"
        },
        "outputId": "f68f1d4f-c3d4-4d8d-f743-c9a5ae0c4c8e"
      },
      "source": [
        "scores = model.predict(X_test,batch_size=8,verbose=1)"
      ],
      "execution_count": 31,
      "outputs": [
        {
          "output_type": "stream",
          "name": "stdout",
          "text": [
            "2500/2500 [==============================] - 3046s 1s/step\n"
          ]
        }
      ]
    },
    {
      "cell_type": "code",
      "metadata": {
        "colab": {
          "base_uri": "https://localhost:8080/",
          "height": 283
        },
        "id": "LKRyhD4OoFv_",
        "outputId": "e3c81975-6eac-4f57-b37e-8b5b55b5aabf"
      },
      "source": [
        "plt.imshow(scores[:400].reshape(20,20))"
      ],
      "execution_count": 55,
      "outputs": [
        {
          "output_type": "execute_result",
          "data": {
            "text/plain": [
              "<matplotlib.image.AxesImage at 0x7f2d60381910>"
            ]
          },
          "metadata": {},
          "execution_count": 55
        },
        {
          "output_type": "display_data",
          "data": {
            "image/png": "[encoded data removed]",
            "text/plain": [
              "<Figure size 432x288 with 1 Axes>"
            ]
          },
          "metadata": {
            "needs_background": "light"
          }
        }
      ]
    },
    {
      "cell_type": "markdown",
      "metadata": {
        "id": "L_F8NBvsz7sm"
      },
      "source": [
        "#### Scores to rank"
      ]
    },
    {
      "cell_type": "code",
      "metadata": {
        "id": "Jom5W4lEOd39"
      },
      "source": [
        "bm25_ranks['score'] = scores"
      ],
      "execution_count": 32,
      "outputs": []
    },
    {
      "cell_type": "code",
      "metadata": {
        "id": "L7wMEbUIP19a"
      },
      "source": [
        "bm25_ranks = bm25_ranks.drop(['segment_x','segment_y','query'],axis=1)"
      ],
      "execution_count": 33,
      "outputs": []
    },
    {
      "cell_type": "code",
      "metadata": {
        "id": "RwWQ4dGl0XyW"
      },
      "source": [
        "def getRanks(results):\n",
        "  pivot = results.pivot('epid_x','epid_y','score')\n",
        "  pivot_t = pivot.T\n",
        "  np.fill_diagonal(pivot.values,1)\n",
        "  results_ranked = pd.DataFrame((pivot>pivot_t).sum(axis=1) + pivot.mean(axis=1))\n",
        "  results_ranked = results_ranked.reset_index()\n",
        "  dropped = results.drop(['epid_y','score'],axis=1).drop_duplicates()\n",
        "  results_ranked = results_ranked.merge(dropped,how='left',left_on='epid_x',right_on='epid_x')\n",
        "  results_ranked.columns = ['epid','score','qnum','qid','rank','runid']\n",
        "  return results_ranked"
      ],
      "execution_count": 34,
      "outputs": []
    },
    {
      "cell_type": "code",
      "metadata": {
        "colab": {
          "base_uri": "https://localhost:8080/",
          "height": 423
        },
        "id": "V174LAxI3TjM",
        "outputId": "d6f27bec-9482-461d-acba-3898a0307aec"
      },
      "source": [
        "bm25_ranks = bm25_ranks.groupby('qnum').apply(getRanks).reset_index(drop=True)\n",
        "bm25_ranks[['rank','qnum']] = bm25_ranks[['rank','qnum']].astype(np.int32)\n",
        "bm25_ranks"
      ],
      "execution_count": 35,
      "outputs": [
        {
          "output_type": "execute_result",
          "data": {
            "text/html": [
              "<div>\n",
              "<style scoped>\n",
              "    .dataframe tbody tr th:only-of-type {\n",
              "        vertical-align: middle;\n",
              "    }\n",
              "\n",
              "    .dataframe tbody tr th {\n",
              "        vertical-align: top;\n",
              "    }\n",
              "\n",
              "    .dataframe thead th {\n",
              "        text-align: right;\n",
              "    }\n",
              "</style>\n",
              "<table border=\"1\" class=\"dataframe\">\n",
              "  <thead>\n",
              "    <tr style=\"text-align: right;\">\n",
              "      <th></th>\n",
              "      <th>epid</th>\n",
              "      <th>score</th>\n",
              "      <th>qnum</th>\n",
              "      <th>qid</th>\n",
              "      <th>rank</th>\n",
              "      <th>runid</th>\n",
              "    </tr>\n",
              "  </thead>\n",
              "  <tbody>\n",
              "    <tr>\n",
              "      <th>0</th>\n",
              "      <td>spotify:episode:0DNqe9Rnj8gP0fRCOsWxfT_1440.0</td>\n",
              "      <td>13.637088</td>\n",
              "      <td>9</td>\n",
              "      <td>Q0</td>\n",
              "      <td>16</td>\n",
              "      <td>Anserini</td>\n",
              "    </tr>\n",
              "    <tr>\n",
              "      <th>1</th>\n",
              "      <td>spotify:episode:0nhWyQfESIgR4X8nQZa08y_1980.0</td>\n",
              "      <td>12.600861</td>\n",
              "      <td>9</td>\n",
              "      <td>Q0</td>\n",
              "      <td>20</td>\n",
              "      <td>Anserini</td>\n",
              "    </tr>\n",
              "    <tr>\n",
              "      <th>2</th>\n",
              "      <td>spotify:episode:14RFTGKJ9RQlxtJJ6MhNXs_300.0</td>\n",
              "      <td>10.578251</td>\n",
              "      <td>9</td>\n",
              "      <td>Q0</td>\n",
              "      <td>7</td>\n",
              "      <td>Anserini</td>\n",
              "    </tr>\n",
              "    <tr>\n",
              "      <th>3</th>\n",
              "      <td>spotify:episode:1jvy4Usn4Z8awRi3gpw0iQ_900.0</td>\n",
              "      <td>17.882542</td>\n",
              "      <td>9</td>\n",
              "      <td>Q0</td>\n",
              "      <td>17</td>\n",
              "      <td>Anserini</td>\n",
              "    </tr>\n",
              "    <tr>\n",
              "      <th>4</th>\n",
              "      <td>spotify:episode:1nu9RsgfYsbNb7CDmHlvKx_1320.0</td>\n",
              "      <td>9.550723</td>\n",
              "      <td>9</td>\n",
              "      <td>Q0</td>\n",
              "      <td>8</td>\n",
              "      <td>Anserini</td>\n",
              "    </tr>\n",
              "    <tr>\n",
              "      <th>...</th>\n",
              "      <td>...</td>\n",
              "      <td>...</td>\n",
              "      <td>...</td>\n",
              "      <td>...</td>\n",
              "      <td>...</td>\n",
              "      <td>...</td>\n",
              "    </tr>\n",
              "    <tr>\n",
              "      <th>995</th>\n",
              "      <td>spotify:episode:5xDfrpC4pmkHBVf28JYKv1_120.0</td>\n",
              "      <td>12.542030</td>\n",
              "      <td>58</td>\n",
              "      <td>Q0</td>\n",
              "      <td>14</td>\n",
              "      <td>Anserini</td>\n",
              "    </tr>\n",
              "    <tr>\n",
              "      <th>996</th>\n",
              "      <td>spotify:episode:62DJcqXZ65VsObZPkv4ZIJ_4140.0</td>\n",
              "      <td>14.651581</td>\n",
              "      <td>58</td>\n",
              "      <td>Q0</td>\n",
              "      <td>20</td>\n",
              "      <td>Anserini</td>\n",
              "    </tr>\n",
              "    <tr>\n",
              "      <th>997</th>\n",
              "      <td>spotify:episode:73jHKrU0ZDmI2SNCsYyCsz_2160.0</td>\n",
              "      <td>15.685263</td>\n",
              "      <td>58</td>\n",
              "      <td>Q0</td>\n",
              "      <td>4</td>\n",
              "      <td>Anserini</td>\n",
              "    </tr>\n",
              "    <tr>\n",
              "      <th>998</th>\n",
              "      <td>spotify:episode:76ezvYdkEkPsWO5x5PwUjz_5100.0</td>\n",
              "      <td>6.433411</td>\n",
              "      <td>58</td>\n",
              "      <td>Q0</td>\n",
              "      <td>12</td>\n",
              "      <td>Anserini</td>\n",
              "    </tr>\n",
              "    <tr>\n",
              "      <th>999</th>\n",
              "      <td>spotify:episode:7pECOFSfCit9J2ZIvPDNMm_0.0</td>\n",
              "      <td>8.450960</td>\n",
              "      <td>58</td>\n",
              "      <td>Q0</td>\n",
              "      <td>1</td>\n",
              "      <td>Anserini</td>\n",
              "    </tr>\n",
              "  </tbody>\n",
              "</table>\n",
              "<p>1000 rows × 6 columns</p>\n",
              "</div>"
            ],
            "text/plain": [
              "                                              epid      score  ...  rank     runid\n",
              "0    spotify:episode:0DNqe9Rnj8gP0fRCOsWxfT_1440.0  13.637088  ...    16  Anserini\n",
              "1    spotify:episode:0nhWyQfESIgR4X8nQZa08y_1980.0  12.600861  ...    20  Anserini\n",
              "2     spotify:episode:14RFTGKJ9RQlxtJJ6MhNXs_300.0  10.578251  ...     7  Anserini\n",
              "3     spotify:episode:1jvy4Usn4Z8awRi3gpw0iQ_900.0  17.882542  ...    17  Anserini\n",
              "4    spotify:episode:1nu9RsgfYsbNb7CDmHlvKx_1320.0   9.550723  ...     8  Anserini\n",
              "..                                             ...        ...  ...   ...       ...\n",
              "995   spotify:episode:5xDfrpC4pmkHBVf28JYKv1_120.0  12.542030  ...    14  Anserini\n",
              "996  spotify:episode:62DJcqXZ65VsObZPkv4ZIJ_4140.0  14.651581  ...    20  Anserini\n",
              "997  spotify:episode:73jHKrU0ZDmI2SNCsYyCsz_2160.0  15.685263  ...     4  Anserini\n",
              "998  spotify:episode:76ezvYdkEkPsWO5x5PwUjz_5100.0   6.433411  ...    12  Anserini\n",
              "999     spotify:episode:7pECOFSfCit9J2ZIvPDNMm_0.0   8.450960  ...     1  Anserini\n",
              "\n",
              "[1000 rows x 6 columns]"
            ]
          },
          "metadata": {},
          "execution_count": 35
        }
      ]
    },
    {
      "cell_type": "code",
      "metadata": {
        "id": "Syr26U4_Onuo"
      },
      "source": [
        "bm25_ranks = bm25_ranks.sort_values(['qnum','score'], ascending = [True, False]).reset_index(drop=True)"
      ],
      "execution_count": 36,
      "outputs": []
    },
    {
      "cell_type": "code",
      "metadata": {
        "id": "EblD05iwQHSw"
      },
      "source": [
        "bm25_ranks['rank'] = bm25_ranks.groupby('qnum')['score'].rank(ascending=False).astype(np.int16)"
      ],
      "execution_count": 37,
      "outputs": []
    },
    {
      "cell_type": "code",
      "metadata": {
        "colab": {
          "base_uri": "https://localhost:8080/",
          "height": 423
        },
        "id": "1KVBgY13QqNe",
        "outputId": "b4917315-9990-4478-cca8-d70cd6131556"
      },
      "source": [
        "bm25_ranks = bm25_ranks[['qnum',\t'qid',\t'epid',\t'rank',\t'score',\t'runid']]\n",
        "bm25_ranks"
      ],
      "execution_count": 38,
      "outputs": [
        {
          "output_type": "execute_result",
          "data": {
            "text/html": [
              "<div>\n",
              "<style scoped>\n",
              "    .dataframe tbody tr th:only-of-type {\n",
              "        vertical-align: middle;\n",
              "    }\n",
              "\n",
              "    .dataframe tbody tr th {\n",
              "        vertical-align: top;\n",
              "    }\n",
              "\n",
              "    .dataframe thead th {\n",
              "        text-align: right;\n",
              "    }\n",
              "</style>\n",
              "<table border=\"1\" class=\"dataframe\">\n",
              "  <thead>\n",
              "    <tr style=\"text-align: right;\">\n",
              "      <th></th>\n",
              "      <th>qnum</th>\n",
              "      <th>qid</th>\n",
              "      <th>epid</th>\n",
              "      <th>rank</th>\n",
              "      <th>score</th>\n",
              "      <th>runid</th>\n",
              "    </tr>\n",
              "  </thead>\n",
              "  <tbody>\n",
              "    <tr>\n",
              "      <th>0</th>\n",
              "      <td>9</td>\n",
              "      <td>Q0</td>\n",
              "      <td>spotify:episode:6svv5L5kRn8groSsM8gkpc_3180.0</td>\n",
              "      <td>1</td>\n",
              "      <td>19.963267</td>\n",
              "      <td>Anserini</td>\n",
              "    </tr>\n",
              "    <tr>\n",
              "      <th>1</th>\n",
              "      <td>9</td>\n",
              "      <td>Q0</td>\n",
              "      <td>spotify:episode:3gJ0fBXYRryWAjgwxY4q6C_0.0</td>\n",
              "      <td>2</td>\n",
              "      <td>18.926262</td>\n",
              "      <td>Anserini</td>\n",
              "    </tr>\n",
              "    <tr>\n",
              "      <th>2</th>\n",
              "      <td>9</td>\n",
              "      <td>Q0</td>\n",
              "      <td>spotify:episode:1jvy4Usn4Z8awRi3gpw0iQ_900.0</td>\n",
              "      <td>3</td>\n",
              "      <td>17.882542</td>\n",
              "      <td>Anserini</td>\n",
              "    </tr>\n",
              "    <tr>\n",
              "      <th>3</th>\n",
              "      <td>9</td>\n",
              "      <td>Q0</td>\n",
              "      <td>spotify:episode:2wlZZPXaCiEBGB0TCPk7VL_780.0</td>\n",
              "      <td>4</td>\n",
              "      <td>16.793030</td>\n",
              "      <td>Anserini</td>\n",
              "    </tr>\n",
              "    <tr>\n",
              "      <th>4</th>\n",
              "      <td>9</td>\n",
              "      <td>Q0</td>\n",
              "      <td>spotify:episode:4JqqVFhNjtlwoIMl5tvL8R_780.0</td>\n",
              "      <td>5</td>\n",
              "      <td>15.740162</td>\n",
              "      <td>Anserini</td>\n",
              "    </tr>\n",
              "    <tr>\n",
              "      <th>...</th>\n",
              "      <td>...</td>\n",
              "      <td>...</td>\n",
              "      <td>...</td>\n",
              "      <td>...</td>\n",
              "      <td>...</td>\n",
              "      <td>...</td>\n",
              "    </tr>\n",
              "    <tr>\n",
              "      <th>995</th>\n",
              "      <td>58</td>\n",
              "      <td>Q0</td>\n",
              "      <td>spotify:episode:4gcfeQhSsN3GWX0D8vilrq_900.0</td>\n",
              "      <td>16</td>\n",
              "      <td>4.293690</td>\n",
              "      <td>Anserini</td>\n",
              "    </tr>\n",
              "    <tr>\n",
              "      <th>996</th>\n",
              "      <td>58</td>\n",
              "      <td>Q0</td>\n",
              "      <td>spotify:episode:16YiYSDRL1cQeizu7lw9Lk_480.0</td>\n",
              "      <td>17</td>\n",
              "      <td>3.262148</td>\n",
              "      <td>Anserini</td>\n",
              "    </tr>\n",
              "    <tr>\n",
              "      <th>997</th>\n",
              "      <td>58</td>\n",
              "      <td>Q0</td>\n",
              "      <td>spotify:episode:5pCYtmPK749a2vjErb8I1P_3840.0</td>\n",
              "      <td>18</td>\n",
              "      <td>2.237336</td>\n",
              "      <td>Anserini</td>\n",
              "    </tr>\n",
              "    <tr>\n",
              "      <th>998</th>\n",
              "      <td>58</td>\n",
              "      <td>Q0</td>\n",
              "      <td>spotify:episode:0CwYbNjJlIYF49WAMyAg4u_240.0</td>\n",
              "      <td>19</td>\n",
              "      <td>1.107870</td>\n",
              "      <td>Anserini</td>\n",
              "    </tr>\n",
              "    <tr>\n",
              "      <th>999</th>\n",
              "      <td>58</td>\n",
              "      <td>Q0</td>\n",
              "      <td>spotify:episode:4oPXTfrAk9nq7gxWl6zkuY_360.0</td>\n",
              "      <td>20</td>\n",
              "      <td>0.086321</td>\n",
              "      <td>Anserini</td>\n",
              "    </tr>\n",
              "  </tbody>\n",
              "</table>\n",
              "<p>1000 rows × 6 columns</p>\n",
              "</div>"
            ],
            "text/plain": [
              "     qnum qid  ...      score     runid\n",
              "0       9  Q0  ...  19.963267  Anserini\n",
              "1       9  Q0  ...  18.926262  Anserini\n",
              "2       9  Q0  ...  17.882542  Anserini\n",
              "3       9  Q0  ...  16.793030  Anserini\n",
              "4       9  Q0  ...  15.740162  Anserini\n",
              "..    ...  ..  ...        ...       ...\n",
              "995    58  Q0  ...   4.293690  Anserini\n",
              "996    58  Q0  ...   3.262148  Anserini\n",
              "997    58  Q0  ...   2.237336  Anserini\n",
              "998    58  Q0  ...   1.107870  Anserini\n",
              "999    58  Q0  ...   0.086321  Anserini\n",
              "\n",
              "[1000 rows x 6 columns]"
            ]
          },
          "metadata": {},
          "execution_count": 38
        }
      ]
    },
    {
      "cell_type": "code",
      "metadata": {
        "id": "HDU7Tc3fQxZy"
      },
      "source": [
        "bm25_ranks.to_csv(results_file+'.reranked', sep = '\\t', index=False)"
      ],
      "execution_count": 39,
      "outputs": []
    },
    {
      "cell_type": "code",
      "metadata": {
        "colab": {
          "base_uri": "https://localhost:8080/"
        },
        "id": "naBwbVastvE-",
        "outputId": "e3807f30-c752-4b59-9c9d-569471f04e32"
      },
      "source": [
        "!git clone https://github.com/usnistgov/trec_eval"
      ],
      "execution_count": 40,
      "outputs": [
        {
          "output_type": "stream",
          "name": "stdout",
          "text": [
            "Cloning into 'trec_eval'...\n",
            "remote: Enumerating objects: 763, done.\u001b[K\n",
            "remote: Counting objects: 100% (14/14), done.\u001b[K\n",
            "remote: Compressing objects: 100% (14/14), done.\u001b[K\n",
            "remote: Total 763 (delta 5), reused 3 (delta 0), pack-reused 749\u001b[K\n",
            "Receiving objects: 100% (763/763), 679.52 KiB | 6.12 MiB/s, done.\n",
            "Resolving deltas: 100% (491/491), done.\n"
          ]
        }
      ]
    },
    {
      "cell_type": "code",
      "metadata": {
        "colab": {
          "base_uri": "https://localhost:8080/"
        },
        "id": "J_KCo3XWJbCY",
        "outputId": "326dd80d-e89a-4cd3-b79c-556fa411980e"
      },
      "source": [
        "!cd trec_eval;make"
      ],
      "execution_count": 41,
      "outputs": [
        {
          "output_type": "stream",
          "name": "stdout",
          "text": [
            "gcc -g -I.  -Wall -DVERSIONID=\\\"9.0.7\\\"  -o trec_eval trec_eval.c formats.c meas_init.c meas_acc.c meas_avg.c meas_print_single.c meas_print_final.c get_qrels.c get_trec_results.c get_prefs.c get_qrels_prefs.c get_qrels_jg.c form_res_rels.c form_res_rels_jg.c form_prefs_counts.c utility_pool.c get_zscores.c convert_zscores.c measures.c  m_map.c m_P.c m_num_q.c m_num_ret.c m_num_rel.c m_num_rel_ret.c m_gm_map.c m_Rprec.c m_recip_rank.c m_bpref.c m_iprec_at_recall.c m_recall.c m_Rprec_mult.c m_utility.c m_11pt_avg.c m_ndcg.c m_ndcg_cut.c m_Rndcg.c m_ndcg_rel.c m_binG.c m_G.c m_rel_P.c m_success.c m_infap.c m_map_cut.c m_gm_bpref.c m_runid.c m_relstring.c m_set_P.c m_set_recall.c m_set_rel_P.c m_set_map.c m_set_F.c m_num_nonrel_judged_ret.c m_prefs_num_prefs_poss.c m_prefs_num_prefs_ful.c m_prefs_num_prefs_ful_ret.c m_prefs_simp.c m_prefs_pair.c m_prefs_avgjg.c m_prefs_avgjg_Rnonrel.c m_prefs_simp_ret.c m_prefs_pair_ret.c m_prefs_avgjg_ret.c m_prefs_avgjg_Rnonrel_ret.c m_prefs_simp_imp.c m_prefs_pair_imp.c m_prefs_avgjg_imp.c m_map_avgjg.c m_Rprec_mult_avgjg.c m_P_avgjg.c m_yaap.c -lm\n"
          ]
        }
      ]
    },
    {
      "cell_type": "code",
      "metadata": {
        "colab": {
          "base_uri": "https://localhost:8080/"
        },
        "id": "8UkKuvrM1Zv9",
        "outputId": "29a9bcee-6e6d-43c5-821b-9adc4b505a07"
      },
      "source": [
        "!./trec_eval/trec_eval  -q -c -M1000 -m ndcg_cut.20 /content/gdrive/MyDrive/col764/qrels/2020_test_qrels.list {results_file}.reranked"
      ],
      "execution_count": 51,
      "outputs": [
        {
          "output_type": "stream",
          "name": "stdout",
          "text": [
            "ndcg_cut_20           \t10\t0.5006\n",
            "ndcg_cut_20           \t11\t0.2201\n",
            "ndcg_cut_20           \t12\t0.3031\n",
            "ndcg_cut_20           \t13\t0.1184\n",
            "ndcg_cut_20           \t14\t0.6314\n",
            "ndcg_cut_20           \t15\t0.0743\n",
            "ndcg_cut_20           \t16\t0.1897\n",
            "ndcg_cut_20           \t17\t0.1581\n",
            "ndcg_cut_20           \t18\t0.4275\n",
            "ndcg_cut_20           \t19\t0.7205\n",
            "ndcg_cut_20           \t20\t0.3865\n",
            "ndcg_cut_20           \t21\t0.6142\n",
            "ndcg_cut_20           \t22\t0.2291\n",
            "ndcg_cut_20           \t23\t0.1850\n",
            "ndcg_cut_20           \t24\t0.7607\n",
            "ndcg_cut_20           \t25\t0.4690\n",
            "ndcg_cut_20           \t26\t0.5891\n",
            "ndcg_cut_20           \t27\t0.4138\n",
            "ndcg_cut_20           \t28\t0.6118\n",
            "ndcg_cut_20           \t29\t0.6478\n",
            "ndcg_cut_20           \t30\t0.1470\n",
            "ndcg_cut_20           \t31\t0.0000\n",
            "ndcg_cut_20           \t32\t0.0633\n",
            "ndcg_cut_20           \t33\t0.2727\n",
            "ndcg_cut_20           \t34\t0.1665\n",
            "ndcg_cut_20           \t35\t0.2878\n",
            "ndcg_cut_20           \t36\t0.4426\n",
            "ndcg_cut_20           \t37\t0.3558\n",
            "ndcg_cut_20           \t38\t0.6363\n",
            "ndcg_cut_20           \t39\t0.2878\n",
            "ndcg_cut_20           \t40\t0.3640\n",
            "ndcg_cut_20           \t41\t0.6119\n",
            "ndcg_cut_20           \t42\t0.0000\n",
            "ndcg_cut_20           \t43\t0.4693\n",
            "ndcg_cut_20           \t44\t0.2087\n",
            "ndcg_cut_20           \t45\t0.5676\n",
            "ndcg_cut_20           \t46\t0.9430\n",
            "ndcg_cut_20           \t48\t0.3675\n",
            "ndcg_cut_20           \t49\t0.4885\n",
            "ndcg_cut_20           \t51\t0.3711\n",
            "ndcg_cut_20           \t52\t0.0000\n",
            "ndcg_cut_20           \t53\t0.3317\n",
            "ndcg_cut_20           \t54\t0.5219\n",
            "ndcg_cut_20           \t55\t0.3785\n",
            "ndcg_cut_20           \t56\t0.1130\n",
            "ndcg_cut_20           \t57\t0.8699\n",
            "ndcg_cut_20           \t58\t0.1184\n",
            "ndcg_cut_20           \t9\t0.7447\n",
            "ndcg_cut_20           \tall\t0.3829\n"
          ]
        }
      ]
    },
    {
      "cell_type": "code",
      "metadata": {
        "colab": {
          "base_uri": "https://localhost:8080/"
        },
        "id": "4KuScHB8L6ZR",
        "outputId": "3d85cb30-3f78-4708-8220-b8fad709aa78"
      },
      "source": [
        "!./trec_eval/trec_eval  -q -c -m ndcg_cut.20  /content/gdrive/MyDrive/col764/qrels/2020_test_qrels.list {results_file}"
      ],
      "execution_count": 50,
      "outputs": [
        {
          "output_type": "stream",
          "name": "stdout",
          "text": [
            "ndcg_cut_20           \t10\t0.6134\n",
            "ndcg_cut_20           \t11\t0.2827\n",
            "ndcg_cut_20           \t12\t0.4008\n",
            "ndcg_cut_20           \t13\t0.0979\n",
            "ndcg_cut_20           \t14\t0.6534\n",
            "ndcg_cut_20           \t15\t0.0681\n",
            "ndcg_cut_20           \t16\t0.2086\n",
            "ndcg_cut_20           \t17\t0.0499\n",
            "ndcg_cut_20           \t18\t0.2814\n",
            "ndcg_cut_20           \t19\t0.6665\n",
            "ndcg_cut_20           \t20\t0.4466\n",
            "ndcg_cut_20           \t21\t0.5616\n",
            "ndcg_cut_20           \t22\t0.2285\n",
            "ndcg_cut_20           \t23\t0.0992\n",
            "ndcg_cut_20           \t24\t0.6205\n",
            "ndcg_cut_20           \t25\t0.4763\n",
            "ndcg_cut_20           \t26\t0.5601\n",
            "ndcg_cut_20           \t27\t0.4327\n",
            "ndcg_cut_20           \t28\t0.6396\n",
            "ndcg_cut_20           \t29\t0.6569\n",
            "ndcg_cut_20           \t30\t0.1439\n",
            "ndcg_cut_20           \t31\t0.0000\n",
            "ndcg_cut_20           \t32\t0.1091\n",
            "ndcg_cut_20           \t33\t0.2791\n",
            "ndcg_cut_20           \t34\t0.2027\n",
            "ndcg_cut_20           \t35\t0.3149\n",
            "ndcg_cut_20           \t36\t0.5493\n",
            "ndcg_cut_20           \t37\t0.2393\n",
            "ndcg_cut_20           \t38\t0.7427\n",
            "ndcg_cut_20           \t39\t0.3387\n",
            "ndcg_cut_20           \t40\t0.4056\n",
            "ndcg_cut_20           \t41\t0.6288\n",
            "ndcg_cut_20           \t42\t0.0000\n",
            "ndcg_cut_20           \t43\t0.4693\n",
            "ndcg_cut_20           \t44\t0.4846\n",
            "ndcg_cut_20           \t45\t0.6184\n",
            "ndcg_cut_20           \t46\t0.9428\n",
            "ndcg_cut_20           \t48\t0.2407\n",
            "ndcg_cut_20           \t49\t0.3507\n",
            "ndcg_cut_20           \t51\t0.3060\n",
            "ndcg_cut_20           \t52\t0.0000\n",
            "ndcg_cut_20           \t53\t0.3892\n",
            "ndcg_cut_20           \t54\t0.2995\n",
            "ndcg_cut_20           \t55\t0.3176\n",
            "ndcg_cut_20           \t56\t0.1145\n",
            "ndcg_cut_20           \t57\t0.8685\n",
            "ndcg_cut_20           \t58\t0.2765\n",
            "ndcg_cut_20           \t9\t0.8243\n",
            "ndcg_cut_20           \tall\t0.3854\n"
          ]
        }
      ]
    },
    {
      "cell_type": "code",
      "metadata": {
        "colab": {
          "base_uri": "https://localhost:8080/"
        },
        "id": "lhjuJ9lRJIZ4",
        "outputId": "59d58a52-a7ea-4a2c-db5b-920cc744b294"
      },
      "source": [
        "!ls /content/gdrive/MyDrive/col764/results/"
      ],
      "execution_count": 44,
      "outputs": [
        {
          "output_type": "stream",
          "name": "stdout",
          "text": [
            "run.desc.test.txt   run.query.test.txt\t\t run.query.train.txt\n",
            "run.desc.train.txt  run.query.test.txt.reranked\n"
          ]
        }
      ]
    }
  ]
}