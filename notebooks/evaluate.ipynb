{
  "nbformat": 4,
  "nbformat_minor": 0,
  "metadata": {
    "colab": {
      "name": "evaluate.ipynb",
      "provenance": [],
      "collapsed_sections": [],
      "authorship_tag": "ABX9TyM5RYJ/FDt5DknGx5TBXU9l",
      "include_colab_link": true
    },
    "kernelspec": {
      "name": "python3",
      "display_name": "Python 3"
    },
    "language_info": {
      "name": "python"
    },
    "accelerator": "GPU"
  },
  "cells": [
    {
      "cell_type": "markdown",
      "metadata": {
        "id": "view-in-github",
        "colab_type": "text"
      },
      "source": [
        "<a href=\"https://colab.research.google.com/github/Prakhar314/COL764-Project/blob/main/evaluate.ipynb\" target=\"_parent\"><img src=\"https://colab.research.google.com/assets/colab-badge.svg\" alt=\"Open In Colab\"/></a>"
      ]
    },
    {
      "cell_type": "code",
      "metadata": {
        "colab": {
          "base_uri": "https://localhost:8080/"
        },
        "id": "LPlkYCaWso8_",
        "outputId": "ab307267-239a-4ec3-c9e1-cc37d8b14c83"
      },
      "source": [
        "!pip install transformers tensorflow-addons"
      ],
      "execution_count": 1,
      "outputs": [
        {
          "output_type": "stream",
          "name": "stdout",
          "text": [
            "Requirement already satisfied: transformers in /usr/local/lib/python3.7/dist-packages (4.12.5)\n",
            "Requirement already satisfied: tensorflow-addons in /usr/local/lib/python3.7/dist-packages (0.15.0)\n",
            "Requirement already satisfied: tokenizers<0.11,>=0.10.1 in /usr/local/lib/python3.7/dist-packages (from transformers) (0.10.3)\n",
            "Requirement already satisfied: filelock in /usr/local/lib/python3.7/dist-packages (from transformers) (3.4.0)\n",
            "Requirement already satisfied: packaging>=20.0 in /usr/local/lib/python3.7/dist-packages (from transformers) (21.3)\n",
            "Requirement already satisfied: requests in /usr/local/lib/python3.7/dist-packages (from transformers) (2.23.0)\n",
            "Requirement already satisfied: importlib-metadata in /usr/local/lib/python3.7/dist-packages (from transformers) (4.8.2)\n",
            "Requirement already satisfied: regex!=2019.12.17 in /usr/local/lib/python3.7/dist-packages (from transformers) (2019.12.20)\n",
            "Requirement already satisfied: tqdm>=4.27 in /usr/local/lib/python3.7/dist-packages (from transformers) (4.62.3)\n",
            "Requirement already satisfied: sacremoses in /usr/local/lib/python3.7/dist-packages (from transformers) (0.0.46)\n",
            "Requirement already satisfied: huggingface-hub<1.0,>=0.1.0 in /usr/local/lib/python3.7/dist-packages (from transformers) (0.1.2)\n",
            "Requirement already satisfied: pyyaml>=5.1 in /usr/local/lib/python3.7/dist-packages (from transformers) (6.0)\n",
            "Requirement already satisfied: numpy>=1.17 in /usr/local/lib/python3.7/dist-packages (from transformers) (1.19.5)\n",
            "Requirement already satisfied: typing-extensions>=3.7.4.3 in /usr/local/lib/python3.7/dist-packages (from huggingface-hub<1.0,>=0.1.0->transformers) (3.10.0.2)\n",
            "Requirement already satisfied: pyparsing!=3.0.5,>=2.0.2 in /usr/local/lib/python3.7/dist-packages (from packaging>=20.0->transformers) (3.0.6)\n",
            "Requirement already satisfied: typeguard>=2.7 in /usr/local/lib/python3.7/dist-packages (from tensorflow-addons) (2.7.1)\n",
            "Requirement already satisfied: zipp>=0.5 in /usr/local/lib/python3.7/dist-packages (from importlib-metadata->transformers) (3.6.0)\n",
            "Requirement already satisfied: idna<3,>=2.5 in /usr/local/lib/python3.7/dist-packages (from requests->transformers) (2.10)\n",
            "Requirement already satisfied: chardet<4,>=3.0.2 in /usr/local/lib/python3.7/dist-packages (from requests->transformers) (3.0.4)\n",
            "Requirement already satisfied: certifi>=2017.4.17 in /usr/local/lib/python3.7/dist-packages (from requests->transformers) (2021.10.8)\n",
            "Requirement already satisfied: urllib3!=1.25.0,!=1.25.1,<1.26,>=1.21.1 in /usr/local/lib/python3.7/dist-packages (from requests->transformers) (1.24.3)\n",
            "Requirement already satisfied: six in /usr/local/lib/python3.7/dist-packages (from sacremoses->transformers) (1.15.0)\n",
            "Requirement already satisfied: joblib in /usr/local/lib/python3.7/dist-packages (from sacremoses->transformers) (1.1.0)\n",
            "Requirement already satisfied: click in /usr/local/lib/python3.7/dist-packages (from sacremoses->transformers) (7.1.2)\n"
          ]
        }
      ]
    },
    {
      "cell_type": "code",
      "metadata": {
        "colab": {
          "base_uri": "https://localhost:8080/"
        },
        "id": "OGXBKO8Hi3Xv",
        "outputId": "4323390c-6227-4e2b-b5e2-553c34ca70cf"
      },
      "source": [
        "from google.colab import drive\n",
        "drive.mount('/content/gdrive')"
      ],
      "execution_count": 2,
      "outputs": [
        {
          "output_type": "stream",
          "name": "stdout",
          "text": [
            "Drive already mounted at /content/gdrive; to attempt to forcibly remount, call drive.mount(\"/content/gdrive\", force_remount=True).\n"
          ]
        }
      ]
    },
    {
      "cell_type": "markdown",
      "metadata": {
        "id": "LFhXNsE5q0Go"
      },
      "source": [
        "### Model"
      ]
    },
    {
      "cell_type": "code",
      "metadata": {
        "id": "ghUElKIQs-HA"
      },
      "source": [
        "import transformers\n",
        "from transformers import BertTokenizer, BertConfig, TFBertModel\n",
        "import tensorflow as tf\n",
        "import tensorflow_addons as tfa"
      ],
      "execution_count": 9,
      "outputs": []
    },
    {
      "cell_type": "code",
      "metadata": {
        "id": "5JXknXB6s4iT"
      },
      "source": [
        "bert_model_name = 'bert-base-uncased'\n",
        "tokenizer = BertTokenizer.from_pretrained(bert_model_name)"
      ],
      "execution_count": 10,
      "outputs": []
    },
    {
      "cell_type": "markdown",
      "metadata": {
        "id": "bFtNTKAoq5gQ"
      },
      "source": [
        "#### Pointwise"
      ]
    },
    {
      "cell_type": "code",
      "metadata": {
        "id": "XA9HvTqzqzx5"
      },
      "source": [
        "def create_inputs(num_nodes,name):\n",
        "  layers = []\n",
        "  for layer_name in ['input_ids','token_type_ids','attention_mask']:\n",
        "    layers.append(tf.keras.layers.Input(shape=(num_nodes,),dtype=tf.int32,name=layer_name))\n",
        "  return layers\n",
        "\n",
        "def create_model_pointwise(output_bias=None):\n",
        "    if output_bias is not None:\n",
        "      output_bias = tf.keras.initializers.Constant(output_bias)\n",
        "    config = BertConfig(hidden_dropout_prob=0.1)\n",
        "    bert = TFBertModel.from_pretrained(bert_model_name,config=config)\n",
        "    bert.save_pretrained('./bert-model/')\n",
        "    for layer in bert.layers[:]:\n",
        "      if isinstance(layer, transformers.models.bert.modeling_tf_bert.TFBertMainLayer):\n",
        "        layer.embeddings.trainable=False\n",
        "        layer.pooler.trainable=False\n",
        "        for idx, layer in enumerate(layer.encoder.layer):\n",
        "            # print(layer)\n",
        "            # freeze first 10\n",
        "            if idx in range(8):\n",
        "                layer.trainable = False\n",
        "      else:\n",
        "        layer.trainable = False\n",
        "              \n",
        "    input_layer = create_inputs(512,'pair')\n",
        "    bert_out = bert(input_layer).last_hidden_state\n",
        "    cls = tf.keras.layers.Lambda(lambda x:x[:,0,:])(bert_out)\n",
        "    # print(avg_q.shape)\n",
        "    output = tf.keras.layers.Dense(1, activation=\"sigmoid\",bias_initializer=output_bias)(cls)\n",
        "    model = tf.keras.models.Model(inputs=input_layer, outputs=[output])\n",
        "    # opt,schedule = transformers.create_optimizer(num_train_steps=num_train_steps,init_lr=3e-5,adam_beta1=0.9,adam_beta2=0.999,weight_decay_rate=0.01,num_warmup_steps=10000)\n",
        "    opt = tfa.optimizers.RectifiedAdam()\n",
        "    model.compile(optimizer=opt,\n",
        "              loss=tf.keras.losses.BinaryCrossentropy(),\n",
        "              metrics=[tf.keras.metrics.BinaryAccuracy(),\n",
        "                       tf.keras.metrics.AUC(curve=\"ROC\")])\n",
        "    model.summary()\n",
        "    return model"
      ],
      "execution_count": 13,
      "outputs": []
    },
    {
      "cell_type": "markdown",
      "metadata": {
        "id": "SahKPvzNrEnm"
      },
      "source": [
        "#### Load Weights"
      ]
    },
    {
      "cell_type": "code",
      "metadata": {
        "colab": {
          "base_uri": "https://localhost:8080/"
        },
        "id": "50K2k5PKq8Tt",
        "outputId": "beb1b080-9553-4657-8843-4174a94f23f2"
      },
      "source": [
        "model = create_model_pointwise()"
      ],
      "execution_count": 14,
      "outputs": [
        {
          "output_type": "stream",
          "name": "stderr",
          "text": [
            "Some layers from the model checkpoint at bert-base-uncased were not used when initializing TFBertModel: ['nsp___cls', 'mlm___cls']\n",
            "- This IS expected if you are initializing TFBertModel from the checkpoint of a model trained on another task or with another architecture (e.g. initializing a BertForSequenceClassification model from a BertForPreTraining model).\n",
            "- This IS NOT expected if you are initializing TFBertModel from the checkpoint of a model that you expect to be exactly identical (initializing a BertForSequenceClassification model from a BertForSequenceClassification model).\n",
            "All the layers of TFBertModel were initialized from the model checkpoint at bert-base-uncased.\n",
            "If your task is similar to the task the model of the checkpoint was trained on, you can already use TFBertModel for predictions without further training.\n"
          ]
        },
        {
          "output_type": "stream",
          "name": "stdout",
          "text": [
            "Model: \"model_1\"\n",
            "__________________________________________________________________________________________________\n",
            " Layer (type)                   Output Shape         Param #     Connected to                     \n",
            "==================================================================================================\n",
            " input_ids (InputLayer)         [(None, 512)]        0           []                               \n",
            "                                                                                                  \n",
            " token_type_ids (InputLayer)    [(None, 512)]        0           []                               \n",
            "                                                                                                  \n",
            " attention_mask (InputLayer)    [(None, 512)]        0           []                               \n",
            "                                                                                                  \n",
            " tf_bert_model_1 (TFBertModel)  TFBaseModelOutputWi  109482240   ['input_ids[0][0]',              \n",
            "                                thPoolingAndCrossAt               'token_type_ids[0][0]',         \n",
            "                                tentions(last_hidde               'attention_mask[0][0]']         \n",
            "                                n_state=(None, 512,                                               \n",
            "                                 768),                                                            \n",
            "                                 pooler_output=(Non                                               \n",
            "                                e, 768),                                                          \n",
            "                                 past_key_values=No                                               \n",
            "                                ne, hidden_states=N                                               \n",
            "                                one, attentions=Non                                               \n",
            "                                e, cross_attentions                                               \n",
            "                                =None)                                                            \n",
            "                                                                                                  \n",
            " lambda_1 (Lambda)              (None, 768)          0           ['tf_bert_model_1[0][0]']        \n",
            "                                                                                                  \n",
            " dense_1 (Dense)                (None, 1)            769         ['lambda_1[0][0]']               \n",
            "                                                                                                  \n",
            "==================================================================================================\n",
            "Total params: 109,483,009\n",
            "Trainable params: 28,352,257\n",
            "Non-trainable params: 81,130,752\n",
            "__________________________________________________________________________________________________\n"
          ]
        }
      ]
    },
    {
      "cell_type": "code",
      "metadata": {
        "id": "zM0fYgcDrHki"
      },
      "source": [
        "model.load_weights(\"/content/gdrive/MyDrive/col764/pointwise_best_model_cw_50.h5\")"
      ],
      "execution_count": 15,
      "outputs": []
    },
    {
      "cell_type": "markdown",
      "metadata": {
        "id": "OXj5jjvtypXN"
      },
      "source": [
        "### Reranking"
      ]
    },
    {
      "cell_type": "code",
      "metadata": {
        "id": "Z9jr0VwKyr9M"
      },
      "source": [
        "!tar -zxf /content/gdrive/MyDrive/col764/output_qrel_only.tar.gz"
      ],
      "execution_count": 16,
      "outputs": []
    },
    {
      "cell_type": "code",
      "metadata": {
        "colab": {
          "base_uri": "https://localhost:8080/"
        },
        "id": "wiC2z3cEzunN",
        "outputId": "914f1d43-51fd-4c66-a1d7-833e449fc981"
      },
      "source": [
        "!ls /content/gdrive/MyDrive/col764/results"
      ],
      "execution_count": 17,
      "outputs": [
        {
          "output_type": "stream",
          "name": "stdout",
          "text": [
            "run.desc.test.txt   run.query.test.txt\t\t run.query.train.txt\n",
            "run.desc.train.txt  run.query.test.txt.reranked\n"
          ]
        }
      ]
    },
    {
      "cell_type": "code",
      "metadata": {
        "id": "15BXOVJmy-bw"
      },
      "source": [
        "import os"
      ],
      "execution_count": 18,
      "outputs": []
    },
    {
      "cell_type": "code",
      "metadata": {
        "id": "ddpYshepzloJ"
      },
      "source": [
        "import pandas as pd"
      ],
      "execution_count": 19,
      "outputs": []
    },
    {
      "cell_type": "code",
      "metadata": {
        "id": "P9E_WRl42iJU"
      },
      "source": [
        "query_file = '/content/gdrive/MyDrive/col764/queries/podcasts_2020_topics_test_query.tsv'"
      ],
      "execution_count": 20,
      "outputs": []
    },
    {
      "cell_type": "code",
      "metadata": {
        "id": "-_yQVvwADFuy"
      },
      "source": [
        "queries = pd.read_csv(query_file,sep='\\t',header=None)\n",
        "queries.columns = ['qnum','query']"
      ],
      "execution_count": 21,
      "outputs": []
    },
    {
      "cell_type": "code",
      "metadata": {
        "colab": {
          "base_uri": "https://localhost:8080/",
          "height": 1000
        },
        "id": "GUfHTuZJDM5N",
        "outputId": "a555c640-bf1a-4489-d5f0-026ac7f97615"
      },
      "source": [
        "queries"
      ],
      "execution_count": 22,
      "outputs": [
        {
          "output_type": "execute_result",
          "data": {
            "text/html": [
              "<div>\n",
              "<style scoped>\n",
              "    .dataframe tbody tr th:only-of-type {\n",
              "        vertical-align: middle;\n",
              "    }\n",
              "\n",
              "    .dataframe tbody tr th {\n",
              "        vertical-align: top;\n",
              "    }\n",
              "\n",
              "    .dataframe thead th {\n",
              "        text-align: right;\n",
              "    }\n",
              "</style>\n",
              "<table border=\"1\" class=\"dataframe\">\n",
              "  <thead>\n",
              "    <tr style=\"text-align: right;\">\n",
              "      <th></th>\n",
              "      <th>qnum</th>\n",
              "      <th>query</th>\n",
              "    </tr>\n",
              "  </thead>\n",
              "  <tbody>\n",
              "    <tr>\n",
              "      <th>0</th>\n",
              "      <td>9</td>\n",
              "      <td>trump call ukrainian president</td>\n",
              "    </tr>\n",
              "    <tr>\n",
              "      <th>1</th>\n",
              "      <td>10</td>\n",
              "      <td>boeing 737 crash causes</td>\n",
              "    </tr>\n",
              "    <tr>\n",
              "      <th>2</th>\n",
              "      <td>11</td>\n",
              "      <td>how to cook turkey</td>\n",
              "    </tr>\n",
              "    <tr>\n",
              "      <th>3</th>\n",
              "      <td>12</td>\n",
              "      <td>imran khan career</td>\n",
              "    </tr>\n",
              "    <tr>\n",
              "      <th>4</th>\n",
              "      <td>13</td>\n",
              "      <td>drug addiction recovery</td>\n",
              "    </tr>\n",
              "    <tr>\n",
              "      <th>5</th>\n",
              "      <td>14</td>\n",
              "      <td>near death experiences</td>\n",
              "    </tr>\n",
              "    <tr>\n",
              "      <th>6</th>\n",
              "      <td>15</td>\n",
              "      <td>podcast about podcasts</td>\n",
              "    </tr>\n",
              "    <tr>\n",
              "      <th>7</th>\n",
              "      <td>16</td>\n",
              "      <td>causes and prevention of wildfires</td>\n",
              "    </tr>\n",
              "    <tr>\n",
              "      <th>8</th>\n",
              "      <td>17</td>\n",
              "      <td>time between meetings</td>\n",
              "    </tr>\n",
              "    <tr>\n",
              "      <th>9</th>\n",
              "      <td>18</td>\n",
              "      <td>women in stem</td>\n",
              "    </tr>\n",
              "    <tr>\n",
              "      <th>10</th>\n",
              "      <td>19</td>\n",
              "      <td>ai in healthcare</td>\n",
              "    </tr>\n",
              "    <tr>\n",
              "      <th>11</th>\n",
              "      <td>20</td>\n",
              "      <td>cost of childcare</td>\n",
              "    </tr>\n",
              "    <tr>\n",
              "      <th>12</th>\n",
              "      <td>21</td>\n",
              "      <td>juneteenth</td>\n",
              "    </tr>\n",
              "    <tr>\n",
              "      <th>13</th>\n",
              "      <td>22</td>\n",
              "      <td>chernobyl hbo</td>\n",
              "    </tr>\n",
              "    <tr>\n",
              "      <th>14</th>\n",
              "      <td>23</td>\n",
              "      <td>notre dame fire</td>\n",
              "    </tr>\n",
              "    <tr>\n",
              "      <th>15</th>\n",
              "      <td>24</td>\n",
              "      <td>france yellow vest protests</td>\n",
              "    </tr>\n",
              "    <tr>\n",
              "      <th>16</th>\n",
              "      <td>25</td>\n",
              "      <td>black lives matter</td>\n",
              "    </tr>\n",
              "    <tr>\n",
              "      <th>17</th>\n",
              "      <td>26</td>\n",
              "      <td>bob woodward</td>\n",
              "    </tr>\n",
              "    <tr>\n",
              "      <th>18</th>\n",
              "      <td>27</td>\n",
              "      <td>civil rights protest stories</td>\n",
              "    </tr>\n",
              "    <tr>\n",
              "      <th>19</th>\n",
              "      <td>28</td>\n",
              "      <td>yo-yo dieting</td>\n",
              "    </tr>\n",
              "    <tr>\n",
              "      <th>20</th>\n",
              "      <td>29</td>\n",
              "      <td>racism in canada</td>\n",
              "    </tr>\n",
              "    <tr>\n",
              "      <th>21</th>\n",
              "      <td>30</td>\n",
              "      <td>motherhood</td>\n",
              "    </tr>\n",
              "    <tr>\n",
              "      <th>22</th>\n",
              "      <td>31</td>\n",
              "      <td>horoscope reading cancer</td>\n",
              "    </tr>\n",
              "    <tr>\n",
              "      <th>23</th>\n",
              "      <td>32</td>\n",
              "      <td>giants game december 22</td>\n",
              "    </tr>\n",
              "    <tr>\n",
              "      <th>24</th>\n",
              "      <td>33</td>\n",
              "      <td>hvac industry environmentalism</td>\n",
              "    </tr>\n",
              "    <tr>\n",
              "      <th>25</th>\n",
              "      <td>34</td>\n",
              "      <td>halloween stories and chat</td>\n",
              "    </tr>\n",
              "    <tr>\n",
              "      <th>26</th>\n",
              "      <td>35</td>\n",
              "      <td>living debt free</td>\n",
              "    </tr>\n",
              "    <tr>\n",
              "      <th>27</th>\n",
              "      <td>36</td>\n",
              "      <td>cryptocurrency risks</td>\n",
              "    </tr>\n",
              "    <tr>\n",
              "      <th>28</th>\n",
              "      <td>37</td>\n",
              "      <td>slow travel</td>\n",
              "    </tr>\n",
              "    <tr>\n",
              "      <th>29</th>\n",
              "      <td>38</td>\n",
              "      <td>workplace diversity</td>\n",
              "    </tr>\n",
              "    <tr>\n",
              "      <th>30</th>\n",
              "      <td>39</td>\n",
              "      <td>social media marketing</td>\n",
              "    </tr>\n",
              "    <tr>\n",
              "      <th>31</th>\n",
              "      <td>40</td>\n",
              "      <td>bees dying</td>\n",
              "    </tr>\n",
              "    <tr>\n",
              "      <th>32</th>\n",
              "      <td>41</td>\n",
              "      <td>gmo food labeling</td>\n",
              "    </tr>\n",
              "    <tr>\n",
              "      <th>33</th>\n",
              "      <td>42</td>\n",
              "      <td>fyre festival</td>\n",
              "    </tr>\n",
              "    <tr>\n",
              "      <th>34</th>\n",
              "      <td>43</td>\n",
              "      <td>hong kong protests</td>\n",
              "    </tr>\n",
              "    <tr>\n",
              "      <th>35</th>\n",
              "      <td>44</td>\n",
              "      <td>thanksgiving comedy special</td>\n",
              "    </tr>\n",
              "    <tr>\n",
              "      <th>36</th>\n",
              "      <td>45</td>\n",
              "      <td>drafting tight ends</td>\n",
              "    </tr>\n",
              "    <tr>\n",
              "      <th>37</th>\n",
              "      <td>46</td>\n",
              "      <td>missouri quilt mom</td>\n",
              "    </tr>\n",
              "    <tr>\n",
              "      <th>38</th>\n",
              "      <td>47</td>\n",
              "      <td>sci-fi author interview mars</td>\n",
              "    </tr>\n",
              "    <tr>\n",
              "      <th>39</th>\n",
              "      <td>48</td>\n",
              "      <td>spike lee movie score</td>\n",
              "    </tr>\n",
              "    <tr>\n",
              "      <th>40</th>\n",
              "      <td>49</td>\n",
              "      <td>thrift store smell</td>\n",
              "    </tr>\n",
              "    <tr>\n",
              "      <th>41</th>\n",
              "      <td>50</td>\n",
              "      <td>coast guard coxswain</td>\n",
              "    </tr>\n",
              "    <tr>\n",
              "      <th>42</th>\n",
              "      <td>51</td>\n",
              "      <td>queer eye veteran</td>\n",
              "    </tr>\n",
              "    <tr>\n",
              "      <th>43</th>\n",
              "      <td>52</td>\n",
              "      <td>fauci interview</td>\n",
              "    </tr>\n",
              "    <tr>\n",
              "      <th>44</th>\n",
              "      <td>53</td>\n",
              "      <td>recommended books for entrepreneurs</td>\n",
              "    </tr>\n",
              "    <tr>\n",
              "      <th>45</th>\n",
              "      <td>54</td>\n",
              "      <td>bias in college admissions</td>\n",
              "    </tr>\n",
              "    <tr>\n",
              "      <th>46</th>\n",
              "      <td>55</td>\n",
              "      <td>malcolm x biography</td>\n",
              "    </tr>\n",
              "    <tr>\n",
              "      <th>47</th>\n",
              "      <td>56</td>\n",
              "      <td>gaslighting</td>\n",
              "    </tr>\n",
              "    <tr>\n",
              "      <th>48</th>\n",
              "      <td>57</td>\n",
              "      <td>nefertiti</td>\n",
              "    </tr>\n",
              "    <tr>\n",
              "      <th>49</th>\n",
              "      <td>58</td>\n",
              "      <td>sam bush interview</td>\n",
              "    </tr>\n",
              "  </tbody>\n",
              "</table>\n",
              "</div>"
            ],
            "text/plain": [
              "    qnum                                query\n",
              "0      9       trump call ukrainian president\n",
              "1     10              boeing 737 crash causes\n",
              "2     11                   how to cook turkey\n",
              "3     12                    imran khan career\n",
              "4     13              drug addiction recovery\n",
              "5     14               near death experiences\n",
              "6     15               podcast about podcasts\n",
              "7     16   causes and prevention of wildfires\n",
              "8     17                time between meetings\n",
              "9     18                        women in stem\n",
              "10    19                     ai in healthcare\n",
              "11    20                    cost of childcare\n",
              "12    21                           juneteenth\n",
              "13    22                        chernobyl hbo\n",
              "14    23                      notre dame fire\n",
              "15    24          france yellow vest protests\n",
              "16    25                   black lives matter\n",
              "17    26                         bob woodward\n",
              "18    27         civil rights protest stories\n",
              "19    28                        yo-yo dieting\n",
              "20    29                     racism in canada\n",
              "21    30                           motherhood\n",
              "22    31             horoscope reading cancer\n",
              "23    32              giants game december 22\n",
              "24    33       hvac industry environmentalism\n",
              "25    34           halloween stories and chat\n",
              "26    35                     living debt free\n",
              "27    36                 cryptocurrency risks\n",
              "28    37                          slow travel\n",
              "29    38                  workplace diversity\n",
              "30    39               social media marketing\n",
              "31    40                           bees dying\n",
              "32    41                    gmo food labeling\n",
              "33    42                        fyre festival\n",
              "34    43                   hong kong protests\n",
              "35    44          thanksgiving comedy special\n",
              "36    45                  drafting tight ends\n",
              "37    46                   missouri quilt mom\n",
              "38    47         sci-fi author interview mars\n",
              "39    48                spike lee movie score\n",
              "40    49                   thrift store smell\n",
              "41    50                 coast guard coxswain\n",
              "42    51                    queer eye veteran\n",
              "43    52                      fauci interview\n",
              "44    53  recommended books for entrepreneurs\n",
              "45    54           bias in college admissions\n",
              "46    55                  malcolm x biography\n",
              "47    56                          gaslighting\n",
              "48    57                            nefertiti\n",
              "49    58                   sam bush interview"
            ]
          },
          "metadata": {},
          "execution_count": 22
        }
      ]
    },
    {
      "cell_type": "code",
      "metadata": {
        "id": "i0-ku5woz3qf"
      },
      "source": [
        "results_file = '/content/gdrive/MyDrive/col764/results/run.query.test.txt'"
      ],
      "execution_count": 23,
      "outputs": []
    },
    {
      "cell_type": "code",
      "metadata": {
        "id": "bZNjSKORzq1a"
      },
      "source": [
        "bm25_ranks = pd.read_csv(results_file,sep=' ',header=None)\n",
        "bm25_ranks.columns = ['qnum','qid','epid','rank','score','runid']"
      ],
      "execution_count": 24,
      "outputs": []
    },
    {
      "cell_type": "code",
      "metadata": {
        "colab": {
          "base_uri": "https://localhost:8080/",
          "height": 417
        },
        "id": "BAql2YMV0ENg",
        "outputId": "442a783b-5b42-45d6-90f5-47fe11bc7843"
      },
      "source": [
        "bm25_ranks"
      ],
      "execution_count": 25,
      "outputs": [
        {
          "output_type": "execute_result",
          "data": {
            "text/html": [
              "<div>\n",
              "<style scoped>\n",
              "    .dataframe tbody tr th:only-of-type {\n",
              "        vertical-align: middle;\n",
              "    }\n",
              "\n",
              "    .dataframe tbody tr th {\n",
              "        vertical-align: top;\n",
              "    }\n",
              "\n",
              "    .dataframe thead th {\n",
              "        text-align: right;\n",
              "    }\n",
              "</style>\n",
              "<table border=\"1\" class=\"dataframe\">\n",
              "  <thead>\n",
              "    <tr style=\"text-align: right;\">\n",
              "      <th></th>\n",
              "      <th>qnum</th>\n",
              "      <th>qid</th>\n",
              "      <th>epid</th>\n",
              "      <th>rank</th>\n",
              "      <th>score</th>\n",
              "      <th>runid</th>\n",
              "    </tr>\n",
              "  </thead>\n",
              "  <tbody>\n",
              "    <tr>\n",
              "      <th>0</th>\n",
              "      <td>9</td>\n",
              "      <td>Q0</td>\n",
              "      <td>spotify:episode:6O8djf3RL94yNfaoWqvk3r_840.0</td>\n",
              "      <td>1</td>\n",
              "      <td>16.569401</td>\n",
              "      <td>Anserini</td>\n",
              "    </tr>\n",
              "    <tr>\n",
              "      <th>1</th>\n",
              "      <td>9</td>\n",
              "      <td>Q0</td>\n",
              "      <td>spotify:episode:3gJ0fBXYRryWAjgwxY4q6C_240.0</td>\n",
              "      <td>2</td>\n",
              "      <td>16.302999</td>\n",
              "      <td>Anserini</td>\n",
              "    </tr>\n",
              "    <tr>\n",
              "      <th>2</th>\n",
              "      <td>9</td>\n",
              "      <td>Q0</td>\n",
              "      <td>spotify:episode:6svv5L5kRn8groSsM8gkpc_3180.0</td>\n",
              "      <td>3</td>\n",
              "      <td>15.984800</td>\n",
              "      <td>Anserini</td>\n",
              "    </tr>\n",
              "    <tr>\n",
              "      <th>3</th>\n",
              "      <td>9</td>\n",
              "      <td>Q0</td>\n",
              "      <td>spotify:episode:4JqqVFhNjtlwoIMl5tvL8R_780.0</td>\n",
              "      <td>4</td>\n",
              "      <td>15.275800</td>\n",
              "      <td>Anserini</td>\n",
              "    </tr>\n",
              "    <tr>\n",
              "      <th>4</th>\n",
              "      <td>9</td>\n",
              "      <td>Q0</td>\n",
              "      <td>spotify:episode:3gJ0fBXYRryWAjgwxY4q6C_0.0</td>\n",
              "      <td>5</td>\n",
              "      <td>14.734600</td>\n",
              "      <td>Anserini</td>\n",
              "    </tr>\n",
              "    <tr>\n",
              "      <th>...</th>\n",
              "      <td>...</td>\n",
              "      <td>...</td>\n",
              "      <td>...</td>\n",
              "      <td>...</td>\n",
              "      <td>...</td>\n",
              "      <td>...</td>\n",
              "    </tr>\n",
              "    <tr>\n",
              "      <th>47753</th>\n",
              "      <td>58</td>\n",
              "      <td>Q0</td>\n",
              "      <td>spotify:episode:30j4F0dABykbXJuGevrfNB_1920.0</td>\n",
              "      <td>996</td>\n",
              "      <td>4.663695</td>\n",
              "      <td>Anserini</td>\n",
              "    </tr>\n",
              "    <tr>\n",
              "      <th>47754</th>\n",
              "      <td>58</td>\n",
              "      <td>Q0</td>\n",
              "      <td>spotify:episode:3ALoC0SU00c8RtxQHohesZ_1440.0</td>\n",
              "      <td>997</td>\n",
              "      <td>4.663694</td>\n",
              "      <td>Anserini</td>\n",
              "    </tr>\n",
              "    <tr>\n",
              "      <th>47755</th>\n",
              "      <td>58</td>\n",
              "      <td>Q0</td>\n",
              "      <td>spotify:episode:3ALoC0SU00c8RtxQHohesZ_420.0</td>\n",
              "      <td>998</td>\n",
              "      <td>4.663693</td>\n",
              "      <td>Anserini</td>\n",
              "    </tr>\n",
              "    <tr>\n",
              "      <th>47756</th>\n",
              "      <td>58</td>\n",
              "      <td>Q0</td>\n",
              "      <td>spotify:episode:3bieaciVail62osQ0YC8JE_1380.0</td>\n",
              "      <td>999</td>\n",
              "      <td>4.663692</td>\n",
              "      <td>Anserini</td>\n",
              "    </tr>\n",
              "    <tr>\n",
              "      <th>47757</th>\n",
              "      <td>58</td>\n",
              "      <td>Q0</td>\n",
              "      <td>spotify:episode:46C2ViLe0XIWBxQEIW0RpM_1020.0</td>\n",
              "      <td>1000</td>\n",
              "      <td>4.663691</td>\n",
              "      <td>Anserini</td>\n",
              "    </tr>\n",
              "  </tbody>\n",
              "</table>\n",
              "<p>47758 rows × 6 columns</p>\n",
              "</div>"
            ],
            "text/plain": [
              "       qnum qid  ...      score     runid\n",
              "0         9  Q0  ...  16.569401  Anserini\n",
              "1         9  Q0  ...  16.302999  Anserini\n",
              "2         9  Q0  ...  15.984800  Anserini\n",
              "3         9  Q0  ...  15.275800  Anserini\n",
              "4         9  Q0  ...  14.734600  Anserini\n",
              "...     ...  ..  ...        ...       ...\n",
              "47753    58  Q0  ...   4.663695  Anserini\n",
              "47754    58  Q0  ...   4.663694  Anserini\n",
              "47755    58  Q0  ...   4.663693  Anserini\n",
              "47756    58  Q0  ...   4.663692  Anserini\n",
              "47757    58  Q0  ...   4.663691  Anserini\n",
              "\n",
              "[47758 rows x 6 columns]"
            ]
          },
          "metadata": {},
          "execution_count": 25
        }
      ]
    },
    {
      "cell_type": "code",
      "metadata": {
        "id": "BHJG1JotK9PX"
      },
      "source": [
        "bm25_ranks = bm25_ranks[bm25_ranks['rank']<51].reset_index(drop=True)"
      ],
      "execution_count": 26,
      "outputs": []
    },
    {
      "cell_type": "code",
      "metadata": {
        "id": "6JdrhHAJ0tc7"
      },
      "source": [
        "episode_contents = {k:None for k in bm25_ranks.epid.unique()}"
      ],
      "execution_count": 27,
      "outputs": []
    },
    {
      "cell_type": "code",
      "metadata": {
        "colab": {
          "base_uri": "https://localhost:8080/"
        },
        "id": "_XH7UC2N161K",
        "outputId": "2dae1db8-5cdd-451e-87a2-d95cace433cd"
      },
      "source": [
        "!ls /content/"
      ],
      "execution_count": 28,
      "outputs": [
        {
          "output_type": "stream",
          "name": "stdout",
          "text": [
            "bert-model  gdrive  output_copy  sample_data  trec_eval\n"
          ]
        }
      ]
    },
    {
      "cell_type": "code",
      "metadata": {
        "id": "KzeQQHXCzJm1"
      },
      "source": [
        "import json\n",
        "for root, dirs, files in os.walk('/content/output_copy'):\n",
        "  files.sort()\n",
        "  for file in files:\n",
        "    # print(file)\n",
        "    with open(root+\"/\"+file,'r') as f:\n",
        "      episode_segments = json.load(f)\n",
        "      for segment in episode_segments:\n",
        "        if segment['id'] in episode_contents:\n",
        "          episode_contents[segment['id']] = segment['contents']"
      ],
      "execution_count": 29,
      "outputs": []
    },
    {
      "cell_type": "code",
      "metadata": {
        "colab": {
          "base_uri": "https://localhost:8080/"
        },
        "id": "IelSspxn1fPb",
        "outputId": "b8ab4593-afb7-4d22-aafa-69d2971f61ff"
      },
      "source": [
        "len(sorted(list(episode_contents.keys())))"
      ],
      "execution_count": 30,
      "outputs": [
        {
          "output_type": "execute_result",
          "data": {
            "text/plain": [
              "2471"
            ]
          },
          "metadata": {},
          "execution_count": 30
        }
      ]
    },
    {
      "cell_type": "code",
      "metadata": {
        "id": "U_iVzB5WLTgp"
      },
      "source": [
        "bm25_ranks['segment'] = bm25_ranks['epid'].map(episode_contents)"
      ],
      "execution_count": 31,
      "outputs": []
    },
    {
      "cell_type": "code",
      "metadata": {
        "id": "alrFrfp9LiQu"
      },
      "source": [
        "bm25_ranks=bm25_ranks.merge(queries,how='left',left_on='qnum',right_on='qnum')"
      ],
      "execution_count": 32,
      "outputs": []
    },
    {
      "cell_type": "code",
      "metadata": {
        "id": "MYDOjNRgt5eW"
      },
      "source": [
        "q_trunc = 64\n",
        "p_trunc = 512-64+1"
      ],
      "execution_count": 33,
      "outputs": []
    },
    {
      "cell_type": "code",
      "metadata": {
        "id": "FjF14HTFu7HB"
      },
      "source": [
        "import gc\n",
        "import numpy as np"
      ],
      "execution_count": 34,
      "outputs": []
    },
    {
      "cell_type": "code",
      "metadata": {
        "colab": {
          "base_uri": "https://localhost:8080/"
        },
        "id": "398g7Ja6MkNn",
        "outputId": "fcbcdae0-8e77-4775-d106-05628e4f3925"
      },
      "source": [
        "q = tokenizer(bm25_ranks['query'].values.tolist(), return_tensors=\"tf\",padding=\"max_length\",max_length=q_trunc,truncation=True)\n",
        "p = tokenizer(bm25_ranks['segment'].values.tolist(), return_tensors=\"tf\",padding=\"max_length\",max_length=p_trunc,truncation=True)\n",
        "X_test = []\n",
        "for id in ['input_ids','token_type_ids','attention_mask']:\n",
        "  X_test.append(tf.concat([q[id],p[id][:,1:]],1))\n",
        "q = None\n",
        "p = None\n",
        "gc.collect()"
      ],
      "execution_count": 35,
      "outputs": [
        {
          "output_type": "execute_result",
          "data": {
            "text/plain": [
              "24990"
            ]
          },
          "metadata": {},
          "execution_count": 35
        }
      ]
    },
    {
      "cell_type": "code",
      "metadata": {
        "id": "2fTZQ14CNHmV",
        "colab": {
          "base_uri": "https://localhost:8080/"
        },
        "outputId": "93ba150a-4592-4a59-b4a2-37db338bf869"
      },
      "source": [
        "scores = model.predict(X_test,batch_size=128,verbose=1)"
      ],
      "execution_count": 36,
      "outputs": [
        {
          "output_type": "stream",
          "name": "stdout",
          "text": [
            "20/20 [==============================] - 181s 9s/step\n"
          ]
        }
      ]
    },
    {
      "cell_type": "code",
      "metadata": {
        "colab": {
          "base_uri": "https://localhost:8080/"
        },
        "id": "fbjC6zzHOhr3",
        "outputId": "e838dda6-3b9b-4f3e-ea22-448293acc22b"
      },
      "source": [
        "print(scores.shape)"
      ],
      "execution_count": 37,
      "outputs": [
        {
          "output_type": "stream",
          "name": "stdout",
          "text": [
            "(2476, 1)\n"
          ]
        }
      ]
    },
    {
      "cell_type": "code",
      "metadata": {
        "id": "Jom5W4lEOd39"
      },
      "source": [
        "bm25_ranks['score'] = scores"
      ],
      "execution_count": 38,
      "outputs": []
    },
    {
      "cell_type": "code",
      "metadata": {
        "id": "L7wMEbUIP19a"
      },
      "source": [
        "bm25_ranks = bm25_ranks.drop(['segment','query'],axis=1)"
      ],
      "execution_count": 39,
      "outputs": []
    },
    {
      "cell_type": "code",
      "metadata": {
        "id": "Syr26U4_Onuo"
      },
      "source": [
        "bm25_ranks = bm25_ranks.sort_values(['qnum','score'], ascending = [True, False]).reset_index(drop=True)"
      ],
      "execution_count": 40,
      "outputs": []
    },
    {
      "cell_type": "code",
      "metadata": {
        "id": "EblD05iwQHSw"
      },
      "source": [
        "bm25_ranks['rank'] = bm25_ranks.groupby('qnum')['score'].rank(ascending=False).astype(np.int16)"
      ],
      "execution_count": 41,
      "outputs": []
    },
    {
      "cell_type": "code",
      "metadata": {
        "colab": {
          "base_uri": "https://localhost:8080/",
          "height": 417
        },
        "id": "1KVBgY13QqNe",
        "outputId": "f9d7d9a3-ce40-4c18-d7b3-ce8f603dc57b"
      },
      "source": [
        "bm25_ranks"
      ],
      "execution_count": 42,
      "outputs": [
        {
          "output_type": "execute_result",
          "data": {
            "text/html": [
              "<div>\n",
              "<style scoped>\n",
              "    .dataframe tbody tr th:only-of-type {\n",
              "        vertical-align: middle;\n",
              "    }\n",
              "\n",
              "    .dataframe tbody tr th {\n",
              "        vertical-align: top;\n",
              "    }\n",
              "\n",
              "    .dataframe thead th {\n",
              "        text-align: right;\n",
              "    }\n",
              "</style>\n",
              "<table border=\"1\" class=\"dataframe\">\n",
              "  <thead>\n",
              "    <tr style=\"text-align: right;\">\n",
              "      <th></th>\n",
              "      <th>qnum</th>\n",
              "      <th>qid</th>\n",
              "      <th>epid</th>\n",
              "      <th>rank</th>\n",
              "      <th>score</th>\n",
              "      <th>runid</th>\n",
              "    </tr>\n",
              "  </thead>\n",
              "  <tbody>\n",
              "    <tr>\n",
              "      <th>0</th>\n",
              "      <td>9</td>\n",
              "      <td>Q0</td>\n",
              "      <td>spotify:episode:6svv5L5kRn8groSsM8gkpc_3120.0</td>\n",
              "      <td>1</td>\n",
              "      <td>0.550882</td>\n",
              "      <td>Anserini</td>\n",
              "    </tr>\n",
              "    <tr>\n",
              "      <th>1</th>\n",
              "      <td>9</td>\n",
              "      <td>Q0</td>\n",
              "      <td>spotify:episode:4JqqVFhNjtlwoIMl5tvL8R_780.0</td>\n",
              "      <td>2</td>\n",
              "      <td>0.482461</td>\n",
              "      <td>Anserini</td>\n",
              "    </tr>\n",
              "    <tr>\n",
              "      <th>2</th>\n",
              "      <td>9</td>\n",
              "      <td>Q0</td>\n",
              "      <td>spotify:episode:6O8djf3RL94yNfaoWqvk3r_840.0</td>\n",
              "      <td>3</td>\n",
              "      <td>0.465984</td>\n",
              "      <td>Anserini</td>\n",
              "    </tr>\n",
              "    <tr>\n",
              "      <th>3</th>\n",
              "      <td>9</td>\n",
              "      <td>Q0</td>\n",
              "      <td>spotify:episode:3gJ0fBXYRryWAjgwxY4q6C_240.0</td>\n",
              "      <td>4</td>\n",
              "      <td>0.327170</td>\n",
              "      <td>Anserini</td>\n",
              "    </tr>\n",
              "    <tr>\n",
              "      <th>4</th>\n",
              "      <td>9</td>\n",
              "      <td>Q0</td>\n",
              "      <td>spotify:episode:6svv5L5kRn8groSsM8gkpc_3180.0</td>\n",
              "      <td>5</td>\n",
              "      <td>0.318324</td>\n",
              "      <td>Anserini</td>\n",
              "    </tr>\n",
              "    <tr>\n",
              "      <th>...</th>\n",
              "      <td>...</td>\n",
              "      <td>...</td>\n",
              "      <td>...</td>\n",
              "      <td>...</td>\n",
              "      <td>...</td>\n",
              "      <td>...</td>\n",
              "    </tr>\n",
              "    <tr>\n",
              "      <th>2471</th>\n",
              "      <td>58</td>\n",
              "      <td>Q0</td>\n",
              "      <td>spotify:episode:0CwYbNjJlIYF49WAMyAg4u_240.0</td>\n",
              "      <td>46</td>\n",
              "      <td>0.022834</td>\n",
              "      <td>Anserini</td>\n",
              "    </tr>\n",
              "    <tr>\n",
              "      <th>2472</th>\n",
              "      <td>58</td>\n",
              "      <td>Q0</td>\n",
              "      <td>spotify:episode:5xDfrpC4pmkHBVf28JYKv1_120.0</td>\n",
              "      <td>47</td>\n",
              "      <td>0.022609</td>\n",
              "      <td>Anserini</td>\n",
              "    </tr>\n",
              "    <tr>\n",
              "      <th>2473</th>\n",
              "      <td>58</td>\n",
              "      <td>Q0</td>\n",
              "      <td>spotify:episode:157pxhEAYkEViaxyYY2Qqi_2460.0</td>\n",
              "      <td>48</td>\n",
              "      <td>0.020754</td>\n",
              "      <td>Anserini</td>\n",
              "    </tr>\n",
              "    <tr>\n",
              "      <th>2474</th>\n",
              "      <td>58</td>\n",
              "      <td>Q0</td>\n",
              "      <td>spotify:episode:0Ec1VOSw0IcIqyhKJXT4hi_2220.0</td>\n",
              "      <td>49</td>\n",
              "      <td>0.020148</td>\n",
              "      <td>Anserini</td>\n",
              "    </tr>\n",
              "    <tr>\n",
              "      <th>2475</th>\n",
              "      <td>58</td>\n",
              "      <td>Q0</td>\n",
              "      <td>spotify:episode:5pCYtmPK749a2vjErb8I1P_3840.0</td>\n",
              "      <td>50</td>\n",
              "      <td>0.018621</td>\n",
              "      <td>Anserini</td>\n",
              "    </tr>\n",
              "  </tbody>\n",
              "</table>\n",
              "<p>2476 rows × 6 columns</p>\n",
              "</div>"
            ],
            "text/plain": [
              "      qnum qid  ...     score     runid\n",
              "0        9  Q0  ...  0.550882  Anserini\n",
              "1        9  Q0  ...  0.482461  Anserini\n",
              "2        9  Q0  ...  0.465984  Anserini\n",
              "3        9  Q0  ...  0.327170  Anserini\n",
              "4        9  Q0  ...  0.318324  Anserini\n",
              "...    ...  ..  ...       ...       ...\n",
              "2471    58  Q0  ...  0.022834  Anserini\n",
              "2472    58  Q0  ...  0.022609  Anserini\n",
              "2473    58  Q0  ...  0.020754  Anserini\n",
              "2474    58  Q0  ...  0.020148  Anserini\n",
              "2475    58  Q0  ...  0.018621  Anserini\n",
              "\n",
              "[2476 rows x 6 columns]"
            ]
          },
          "metadata": {},
          "execution_count": 42
        }
      ]
    },
    {
      "cell_type": "code",
      "metadata": {
        "id": "HDU7Tc3fQxZy"
      },
      "source": [
        "bm25_ranks.to_csv(results_file+'.reranked', sep = '\\t', index=False)"
      ],
      "execution_count": 43,
      "outputs": []
    },
    {
      "cell_type": "code",
      "metadata": {
        "colab": {
          "base_uri": "https://localhost:8080/"
        },
        "id": "naBwbVastvE-",
        "outputId": "ed6290e5-80ad-4fbc-c519-ebbaeb2e1dde"
      },
      "source": [
        "!git clone https://github.com/usnistgov/trec_eval"
      ],
      "execution_count": 44,
      "outputs": [
        {
          "output_type": "stream",
          "name": "stdout",
          "text": [
            "fatal: destination path 'trec_eval' already exists and is not an empty directory.\n"
          ]
        }
      ]
    },
    {
      "cell_type": "code",
      "metadata": {
        "colab": {
          "base_uri": "https://localhost:8080/"
        },
        "id": "J_KCo3XWJbCY",
        "outputId": "3e970070-42fd-4371-cb83-1350feea91af"
      },
      "source": [
        "!cd trec_eval;make"
      ],
      "execution_count": 45,
      "outputs": [
        {
          "output_type": "stream",
          "name": "stdout",
          "text": [
            "make: 'trec_eval' is up to date.\n"
          ]
        }
      ]
    },
    {
      "cell_type": "code",
      "metadata": {
        "colab": {
          "base_uri": "https://localhost:8080/"
        },
        "id": "8UkKuvrM1Zv9",
        "outputId": "d9aff53e-3004-4c70-ce63-e8d0df85f56a"
      },
      "source": [
        "!./trec_eval/trec_eval  -q -c -M1000 -m ndcg_cut.5 /content/gdrive/MyDrive/col764/qrels/2020_test_qrels.list {results_file}.reranked"
      ],
      "execution_count": 46,
      "outputs": [
        {
          "output_type": "stream",
          "name": "stdout",
          "text": [
            "ndcg_cut_5            \t10\t0.0000\n",
            "ndcg_cut_5            \t11\t0.3688\n",
            "ndcg_cut_5            \t12\t0.0000\n",
            "ndcg_cut_5            \t13\t0.0000\n",
            "ndcg_cut_5            \t14\t0.6667\n",
            "ndcg_cut_5            \t15\t0.0000\n",
            "ndcg_cut_5            \t16\t0.1696\n",
            "ndcg_cut_5            \t17\t0.0000\n",
            "ndcg_cut_5            \t18\t0.1378\n",
            "ndcg_cut_5            \t19\t0.7636\n",
            "ndcg_cut_5            \t20\t0.1830\n",
            "ndcg_cut_5            \t21\t0.3766\n",
            "ndcg_cut_5            \t22\t0.0477\n",
            "ndcg_cut_5            \t23\t0.2234\n",
            "ndcg_cut_5            \t24\t0.6417\n",
            "ndcg_cut_5            \t25\t0.7227\n",
            "ndcg_cut_5            \t26\t0.4773\n",
            "ndcg_cut_5            \t27\t0.7939\n",
            "ndcg_cut_5            \t28\t0.4344\n",
            "ndcg_cut_5            \t29\t0.3392\n",
            "ndcg_cut_5            \t30\t0.2246\n",
            "ndcg_cut_5            \t31\t0.0000\n",
            "ndcg_cut_5            \t32\t0.0000\n",
            "ndcg_cut_5            \t33\t0.3352\n",
            "ndcg_cut_5            \t34\t0.2733\n",
            "ndcg_cut_5            \t35\t0.3107\n",
            "ndcg_cut_5            \t36\t0.3300\n",
            "ndcg_cut_5            \t37\t0.4907\n",
            "ndcg_cut_5            \t38\t0.8156\n",
            "ndcg_cut_5            \t39\t0.3389\n",
            "ndcg_cut_5            \t40\t0.4012\n",
            "ndcg_cut_5            \t41\t0.3614\n",
            "ndcg_cut_5            \t42\t0.0000\n",
            "ndcg_cut_5            \t43\t0.1815\n",
            "ndcg_cut_5            \t44\t0.0000\n",
            "ndcg_cut_5            \t45\t0.2974\n",
            "ndcg_cut_5            \t46\t0.5792\n",
            "ndcg_cut_5            \t48\t0.4855\n",
            "ndcg_cut_5            \t49\t0.8098\n",
            "ndcg_cut_5            \t51\t0.2860\n",
            "ndcg_cut_5            \t52\t0.0000\n",
            "ndcg_cut_5            \t53\t0.3406\n",
            "ndcg_cut_5            \t54\t0.7786\n",
            "ndcg_cut_5            \t55\t0.3973\n",
            "ndcg_cut_5            \t56\t0.0000\n",
            "ndcg_cut_5            \t57\t0.3813\n",
            "ndcg_cut_5            \t58\t0.3452\n",
            "ndcg_cut_5            \t9\t0.7648\n",
            "ndcg_cut_5            \tall\t0.3307\n"
          ]
        }
      ]
    },
    {
      "cell_type": "code",
      "metadata": {
        "colab": {
          "base_uri": "https://localhost:8080/"
        },
        "id": "4KuScHB8L6ZR",
        "outputId": "15da62e8-2a79-4092-83ff-47383c549aac"
      },
      "source": [
        "!./trec_eval/trec_eval  -q -c -m ndcg_cut.5  /content/gdrive/MyDrive/col764/qrels/2020_test_qrels.list {results_file}"
      ],
      "execution_count": 47,
      "outputs": [
        {
          "output_type": "stream",
          "name": "stdout",
          "text": [
            "ndcg_cut_5            \t10\t0.6302\n",
            "ndcg_cut_5            \t11\t0.3383\n",
            "ndcg_cut_5            \t12\t0.2140\n",
            "ndcg_cut_5            \t13\t0.0000\n",
            "ndcg_cut_5            \t14\t0.7945\n",
            "ndcg_cut_5            \t15\t0.0000\n",
            "ndcg_cut_5            \t16\t0.1918\n",
            "ndcg_cut_5            \t17\t0.0000\n",
            "ndcg_cut_5            \t18\t0.0000\n",
            "ndcg_cut_5            \t19\t0.7174\n",
            "ndcg_cut_5            \t20\t0.6740\n",
            "ndcg_cut_5            \t21\t0.4979\n",
            "ndcg_cut_5            \t22\t0.1556\n",
            "ndcg_cut_5            \t23\t0.0000\n",
            "ndcg_cut_5            \t24\t0.2517\n",
            "ndcg_cut_5            \t25\t0.6399\n",
            "ndcg_cut_5            \t26\t0.7021\n",
            "ndcg_cut_5            \t27\t0.4790\n",
            "ndcg_cut_5            \t28\t0.6070\n",
            "ndcg_cut_5            \t29\t0.7154\n",
            "ndcg_cut_5            \t30\t0.1598\n",
            "ndcg_cut_5            \t31\t0.0000\n",
            "ndcg_cut_5            \t32\t0.1091\n",
            "ndcg_cut_5            \t33\t0.3493\n",
            "ndcg_cut_5            \t34\t0.2140\n",
            "ndcg_cut_5            \t35\t0.3284\n",
            "ndcg_cut_5            \t36\t0.5932\n",
            "ndcg_cut_5            \t37\t0.2953\n",
            "ndcg_cut_5            \t38\t0.9076\n",
            "ndcg_cut_5            \t39\t0.4480\n",
            "ndcg_cut_5            \t40\t0.6634\n",
            "ndcg_cut_5            \t41\t0.5000\n",
            "ndcg_cut_5            \t42\t0.0000\n",
            "ndcg_cut_5            \t43\t0.4693\n",
            "ndcg_cut_5            \t44\t0.4846\n",
            "ndcg_cut_5            \t45\t0.7084\n",
            "ndcg_cut_5            \t46\t0.9320\n",
            "ndcg_cut_5            \t48\t0.1845\n",
            "ndcg_cut_5            \t49\t0.0683\n",
            "ndcg_cut_5            \t51\t0.1753\n",
            "ndcg_cut_5            \t52\t0.0000\n",
            "ndcg_cut_5            \t53\t0.3611\n",
            "ndcg_cut_5            \t54\t0.2246\n",
            "ndcg_cut_5            \t55\t0.2088\n",
            "ndcg_cut_5            \t56\t0.0000\n",
            "ndcg_cut_5            \t57\t0.9137\n",
            "ndcg_cut_5            \t58\t0.5531\n",
            "ndcg_cut_5            \t9\t0.8496\n",
            "ndcg_cut_5            \tall\t0.3815\n"
          ]
        }
      ]
    },
    {
      "cell_type": "code",
      "metadata": {
        "colab": {
          "base_uri": "https://localhost:8080/"
        },
        "id": "lhjuJ9lRJIZ4",
        "outputId": "d64fad4c-fa9f-4a87-bfef-00983c752836"
      },
      "source": [
        "!ls /content/gdrive/MyDrive/col764/results/"
      ],
      "execution_count": 48,
      "outputs": [
        {
          "output_type": "stream",
          "name": "stdout",
          "text": [
            "run.desc.test.txt   run.query.test.txt\t\t run.query.train.txt\n",
            "run.desc.train.txt  run.query.test.txt.reranked\n"
          ]
        }
      ]
    }
  ]
}