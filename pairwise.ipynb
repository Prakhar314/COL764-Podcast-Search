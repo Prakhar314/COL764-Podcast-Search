{
  "nbformat": 4,
  "nbformat_minor": 0,
  "metadata": {
    "colab": {
      "name": "pairwise.ipynb",
      "provenance": [],
      "collapsed_sections": [],
      "authorship_tag": "ABX9TyMGyZXZDHVQGCSGrrSlFYK1",
      "include_colab_link": true
    },
    "kernelspec": {
      "display_name": "Python 3",
      "name": "python3"
    },
    "language_info": {
      "name": "python"
    },
    "widgets": {
      "application/vnd.jupyter.widget-state+json": {
        "91300e4792b04e26b2af148b06b3b8f0": {
          "model_module": "@jupyter-widgets/controls",
          "model_name": "HBoxModel",
          "model_module_version": "1.5.0",
          "state": {
            "_view_name": "HBoxView",
            "_dom_classes": [],
            "_model_name": "HBoxModel",
            "_view_module": "@jupyter-widgets/controls",
            "_model_module_version": "1.5.0",
            "_view_count": null,
            "_view_module_version": "1.5.0",
            "box_style": "",
            "layout": "IPY_MODEL_4229a0be76e74bcb97c42299ebc8b92b",
            "_model_module": "@jupyter-widgets/controls",
            "children": [
              "IPY_MODEL_9bcb89af9f274338824feb5a2dc1bcf5",
              "IPY_MODEL_a32066248f8446fca6b79178be3a6465",
              "IPY_MODEL_87ab0dd1f22747a192de6ab75beaa146"
            ]
          }
        },
        "4229a0be76e74bcb97c42299ebc8b92b": {
          "model_module": "@jupyter-widgets/base",
          "model_name": "LayoutModel",
          "model_module_version": "1.2.0",
          "state": {
            "_view_name": "LayoutView",
            "grid_template_rows": null,
            "right": null,
            "justify_content": null,
            "_view_module": "@jupyter-widgets/base",
            "overflow": null,
            "_model_module_version": "1.2.0",
            "_view_count": null,
            "flex_flow": null,
            "width": null,
            "min_width": null,
            "border": null,
            "align_items": null,
            "bottom": null,
            "_model_module": "@jupyter-widgets/base",
            "top": null,
            "grid_column": null,
            "overflow_y": null,
            "overflow_x": null,
            "grid_auto_flow": null,
            "grid_area": null,
            "grid_template_columns": null,
            "flex": null,
            "_model_name": "LayoutModel",
            "justify_items": null,
            "grid_row": null,
            "max_height": null,
            "align_content": null,
            "visibility": null,
            "align_self": null,
            "height": null,
            "min_height": null,
            "padding": null,
            "grid_auto_rows": null,
            "grid_gap": null,
            "max_width": null,
            "order": null,
            "_view_module_version": "1.2.0",
            "grid_template_areas": null,
            "object_position": null,
            "object_fit": null,
            "grid_auto_columns": null,
            "margin": null,
            "display": null,
            "left": null
          }
        },
        "9bcb89af9f274338824feb5a2dc1bcf5": {
          "model_module": "@jupyter-widgets/controls",
          "model_name": "HTMLModel",
          "model_module_version": "1.5.0",
          "state": {
            "_view_name": "HTMLView",
            "style": "IPY_MODEL_a4d77f14eb2e45e1ad22a6a12d52ae68",
            "_dom_classes": [],
            "description": "",
            "_model_name": "HTMLModel",
            "placeholder": "​",
            "_view_module": "@jupyter-widgets/controls",
            "_model_module_version": "1.5.0",
            "value": "Downloading: 100%",
            "_view_count": null,
            "_view_module_version": "1.5.0",
            "description_tooltip": null,
            "_model_module": "@jupyter-widgets/controls",
            "layout": "IPY_MODEL_17e63b0df27749f9a9e5079132dfbf2b"
          }
        },
        "a32066248f8446fca6b79178be3a6465": {
          "model_module": "@jupyter-widgets/controls",
          "model_name": "FloatProgressModel",
          "model_module_version": "1.5.0",
          "state": {
            "_view_name": "ProgressView",
            "style": "IPY_MODEL_17473a4e9b274182a48159b0011d18ab",
            "_dom_classes": [],
            "description": "",
            "_model_name": "FloatProgressModel",
            "bar_style": "success",
            "max": 231508,
            "_view_module": "@jupyter-widgets/controls",
            "_model_module_version": "1.5.0",
            "value": 231508,
            "_view_count": null,
            "_view_module_version": "1.5.0",
            "orientation": "horizontal",
            "min": 0,
            "description_tooltip": null,
            "_model_module": "@jupyter-widgets/controls",
            "layout": "IPY_MODEL_6d70bfe2de9b42bb80acfd8373a3a021"
          }
        },
        "87ab0dd1f22747a192de6ab75beaa146": {
          "model_module": "@jupyter-widgets/controls",
          "model_name": "HTMLModel",
          "model_module_version": "1.5.0",
          "state": {
            "_view_name": "HTMLView",
            "style": "IPY_MODEL_2dee4df783ba4a4cab067b230aad8d16",
            "_dom_classes": [],
            "description": "",
            "_model_name": "HTMLModel",
            "placeholder": "​",
            "_view_module": "@jupyter-widgets/controls",
            "_model_module_version": "1.5.0",
            "value": " 226k/226k [00:00&lt;00:00, 438kB/s]",
            "_view_count": null,
            "_view_module_version": "1.5.0",
            "description_tooltip": null,
            "_model_module": "@jupyter-widgets/controls",
            "layout": "IPY_MODEL_329fe0dc340a4f9b8593f52ee1a5b166"
          }
        },
        "a4d77f14eb2e45e1ad22a6a12d52ae68": {
          "model_module": "@jupyter-widgets/controls",
          "model_name": "DescriptionStyleModel",
          "model_module_version": "1.5.0",
          "state": {
            "_view_name": "StyleView",
            "_model_name": "DescriptionStyleModel",
            "description_width": "",
            "_view_module": "@jupyter-widgets/base",
            "_model_module_version": "1.5.0",
            "_view_count": null,
            "_view_module_version": "1.2.0",
            "_model_module": "@jupyter-widgets/controls"
          }
        },
        "17e63b0df27749f9a9e5079132dfbf2b": {
          "model_module": "@jupyter-widgets/base",
          "model_name": "LayoutModel",
          "model_module_version": "1.2.0",
          "state": {
            "_view_name": "LayoutView",
            "grid_template_rows": null,
            "right": null,
            "justify_content": null,
            "_view_module": "@jupyter-widgets/base",
            "overflow": null,
            "_model_module_version": "1.2.0",
            "_view_count": null,
            "flex_flow": null,
            "width": null,
            "min_width": null,
            "border": null,
            "align_items": null,
            "bottom": null,
            "_model_module": "@jupyter-widgets/base",
            "top": null,
            "grid_column": null,
            "overflow_y": null,
            "overflow_x": null,
            "grid_auto_flow": null,
            "grid_area": null,
            "grid_template_columns": null,
            "flex": null,
            "_model_name": "LayoutModel",
            "justify_items": null,
            "grid_row": null,
            "max_height": null,
            "align_content": null,
            "visibility": null,
            "align_self": null,
            "height": null,
            "min_height": null,
            "padding": null,
            "grid_auto_rows": null,
            "grid_gap": null,
            "max_width": null,
            "order": null,
            "_view_module_version": "1.2.0",
            "grid_template_areas": null,
            "object_position": null,
            "object_fit": null,
            "grid_auto_columns": null,
            "margin": null,
            "display": null,
            "left": null
          }
        },
        "17473a4e9b274182a48159b0011d18ab": {
          "model_module": "@jupyter-widgets/controls",
          "model_name": "ProgressStyleModel",
          "model_module_version": "1.5.0",
          "state": {
            "_view_name": "StyleView",
            "_model_name": "ProgressStyleModel",
            "description_width": "",
            "_view_module": "@jupyter-widgets/base",
            "_model_module_version": "1.5.0",
            "_view_count": null,
            "_view_module_version": "1.2.0",
            "bar_color": null,
            "_model_module": "@jupyter-widgets/controls"
          }
        },
        "6d70bfe2de9b42bb80acfd8373a3a021": {
          "model_module": "@jupyter-widgets/base",
          "model_name": "LayoutModel",
          "model_module_version": "1.2.0",
          "state": {
            "_view_name": "LayoutView",
            "grid_template_rows": null,
            "right": null,
            "justify_content": null,
            "_view_module": "@jupyter-widgets/base",
            "overflow": null,
            "_model_module_version": "1.2.0",
            "_view_count": null,
            "flex_flow": null,
            "width": null,
            "min_width": null,
            "border": null,
            "align_items": null,
            "bottom": null,
            "_model_module": "@jupyter-widgets/base",
            "top": null,
            "grid_column": null,
            "overflow_y": null,
            "overflow_x": null,
            "grid_auto_flow": null,
            "grid_area": null,
            "grid_template_columns": null,
            "flex": null,
            "_model_name": "LayoutModel",
            "justify_items": null,
            "grid_row": null,
            "max_height": null,
            "align_content": null,
            "visibility": null,
            "align_self": null,
            "height": null,
            "min_height": null,
            "padding": null,
            "grid_auto_rows": null,
            "grid_gap": null,
            "max_width": null,
            "order": null,
            "_view_module_version": "1.2.0",
            "grid_template_areas": null,
            "object_position": null,
            "object_fit": null,
            "grid_auto_columns": null,
            "margin": null,
            "display": null,
            "left": null
          }
        },
        "2dee4df783ba4a4cab067b230aad8d16": {
          "model_module": "@jupyter-widgets/controls",
          "model_name": "DescriptionStyleModel",
          "model_module_version": "1.5.0",
          "state": {
            "_view_name": "StyleView",
            "_model_name": "DescriptionStyleModel",
            "description_width": "",
            "_view_module": "@jupyter-widgets/base",
            "_model_module_version": "1.5.0",
            "_view_count": null,
            "_view_module_version": "1.2.0",
            "_model_module": "@jupyter-widgets/controls"
          }
        },
        "329fe0dc340a4f9b8593f52ee1a5b166": {
          "model_module": "@jupyter-widgets/base",
          "model_name": "LayoutModel",
          "model_module_version": "1.2.0",
          "state": {
            "_view_name": "LayoutView",
            "grid_template_rows": null,
            "right": null,
            "justify_content": null,
            "_view_module": "@jupyter-widgets/base",
            "overflow": null,
            "_model_module_version": "1.2.0",
            "_view_count": null,
            "flex_flow": null,
            "width": null,
            "min_width": null,
            "border": null,
            "align_items": null,
            "bottom": null,
            "_model_module": "@jupyter-widgets/base",
            "top": null,
            "grid_column": null,
            "overflow_y": null,
            "overflow_x": null,
            "grid_auto_flow": null,
            "grid_area": null,
            "grid_template_columns": null,
            "flex": null,
            "_model_name": "LayoutModel",
            "justify_items": null,
            "grid_row": null,
            "max_height": null,
            "align_content": null,
            "visibility": null,
            "align_self": null,
            "height": null,
            "min_height": null,
            "padding": null,
            "grid_auto_rows": null,
            "grid_gap": null,
            "max_width": null,
            "order": null,
            "_view_module_version": "1.2.0",
            "grid_template_areas": null,
            "object_position": null,
            "object_fit": null,
            "grid_auto_columns": null,
            "margin": null,
            "display": null,
            "left": null
          }
        },
        "021e175d73dd4888a5fe74fd282b755c": {
          "model_module": "@jupyter-widgets/controls",
          "model_name": "HBoxModel",
          "model_module_version": "1.5.0",
          "state": {
            "_view_name": "HBoxView",
            "_dom_classes": [],
            "_model_name": "HBoxModel",
            "_view_module": "@jupyter-widgets/controls",
            "_model_module_version": "1.5.0",
            "_view_count": null,
            "_view_module_version": "1.5.0",
            "box_style": "",
            "layout": "IPY_MODEL_266cf5bd99d24ee0b4c605ec622da284",
            "_model_module": "@jupyter-widgets/controls",
            "children": [
              "IPY_MODEL_86e5329cd5594387a2a3ba99c402b950",
              "IPY_MODEL_f95b35c3642044a08630a2e7efe08e19",
              "IPY_MODEL_3d1bf66abea84d93bf28ccbb70e403e6"
            ]
          }
        },
        "266cf5bd99d24ee0b4c605ec622da284": {
          "model_module": "@jupyter-widgets/base",
          "model_name": "LayoutModel",
          "model_module_version": "1.2.0",
          "state": {
            "_view_name": "LayoutView",
            "grid_template_rows": null,
            "right": null,
            "justify_content": null,
            "_view_module": "@jupyter-widgets/base",
            "overflow": null,
            "_model_module_version": "1.2.0",
            "_view_count": null,
            "flex_flow": null,
            "width": null,
            "min_width": null,
            "border": null,
            "align_items": null,
            "bottom": null,
            "_model_module": "@jupyter-widgets/base",
            "top": null,
            "grid_column": null,
            "overflow_y": null,
            "overflow_x": null,
            "grid_auto_flow": null,
            "grid_area": null,
            "grid_template_columns": null,
            "flex": null,
            "_model_name": "LayoutModel",
            "justify_items": null,
            "grid_row": null,
            "max_height": null,
            "align_content": null,
            "visibility": null,
            "align_self": null,
            "height": null,
            "min_height": null,
            "padding": null,
            "grid_auto_rows": null,
            "grid_gap": null,
            "max_width": null,
            "order": null,
            "_view_module_version": "1.2.0",
            "grid_template_areas": null,
            "object_position": null,
            "object_fit": null,
            "grid_auto_columns": null,
            "margin": null,
            "display": null,
            "left": null
          }
        },
        "86e5329cd5594387a2a3ba99c402b950": {
          "model_module": "@jupyter-widgets/controls",
          "model_name": "HTMLModel",
          "model_module_version": "1.5.0",
          "state": {
            "_view_name": "HTMLView",
            "style": "IPY_MODEL_f25416ae4bea470b85a6a45d619d3d1c",
            "_dom_classes": [],
            "description": "",
            "_model_name": "HTMLModel",
            "placeholder": "​",
            "_view_module": "@jupyter-widgets/controls",
            "_model_module_version": "1.5.0",
            "value": "Downloading: 100%",
            "_view_count": null,
            "_view_module_version": "1.5.0",
            "description_tooltip": null,
            "_model_module": "@jupyter-widgets/controls",
            "layout": "IPY_MODEL_92989eedda4e4422bee2fb4d2f231829"
          }
        },
        "f95b35c3642044a08630a2e7efe08e19": {
          "model_module": "@jupyter-widgets/controls",
          "model_name": "FloatProgressModel",
          "model_module_version": "1.5.0",
          "state": {
            "_view_name": "ProgressView",
            "style": "IPY_MODEL_e570b4fa0d96489a80f9a3e9b623f086",
            "_dom_classes": [],
            "description": "",
            "_model_name": "FloatProgressModel",
            "bar_style": "success",
            "max": 28,
            "_view_module": "@jupyter-widgets/controls",
            "_model_module_version": "1.5.0",
            "value": 28,
            "_view_count": null,
            "_view_module_version": "1.5.0",
            "orientation": "horizontal",
            "min": 0,
            "description_tooltip": null,
            "_model_module": "@jupyter-widgets/controls",
            "layout": "IPY_MODEL_f2d0bdceab5f4706adb7d36dcf559b62"
          }
        },
        "3d1bf66abea84d93bf28ccbb70e403e6": {
          "model_module": "@jupyter-widgets/controls",
          "model_name": "HTMLModel",
          "model_module_version": "1.5.0",
          "state": {
            "_view_name": "HTMLView",
            "style": "IPY_MODEL_71fc3c4193b34d7fb86cee9efca9901e",
            "_dom_classes": [],
            "description": "",
            "_model_name": "HTMLModel",
            "placeholder": "​",
            "_view_module": "@jupyter-widgets/controls",
            "_model_module_version": "1.5.0",
            "value": " 28.0/28.0 [00:00&lt;00:00, 644B/s]",
            "_view_count": null,
            "_view_module_version": "1.5.0",
            "description_tooltip": null,
            "_model_module": "@jupyter-widgets/controls",
            "layout": "IPY_MODEL_b3aa6536c14e421db670e8a567b67af6"
          }
        },
        "f25416ae4bea470b85a6a45d619d3d1c": {
          "model_module": "@jupyter-widgets/controls",
          "model_name": "DescriptionStyleModel",
          "model_module_version": "1.5.0",
          "state": {
            "_view_name": "StyleView",
            "_model_name": "DescriptionStyleModel",
            "description_width": "",
            "_view_module": "@jupyter-widgets/base",
            "_model_module_version": "1.5.0",
            "_view_count": null,
            "_view_module_version": "1.2.0",
            "_model_module": "@jupyter-widgets/controls"
          }
        },
        "92989eedda4e4422bee2fb4d2f231829": {
          "model_module": "@jupyter-widgets/base",
          "model_name": "LayoutModel",
          "model_module_version": "1.2.0",
          "state": {
            "_view_name": "LayoutView",
            "grid_template_rows": null,
            "right": null,
            "justify_content": null,
            "_view_module": "@jupyter-widgets/base",
            "overflow": null,
            "_model_module_version": "1.2.0",
            "_view_count": null,
            "flex_flow": null,
            "width": null,
            "min_width": null,
            "border": null,
            "align_items": null,
            "bottom": null,
            "_model_module": "@jupyter-widgets/base",
            "top": null,
            "grid_column": null,
            "overflow_y": null,
            "overflow_x": null,
            "grid_auto_flow": null,
            "grid_area": null,
            "grid_template_columns": null,
            "flex": null,
            "_model_name": "LayoutModel",
            "justify_items": null,
            "grid_row": null,
            "max_height": null,
            "align_content": null,
            "visibility": null,
            "align_self": null,
            "height": null,
            "min_height": null,
            "padding": null,
            "grid_auto_rows": null,
            "grid_gap": null,
            "max_width": null,
            "order": null,
            "_view_module_version": "1.2.0",
            "grid_template_areas": null,
            "object_position": null,
            "object_fit": null,
            "grid_auto_columns": null,
            "margin": null,
            "display": null,
            "left": null
          }
        },
        "e570b4fa0d96489a80f9a3e9b623f086": {
          "model_module": "@jupyter-widgets/controls",
          "model_name": "ProgressStyleModel",
          "model_module_version": "1.5.0",
          "state": {
            "_view_name": "StyleView",
            "_model_name": "ProgressStyleModel",
            "description_width": "",
            "_view_module": "@jupyter-widgets/base",
            "_model_module_version": "1.5.0",
            "_view_count": null,
            "_view_module_version": "1.2.0",
            "bar_color": null,
            "_model_module": "@jupyter-widgets/controls"
          }
        },
        "f2d0bdceab5f4706adb7d36dcf559b62": {
          "model_module": "@jupyter-widgets/base",
          "model_name": "LayoutModel",
          "model_module_version": "1.2.0",
          "state": {
            "_view_name": "LayoutView",
            "grid_template_rows": null,
            "right": null,
            "justify_content": null,
            "_view_module": "@jupyter-widgets/base",
            "overflow": null,
            "_model_module_version": "1.2.0",
            "_view_count": null,
            "flex_flow": null,
            "width": null,
            "min_width": null,
            "border": null,
            "align_items": null,
            "bottom": null,
            "_model_module": "@jupyter-widgets/base",
            "top": null,
            "grid_column": null,
            "overflow_y": null,
            "overflow_x": null,
            "grid_auto_flow": null,
            "grid_area": null,
            "grid_template_columns": null,
            "flex": null,
            "_model_name": "LayoutModel",
            "justify_items": null,
            "grid_row": null,
            "max_height": null,
            "align_content": null,
            "visibility": null,
            "align_self": null,
            "height": null,
            "min_height": null,
            "padding": null,
            "grid_auto_rows": null,
            "grid_gap": null,
            "max_width": null,
            "order": null,
            "_view_module_version": "1.2.0",
            "grid_template_areas": null,
            "object_position": null,
            "object_fit": null,
            "grid_auto_columns": null,
            "margin": null,
            "display": null,
            "left": null
          }
        },
        "71fc3c4193b34d7fb86cee9efca9901e": {
          "model_module": "@jupyter-widgets/controls",
          "model_name": "DescriptionStyleModel",
          "model_module_version": "1.5.0",
          "state": {
            "_view_name": "StyleView",
            "_model_name": "DescriptionStyleModel",
            "description_width": "",
            "_view_module": "@jupyter-widgets/base",
            "_model_module_version": "1.5.0",
            "_view_count": null,
            "_view_module_version": "1.2.0",
            "_model_module": "@jupyter-widgets/controls"
          }
        },
        "b3aa6536c14e421db670e8a567b67af6": {
          "model_module": "@jupyter-widgets/base",
          "model_name": "LayoutModel",
          "model_module_version": "1.2.0",
          "state": {
            "_view_name": "LayoutView",
            "grid_template_rows": null,
            "right": null,
            "justify_content": null,
            "_view_module": "@jupyter-widgets/base",
            "overflow": null,
            "_model_module_version": "1.2.0",
            "_view_count": null,
            "flex_flow": null,
            "width": null,
            "min_width": null,
            "border": null,
            "align_items": null,
            "bottom": null,
            "_model_module": "@jupyter-widgets/base",
            "top": null,
            "grid_column": null,
            "overflow_y": null,
            "overflow_x": null,
            "grid_auto_flow": null,
            "grid_area": null,
            "grid_template_columns": null,
            "flex": null,
            "_model_name": "LayoutModel",
            "justify_items": null,
            "grid_row": null,
            "max_height": null,
            "align_content": null,
            "visibility": null,
            "align_self": null,
            "height": null,
            "min_height": null,
            "padding": null,
            "grid_auto_rows": null,
            "grid_gap": null,
            "max_width": null,
            "order": null,
            "_view_module_version": "1.2.0",
            "grid_template_areas": null,
            "object_position": null,
            "object_fit": null,
            "grid_auto_columns": null,
            "margin": null,
            "display": null,
            "left": null
          }
        },
        "2ced8420a1e844d6b768c680d424d09a": {
          "model_module": "@jupyter-widgets/controls",
          "model_name": "HBoxModel",
          "model_module_version": "1.5.0",
          "state": {
            "_view_name": "HBoxView",
            "_dom_classes": [],
            "_model_name": "HBoxModel",
            "_view_module": "@jupyter-widgets/controls",
            "_model_module_version": "1.5.0",
            "_view_count": null,
            "_view_module_version": "1.5.0",
            "box_style": "",
            "layout": "IPY_MODEL_82d2288e00504d1a8f4e142b8a0e213d",
            "_model_module": "@jupyter-widgets/controls",
            "children": [
              "IPY_MODEL_83814d1ba2824879bc16458fd500fca8",
              "IPY_MODEL_a9e660be4716434b8895741c46632a4e",
              "IPY_MODEL_6a599a5cda6d4c8f8376286c3c6ee077"
            ]
          }
        },
        "82d2288e00504d1a8f4e142b8a0e213d": {
          "model_module": "@jupyter-widgets/base",
          "model_name": "LayoutModel",
          "model_module_version": "1.2.0",
          "state": {
            "_view_name": "LayoutView",
            "grid_template_rows": null,
            "right": null,
            "justify_content": null,
            "_view_module": "@jupyter-widgets/base",
            "overflow": null,
            "_model_module_version": "1.2.0",
            "_view_count": null,
            "flex_flow": null,
            "width": null,
            "min_width": null,
            "border": null,
            "align_items": null,
            "bottom": null,
            "_model_module": "@jupyter-widgets/base",
            "top": null,
            "grid_column": null,
            "overflow_y": null,
            "overflow_x": null,
            "grid_auto_flow": null,
            "grid_area": null,
            "grid_template_columns": null,
            "flex": null,
            "_model_name": "LayoutModel",
            "justify_items": null,
            "grid_row": null,
            "max_height": null,
            "align_content": null,
            "visibility": null,
            "align_self": null,
            "height": null,
            "min_height": null,
            "padding": null,
            "grid_auto_rows": null,
            "grid_gap": null,
            "max_width": null,
            "order": null,
            "_view_module_version": "1.2.0",
            "grid_template_areas": null,
            "object_position": null,
            "object_fit": null,
            "grid_auto_columns": null,
            "margin": null,
            "display": null,
            "left": null
          }
        },
        "83814d1ba2824879bc16458fd500fca8": {
          "model_module": "@jupyter-widgets/controls",
          "model_name": "HTMLModel",
          "model_module_version": "1.5.0",
          "state": {
            "_view_name": "HTMLView",
            "style": "IPY_MODEL_f6c463a420074112a158084e8ad9eced",
            "_dom_classes": [],
            "description": "",
            "_model_name": "HTMLModel",
            "placeholder": "​",
            "_view_module": "@jupyter-widgets/controls",
            "_model_module_version": "1.5.0",
            "value": "Downloading: 100%",
            "_view_count": null,
            "_view_module_version": "1.5.0",
            "description_tooltip": null,
            "_model_module": "@jupyter-widgets/controls",
            "layout": "IPY_MODEL_cce46749ce4b4279b2f3b4e05514a88a"
          }
        },
        "a9e660be4716434b8895741c46632a4e": {
          "model_module": "@jupyter-widgets/controls",
          "model_name": "FloatProgressModel",
          "model_module_version": "1.5.0",
          "state": {
            "_view_name": "ProgressView",
            "style": "IPY_MODEL_ed102244f1da4f0399070a7d601e2273",
            "_dom_classes": [],
            "description": "",
            "_model_name": "FloatProgressModel",
            "bar_style": "success",
            "max": 466062,
            "_view_module": "@jupyter-widgets/controls",
            "_model_module_version": "1.5.0",
            "value": 466062,
            "_view_count": null,
            "_view_module_version": "1.5.0",
            "orientation": "horizontal",
            "min": 0,
            "description_tooltip": null,
            "_model_module": "@jupyter-widgets/controls",
            "layout": "IPY_MODEL_eabbd48824ea4915b7ba8cccd2ed7dca"
          }
        },
        "6a599a5cda6d4c8f8376286c3c6ee077": {
          "model_module": "@jupyter-widgets/controls",
          "model_name": "HTMLModel",
          "model_module_version": "1.5.0",
          "state": {
            "_view_name": "HTMLView",
            "style": "IPY_MODEL_b063ad9b07e7475a890e3b66ab45aeb5",
            "_dom_classes": [],
            "description": "",
            "_model_name": "HTMLModel",
            "placeholder": "​",
            "_view_module": "@jupyter-widgets/controls",
            "_model_module_version": "1.5.0",
            "value": " 455k/455k [00:00&lt;00:00, 630kB/s]",
            "_view_count": null,
            "_view_module_version": "1.5.0",
            "description_tooltip": null,
            "_model_module": "@jupyter-widgets/controls",
            "layout": "IPY_MODEL_e138023884984359b303dc4cde2ba244"
          }
        },
        "f6c463a420074112a158084e8ad9eced": {
          "model_module": "@jupyter-widgets/controls",
          "model_name": "DescriptionStyleModel",
          "model_module_version": "1.5.0",
          "state": {
            "_view_name": "StyleView",
            "_model_name": "DescriptionStyleModel",
            "description_width": "",
            "_view_module": "@jupyter-widgets/base",
            "_model_module_version": "1.5.0",
            "_view_count": null,
            "_view_module_version": "1.2.0",
            "_model_module": "@jupyter-widgets/controls"
          }
        },
        "cce46749ce4b4279b2f3b4e05514a88a": {
          "model_module": "@jupyter-widgets/base",
          "model_name": "LayoutModel",
          "model_module_version": "1.2.0",
          "state": {
            "_view_name": "LayoutView",
            "grid_template_rows": null,
            "right": null,
            "justify_content": null,
            "_view_module": "@jupyter-widgets/base",
            "overflow": null,
            "_model_module_version": "1.2.0",
            "_view_count": null,
            "flex_flow": null,
            "width": null,
            "min_width": null,
            "border": null,
            "align_items": null,
            "bottom": null,
            "_model_module": "@jupyter-widgets/base",
            "top": null,
            "grid_column": null,
            "overflow_y": null,
            "overflow_x": null,
            "grid_auto_flow": null,
            "grid_area": null,
            "grid_template_columns": null,
            "flex": null,
            "_model_name": "LayoutModel",
            "justify_items": null,
            "grid_row": null,
            "max_height": null,
            "align_content": null,
            "visibility": null,
            "align_self": null,
            "height": null,
            "min_height": null,
            "padding": null,
            "grid_auto_rows": null,
            "grid_gap": null,
            "max_width": null,
            "order": null,
            "_view_module_version": "1.2.0",
            "grid_template_areas": null,
            "object_position": null,
            "object_fit": null,
            "grid_auto_columns": null,
            "margin": null,
            "display": null,
            "left": null
          }
        },
        "ed102244f1da4f0399070a7d601e2273": {
          "model_module": "@jupyter-widgets/controls",
          "model_name": "ProgressStyleModel",
          "model_module_version": "1.5.0",
          "state": {
            "_view_name": "StyleView",
            "_model_name": "ProgressStyleModel",
            "description_width": "",
            "_view_module": "@jupyter-widgets/base",
            "_model_module_version": "1.5.0",
            "_view_count": null,
            "_view_module_version": "1.2.0",
            "bar_color": null,
            "_model_module": "@jupyter-widgets/controls"
          }
        },
        "eabbd48824ea4915b7ba8cccd2ed7dca": {
          "model_module": "@jupyter-widgets/base",
          "model_name": "LayoutModel",
          "model_module_version": "1.2.0",
          "state": {
            "_view_name": "LayoutView",
            "grid_template_rows": null,
            "right": null,
            "justify_content": null,
            "_view_module": "@jupyter-widgets/base",
            "overflow": null,
            "_model_module_version": "1.2.0",
            "_view_count": null,
            "flex_flow": null,
            "width": null,
            "min_width": null,
            "border": null,
            "align_items": null,
            "bottom": null,
            "_model_module": "@jupyter-widgets/base",
            "top": null,
            "grid_column": null,
            "overflow_y": null,
            "overflow_x": null,
            "grid_auto_flow": null,
            "grid_area": null,
            "grid_template_columns": null,
            "flex": null,
            "_model_name": "LayoutModel",
            "justify_items": null,
            "grid_row": null,
            "max_height": null,
            "align_content": null,
            "visibility": null,
            "align_self": null,
            "height": null,
            "min_height": null,
            "padding": null,
            "grid_auto_rows": null,
            "grid_gap": null,
            "max_width": null,
            "order": null,
            "_view_module_version": "1.2.0",
            "grid_template_areas": null,
            "object_position": null,
            "object_fit": null,
            "grid_auto_columns": null,
            "margin": null,
            "display": null,
            "left": null
          }
        },
        "b063ad9b07e7475a890e3b66ab45aeb5": {
          "model_module": "@jupyter-widgets/controls",
          "model_name": "DescriptionStyleModel",
          "model_module_version": "1.5.0",
          "state": {
            "_view_name": "StyleView",
            "_model_name": "DescriptionStyleModel",
            "description_width": "",
            "_view_module": "@jupyter-widgets/base",
            "_model_module_version": "1.5.0",
            "_view_count": null,
            "_view_module_version": "1.2.0",
            "_model_module": "@jupyter-widgets/controls"
          }
        },
        "e138023884984359b303dc4cde2ba244": {
          "model_module": "@jupyter-widgets/base",
          "model_name": "LayoutModel",
          "model_module_version": "1.2.0",
          "state": {
            "_view_name": "LayoutView",
            "grid_template_rows": null,
            "right": null,
            "justify_content": null,
            "_view_module": "@jupyter-widgets/base",
            "overflow": null,
            "_model_module_version": "1.2.0",
            "_view_count": null,
            "flex_flow": null,
            "width": null,
            "min_width": null,
            "border": null,
            "align_items": null,
            "bottom": null,
            "_model_module": "@jupyter-widgets/base",
            "top": null,
            "grid_column": null,
            "overflow_y": null,
            "overflow_x": null,
            "grid_auto_flow": null,
            "grid_area": null,
            "grid_template_columns": null,
            "flex": null,
            "_model_name": "LayoutModel",
            "justify_items": null,
            "grid_row": null,
            "max_height": null,
            "align_content": null,
            "visibility": null,
            "align_self": null,
            "height": null,
            "min_height": null,
            "padding": null,
            "grid_auto_rows": null,
            "grid_gap": null,
            "max_width": null,
            "order": null,
            "_view_module_version": "1.2.0",
            "grid_template_areas": null,
            "object_position": null,
            "object_fit": null,
            "grid_auto_columns": null,
            "margin": null,
            "display": null,
            "left": null
          }
        },
        "3f9d4f36bc96435bb2f820c27d45e2cf": {
          "model_module": "@jupyter-widgets/controls",
          "model_name": "HBoxModel",
          "model_module_version": "1.5.0",
          "state": {
            "_view_name": "HBoxView",
            "_dom_classes": [],
            "_model_name": "HBoxModel",
            "_view_module": "@jupyter-widgets/controls",
            "_model_module_version": "1.5.0",
            "_view_count": null,
            "_view_module_version": "1.5.0",
            "box_style": "",
            "layout": "IPY_MODEL_060e7ed7b9554e7c9fd8a3a962219cc5",
            "_model_module": "@jupyter-widgets/controls",
            "children": [
              "IPY_MODEL_e46e4486c74e4134b5bca5d6c6560c34",
              "IPY_MODEL_2a16a5be02f14fefac8076971e7f1cc3",
              "IPY_MODEL_b1f9625dc48244378cb730876d484003"
            ]
          }
        },
        "060e7ed7b9554e7c9fd8a3a962219cc5": {
          "model_module": "@jupyter-widgets/base",
          "model_name": "LayoutModel",
          "model_module_version": "1.2.0",
          "state": {
            "_view_name": "LayoutView",
            "grid_template_rows": null,
            "right": null,
            "justify_content": null,
            "_view_module": "@jupyter-widgets/base",
            "overflow": null,
            "_model_module_version": "1.2.0",
            "_view_count": null,
            "flex_flow": null,
            "width": null,
            "min_width": null,
            "border": null,
            "align_items": null,
            "bottom": null,
            "_model_module": "@jupyter-widgets/base",
            "top": null,
            "grid_column": null,
            "overflow_y": null,
            "overflow_x": null,
            "grid_auto_flow": null,
            "grid_area": null,
            "grid_template_columns": null,
            "flex": null,
            "_model_name": "LayoutModel",
            "justify_items": null,
            "grid_row": null,
            "max_height": null,
            "align_content": null,
            "visibility": null,
            "align_self": null,
            "height": null,
            "min_height": null,
            "padding": null,
            "grid_auto_rows": null,
            "grid_gap": null,
            "max_width": null,
            "order": null,
            "_view_module_version": "1.2.0",
            "grid_template_areas": null,
            "object_position": null,
            "object_fit": null,
            "grid_auto_columns": null,
            "margin": null,
            "display": null,
            "left": null
          }
        },
        "e46e4486c74e4134b5bca5d6c6560c34": {
          "model_module": "@jupyter-widgets/controls",
          "model_name": "HTMLModel",
          "model_module_version": "1.5.0",
          "state": {
            "_view_name": "HTMLView",
            "style": "IPY_MODEL_7b290a6139cd45779ff8a37ba76a1d72",
            "_dom_classes": [],
            "description": "",
            "_model_name": "HTMLModel",
            "placeholder": "​",
            "_view_module": "@jupyter-widgets/controls",
            "_model_module_version": "1.5.0",
            "value": "Downloading: 100%",
            "_view_count": null,
            "_view_module_version": "1.5.0",
            "description_tooltip": null,
            "_model_module": "@jupyter-widgets/controls",
            "layout": "IPY_MODEL_93e467e5bd4e4aa298ace00f81699fc1"
          }
        },
        "2a16a5be02f14fefac8076971e7f1cc3": {
          "model_module": "@jupyter-widgets/controls",
          "model_name": "FloatProgressModel",
          "model_module_version": "1.5.0",
          "state": {
            "_view_name": "ProgressView",
            "style": "IPY_MODEL_de1cbcef078845c582185ad2879f1ade",
            "_dom_classes": [],
            "description": "",
            "_model_name": "FloatProgressModel",
            "bar_style": "success",
            "max": 570,
            "_view_module": "@jupyter-widgets/controls",
            "_model_module_version": "1.5.0",
            "value": 570,
            "_view_count": null,
            "_view_module_version": "1.5.0",
            "orientation": "horizontal",
            "min": 0,
            "description_tooltip": null,
            "_model_module": "@jupyter-widgets/controls",
            "layout": "IPY_MODEL_9408d3e105bf4e7f8ccc456f37731c56"
          }
        },
        "b1f9625dc48244378cb730876d484003": {
          "model_module": "@jupyter-widgets/controls",
          "model_name": "HTMLModel",
          "model_module_version": "1.5.0",
          "state": {
            "_view_name": "HTMLView",
            "style": "IPY_MODEL_b63eca74dbcc4d57af61273b1b17751b",
            "_dom_classes": [],
            "description": "",
            "_model_name": "HTMLModel",
            "placeholder": "​",
            "_view_module": "@jupyter-widgets/controls",
            "_model_module_version": "1.5.0",
            "value": " 570/570 [00:00&lt;00:00, 13.1kB/s]",
            "_view_count": null,
            "_view_module_version": "1.5.0",
            "description_tooltip": null,
            "_model_module": "@jupyter-widgets/controls",
            "layout": "IPY_MODEL_9fd84e5571ea482798ab1bc9a90e84d8"
          }
        },
        "7b290a6139cd45779ff8a37ba76a1d72": {
          "model_module": "@jupyter-widgets/controls",
          "model_name": "DescriptionStyleModel",
          "model_module_version": "1.5.0",
          "state": {
            "_view_name": "StyleView",
            "_model_name": "DescriptionStyleModel",
            "description_width": "",
            "_view_module": "@jupyter-widgets/base",
            "_model_module_version": "1.5.0",
            "_view_count": null,
            "_view_module_version": "1.2.0",
            "_model_module": "@jupyter-widgets/controls"
          }
        },
        "93e467e5bd4e4aa298ace00f81699fc1": {
          "model_module": "@jupyter-widgets/base",
          "model_name": "LayoutModel",
          "model_module_version": "1.2.0",
          "state": {
            "_view_name": "LayoutView",
            "grid_template_rows": null,
            "right": null,
            "justify_content": null,
            "_view_module": "@jupyter-widgets/base",
            "overflow": null,
            "_model_module_version": "1.2.0",
            "_view_count": null,
            "flex_flow": null,
            "width": null,
            "min_width": null,
            "border": null,
            "align_items": null,
            "bottom": null,
            "_model_module": "@jupyter-widgets/base",
            "top": null,
            "grid_column": null,
            "overflow_y": null,
            "overflow_x": null,
            "grid_auto_flow": null,
            "grid_area": null,
            "grid_template_columns": null,
            "flex": null,
            "_model_name": "LayoutModel",
            "justify_items": null,
            "grid_row": null,
            "max_height": null,
            "align_content": null,
            "visibility": null,
            "align_self": null,
            "height": null,
            "min_height": null,
            "padding": null,
            "grid_auto_rows": null,
            "grid_gap": null,
            "max_width": null,
            "order": null,
            "_view_module_version": "1.2.0",
            "grid_template_areas": null,
            "object_position": null,
            "object_fit": null,
            "grid_auto_columns": null,
            "margin": null,
            "display": null,
            "left": null
          }
        },
        "de1cbcef078845c582185ad2879f1ade": {
          "model_module": "@jupyter-widgets/controls",
          "model_name": "ProgressStyleModel",
          "model_module_version": "1.5.0",
          "state": {
            "_view_name": "StyleView",
            "_model_name": "ProgressStyleModel",
            "description_width": "",
            "_view_module": "@jupyter-widgets/base",
            "_model_module_version": "1.5.0",
            "_view_count": null,
            "_view_module_version": "1.2.0",
            "bar_color": null,
            "_model_module": "@jupyter-widgets/controls"
          }
        },
        "9408d3e105bf4e7f8ccc456f37731c56": {
          "model_module": "@jupyter-widgets/base",
          "model_name": "LayoutModel",
          "model_module_version": "1.2.0",
          "state": {
            "_view_name": "LayoutView",
            "grid_template_rows": null,
            "right": null,
            "justify_content": null,
            "_view_module": "@jupyter-widgets/base",
            "overflow": null,
            "_model_module_version": "1.2.0",
            "_view_count": null,
            "flex_flow": null,
            "width": null,
            "min_width": null,
            "border": null,
            "align_items": null,
            "bottom": null,
            "_model_module": "@jupyter-widgets/base",
            "top": null,
            "grid_column": null,
            "overflow_y": null,
            "overflow_x": null,
            "grid_auto_flow": null,
            "grid_area": null,
            "grid_template_columns": null,
            "flex": null,
            "_model_name": "LayoutModel",
            "justify_items": null,
            "grid_row": null,
            "max_height": null,
            "align_content": null,
            "visibility": null,
            "align_self": null,
            "height": null,
            "min_height": null,
            "padding": null,
            "grid_auto_rows": null,
            "grid_gap": null,
            "max_width": null,
            "order": null,
            "_view_module_version": "1.2.0",
            "grid_template_areas": null,
            "object_position": null,
            "object_fit": null,
            "grid_auto_columns": null,
            "margin": null,
            "display": null,
            "left": null
          }
        },
        "b63eca74dbcc4d57af61273b1b17751b": {
          "model_module": "@jupyter-widgets/controls",
          "model_name": "DescriptionStyleModel",
          "model_module_version": "1.5.0",
          "state": {
            "_view_name": "StyleView",
            "_model_name": "DescriptionStyleModel",
            "description_width": "",
            "_view_module": "@jupyter-widgets/base",
            "_model_module_version": "1.5.0",
            "_view_count": null,
            "_view_module_version": "1.2.0",
            "_model_module": "@jupyter-widgets/controls"
          }
        },
        "9fd84e5571ea482798ab1bc9a90e84d8": {
          "model_module": "@jupyter-widgets/base",
          "model_name": "LayoutModel",
          "model_module_version": "1.2.0",
          "state": {
            "_view_name": "LayoutView",
            "grid_template_rows": null,
            "right": null,
            "justify_content": null,
            "_view_module": "@jupyter-widgets/base",
            "overflow": null,
            "_model_module_version": "1.2.0",
            "_view_count": null,
            "flex_flow": null,
            "width": null,
            "min_width": null,
            "border": null,
            "align_items": null,
            "bottom": null,
            "_model_module": "@jupyter-widgets/base",
            "top": null,
            "grid_column": null,
            "overflow_y": null,
            "overflow_x": null,
            "grid_auto_flow": null,
            "grid_area": null,
            "grid_template_columns": null,
            "flex": null,
            "_model_name": "LayoutModel",
            "justify_items": null,
            "grid_row": null,
            "max_height": null,
            "align_content": null,
            "visibility": null,
            "align_self": null,
            "height": null,
            "min_height": null,
            "padding": null,
            "grid_auto_rows": null,
            "grid_gap": null,
            "max_width": null,
            "order": null,
            "_view_module_version": "1.2.0",
            "grid_template_areas": null,
            "object_position": null,
            "object_fit": null,
            "grid_auto_columns": null,
            "margin": null,
            "display": null,
            "left": null
          }
        }
      }
    },
    "accelerator": "GPU"
  },
  "cells": [
    {
      "cell_type": "markdown",
      "metadata": {
        "id": "view-in-github",
        "colab_type": "text"
      },
      "source": [
        "<a href=\"https://colab.research.google.com/github/Prakhar314/COL764-Project/blob/main/pairwise.ipynb\" target=\"_parent\"><img src=\"https://colab.research.google.com/assets/colab-badge.svg\" alt=\"Open In Colab\"/></a>"
      ]
    },
    {
      "cell_type": "markdown",
      "metadata": {
        "id": "79zo_E1ADpTU"
      },
      "source": [
        "### Install Dependencies"
      ]
    },
    {
      "cell_type": "code",
      "metadata": {
        "colab": {
          "base_uri": "https://localhost:8080/"
        },
        "id": "ht6Ah8MrMDKi",
        "outputId": "fc097ddd-e64b-4d45-8783-c6d948eec5ea"
      },
      "source": [
        "!pip install tensorflow-addons transformers"
      ],
      "execution_count": 1,
      "outputs": [
        {
          "output_type": "stream",
          "name": "stdout",
          "text": [
            "Collecting tensorflow-addons\n",
            "  Downloading tensorflow_addons-0.15.0-cp37-cp37m-manylinux_2_12_x86_64.manylinux2010_x86_64.whl (1.1 MB)\n",
            "\u001b[K     |████████████████████████████████| 1.1 MB 5.2 MB/s \n",
            "\u001b[?25hCollecting transformers\n",
            "  Downloading transformers-4.12.5-py3-none-any.whl (3.1 MB)\n",
            "\u001b[K     |████████████████████████████████| 3.1 MB 20.4 MB/s \n",
            "\u001b[?25hRequirement already satisfied: typeguard>=2.7 in /usr/local/lib/python3.7/dist-packages (from tensorflow-addons) (2.7.1)\n",
            "Requirement already satisfied: filelock in /usr/local/lib/python3.7/dist-packages (from transformers) (3.4.0)\n",
            "Collecting pyyaml>=5.1\n",
            "  Downloading PyYAML-6.0-cp37-cp37m-manylinux_2_5_x86_64.manylinux1_x86_64.manylinux_2_12_x86_64.manylinux2010_x86_64.whl (596 kB)\n",
            "\u001b[K     |████████████████████████████████| 596 kB 42.3 MB/s \n",
            "\u001b[?25hRequirement already satisfied: importlib-metadata in /usr/local/lib/python3.7/dist-packages (from transformers) (4.8.2)\n",
            "Requirement already satisfied: requests in /usr/local/lib/python3.7/dist-packages (from transformers) (2.23.0)\n",
            "Requirement already satisfied: regex!=2019.12.17 in /usr/local/lib/python3.7/dist-packages (from transformers) (2019.12.20)\n",
            "Collecting huggingface-hub<1.0,>=0.1.0\n",
            "  Downloading huggingface_hub-0.1.2-py3-none-any.whl (59 kB)\n",
            "\u001b[K     |████████████████████████████████| 59 kB 6.5 MB/s \n",
            "\u001b[?25hCollecting sacremoses\n",
            "  Downloading sacremoses-0.0.46-py3-none-any.whl (895 kB)\n",
            "\u001b[K     |████████████████████████████████| 895 kB 45.8 MB/s \n",
            "\u001b[?25hRequirement already satisfied: numpy>=1.17 in /usr/local/lib/python3.7/dist-packages (from transformers) (1.19.5)\n",
            "Requirement already satisfied: packaging>=20.0 in /usr/local/lib/python3.7/dist-packages (from transformers) (21.3)\n",
            "Collecting tokenizers<0.11,>=0.10.1\n",
            "  Downloading tokenizers-0.10.3-cp37-cp37m-manylinux_2_5_x86_64.manylinux1_x86_64.manylinux_2_12_x86_64.manylinux2010_x86_64.whl (3.3 MB)\n",
            "\u001b[K     |████████████████████████████████| 3.3 MB 36.4 MB/s \n",
            "\u001b[?25hRequirement already satisfied: tqdm>=4.27 in /usr/local/lib/python3.7/dist-packages (from transformers) (4.62.3)\n",
            "Requirement already satisfied: typing-extensions>=3.7.4.3 in /usr/local/lib/python3.7/dist-packages (from huggingface-hub<1.0,>=0.1.0->transformers) (3.10.0.2)\n",
            "Requirement already satisfied: pyparsing!=3.0.5,>=2.0.2 in /usr/local/lib/python3.7/dist-packages (from packaging>=20.0->transformers) (3.0.6)\n",
            "Requirement already satisfied: zipp>=0.5 in /usr/local/lib/python3.7/dist-packages (from importlib-metadata->transformers) (3.6.0)\n",
            "Requirement already satisfied: urllib3!=1.25.0,!=1.25.1,<1.26,>=1.21.1 in /usr/local/lib/python3.7/dist-packages (from requests->transformers) (1.24.3)\n",
            "Requirement already satisfied: chardet<4,>=3.0.2 in /usr/local/lib/python3.7/dist-packages (from requests->transformers) (3.0.4)\n",
            "Requirement already satisfied: idna<3,>=2.5 in /usr/local/lib/python3.7/dist-packages (from requests->transformers) (2.10)\n",
            "Requirement already satisfied: certifi>=2017.4.17 in /usr/local/lib/python3.7/dist-packages (from requests->transformers) (2021.10.8)\n",
            "Requirement already satisfied: click in /usr/local/lib/python3.7/dist-packages (from sacremoses->transformers) (7.1.2)\n",
            "Requirement already satisfied: joblib in /usr/local/lib/python3.7/dist-packages (from sacremoses->transformers) (1.1.0)\n",
            "Requirement already satisfied: six in /usr/local/lib/python3.7/dist-packages (from sacremoses->transformers) (1.15.0)\n",
            "Installing collected packages: pyyaml, tokenizers, sacremoses, huggingface-hub, transformers, tensorflow-addons\n",
            "  Attempting uninstall: pyyaml\n",
            "    Found existing installation: PyYAML 3.13\n",
            "    Uninstalling PyYAML-3.13:\n",
            "      Successfully uninstalled PyYAML-3.13\n",
            "Successfully installed huggingface-hub-0.1.2 pyyaml-6.0 sacremoses-0.0.46 tensorflow-addons-0.15.0 tokenizers-0.10.3 transformers-4.12.5\n"
          ]
        }
      ]
    },
    {
      "cell_type": "markdown",
      "metadata": {
        "id": "yRmpBTqqDt1L"
      },
      "source": [
        "### Load Data"
      ]
    },
    {
      "cell_type": "markdown",
      "metadata": {
        "id": "RSmryDWED8GH"
      },
      "source": [
        "#### Import libraries"
      ]
    },
    {
      "cell_type": "code",
      "metadata": {
        "id": "eMCN2eHkNQlG"
      },
      "source": [
        "import gc\n",
        "import random\n",
        "import os\n",
        "\n",
        "import pandas as pd\n",
        "import numpy as np\n",
        "from sklearn.utils import class_weight\n",
        "from sklearn.model_selection import train_test_split\n",
        "import transformers\n",
        "from transformers import BertTokenizer, TFBertModel, BertConfig\n",
        "import tensorflow as tf\n",
        "import tensorflow_addons as tfa"
      ],
      "execution_count": 2,
      "outputs": []
    },
    {
      "cell_type": "code",
      "metadata": {
        "id": "XnL24nxgFBZl"
      },
      "source": [
        "random.seed(0)\n",
        "np.random.seed(0)\n",
        "tf.random.set_seed(0)"
      ],
      "execution_count": 3,
      "outputs": []
    },
    {
      "cell_type": "markdown",
      "metadata": {
        "id": "aUiED5I_DzrT"
      },
      "source": [
        "#### Attach drive and unpack"
      ]
    },
    {
      "cell_type": "code",
      "metadata": {
        "colab": {
          "base_uri": "https://localhost:8080/"
        },
        "id": "4nqdP-dfkcR4",
        "outputId": "e0294370-9283-45b4-e457-3a8e5c1668f9"
      },
      "source": [
        "from google.colab import drive\n",
        "drive.mount('/content/gdrive')"
      ],
      "execution_count": 4,
      "outputs": [
        {
          "output_type": "stream",
          "name": "stdout",
          "text": [
            "Mounted at /content/gdrive\n"
          ]
        }
      ]
    },
    {
      "cell_type": "code",
      "metadata": {
        "id": "XU5ddgDQ7BHa"
      },
      "source": [
        "# !rm /content/gdrive/MyDrive/col764/pointwise_best_model.h5"
      ],
      "execution_count": 5,
      "outputs": []
    },
    {
      "cell_type": "code",
      "metadata": {
        "id": "nL9d-zDCL1Cn"
      },
      "source": [
        "!tar -xf /content/gdrive/MyDrive/col764/collectionandqueries.tar.gz"
      ],
      "execution_count": 6,
      "outputs": []
    },
    {
      "cell_type": "code",
      "metadata": {
        "id": "8VzNHdQHjqRz"
      },
      "source": [
        "!tar -xf /content/gdrive/MyDrive/col764/top1000.dev.tar.gz"
      ],
      "execution_count": 7,
      "outputs": []
    },
    {
      "cell_type": "code",
      "metadata": {
        "colab": {
          "base_uri": "https://localhost:8080/"
        },
        "id": "hbND7lDwMpaY",
        "outputId": "b56d62f8-641e-400c-c92c-f247f1c9d0d6"
      },
      "source": [
        "!ls -alh"
      ],
      "execution_count": 8,
      "outputs": [
        {
          "output_type": "stream",
          "name": "stdout",
          "text": [
            "total 5.4G\n",
            "drwxr-xr-x 1 root    root    4.0K Nov 21 09:39 .\n",
            "drwxr-xr-x 1 root    root    4.0K Nov 21 09:34 ..\n",
            "-rwxrwxrwx 1    1000    1000 2.9G Nov 13  2018 collection.tsv\n",
            "drwxr-xr-x 4 root    root    4.0K Nov 18 14:35 .config\n",
            "drwx------ 5 root    root    4.0K Nov 21 09:38 gdrive\n",
            "-rwxrwxrwx 1    1000    1000 140K Jan 22  2019 qrels.dev.small.tsv\n",
            "-rwxrwxrwx 1    1000    1000  11M Nov 28  2018 qrels.train.tsv\n",
            "-rw-rw-r-- 1    1000    1000 284K May  2  2019 queries.dev.small.tsv\n",
            "-rwxrwxrwx 1    1000    1000 4.3M Nov 13  2018 queries.dev.tsv\n",
            "-rw-rw-r-- 1    1000    1000 275K May  2  2019 queries.eval.small.tsv\n",
            "-rwxrwxrwx 1    1000    1000 4.3M Nov 13  2018 queries.eval.tsv\n",
            "-rwxrwxrwx 1    1000    1000  34M Nov 13  2018 queries.train.tsv\n",
            "drwxr-xr-x 1 root    root    4.0K Nov 18 14:36 sample_data\n",
            "-rwxrwx--- 1 8045835 1049089 2.5G Jul 17  2019 top1000.dev\n"
          ]
        }
      ]
    },
    {
      "cell_type": "code",
      "metadata": {
        "colab": {
          "base_uri": "https://localhost:8080/"
        },
        "id": "F5VafgNymJTo",
        "outputId": "95e37074-3432-4d5c-955d-a636009af0c7"
      },
      "source": [
        "!wget https://msmarco.blob.core.windows.net/msmarcoranking/qrels.dev.tsv"
      ],
      "execution_count": 9,
      "outputs": [
        {
          "output_type": "stream",
          "name": "stdout",
          "text": [
            "--2021-11-21 09:40:36--  https://msmarco.blob.core.windows.net/msmarcoranking/qrels.dev.tsv\n",
            "Resolving msmarco.blob.core.windows.net (msmarco.blob.core.windows.net)... 20.150.34.4\n",
            "Connecting to msmarco.blob.core.windows.net (msmarco.blob.core.windows.net)|20.150.34.4|:443... connected.\n",
            "HTTP request sent, awaiting response... 200 OK\n",
            "Length: 1201626 (1.1M) [text/tab-separated-values]\n",
            "Saving to: ‘qrels.dev.tsv’\n",
            "\n",
            "qrels.dev.tsv       100%[===================>]   1.15M  3.77MB/s    in 0.3s    \n",
            "\n",
            "2021-11-21 09:40:37 (3.77 MB/s) - ‘qrels.dev.tsv’ saved [1201626/1201626]\n",
            "\n"
          ]
        }
      ]
    },
    {
      "cell_type": "markdown",
      "metadata": {
        "id": "c2HC62o7EEOS"
      },
      "source": [
        "#### Read data"
      ]
    },
    {
      "cell_type": "code",
      "metadata": {
        "id": "sf9ZOl7UJWXr"
      },
      "source": [
        "root_dir = \"/content/gdrive/MyDrive/col764/\""
      ],
      "execution_count": 10,
      "outputs": []
    },
    {
      "cell_type": "code",
      "metadata": {
        "id": "tZO67YfnOrDe"
      },
      "source": [
        "qrels = pd.read_csv('qrels.dev.tsv',sep='\\t',header=None)"
      ],
      "execution_count": 11,
      "outputs": []
    },
    {
      "cell_type": "code",
      "metadata": {
        "colab": {
          "base_uri": "https://localhost:8080/",
          "height": 206
        },
        "id": "ZeML2VPEsO3S",
        "outputId": "f28cacb5-653f-4629-b403-882a44de9f19"
      },
      "source": [
        "qrels.head(5)"
      ],
      "execution_count": 12,
      "outputs": [
        {
          "output_type": "execute_result",
          "data": {
            "text/html": [
              "<div>\n",
              "<style scoped>\n",
              "    .dataframe tbody tr th:only-of-type {\n",
              "        vertical-align: middle;\n",
              "    }\n",
              "\n",
              "    .dataframe tbody tr th {\n",
              "        vertical-align: top;\n",
              "    }\n",
              "\n",
              "    .dataframe thead th {\n",
              "        text-align: right;\n",
              "    }\n",
              "</style>\n",
              "<table border=\"1\" class=\"dataframe\">\n",
              "  <thead>\n",
              "    <tr style=\"text-align: right;\">\n",
              "      <th></th>\n",
              "      <th>0</th>\n",
              "      <th>1</th>\n",
              "      <th>2</th>\n",
              "      <th>3</th>\n",
              "    </tr>\n",
              "  </thead>\n",
              "  <tbody>\n",
              "    <tr>\n",
              "      <th>0</th>\n",
              "      <td>1102432</td>\n",
              "      <td>0</td>\n",
              "      <td>2026790</td>\n",
              "      <td>1</td>\n",
              "    </tr>\n",
              "    <tr>\n",
              "      <th>1</th>\n",
              "      <td>1102431</td>\n",
              "      <td>0</td>\n",
              "      <td>7066866</td>\n",
              "      <td>1</td>\n",
              "    </tr>\n",
              "    <tr>\n",
              "      <th>2</th>\n",
              "      <td>1102431</td>\n",
              "      <td>0</td>\n",
              "      <td>7066867</td>\n",
              "      <td>1</td>\n",
              "    </tr>\n",
              "    <tr>\n",
              "      <th>3</th>\n",
              "      <td>1090282</td>\n",
              "      <td>0</td>\n",
              "      <td>7066900</td>\n",
              "      <td>1</td>\n",
              "    </tr>\n",
              "    <tr>\n",
              "      <th>4</th>\n",
              "      <td>39449</td>\n",
              "      <td>0</td>\n",
              "      <td>7066905</td>\n",
              "      <td>1</td>\n",
              "    </tr>\n",
              "  </tbody>\n",
              "</table>\n",
              "</div>"
            ],
            "text/plain": [
              "         0  1        2  3\n",
              "0  1102432  0  2026790  1\n",
              "1  1102431  0  7066866  1\n",
              "2  1102431  0  7066867  1\n",
              "3  1090282  0  7066900  1\n",
              "4    39449  0  7066905  1"
            ]
          },
          "metadata": {},
          "execution_count": 12
        }
      ]
    },
    {
      "cell_type": "code",
      "metadata": {
        "colab": {
          "base_uri": "https://localhost:8080/",
          "height": 597
        },
        "id": "NymwwYDIokb-",
        "outputId": "e8da25bb-66f8-40d9-a024-8bf0971793a1"
      },
      "source": [
        "top1000 = pd.read_csv('top1000.dev',sep='\\t',header=None)\n",
        "top1000"
      ],
      "execution_count": 13,
      "outputs": [
        {
          "output_type": "execute_result",
          "data": {
            "text/html": [
              "<div>\n",
              "<style scoped>\n",
              "    .dataframe tbody tr th:only-of-type {\n",
              "        vertical-align: middle;\n",
              "    }\n",
              "\n",
              "    .dataframe tbody tr th {\n",
              "        vertical-align: top;\n",
              "    }\n",
              "\n",
              "    .dataframe thead th {\n",
              "        text-align: right;\n",
              "    }\n",
              "</style>\n",
              "<table border=\"1\" class=\"dataframe\">\n",
              "  <thead>\n",
              "    <tr style=\"text-align: right;\">\n",
              "      <th></th>\n",
              "      <th>0</th>\n",
              "      <th>1</th>\n",
              "      <th>2</th>\n",
              "      <th>3</th>\n",
              "    </tr>\n",
              "  </thead>\n",
              "  <tbody>\n",
              "    <tr>\n",
              "      <th>0</th>\n",
              "      <td>188714</td>\n",
              "      <td>1000052</td>\n",
              "      <td>foods and supplements to lower blood sugar</td>\n",
              "      <td>Watch portion sizes: ■ Even healthy foods will...</td>\n",
              "    </tr>\n",
              "    <tr>\n",
              "      <th>1</th>\n",
              "      <td>1082792</td>\n",
              "      <td>1000084</td>\n",
              "      <td>what does the golgi apparatus do to the protei...</td>\n",
              "      <td>Start studying Bonding, Carbs, Proteins, Lipid...</td>\n",
              "    </tr>\n",
              "    <tr>\n",
              "      <th>2</th>\n",
              "      <td>995526</td>\n",
              "      <td>1000094</td>\n",
              "      <td>where is the federal penitentiary in ind</td>\n",
              "      <td>It takes THOUSANDS of Macy's associates to bri...</td>\n",
              "    </tr>\n",
              "    <tr>\n",
              "      <th>3</th>\n",
              "      <td>199776</td>\n",
              "      <td>1000115</td>\n",
              "      <td>health benefits of eating vegetarian</td>\n",
              "      <td>The good news is that you will discover what g...</td>\n",
              "    </tr>\n",
              "    <tr>\n",
              "      <th>4</th>\n",
              "      <td>660957</td>\n",
              "      <td>1000115</td>\n",
              "      <td>what foods are good if you have gout?</td>\n",
              "      <td>The good news is that you will discover what g...</td>\n",
              "    </tr>\n",
              "    <tr>\n",
              "      <th>...</th>\n",
              "      <td>...</td>\n",
              "      <td>...</td>\n",
              "      <td>...</td>\n",
              "      <td>...</td>\n",
              "    </tr>\n",
              "    <tr>\n",
              "      <th>6668962</th>\n",
              "      <td>679360</td>\n",
              "      <td>999933</td>\n",
              "      <td>what is a corporate bylaws</td>\n",
              "      <td>Corporate Records for Nonprofit Corporations. ...</td>\n",
              "    </tr>\n",
              "    <tr>\n",
              "      <th>6668963</th>\n",
              "      <td>36388</td>\n",
              "      <td>999956</td>\n",
              "      <td>average family savings account</td>\n",
              "      <td>When it comes to average retirement savings st...</td>\n",
              "    </tr>\n",
              "    <tr>\n",
              "      <th>6668964</th>\n",
              "      <td>43781</td>\n",
              "      <td>999956</td>\n",
              "      <td>average savings per age group</td>\n",
              "      <td>When it comes to average retirement savings st...</td>\n",
              "    </tr>\n",
              "    <tr>\n",
              "      <th>6668965</th>\n",
              "      <td>28442</td>\n",
              "      <td>999956</td>\n",
              "      <td>at what age does the average person retire</td>\n",
              "      <td>When it comes to average retirement savings st...</td>\n",
              "    </tr>\n",
              "    <tr>\n",
              "      <th>6668966</th>\n",
              "      <td>36473</td>\n",
              "      <td>999956</td>\n",
              "      <td>average fifty year old retirement savings</td>\n",
              "      <td>When it comes to average retirement savings st...</td>\n",
              "    </tr>\n",
              "  </tbody>\n",
              "</table>\n",
              "<p>6668967 rows × 4 columns</p>\n",
              "</div>"
            ],
            "text/plain": [
              "               0  ...                                                  3\n",
              "0         188714  ...  Watch portion sizes: ■ Even healthy foods will...\n",
              "1        1082792  ...  Start studying Bonding, Carbs, Proteins, Lipid...\n",
              "2         995526  ...  It takes THOUSANDS of Macy's associates to bri...\n",
              "3         199776  ...  The good news is that you will discover what g...\n",
              "4         660957  ...  The good news is that you will discover what g...\n",
              "...          ...  ...                                                ...\n",
              "6668962   679360  ...  Corporate Records for Nonprofit Corporations. ...\n",
              "6668963    36388  ...  When it comes to average retirement savings st...\n",
              "6668964    43781  ...  When it comes to average retirement savings st...\n",
              "6668965    28442  ...  When it comes to average retirement savings st...\n",
              "6668966    36473  ...  When it comes to average retirement savings st...\n",
              "\n",
              "[6668967 rows x 4 columns]"
            ]
          },
          "metadata": {},
          "execution_count": 13
        }
      ]
    },
    {
      "cell_type": "code",
      "metadata": {
        "colab": {
          "base_uri": "https://localhost:8080/",
          "height": 597
        },
        "id": "PFC29Z0AVI-w",
        "outputId": "44e54afe-9217-4593-f29b-e89e7d165619"
      },
      "source": [
        "top1000 = top1000.sort_values(by=0).reset_index(drop=True)\n",
        "top1000"
      ],
      "execution_count": 14,
      "outputs": [
        {
          "output_type": "execute_result",
          "data": {
            "text/html": [
              "<div>\n",
              "<style scoped>\n",
              "    .dataframe tbody tr th:only-of-type {\n",
              "        vertical-align: middle;\n",
              "    }\n",
              "\n",
              "    .dataframe tbody tr th {\n",
              "        vertical-align: top;\n",
              "    }\n",
              "\n",
              "    .dataframe thead th {\n",
              "        text-align: right;\n",
              "    }\n",
              "</style>\n",
              "<table border=\"1\" class=\"dataframe\">\n",
              "  <thead>\n",
              "    <tr style=\"text-align: right;\">\n",
              "      <th></th>\n",
              "      <th>0</th>\n",
              "      <th>1</th>\n",
              "      <th>2</th>\n",
              "      <th>3</th>\n",
              "    </tr>\n",
              "  </thead>\n",
              "  <tbody>\n",
              "    <tr>\n",
              "      <th>0</th>\n",
              "      <td>2</td>\n",
              "      <td>2700543</td>\n",
              "      <td>Androgen receptor define</td>\n",
              "      <td>Structure-function of the glucagon receptor fa...</td>\n",
              "    </tr>\n",
              "    <tr>\n",
              "      <th>1</th>\n",
              "      <td>2</td>\n",
              "      <td>2726978</td>\n",
              "      <td>Androgen receptor define</td>\n",
              "      <td>In pharmacology, an antagonist binds to the re...</td>\n",
              "    </tr>\n",
              "    <tr>\n",
              "      <th>2</th>\n",
              "      <td>2</td>\n",
              "      <td>2726974</td>\n",
              "      <td>Androgen receptor define</td>\n",
              "      <td>A drug antagonist is any drug that binds with ...</td>\n",
              "    </tr>\n",
              "    <tr>\n",
              "      <th>3</th>\n",
              "      <td>2</td>\n",
              "      <td>3046559</td>\n",
              "      <td>Androgen receptor define</td>\n",
              "      <td>A neurotransmitter receptor located in the pre...</td>\n",
              "    </tr>\n",
              "    <tr>\n",
              "      <th>4</th>\n",
              "      <td>2</td>\n",
              "      <td>1817960</td>\n",
              "      <td>Androgen receptor define</td>\n",
              "      <td>Effect of Beta2 Receptor Activation on Smooth ...</td>\n",
              "    </tr>\n",
              "    <tr>\n",
              "      <th>...</th>\n",
              "      <td>...</td>\n",
              "      <td>...</td>\n",
              "      <td>...</td>\n",
              "      <td>...</td>\n",
              "    </tr>\n",
              "    <tr>\n",
              "      <th>6668962</th>\n",
              "      <td>1102400</td>\n",
              "      <td>991048</td>\n",
              "      <td>why do bears hibernate</td>\n",
              "      <td>Hibernate mode uses the hiberfil.sys file to s...</td>\n",
              "    </tr>\n",
              "    <tr>\n",
              "      <th>6668963</th>\n",
              "      <td>1102400</td>\n",
              "      <td>5714166</td>\n",
              "      <td>why do bears hibernate</td>\n",
              "      <td>Black Bear. Though rarely seen by most New Yor...</td>\n",
              "    </tr>\n",
              "    <tr>\n",
              "      <th>6668964</th>\n",
              "      <td>1102400</td>\n",
              "      <td>7225717</td>\n",
              "      <td>why do bears hibernate</td>\n",
              "      <td>The gummy bears grew in all of the. liquids, e...</td>\n",
              "    </tr>\n",
              "    <tr>\n",
              "      <th>6668965</th>\n",
              "      <td>1102400</td>\n",
              "      <td>260344</td>\n",
              "      <td>why do bears hibernate</td>\n",
              "      <td>In Asia, a large tiger might sometimes kill an...</td>\n",
              "    </tr>\n",
              "    <tr>\n",
              "      <th>6668966</th>\n",
              "      <td>1102400</td>\n",
              "      <td>550524</td>\n",
              "      <td>why do bears hibernate</td>\n",
              "      <td>Panda Bears do not live in snow climate. Unlik...</td>\n",
              "    </tr>\n",
              "  </tbody>\n",
              "</table>\n",
              "<p>6668967 rows × 4 columns</p>\n",
              "</div>"
            ],
            "text/plain": [
              "               0  ...                                                  3\n",
              "0              2  ...  Structure-function of the glucagon receptor fa...\n",
              "1              2  ...  In pharmacology, an antagonist binds to the re...\n",
              "2              2  ...  A drug antagonist is any drug that binds with ...\n",
              "3              2  ...  A neurotransmitter receptor located in the pre...\n",
              "4              2  ...  Effect of Beta2 Receptor Activation on Smooth ...\n",
              "...          ...  ...                                                ...\n",
              "6668962  1102400  ...  Hibernate mode uses the hiberfil.sys file to s...\n",
              "6668963  1102400  ...  Black Bear. Though rarely seen by most New Yor...\n",
              "6668964  1102400  ...  The gummy bears grew in all of the. liquids, e...\n",
              "6668965  1102400  ...  In Asia, a large tiger might sometimes kill an...\n",
              "6668966  1102400  ...  Panda Bears do not live in snow climate. Unlik...\n",
              "\n",
              "[6668967 rows x 4 columns]"
            ]
          },
          "metadata": {},
          "execution_count": 14
        }
      ]
    },
    {
      "cell_type": "markdown",
      "metadata": {
        "id": "L0kwJ5HAE2bE"
      },
      "source": [
        "### Preprocessing"
      ]
    },
    {
      "cell_type": "markdown",
      "metadata": {
        "id": "yTn6ictJHTKu"
      },
      "source": [
        "Set train set size (number of query passage pairs)"
      ]
    },
    {
      "cell_type": "code",
      "metadata": {
        "id": "VxRywptC6GYQ"
      },
      "source": [
        "bert_model_name = 'bert-base-uncased'\n",
        "# passage_per_query = 50\n",
        "num_triples = 3000\n",
        "num_queries = 100"
      ],
      "execution_count": 15,
      "outputs": []
    },
    {
      "cell_type": "code",
      "metadata": {
        "id": "yCI_0Af6uGGf",
        "colab": {
          "base_uri": "https://localhost:8080/",
          "height": 145,
          "referenced_widgets": [
            "91300e4792b04e26b2af148b06b3b8f0",
            "4229a0be76e74bcb97c42299ebc8b92b",
            "9bcb89af9f274338824feb5a2dc1bcf5",
            "a32066248f8446fca6b79178be3a6465",
            "87ab0dd1f22747a192de6ab75beaa146",
            "a4d77f14eb2e45e1ad22a6a12d52ae68",
            "17e63b0df27749f9a9e5079132dfbf2b",
            "17473a4e9b274182a48159b0011d18ab",
            "6d70bfe2de9b42bb80acfd8373a3a021",
            "2dee4df783ba4a4cab067b230aad8d16",
            "329fe0dc340a4f9b8593f52ee1a5b166",
            "021e175d73dd4888a5fe74fd282b755c",
            "266cf5bd99d24ee0b4c605ec622da284",
            "86e5329cd5594387a2a3ba99c402b950",
            "f95b35c3642044a08630a2e7efe08e19",
            "3d1bf66abea84d93bf28ccbb70e403e6",
            "f25416ae4bea470b85a6a45d619d3d1c",
            "92989eedda4e4422bee2fb4d2f231829",
            "e570b4fa0d96489a80f9a3e9b623f086",
            "f2d0bdceab5f4706adb7d36dcf559b62",
            "71fc3c4193b34d7fb86cee9efca9901e",
            "b3aa6536c14e421db670e8a567b67af6",
            "2ced8420a1e844d6b768c680d424d09a",
            "82d2288e00504d1a8f4e142b8a0e213d",
            "83814d1ba2824879bc16458fd500fca8",
            "a9e660be4716434b8895741c46632a4e",
            "6a599a5cda6d4c8f8376286c3c6ee077",
            "f6c463a420074112a158084e8ad9eced",
            "cce46749ce4b4279b2f3b4e05514a88a",
            "ed102244f1da4f0399070a7d601e2273",
            "eabbd48824ea4915b7ba8cccd2ed7dca",
            "b063ad9b07e7475a890e3b66ab45aeb5",
            "e138023884984359b303dc4cde2ba244",
            "3f9d4f36bc96435bb2f820c27d45e2cf",
            "060e7ed7b9554e7c9fd8a3a962219cc5",
            "e46e4486c74e4134b5bca5d6c6560c34",
            "2a16a5be02f14fefac8076971e7f1cc3",
            "b1f9625dc48244378cb730876d484003",
            "7b290a6139cd45779ff8a37ba76a1d72",
            "93e467e5bd4e4aa298ace00f81699fc1",
            "de1cbcef078845c582185ad2879f1ade",
            "9408d3e105bf4e7f8ccc456f37731c56",
            "b63eca74dbcc4d57af61273b1b17751b",
            "9fd84e5571ea482798ab1bc9a90e84d8"
          ]
        },
        "outputId": "cc208b3e-e9e3-4d35-a00b-a7de69cb2dcb"
      },
      "source": [
        "tokenizer = BertTokenizer.from_pretrained(bert_model_name)"
      ],
      "execution_count": 16,
      "outputs": [
        {
          "output_type": "display_data",
          "data": {
            "application/vnd.jupyter.widget-view+json": {
              "model_id": "91300e4792b04e26b2af148b06b3b8f0",
              "version_minor": 0,
              "version_major": 2
            },
            "text/plain": [
              "Downloading:   0%|          | 0.00/226k [00:00<?, ?B/s]"
            ]
          },
          "metadata": {}
        },
        {
          "output_type": "display_data",
          "data": {
            "application/vnd.jupyter.widget-view+json": {
              "model_id": "021e175d73dd4888a5fe74fd282b755c",
              "version_minor": 0,
              "version_major": 2
            },
            "text/plain": [
              "Downloading:   0%|          | 0.00/28.0 [00:00<?, ?B/s]"
            ]
          },
          "metadata": {}
        },
        {
          "output_type": "display_data",
          "data": {
            "application/vnd.jupyter.widget-view+json": {
              "model_id": "2ced8420a1e844d6b768c680d424d09a",
              "version_minor": 0,
              "version_major": 2
            },
            "text/plain": [
              "Downloading:   0%|          | 0.00/455k [00:00<?, ?B/s]"
            ]
          },
          "metadata": {}
        },
        {
          "output_type": "display_data",
          "data": {
            "application/vnd.jupyter.widget-view+json": {
              "model_id": "3f9d4f36bc96435bb2f820c27d45e2cf",
              "version_minor": 0,
              "version_major": 2
            },
            "text/plain": [
              "Downloading:   0%|          | 0.00/570 [00:00<?, ?B/s]"
            ]
          },
          "metadata": {}
        }
      ]
    },
    {
      "cell_type": "code",
      "metadata": {
        "colab": {
          "base_uri": "https://localhost:8080/"
        },
        "id": "L5jb33LaMFjd",
        "outputId": "616d17de-5f85-4756-ca14-7a43f030989b"
      },
      "source": [
        "tokenizer.save_pretrained('./bert-tokenizer/')"
      ],
      "execution_count": 17,
      "outputs": [
        {
          "output_type": "execute_result",
          "data": {
            "text/plain": [
              "('./bert-tokenizer/tokenizer_config.json',\n",
              " './bert-tokenizer/special_tokens_map.json',\n",
              " './bert-tokenizer/vocab.txt',\n",
              " './bert-tokenizer/added_tokens.json')"
            ]
          },
          "metadata": {},
          "execution_count": 17
        }
      ]
    },
    {
      "cell_type": "code",
      "metadata": {
        "colab": {
          "base_uri": "https://localhost:8080/"
        },
        "id": "gfNXxysLMZYK",
        "outputId": "813167b2-b21b-4d81-c8b9-fc705e8169de"
      },
      "source": [
        "!tar -zcvf bert-tokenizer.tar.gz bert-tokenizer"
      ],
      "execution_count": 18,
      "outputs": [
        {
          "output_type": "stream",
          "name": "stdout",
          "text": [
            "bert-tokenizer/\n",
            "bert-tokenizer/tokenizer_config.json\n",
            "bert-tokenizer/vocab.txt\n",
            "bert-tokenizer/special_tokens_map.json\n"
          ]
        }
      ]
    },
    {
      "cell_type": "code",
      "metadata": {
        "id": "Sk263gyeoxj3"
      },
      "source": [
        "qrels = qrels[[0,2]].rename(columns={0: 0, 2: 1})"
      ],
      "execution_count": 19,
      "outputs": []
    },
    {
      "cell_type": "code",
      "metadata": {
        "colab": {
          "base_uri": "https://localhost:8080/",
          "height": 423
        },
        "id": "ygAoeC29qYq9",
        "outputId": "f859e563-d9c7-4d79-f19b-3e261bbd2e0c"
      },
      "source": [
        "qrels['y']=1\n",
        "qrels = qrels[qrels[0].isin(top1000[0].unique()[:(num_queries//5)*6])]\n",
        "qrels"
      ],
      "execution_count": 20,
      "outputs": [
        {
          "output_type": "execute_result",
          "data": {
            "text/html": [
              "<div>\n",
              "<style scoped>\n",
              "    .dataframe tbody tr th:only-of-type {\n",
              "        vertical-align: middle;\n",
              "    }\n",
              "\n",
              "    .dataframe tbody tr th {\n",
              "        vertical-align: top;\n",
              "    }\n",
              "\n",
              "    .dataframe thead th {\n",
              "        text-align: right;\n",
              "    }\n",
              "</style>\n",
              "<table border=\"1\" class=\"dataframe\">\n",
              "  <thead>\n",
              "    <tr style=\"text-align: right;\">\n",
              "      <th></th>\n",
              "      <th>0</th>\n",
              "      <th>1</th>\n",
              "      <th>y</th>\n",
              "    </tr>\n",
              "  </thead>\n",
              "  <tbody>\n",
              "    <tr>\n",
              "      <th>22</th>\n",
              "      <td>9083</td>\n",
              "      <td>7067274</td>\n",
              "      <td>1</td>\n",
              "    </tr>\n",
              "    <tr>\n",
              "      <th>359</th>\n",
              "      <td>14151</td>\n",
              "      <td>7073772</td>\n",
              "      <td>1</td>\n",
              "    </tr>\n",
              "    <tr>\n",
              "      <th>16182</th>\n",
              "      <td>11006</td>\n",
              "      <td>7298209</td>\n",
              "      <td>1</td>\n",
              "    </tr>\n",
              "    <tr>\n",
              "      <th>16372</th>\n",
              "      <td>36214</td>\n",
              "      <td>7301549</td>\n",
              "      <td>1</td>\n",
              "    </tr>\n",
              "    <tr>\n",
              "      <th>16517</th>\n",
              "      <td>36133</td>\n",
              "      <td>103776</td>\n",
              "      <td>1</td>\n",
              "    </tr>\n",
              "    <tr>\n",
              "      <th>...</th>\n",
              "      <td>...</td>\n",
              "      <td>...</td>\n",
              "      <td>...</td>\n",
              "    </tr>\n",
              "    <tr>\n",
              "      <th>58553</th>\n",
              "      <td>36703</td>\n",
              "      <td>7996780</td>\n",
              "      <td>1</td>\n",
              "    </tr>\n",
              "    <tr>\n",
              "      <th>58574</th>\n",
              "      <td>25344</td>\n",
              "      <td>7528377</td>\n",
              "      <td>1</td>\n",
              "    </tr>\n",
              "    <tr>\n",
              "      <th>58636</th>\n",
              "      <td>30039</td>\n",
              "      <td>7998107</td>\n",
              "      <td>1</td>\n",
              "    </tr>\n",
              "    <tr>\n",
              "      <th>58888</th>\n",
              "      <td>36025</td>\n",
              "      <td>8002555</td>\n",
              "      <td>1</td>\n",
              "    </tr>\n",
              "    <tr>\n",
              "      <th>59147</th>\n",
              "      <td>20520</td>\n",
              "      <td>8007226</td>\n",
              "      <td>1</td>\n",
              "    </tr>\n",
              "  </tbody>\n",
              "</table>\n",
              "<p>127 rows × 3 columns</p>\n",
              "</div>"
            ],
            "text/plain": [
              "           0        1  y\n",
              "22      9083  7067274  1\n",
              "359    14151  7073772  1\n",
              "16182  11006  7298209  1\n",
              "16372  36214  7301549  1\n",
              "16517  36133   103776  1\n",
              "...      ...      ... ..\n",
              "58553  36703  7996780  1\n",
              "58574  25344  7528377  1\n",
              "58636  30039  7998107  1\n",
              "58888  36025  8002555  1\n",
              "59147  20520  8007226  1\n",
              "\n",
              "[127 rows x 3 columns]"
            ]
          },
          "metadata": {},
          "execution_count": 20
        }
      ]
    },
    {
      "cell_type": "code",
      "metadata": {
        "id": "CArU4Rp6Vil0"
      },
      "source": [
        "split = np.random.choice(qrels[0].unique(),qrels.shape[0]//5)\n",
        "train_queries = qrels[~qrels[0].isin(split)]\n",
        "test_queries = qrels[qrels[0].isin(split)]"
      ],
      "execution_count": 21,
      "outputs": []
    },
    {
      "cell_type": "code",
      "metadata": {
        "id": "ajjGZfq0aKvX"
      },
      "source": [
        "assert not train_queries[0].isin(test_queries[0]).any()"
      ],
      "execution_count": 22,
      "outputs": []
    },
    {
      "cell_type": "markdown",
      "metadata": {
        "id": "Ay4czN7mVkdX"
      },
      "source": [
        "Create tables"
      ]
    },
    {
      "cell_type": "code",
      "metadata": {
        "id": "CoSE1AWhVkIB"
      },
      "source": [
        "def generateTable(queries,n):\n",
        "  # Add labels\n",
        "  df = pd.merge(top1000, queries,  how='left', left_on=[0,1], right_on = [0,1]).fillna(0)\n",
        "  # drop queries not in set\n",
        "  df = df[df[0].isin(queries[0])][[2,3,'y']]\n",
        "  # positive samples\n",
        "  df_p = df[df['y']==1].reset_index(drop=True)\n",
        "  # negative samples\n",
        "  df_n = df[(df[2].isin(df_p[2])) & (df['y']==0)].drop_duplicates().reset_index(drop=True)\n",
        "  # append and shuffle\n",
        "  df = df_p.merge(df_n[[2,3]],how='right',left_on=2,right_on=2).drop(['y'],axis=1)\n",
        "  # swap\n",
        "  toswap = np.random.choice(df.shape[0], df.shape[0]//2,replace=False)\n",
        "  df['y'] = 1\n",
        "  df.loc[toswap,'y'] = 0\n",
        "  df.loc[toswap, '3_x'],df.loc[toswap,'3_y'] = df.loc[toswap,'3_y'],df.loc[toswap,'3_x']\n",
        "  # shuffle\n",
        "  df = df.sample(n=n).reset_index(drop=True)\n",
        "  return df"
      ],
      "execution_count": 23,
      "outputs": []
    },
    {
      "cell_type": "code",
      "metadata": {
        "id": "f-Yzd2e87Xot"
      },
      "source": [
        "train_set = generateTable(train_queries,n=num_triples)\n",
        "test_set = generateTable(test_queries,n=num_triples//5)"
      ],
      "execution_count": 24,
      "outputs": []
    },
    {
      "cell_type": "code",
      "metadata": {
        "colab": {
          "base_uri": "https://localhost:8080/",
          "height": 455
        },
        "id": "JYpX3LdhC98D",
        "outputId": "d1e79a8b-67f6-4e9c-d1e6-afe50ab67297"
      },
      "source": [
        "train_set.groupby(2).count()"
      ],
      "execution_count": 25,
      "outputs": [
        {
          "output_type": "execute_result",
          "data": {
            "text/html": [
              "<div>\n",
              "<style scoped>\n",
              "    .dataframe tbody tr th:only-of-type {\n",
              "        vertical-align: middle;\n",
              "    }\n",
              "\n",
              "    .dataframe tbody tr th {\n",
              "        vertical-align: top;\n",
              "    }\n",
              "\n",
              "    .dataframe thead th {\n",
              "        text-align: right;\n",
              "    }\n",
              "</style>\n",
              "<table border=\"1\" class=\"dataframe\">\n",
              "  <thead>\n",
              "    <tr style=\"text-align: right;\">\n",
              "      <th></th>\n",
              "      <th>3_x</th>\n",
              "      <th>3_y</th>\n",
              "      <th>y</th>\n",
              "    </tr>\n",
              "    <tr>\n",
              "      <th>2</th>\n",
              "      <th></th>\n",
              "      <th></th>\n",
              "      <th></th>\n",
              "    </tr>\n",
              "  </thead>\n",
              "  <tbody>\n",
              "    <tr>\n",
              "      <th>3 levels of government in canada and their responsibilities</th>\n",
              "      <td>29</td>\n",
              "      <td>29</td>\n",
              "      <td>29</td>\n",
              "    </tr>\n",
              "    <tr>\n",
              "      <th>Bethel University was founded in what year</th>\n",
              "      <td>24</td>\n",
              "      <td>24</td>\n",
              "      <td>24</td>\n",
              "    </tr>\n",
              "    <tr>\n",
              "      <th>Explain what a bone scan is and what it is used for.</th>\n",
              "      <td>69</td>\n",
              "      <td>69</td>\n",
              "      <td>69</td>\n",
              "    </tr>\n",
              "    <tr>\n",
              "      <th>Is the Louisiana sales tax 4.75</th>\n",
              "      <td>36</td>\n",
              "      <td>36</td>\n",
              "      <td>36</td>\n",
              "    </tr>\n",
              "    <tr>\n",
              "      <th>Ludacris Net Worth</th>\n",
              "      <td>60</td>\n",
              "      <td>60</td>\n",
              "      <td>60</td>\n",
              "    </tr>\n",
              "    <tr>\n",
              "      <th>...</th>\n",
              "      <td>...</td>\n",
              "      <td>...</td>\n",
              "      <td>...</td>\n",
              "    </tr>\n",
              "    <tr>\n",
              "      <th>average cost of medicare drug plan</th>\n",
              "      <td>34</td>\n",
              "      <td>34</td>\n",
              "      <td>34</td>\n",
              "    </tr>\n",
              "    <tr>\n",
              "      <th>average dimension of a shower stall</th>\n",
              "      <td>34</td>\n",
              "      <td>34</td>\n",
              "      <td>34</td>\n",
              "    </tr>\n",
              "    <tr>\n",
              "      <th>average family savings account</th>\n",
              "      <td>37</td>\n",
              "      <td>37</td>\n",
              "      <td>37</td>\n",
              "    </tr>\n",
              "    <tr>\n",
              "      <th>average gas prices in ga</th>\n",
              "      <td>42</td>\n",
              "      <td>42</td>\n",
              "      <td>42</td>\n",
              "    </tr>\n",
              "    <tr>\n",
              "      <th>average income for north salem new york</th>\n",
              "      <td>35</td>\n",
              "      <td>35</td>\n",
              "      <td>35</td>\n",
              "    </tr>\n",
              "  </tbody>\n",
              "</table>\n",
              "<p>85 rows × 3 columns</p>\n",
              "</div>"
            ],
            "text/plain": [
              "                                                    3_x  3_y   y\n",
              "2                                                               \n",
              "3 levels of government in canada and their resp...   29   29  29\n",
              "Bethel University was founded in what year           24   24  24\n",
              "Explain what a bone scan is and what it is used...   69   69  69\n",
              "Is the Louisiana sales tax 4.75                      36   36  36\n",
              "Ludacris Net Worth                                   60   60  60\n",
              "...                                                 ...  ...  ..\n",
              "average cost of medicare drug plan                   34   34  34\n",
              "average dimension of a shower stall                  34   34  34\n",
              "average family savings account                       37   37  37\n",
              "average gas prices in ga                             42   42  42\n",
              "average income for north salem new york              35   35  35\n",
              "\n",
              "[85 rows x 3 columns]"
            ]
          },
          "metadata": {},
          "execution_count": 25
        }
      ]
    },
    {
      "cell_type": "code",
      "metadata": {
        "id": "drZ8Ectuab1Y"
      },
      "source": [
        "assert not train_set[2].isin(test_set[2]).any()"
      ],
      "execution_count": 26,
      "outputs": []
    },
    {
      "cell_type": "code",
      "metadata": {
        "id": "dMPmK1Ftd-we"
      },
      "source": [
        "# from sklearn.model_selection import train_test_split\n",
        "# train_set,test_set = train_test_split(train_set,test_size=0.2)"
      ],
      "execution_count": 27,
      "outputs": []
    },
    {
      "cell_type": "code",
      "metadata": {
        "id": "iArgIYaTTcSf"
      },
      "source": [
        "# batch_size = 128\n",
        "# def generateSamples(df):\n",
        "#   for i,row in df.iterrows():\n",
        "#     q = tokenizer(row[2], return_tensors=\"tf\",padding=\"max_length\",max_length=q_trunc,truncation=True)\n",
        "#     p = tokenizer(row[3], return_tensors=\"tf\",padding=\"max_length\",max_length=p_trunc,truncation=True)\n",
        "#     X={}\n",
        "#     for id in ['input_ids','token_type_ids','attention_mask']:\n",
        "#       X[id] = tf.concat([q[id],p[id][:,1:]],1)\n",
        "#     yield X,[row['y']]\n",
        "# type_dict = {id:tf.int32 for id in ['input_ids','token_type_ids','attention_mask']}\n",
        "# train_ds = tf.data.Dataset.from_generator(lambda :generateSamples(train_set),(type_dict,tf.int32))\n",
        "# train_ds = train_ds.batch(batch_size).prefetch(1)\n",
        "# test_ds = tf.data.Dataset.from_generator(lambda :generateSamples(test_set),(type_dict,tf.int32))\n",
        "# test_ds = test_ds.batch(batch_size).prefetch(1)"
      ],
      "execution_count": 28,
      "outputs": []
    },
    {
      "cell_type": "markdown",
      "metadata": {
        "id": "p2D0kjEuGnG1"
      },
      "source": [
        "##### Tokenize"
      ]
    },
    {
      "cell_type": "markdown",
      "metadata": {
        "id": "NvevQZLZG2Is"
      },
      "source": [
        "Truncation Limits"
      ]
    },
    {
      "cell_type": "code",
      "metadata": {
        "id": "waoCl3mPKT5-"
      },
      "source": [
        "q_trunc = 64\n",
        "p_trunc = 449\n",
        "assert q_trunc+p_trunc-1==512"
      ],
      "execution_count": 29,
      "outputs": []
    },
    {
      "cell_type": "markdown",
      "metadata": {
        "id": "IIyE153-GTYb"
      },
      "source": [
        "Tokenize queries"
      ]
    },
    {
      "cell_type": "code",
      "metadata": {
        "id": "IY4n0c2_ahgv"
      },
      "source": [
        "def generateSet(df):\n",
        "  # tokenize\n",
        "  q = tokenizer(df[2].values.tolist(), return_tensors=\"tf\",padding=\"max_length\",max_length=q_trunc,truncation=True)\n",
        "  p_1 = tokenizer(df['3_x'].values.tolist(), return_tensors=\"tf\",padding=\"max_length\",max_length=p_trunc,truncation=True)\n",
        "  p_2 = tokenizer(df['3_y'].values.tolist(), return_tensors=\"tf\",padding=\"max_length\",max_length=p_trunc,truncation=True)\n",
        "  X=[]\n",
        "  # labels\n",
        "  y = df['y']\n",
        "  for id in ['input_ids','token_type_ids','attention_mask']:\n",
        "    X.append(tf.concat([q[id],p_1[id][:,1:]],1))\n",
        "  for id in ['input_ids','token_type_ids','attention_mask']:\n",
        "    X.append(tf.concat([q[id],p_2[id][:,1:]],1))\n",
        "  # delete unwanted variables\n",
        "  q = None\n",
        "  p_1 = None\n",
        "  p_2 = None\n",
        "  gc.collect()\n",
        "  return X,y"
      ],
      "execution_count": 30,
      "outputs": []
    },
    {
      "cell_type": "code",
      "metadata": {
        "id": "pQMbHHfla1gI"
      },
      "source": [
        "X_train,y_train = generateSet(train_set)\n",
        "X_test,y_test = generateSet(test_set)"
      ],
      "execution_count": 31,
      "outputs": []
    },
    {
      "cell_type": "markdown",
      "metadata": {
        "id": "acJNGLWlEYLi"
      },
      "source": [
        "#### Setup Tensorflow"
      ]
    },
    {
      "cell_type": "markdown",
      "metadata": {
        "id": "IJx2-RzjGQyk"
      },
      "source": [
        "Setup TPU"
      ]
    },
    {
      "cell_type": "code",
      "metadata": {
        "id": "-WcTtRCHuCJX"
      },
      "source": [
        "# #Get a handle to the attached TPU. On GCP it will be the CloudTPU itself\n",
        "# resolver = tf.distribute.cluster_resolver.TPUClusterResolver(tpu='grpc://' + os.environ['COLAB_TPU_ADDR'])\n",
        "# #Connect to the TPU handle and initialise it\n",
        "# tf.config.experimental_connect_to_cluster(resolver)\n",
        "# tf.tpu.experimental.initialize_tpu_system(resolver)\n",
        "# strategy = tf.distribute.experimental.TPUStrategy(resolver)"
      ],
      "execution_count": 32,
      "outputs": []
    },
    {
      "cell_type": "code",
      "metadata": {
        "id": "Fto_1UDRaX6U"
      },
      "source": [
        "tf.config.run_functions_eagerly(False)"
      ],
      "execution_count": 33,
      "outputs": []
    },
    {
      "cell_type": "markdown",
      "metadata": {
        "id": "EkLMSq0cEpOJ"
      },
      "source": [
        "### Create Model"
      ]
    },
    {
      "cell_type": "markdown",
      "metadata": {
        "id": "_4CFH49qGLeW"
      },
      "source": [
        "Batch size: 128 on TPU, 8 on GPU"
      ]
    },
    {
      "cell_type": "code",
      "metadata": {
        "id": "_hSqFAqrX224"
      },
      "source": [
        "num_epochs = 2\n",
        "batch_size = 8\n",
        "num_train_steps = X_train[0].shape[0]//batch_size*num_epochs"
      ],
      "execution_count": 34,
      "outputs": []
    },
    {
      "cell_type": "markdown",
      "metadata": {
        "id": "GT8o-TsoFvAI"
      },
      "source": [
        "A model with three inputs:\n",
        "- Input IDs\n",
        "- Token Type IDs\n",
        "- Attention Masks\n",
        "These are from tokenizer.\n",
        "\n",
        "Fed to BERT, from which the [CLS] vector is taken, and fed into a dense layer with one output after sigmoid."
      ]
    },
    {
      "cell_type": "code",
      "metadata": {
        "id": "4L9t0GEb8zob"
      },
      "source": [
        "def create_inputs(num_nodes,name):\n",
        "  layers = []\n",
        "  for layer_name in ['input_ids','token_type_ids','attention_mask']:\n",
        "    layers.append(tf.keras.layers.Input(shape=(num_nodes,),dtype=tf.int32,name=layer_name+f'_{name}'))\n",
        "  return layers\n",
        "\n",
        "def create_model(output_bias=None):\n",
        "    if output_bias is not None:\n",
        "      output_bias = tf.keras.initializers.Constant(output_bias)\n",
        "    config = BertConfig(hidden_dropout_prob=0.1)\n",
        "    bert = TFBertModel.from_pretrained(bert_model_name,config=config)\n",
        "    bert.save_pretrained('./bert-model/')\n",
        "    for layer in bert.layers[:]:\n",
        "      if isinstance(layer, transformers.models.bert.modeling_tf_bert.TFBertMainLayer):\n",
        "        layer.embeddings.trainable=False\n",
        "        layer.pooler.trainable=False\n",
        "        for idx, layer in enumerate(layer.encoder.layer):\n",
        "            # print(layer)\n",
        "            # freeze first 10\n",
        "            if idx in range(12):\n",
        "                layer.trainable = False\n",
        "      else:\n",
        "        layer.trainable = False\n",
        "              \n",
        "    input_1 = create_inputs(512,'pair_1')\n",
        "    input_2 = create_inputs(512,'pair_2')\n",
        "    bert_out_1 = bert(input_1).last_hidden_state\n",
        "    bert_out_2 = bert(input_2).last_hidden_state\n",
        "    cls_1 = tf.keras.layers.Lambda(lambda x:x[:,0,:])(bert_out_1)\n",
        "    cls_2 = tf.keras.layers.Lambda(lambda x:x[:,0,:])(bert_out_2)\n",
        "    concated = tf.keras.layers.Concatenate()([cls_1,cls_2])\n",
        "    # print(avg_q.shape)\n",
        "    output = tf.keras.layers.Dense(1, activation=\"sigmoid\",bias_initializer=output_bias)(concated)\n",
        "    model = tf.keras.models.Model(inputs=[input_1,input_2], outputs=[output])\n",
        "    opt,schedule = transformers.create_optimizer(num_train_steps=num_train_steps,init_lr=0.001,adam_beta1=0.9,adam_beta2=0.999,weight_decay_rate=0.01,num_warmup_steps=num_train_steps//10)\n",
        "    # opt = tfa.optimizers.RectifiedAdam(learning_rate=3e-5)\n",
        "    model.compile(optimizer=opt,\n",
        "              loss=tf.keras.losses.BinaryCrossentropy(),\n",
        "              metrics=[tf.keras.metrics.BinaryAccuracy(),\n",
        "                       tf.keras.metrics.AUC(curve=\"ROC\")])\n",
        "    model.summary()\n",
        "    return model"
      ],
      "execution_count": 44,
      "outputs": []
    },
    {
      "cell_type": "markdown",
      "metadata": {
        "id": "VZJlWpc0Fqar"
      },
      "source": [
        "Save on best validation loss"
      ]
    },
    {
      "cell_type": "code",
      "metadata": {
        "id": "IMdRLXOCFD4V"
      },
      "source": [
        "checkpoint = tf.keras.callbacks.ModelCheckpoint(root_dir + \"pointwise_best_model.h5\", monitor='val_auc', verbose=1, save_weights_only=True, save_best_only=True, mode='max', save_freq='epoch')"
      ],
      "execution_count": 36,
      "outputs": []
    },
    {
      "cell_type": "markdown",
      "metadata": {
        "id": "_T9pFD06Fo9U"
      },
      "source": [
        "Check GPU"
      ]
    },
    {
      "cell_type": "code",
      "metadata": {
        "colab": {
          "base_uri": "https://localhost:8080/",
          "height": 36
        },
        "id": "OAj81oYua79R",
        "outputId": "f5b06a28-f878-437a-aa35-946f14b638d1"
      },
      "source": [
        "tf.test.gpu_device_name()"
      ],
      "execution_count": 37,
      "outputs": [
        {
          "output_type": "execute_result",
          "data": {
            "application/vnd.google.colaboratory.intrinsic+json": {
              "type": "string"
            },
            "text/plain": [
              "'/device:GPU:0'"
            ]
          },
          "metadata": {},
          "execution_count": 37
        }
      ]
    },
    {
      "cell_type": "markdown",
      "metadata": {
        "id": "8JdoAcjaFm-c"
      },
      "source": [
        "Free memory"
      ]
    },
    {
      "cell_type": "code",
      "metadata": {
        "colab": {
          "base_uri": "https://localhost:8080/"
        },
        "id": "UfARg8ouZSzj",
        "outputId": "2e45e596-0ffa-4996-a878-95110a26b374"
      },
      "source": [
        "gc.collect()"
      ],
      "execution_count": 38,
      "outputs": [
        {
          "output_type": "execute_result",
          "data": {
            "text/plain": [
              "150"
            ]
          },
          "metadata": {},
          "execution_count": 38
        }
      ]
    },
    {
      "cell_type": "markdown",
      "metadata": {
        "id": "uW_gd4UzFlg1"
      },
      "source": [
        "Hide warnings"
      ]
    },
    {
      "cell_type": "code",
      "metadata": {
        "id": "4g8FPQfDgF4S"
      },
      "source": [
        "import os\n",
        "os.environ['TF_CPP_MIN_LOG_LEVEL'] = '2' \n",
        "tf.get_logger().setLevel('WARNING')"
      ],
      "execution_count": 39,
      "outputs": []
    },
    {
      "cell_type": "markdown",
      "metadata": {
        "id": "RvAL0-Q4FiJl"
      },
      "source": [
        "Biases, and class weights"
      ]
    },
    {
      "cell_type": "code",
      "metadata": {
        "id": "xmwQY008BMyx"
      },
      "source": [
        "total = len(train_set['y'])\n",
        "pos = train_set['y'].sum()\n",
        "neg = total-pos\n",
        "initial_bias = np.log([pos/neg])\n",
        "\n",
        "weight_for_0 = (1 / neg) * (total / 2.0)\n",
        "weight_for_1 = (1 / pos) * (total / 2.0)\n",
        "\n",
        "class_weight = {0: weight_for_0, 1: weight_for_1}\n",
        "# class_weight={0:1,1:1}"
      ],
      "execution_count": 40,
      "outputs": []
    },
    {
      "cell_type": "markdown",
      "metadata": {
        "id": "gjkTLj-YFS-G"
      },
      "source": [
        "#### Train"
      ]
    },
    {
      "cell_type": "code",
      "metadata": {
        "id": "4pIAdMxRFbTF"
      },
      "source": [
        "def createAndRun():\n",
        "  model = None\n",
        "  if initial_bias:\n",
        "    print(\"Bias\",initial_bias)\n",
        "    model = create_model(initial_bias)\n",
        "  else:\n",
        "    model = create_model()\n",
        "  gc.collect()\n",
        "  print(\"Class weight\",class_weight)\n",
        "  # model.fit(x=train_ds, epochs=4, verbose=1, validation_data=test_ds, callbacks=[checkpoint])\n",
        "  history = model.fit(x=X_train, y=y_train, batch_size=batch_size, epochs=num_epochs, verbose=1, validation_data=(X_test,y_test), use_multiprocessing=False, callbacks=[checkpoint],class_weight=class_weight)\n",
        "  model.save_weights('final_model.h5')\n",
        "  return model,history\n",
        "\n",
        "def cpu():\n",
        "  return createAndRun()\n",
        "\n",
        "def gpu():\n",
        "  with tf.device('/device:GPU:0'):\n",
        "    return createAndRun()\n",
        "\n",
        "def tpu():\n",
        "  with strategy.scope():\n",
        "    return createAndRun()"
      ],
      "execution_count": 41,
      "outputs": []
    },
    {
      "cell_type": "code",
      "metadata": {
        "id": "uUb1eYjwcXdo"
      },
      "source": [
        "# model,history = cpu()"
      ],
      "execution_count": 42,
      "outputs": []
    },
    {
      "cell_type": "code",
      "metadata": {
        "colab": {
          "base_uri": "https://localhost:8080/"
        },
        "id": "f6G--AfwklAr",
        "outputId": "f312bee1-287c-445e-9227-1371d9b7dfa8"
      },
      "source": [
        "model,history = gpu()"
      ],
      "execution_count": 45,
      "outputs": [
        {
          "output_type": "stream",
          "name": "stdout",
          "text": [
            "Bias [-0.00800004]\n"
          ]
        },
        {
          "output_type": "stream",
          "name": "stderr",
          "text": [
            "Some layers from the model checkpoint at bert-base-uncased were not used when initializing TFBertModel: ['mlm___cls', 'nsp___cls']\n",
            "- This IS expected if you are initializing TFBertModel from the checkpoint of a model trained on another task or with another architecture (e.g. initializing a BertForSequenceClassification model from a BertForPreTraining model).\n",
            "- This IS NOT expected if you are initializing TFBertModel from the checkpoint of a model that you expect to be exactly identical (initializing a BertForSequenceClassification model from a BertForSequenceClassification model).\n",
            "All the layers of TFBertModel were initialized from the model checkpoint at bert-base-uncased.\n",
            "If your task is similar to the task the model of the checkpoint was trained on, you can already use TFBertModel for predictions without further training.\n"
          ]
        },
        {
          "output_type": "stream",
          "name": "stdout",
          "text": [
            "Model: \"model_1\"\n",
            "__________________________________________________________________________________________________\n",
            " Layer (type)                   Output Shape         Param #     Connected to                     \n",
            "==================================================================================================\n",
            " input_ids_pair_1 (InputLayer)  [(None, 512)]        0           []                               \n",
            "                                                                                                  \n",
            " token_type_ids_pair_1 (InputLa  [(None, 512)]       0           []                               \n",
            " yer)                                                                                             \n",
            "                                                                                                  \n",
            " attention_mask_pair_1 (InputLa  [(None, 512)]       0           []                               \n",
            " yer)                                                                                             \n",
            "                                                                                                  \n",
            " input_ids_pair_2 (InputLayer)  [(None, 512)]        0           []                               \n",
            "                                                                                                  \n",
            " token_type_ids_pair_2 (InputLa  [(None, 512)]       0           []                               \n",
            " yer)                                                                                             \n",
            "                                                                                                  \n",
            " attention_mask_pair_2 (InputLa  [(None, 512)]       0           []                               \n",
            " yer)                                                                                             \n",
            "                                                                                                  \n",
            " tf_bert_model_1 (TFBertModel)  TFBaseModelOutputWi  109482240   ['input_ids_pair_1[0][0]',       \n",
            "                                thPoolingAndCrossAt               'token_type_ids_pair_1[0][0]',  \n",
            "                                tentions(last_hidde               'attention_mask_pair_1[0][0]',  \n",
            "                                n_state=(None, 512,               'input_ids_pair_2[0][0]',       \n",
            "                                 768),                            'token_type_ids_pair_2[0][0]',  \n",
            "                                 pooler_output=(Non               'attention_mask_pair_2[0][0]']  \n",
            "                                e, 768),                                                          \n",
            "                                 past_key_values=No                                               \n",
            "                                ne, hidden_states=N                                               \n",
            "                                one, attentions=Non                                               \n",
            "                                e, cross_attentions                                               \n",
            "                                =None)                                                            \n",
            "                                                                                                  \n",
            " lambda_2 (Lambda)              (None, 768)          0           ['tf_bert_model_1[0][0]']        \n",
            "                                                                                                  \n",
            " lambda_3 (Lambda)              (None, 768)          0           ['tf_bert_model_1[1][0]']        \n",
            "                                                                                                  \n",
            " concatenate_1 (Concatenate)    (None, 1536)         0           ['lambda_2[0][0]',               \n",
            "                                                                  'lambda_3[0][0]']               \n",
            "                                                                                                  \n",
            " dense_1 (Dense)                (None, 1)            1537        ['concatenate_1[0][0]']          \n",
            "                                                                                                  \n",
            "==================================================================================================\n",
            "Total params: 109,483,777\n",
            "Trainable params: 1,537\n",
            "Non-trainable params: 109,482,240\n",
            "__________________________________________________________________________________________________\n",
            "Class weight {0: 0.99601593625498, 1: 1.0040160642570282}\n",
            "Epoch 1/2\n",
            "375/375 [==============================] - ETA: 0s - loss: 0.7064 - binary_accuracy: 0.5357 - auc: 0.5554\n",
            "Epoch 00001: val_auc improved from inf to 0.57346, saving model to /content/gdrive/MyDrive/col764/pointwise_best_model.h5\n",
            "375/375 [==============================] - 631s 2s/step - loss: 0.7064 - binary_accuracy: 0.5357 - auc: 0.5554 - val_loss: 0.7097 - val_binary_accuracy: 0.5717 - val_auc: 0.5735\n",
            "Epoch 2/2\n",
            "375/375 [==============================] - ETA: 0s - loss: 0.6513 - binary_accuracy: 0.6113 - auc: 0.6644\n",
            "Epoch 00002: val_auc did not improve from 0.57346\n",
            "375/375 [==============================] - 599s 2s/step - loss: 0.6513 - binary_accuracy: 0.6113 - auc: 0.6644 - val_loss: 0.6868 - val_binary_accuracy: 0.5417 - val_auc: 0.5799\n"
          ]
        }
      ]
    },
    {
      "cell_type": "code",
      "metadata": {
        "id": "Golkc-ggfhdW"
      },
      "source": [
        "# model,history = tpu()"
      ],
      "execution_count": null,
      "outputs": []
    },
    {
      "cell_type": "code",
      "metadata": {
        "id": "du8VESG-Mjzw"
      },
      "source": [
        "!tar -zcvf bert-model.tar.gz bert-model"
      ],
      "execution_count": null,
      "outputs": []
    },
    {
      "cell_type": "code",
      "metadata": {
        "id": "LAp8TipihGEA"
      },
      "source": [
        "!ls -alh top1000.dev qrels.dev.tsv"
      ],
      "execution_count": null,
      "outputs": []
    },
    {
      "cell_type": "code",
      "metadata": {
        "id": "pg6eQr0CHRUm"
      },
      "source": [
        "pd.DataFrame({\n",
        "    'embedding':[True,False,False,False],\n",
        "    'batch':[128,128,128,128],\n",
        "    'time':[327,225,180,254],\n",
        "    'loss':[0.67241,0.66957,0.22111,0.5409],\n",
        "    'auc':[0.5674,0.5798,0.5055,0.8734],\n",
        "    'acc':[0.5811,0.5958,0.9479,0.7318],\n",
        "    'frozen':[10,10,12,8]\n",
        "              })"
      ],
      "execution_count": null,
      "outputs": []
    },
    {
      "cell_type": "code",
      "metadata": {
        "id": "xgspdBfcNO4-"
      },
      "source": [
        ""
      ],
      "execution_count": null,
      "outputs": []
    }
  ]
}