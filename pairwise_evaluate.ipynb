{
  "nbformat": 4,
  "nbformat_minor": 0,
  "metadata": {
    "colab": {
      "name": "pairwise_evaluate.ipynb",
      "provenance": [],
      "collapsed_sections": [],
      "authorship_tag": "ABX9TyMQ9n5ydxB7nPfrGormMzvT",
      "include_colab_link": true
    },
    "kernelspec": {
      "name": "python3",
      "display_name": "Python 3"
    },
    "language_info": {
      "name": "python"
    }
  },
  "cells": [
    {
      "cell_type": "markdown",
      "metadata": {
        "id": "view-in-github",
        "colab_type": "text"
      },
      "source": [
        "<a href=\"https://colab.research.google.com/github/Prakhar314/COL764-Project/blob/main/pairwise_evaluate.ipynb\" target=\"_parent\"><img src=\"https://colab.research.google.com/assets/colab-badge.svg\" alt=\"Open In Colab\"/></a>"
      ]
    },
    {
      "cell_type": "code",
      "metadata": {
        "id": "Wz47dtqCtjvY"
      },
      "source": [
        ""
      ],
      "execution_count": null,
      "outputs": []
    },
    {
      "cell_type": "code",
      "metadata": {
        "colab": {
          "base_uri": "https://localhost:8080/"
        },
        "id": "LPlkYCaWso8_",
        "outputId": "db2afcb4-6d20-4ba7-a7b3-69d4d327427b"
      },
      "source": [
        "!pip install transformers tensorflow-addons"
      ],
      "execution_count": null,
      "outputs": [
        {
          "output_type": "stream",
          "name": "stdout",
          "text": [
            "Requirement already satisfied: transformers in /usr/local/lib/python3.7/dist-packages (4.12.5)\n",
            "Requirement already satisfied: tensorflow-addons in /usr/local/lib/python3.7/dist-packages (0.15.0)\n",
            "Requirement already satisfied: numpy>=1.17 in /usr/local/lib/python3.7/dist-packages (from transformers) (1.19.5)\n",
            "Requirement already satisfied: requests in /usr/local/lib/python3.7/dist-packages (from transformers) (2.23.0)\n",
            "Requirement already satisfied: pyyaml>=5.1 in /usr/local/lib/python3.7/dist-packages (from transformers) (6.0)\n",
            "Requirement already satisfied: sacremoses in /usr/local/lib/python3.7/dist-packages (from transformers) (0.0.46)\n",
            "Requirement already satisfied: filelock in /usr/local/lib/python3.7/dist-packages (from transformers) (3.4.0)\n",
            "Requirement already satisfied: tqdm>=4.27 in /usr/local/lib/python3.7/dist-packages (from transformers) (4.62.3)\n",
            "Requirement already satisfied: tokenizers<0.11,>=0.10.1 in /usr/local/lib/python3.7/dist-packages (from transformers) (0.10.3)\n",
            "Requirement already satisfied: regex!=2019.12.17 in /usr/local/lib/python3.7/dist-packages (from transformers) (2019.12.20)\n",
            "Requirement already satisfied: importlib-metadata in /usr/local/lib/python3.7/dist-packages (from transformers) (4.8.2)\n",
            "Requirement already satisfied: packaging>=20.0 in /usr/local/lib/python3.7/dist-packages (from transformers) (21.3)\n",
            "Requirement already satisfied: huggingface-hub<1.0,>=0.1.0 in /usr/local/lib/python3.7/dist-packages (from transformers) (0.1.2)\n",
            "Requirement already satisfied: typing-extensions>=3.7.4.3 in /usr/local/lib/python3.7/dist-packages (from huggingface-hub<1.0,>=0.1.0->transformers) (3.10.0.2)\n",
            "Requirement already satisfied: pyparsing!=3.0.5,>=2.0.2 in /usr/local/lib/python3.7/dist-packages (from packaging>=20.0->transformers) (3.0.6)\n",
            "Requirement already satisfied: typeguard>=2.7 in /usr/local/lib/python3.7/dist-packages (from tensorflow-addons) (2.7.1)\n",
            "Requirement already satisfied: zipp>=0.5 in /usr/local/lib/python3.7/dist-packages (from importlib-metadata->transformers) (3.6.0)\n",
            "Requirement already satisfied: idna<3,>=2.5 in /usr/local/lib/python3.7/dist-packages (from requests->transformers) (2.10)\n",
            "Requirement already satisfied: urllib3!=1.25.0,!=1.25.1,<1.26,>=1.21.1 in /usr/local/lib/python3.7/dist-packages (from requests->transformers) (1.24.3)\n",
            "Requirement already satisfied: certifi>=2017.4.17 in /usr/local/lib/python3.7/dist-packages (from requests->transformers) (2021.10.8)\n",
            "Requirement already satisfied: chardet<4,>=3.0.2 in /usr/local/lib/python3.7/dist-packages (from requests->transformers) (3.0.4)\n",
            "Requirement already satisfied: joblib in /usr/local/lib/python3.7/dist-packages (from sacremoses->transformers) (1.1.0)\n",
            "Requirement already satisfied: six in /usr/local/lib/python3.7/dist-packages (from sacremoses->transformers) (1.15.0)\n",
            "Requirement already satisfied: click in /usr/local/lib/python3.7/dist-packages (from sacremoses->transformers) (7.1.2)\n"
          ]
        }
      ]
    },
    {
      "cell_type": "code",
      "metadata": {
        "colab": {
          "base_uri": "https://localhost:8080/"
        },
        "id": "OGXBKO8Hi3Xv",
        "outputId": "7aa03aeb-ac7a-4d10-8834-d5755d6b8738"
      },
      "source": [
        "from google.colab import drive\n",
        "drive.mount('/content/gdrive')"
      ],
      "execution_count": 1,
      "outputs": [
        {
          "output_type": "stream",
          "name": "stdout",
          "text": [
            "Mounted at /content/gdrive\n"
          ]
        }
      ]
    },
    {
      "cell_type": "markdown",
      "metadata": {
        "id": "LFhXNsE5q0Go"
      },
      "source": [
        "### Model"
      ]
    },
    {
      "cell_type": "code",
      "metadata": {
        "id": "ghUElKIQs-HA",
        "colab": {
          "base_uri": "https://localhost:8080/",
          "height": 370
        },
        "outputId": "e5df8bfc-7bbc-4b6a-a1c5-64a7b645b56d"
      },
      "source": [
        "import transformers\n",
        "from transformers import BertTokenizer, BertConfig, TFBertModel\n",
        "import tensorflow as tf\n",
        "import tensorflow_addons as tfa"
      ],
      "execution_count": 2,
      "outputs": [
        {
          "output_type": "error",
          "ename": "ModuleNotFoundError",
          "evalue": "ignored",
          "traceback": [
            "\u001b[0;31m---------------------------------------------------------------------------\u001b[0m",
            "\u001b[0;31mModuleNotFoundError\u001b[0m                       Traceback (most recent call last)",
            "\u001b[0;32m<ipython-input-2-0cb61795aa40>\u001b[0m in \u001b[0;36m<module>\u001b[0;34m()\u001b[0m\n\u001b[0;32m----> 1\u001b[0;31m \u001b[0;32mimport\u001b[0m \u001b[0mtransformers\u001b[0m\u001b[0;34m\u001b[0m\u001b[0;34m\u001b[0m\u001b[0m\n\u001b[0m\u001b[1;32m      2\u001b[0m \u001b[0;32mfrom\u001b[0m \u001b[0mtransformers\u001b[0m \u001b[0;32mimport\u001b[0m \u001b[0mBertTokenizer\u001b[0m\u001b[0;34m,\u001b[0m \u001b[0mBertConfig\u001b[0m\u001b[0;34m,\u001b[0m \u001b[0mTFBertModel\u001b[0m\u001b[0;34m\u001b[0m\u001b[0;34m\u001b[0m\u001b[0m\n\u001b[1;32m      3\u001b[0m \u001b[0;32mimport\u001b[0m \u001b[0mtensorflow\u001b[0m \u001b[0;32mas\u001b[0m \u001b[0mtf\u001b[0m\u001b[0;34m\u001b[0m\u001b[0;34m\u001b[0m\u001b[0m\n\u001b[1;32m      4\u001b[0m \u001b[0;32mimport\u001b[0m \u001b[0mtensorflow_addons\u001b[0m \u001b[0;32mas\u001b[0m \u001b[0mtfa\u001b[0m\u001b[0;34m\u001b[0m\u001b[0;34m\u001b[0m\u001b[0m\n",
            "\u001b[0;31mModuleNotFoundError\u001b[0m: No module named 'transformers'",
            "",
            "\u001b[0;31m---------------------------------------------------------------------------\u001b[0;32m\nNOTE: If your import is failing due to a missing package, you can\nmanually install dependencies using either !pip or !apt.\n\nTo view examples of installing some common dependencies, click the\n\"Open Examples\" button below.\n\u001b[0;31m---------------------------------------------------------------------------\u001b[0m\n"
          ],
          "errorDetails": {
            "actions": [
              {
                "action": "open_url",
                "actionText": "Open Examples",
                "url": "/notebooks/snippets/importing_libraries.ipynb"
              }
            ]
          }
        }
      ]
    },
    {
      "cell_type": "code",
      "metadata": {
        "id": "5JXknXB6s4iT"
      },
      "source": [
        "bert_model_name = 'bert-base-uncased'\n",
        "tokenizer = BertTokenizer.from_pretrained(bert_model_name)"
      ],
      "execution_count": null,
      "outputs": []
    },
    {
      "cell_type": "markdown",
      "metadata": {
        "id": "bFtNTKAoq5gQ"
      },
      "source": [
        "#### Pointwise"
      ]
    },
    {
      "cell_type": "code",
      "metadata": {
        "id": "XA9HvTqzqzx5"
      },
      "source": [
        "def create_inputs(num_nodes,name):\n",
        "  layers = []\n",
        "  for layer_name in ['input_ids','token_type_ids','attention_mask']:\n",
        "    layers.append(tf.keras.layers.Input(shape=(num_nodes,),dtype=tf.int32,name=layer_name+f'_{name}'))\n",
        "  return layers\n",
        "\n",
        "def create_model_pairwise(output_bias=None):\n",
        "    if output_bias is not None:\n",
        "      output_bias = tf.keras.initializers.Constant(output_bias)\n",
        "    config = BertConfig(hidden_dropout_prob=0.1)\n",
        "    bert = TFBertModel.from_pretrained(bert_model_name,config=config)\n",
        "    bert.save_pretrained('./bert-model/')\n",
        "    for layer in bert.layers[:]:\n",
        "      if isinstance(layer, transformers.models.bert.modeling_tf_bert.TFBertMainLayer):\n",
        "        layer.embeddings.trainable=False\n",
        "        layer.pooler.trainable=False\n",
        "        for idx, layer in enumerate(layer.encoder.layer):\n",
        "            # print(layer)\n",
        "            # freeze first 10\n",
        "            if idx in range(10):\n",
        "                layer.trainable = False\n",
        "      else:\n",
        "        layer.trainable = False\n",
        "              \n",
        "    input_1 = create_inputs(512,'pair_1')\n",
        "    input_2 = create_inputs(512,'pair_2')\n",
        "    bert_out_1 = bert(input_1).last_hidden_state\n",
        "    bert_out_2 = bert(input_2).last_hidden_state\n",
        "    cls_1 = tf.keras.layers.Lambda(lambda x:x[:,0,:])(bert_out_1)\n",
        "    cls_2 = tf.keras.layers.Lambda(lambda x:x[:,0,:])(bert_out_2)\n",
        "    concated = tf.keras.layers.Concatenate()([cls_1,cls_2])\n",
        "    # print(avg_q.shape)\n",
        "    output = tf.keras.layers.Dense(1, activation=\"sigmoid\",bias_initializer=output_bias)(concated)\n",
        "    model = tf.keras.models.Model(inputs=[input_1,input_2], outputs=[output])\n",
        "    # opt,schedule = transformers.create_optimizer(num_train_steps=num_train_steps,init_lr=3e-5,adam_beta1=0.9,adam_beta2=0.999,weight_decay_rate=0.01,num_warmup_steps=num_train_steps//10)\n",
        "    opt = tfa.optimizers.RectifiedAdam(learning_rate=3e-5)\n",
        "    model.compile(optimizer=opt,\n",
        "              loss=tf.keras.losses.BinaryCrossentropy(),\n",
        "              metrics=[tf.keras.metrics.BinaryAccuracy(),\n",
        "                       tf.keras.metrics.AUC(curve=\"ROC\")])\n",
        "    model.summary()\n",
        "    return model"
      ],
      "execution_count": null,
      "outputs": []
    },
    {
      "cell_type": "markdown",
      "metadata": {
        "id": "SahKPvzNrEnm"
      },
      "source": [
        "#### Load Weights"
      ]
    },
    {
      "cell_type": "code",
      "metadata": {
        "colab": {
          "base_uri": "https://localhost:8080/"
        },
        "id": "50K2k5PKq8Tt",
        "outputId": "f90743ff-ae2f-4c8c-f468-d51f121f8120"
      },
      "source": [
        "model = create_model_pairwise()"
      ],
      "execution_count": null,
      "outputs": [
        {
          "output_type": "stream",
          "name": "stderr",
          "text": [
            "Some layers from the model checkpoint at bert-base-uncased were not used when initializing TFBertModel: ['mlm___cls', 'nsp___cls']\n",
            "- This IS expected if you are initializing TFBertModel from the checkpoint of a model trained on another task or with another architecture (e.g. initializing a BertForSequenceClassification model from a BertForPreTraining model).\n",
            "- This IS NOT expected if you are initializing TFBertModel from the checkpoint of a model that you expect to be exactly identical (initializing a BertForSequenceClassification model from a BertForSequenceClassification model).\n",
            "All the layers of TFBertModel were initialized from the model checkpoint at bert-base-uncased.\n",
            "If your task is similar to the task the model of the checkpoint was trained on, you can already use TFBertModel for predictions without further training.\n"
          ]
        },
        {
          "output_type": "stream",
          "name": "stdout",
          "text": [
            "Model: \"model\"\n",
            "__________________________________________________________________________________________________\n",
            " Layer (type)                   Output Shape         Param #     Connected to                     \n",
            "==================================================================================================\n",
            " input_ids_pair_1 (InputLayer)  [(None, 512)]        0           []                               \n",
            "                                                                                                  \n",
            " token_type_ids_pair_1 (InputLa  [(None, 512)]       0           []                               \n",
            " yer)                                                                                             \n",
            "                                                                                                  \n",
            " attention_mask_pair_1 (InputLa  [(None, 512)]       0           []                               \n",
            " yer)                                                                                             \n",
            "                                                                                                  \n",
            " input_ids_pair_2 (InputLayer)  [(None, 512)]        0           []                               \n",
            "                                                                                                  \n",
            " token_type_ids_pair_2 (InputLa  [(None, 512)]       0           []                               \n",
            " yer)                                                                                             \n",
            "                                                                                                  \n",
            " attention_mask_pair_2 (InputLa  [(None, 512)]       0           []                               \n",
            " yer)                                                                                             \n",
            "                                                                                                  \n",
            " tf_bert_model (TFBertModel)    TFBaseModelOutputWi  109482240   ['input_ids_pair_1[0][0]',       \n",
            "                                thPoolingAndCrossAt               'token_type_ids_pair_1[0][0]',  \n",
            "                                tentions(last_hidde               'attention_mask_pair_1[0][0]',  \n",
            "                                n_state=(None, 512,               'input_ids_pair_2[0][0]',       \n",
            "                                 768),                            'token_type_ids_pair_2[0][0]',  \n",
            "                                 pooler_output=(Non               'attention_mask_pair_2[0][0]']  \n",
            "                                e, 768),                                                          \n",
            "                                 past_key_values=No                                               \n",
            "                                ne, hidden_states=N                                               \n",
            "                                one, attentions=Non                                               \n",
            "                                e, cross_attentions                                               \n",
            "                                =None)                                                            \n",
            "                                                                                                  \n",
            " lambda (Lambda)                (None, 768)          0           ['tf_bert_model[0][0]']          \n",
            "                                                                                                  \n",
            " lambda_1 (Lambda)              (None, 768)          0           ['tf_bert_model[1][0]']          \n",
            "                                                                                                  \n",
            " concatenate (Concatenate)      (None, 1536)         0           ['lambda[0][0]',                 \n",
            "                                                                  'lambda_1[0][0]']               \n",
            "                                                                                                  \n",
            " dense (Dense)                  (None, 1)            1537        ['concatenate[0][0]']            \n",
            "                                                                                                  \n",
            "==================================================================================================\n",
            "Total params: 109,483,777\n",
            "Trainable params: 14,177,281\n",
            "Non-trainable params: 95,306,496\n",
            "__________________________________________________________________________________________________\n"
          ]
        }
      ]
    },
    {
      "cell_type": "code",
      "metadata": {
        "id": "zM0fYgcDrHki"
      },
      "source": [
        "model.load_weights(\"/content/gdrive/MyDrive/col764/final_model_pairwise.h5\")"
      ],
      "execution_count": null,
      "outputs": []
    },
    {
      "cell_type": "markdown",
      "metadata": {
        "id": "OXj5jjvtypXN"
      },
      "source": [
        "### Load Data"
      ]
    },
    {
      "cell_type": "code",
      "metadata": {
        "id": "Z9jr0VwKyr9M"
      },
      "source": [
        "!tar -zxf /content/gdrive/MyDrive/col764/output_qrel_only.tar.gz"
      ],
      "execution_count": 3,
      "outputs": []
    },
    {
      "cell_type": "code",
      "metadata": {
        "colab": {
          "base_uri": "https://localhost:8080/"
        },
        "id": "wiC2z3cEzunN",
        "outputId": "cc91042c-b9b6-4a62-cd48-b973da19c391"
      },
      "source": [
        "!ls /content/gdrive/MyDrive/col764/results"
      ],
      "execution_count": 4,
      "outputs": [
        {
          "output_type": "stream",
          "name": "stdout",
          "text": [
            "run.desc.test.txt   run.query.test.txt\t\t run.query.train.txt\n",
            "run.desc.train.txt  run.query.test.txt.reranked\n"
          ]
        }
      ]
    },
    {
      "cell_type": "code",
      "metadata": {
        "id": "15BXOVJmy-bw"
      },
      "source": [
        "import os"
      ],
      "execution_count": 5,
      "outputs": []
    },
    {
      "cell_type": "code",
      "metadata": {
        "id": "ddpYshepzloJ"
      },
      "source": [
        "import pandas as pd"
      ],
      "execution_count": 6,
      "outputs": []
    },
    {
      "cell_type": "code",
      "metadata": {
        "id": "P9E_WRl42iJU"
      },
      "source": [
        "query_file = '/content/gdrive/MyDrive/col764/queries/podcasts_2020_topics_test_query.tsv'"
      ],
      "execution_count": 7,
      "outputs": []
    },
    {
      "cell_type": "code",
      "metadata": {
        "id": "-_yQVvwADFuy"
      },
      "source": [
        "queries = pd.read_csv(query_file,sep='\\t',header=None)\n",
        "queries.columns = ['qnum','query']"
      ],
      "execution_count": 8,
      "outputs": []
    },
    {
      "cell_type": "code",
      "metadata": {
        "colab": {
          "base_uri": "https://localhost:8080/",
          "height": 1000
        },
        "id": "GUfHTuZJDM5N",
        "outputId": "e8d99b9e-f614-439e-c0e5-db1178cf90f1"
      },
      "source": [
        "queries"
      ],
      "execution_count": 9,
      "outputs": [
        {
          "output_type": "execute_result",
          "data": {
            "text/html": [
              "<div>\n",
              "<style scoped>\n",
              "    .dataframe tbody tr th:only-of-type {\n",
              "        vertical-align: middle;\n",
              "    }\n",
              "\n",
              "    .dataframe tbody tr th {\n",
              "        vertical-align: top;\n",
              "    }\n",
              "\n",
              "    .dataframe thead th {\n",
              "        text-align: right;\n",
              "    }\n",
              "</style>\n",
              "<table border=\"1\" class=\"dataframe\">\n",
              "  <thead>\n",
              "    <tr style=\"text-align: right;\">\n",
              "      <th></th>\n",
              "      <th>qnum</th>\n",
              "      <th>query</th>\n",
              "    </tr>\n",
              "  </thead>\n",
              "  <tbody>\n",
              "    <tr>\n",
              "      <th>0</th>\n",
              "      <td>9</td>\n",
              "      <td>trump call ukrainian president</td>\n",
              "    </tr>\n",
              "    <tr>\n",
              "      <th>1</th>\n",
              "      <td>10</td>\n",
              "      <td>boeing 737 crash causes</td>\n",
              "    </tr>\n",
              "    <tr>\n",
              "      <th>2</th>\n",
              "      <td>11</td>\n",
              "      <td>how to cook turkey</td>\n",
              "    </tr>\n",
              "    <tr>\n",
              "      <th>3</th>\n",
              "      <td>12</td>\n",
              "      <td>imran khan career</td>\n",
              "    </tr>\n",
              "    <tr>\n",
              "      <th>4</th>\n",
              "      <td>13</td>\n",
              "      <td>drug addiction recovery</td>\n",
              "    </tr>\n",
              "    <tr>\n",
              "      <th>5</th>\n",
              "      <td>14</td>\n",
              "      <td>near death experiences</td>\n",
              "    </tr>\n",
              "    <tr>\n",
              "      <th>6</th>\n",
              "      <td>15</td>\n",
              "      <td>podcast about podcasts</td>\n",
              "    </tr>\n",
              "    <tr>\n",
              "      <th>7</th>\n",
              "      <td>16</td>\n",
              "      <td>causes and prevention of wildfires</td>\n",
              "    </tr>\n",
              "    <tr>\n",
              "      <th>8</th>\n",
              "      <td>17</td>\n",
              "      <td>time between meetings</td>\n",
              "    </tr>\n",
              "    <tr>\n",
              "      <th>9</th>\n",
              "      <td>18</td>\n",
              "      <td>women in stem</td>\n",
              "    </tr>\n",
              "    <tr>\n",
              "      <th>10</th>\n",
              "      <td>19</td>\n",
              "      <td>ai in healthcare</td>\n",
              "    </tr>\n",
              "    <tr>\n",
              "      <th>11</th>\n",
              "      <td>20</td>\n",
              "      <td>cost of childcare</td>\n",
              "    </tr>\n",
              "    <tr>\n",
              "      <th>12</th>\n",
              "      <td>21</td>\n",
              "      <td>juneteenth</td>\n",
              "    </tr>\n",
              "    <tr>\n",
              "      <th>13</th>\n",
              "      <td>22</td>\n",
              "      <td>chernobyl hbo</td>\n",
              "    </tr>\n",
              "    <tr>\n",
              "      <th>14</th>\n",
              "      <td>23</td>\n",
              "      <td>notre dame fire</td>\n",
              "    </tr>\n",
              "    <tr>\n",
              "      <th>15</th>\n",
              "      <td>24</td>\n",
              "      <td>france yellow vest protests</td>\n",
              "    </tr>\n",
              "    <tr>\n",
              "      <th>16</th>\n",
              "      <td>25</td>\n",
              "      <td>black lives matter</td>\n",
              "    </tr>\n",
              "    <tr>\n",
              "      <th>17</th>\n",
              "      <td>26</td>\n",
              "      <td>bob woodward</td>\n",
              "    </tr>\n",
              "    <tr>\n",
              "      <th>18</th>\n",
              "      <td>27</td>\n",
              "      <td>civil rights protest stories</td>\n",
              "    </tr>\n",
              "    <tr>\n",
              "      <th>19</th>\n",
              "      <td>28</td>\n",
              "      <td>yo-yo dieting</td>\n",
              "    </tr>\n",
              "    <tr>\n",
              "      <th>20</th>\n",
              "      <td>29</td>\n",
              "      <td>racism in canada</td>\n",
              "    </tr>\n",
              "    <tr>\n",
              "      <th>21</th>\n",
              "      <td>30</td>\n",
              "      <td>motherhood</td>\n",
              "    </tr>\n",
              "    <tr>\n",
              "      <th>22</th>\n",
              "      <td>31</td>\n",
              "      <td>horoscope reading cancer</td>\n",
              "    </tr>\n",
              "    <tr>\n",
              "      <th>23</th>\n",
              "      <td>32</td>\n",
              "      <td>giants game december 22</td>\n",
              "    </tr>\n",
              "    <tr>\n",
              "      <th>24</th>\n",
              "      <td>33</td>\n",
              "      <td>hvac industry environmentalism</td>\n",
              "    </tr>\n",
              "    <tr>\n",
              "      <th>25</th>\n",
              "      <td>34</td>\n",
              "      <td>halloween stories and chat</td>\n",
              "    </tr>\n",
              "    <tr>\n",
              "      <th>26</th>\n",
              "      <td>35</td>\n",
              "      <td>living debt free</td>\n",
              "    </tr>\n",
              "    <tr>\n",
              "      <th>27</th>\n",
              "      <td>36</td>\n",
              "      <td>cryptocurrency risks</td>\n",
              "    </tr>\n",
              "    <tr>\n",
              "      <th>28</th>\n",
              "      <td>37</td>\n",
              "      <td>slow travel</td>\n",
              "    </tr>\n",
              "    <tr>\n",
              "      <th>29</th>\n",
              "      <td>38</td>\n",
              "      <td>workplace diversity</td>\n",
              "    </tr>\n",
              "    <tr>\n",
              "      <th>30</th>\n",
              "      <td>39</td>\n",
              "      <td>social media marketing</td>\n",
              "    </tr>\n",
              "    <tr>\n",
              "      <th>31</th>\n",
              "      <td>40</td>\n",
              "      <td>bees dying</td>\n",
              "    </tr>\n",
              "    <tr>\n",
              "      <th>32</th>\n",
              "      <td>41</td>\n",
              "      <td>gmo food labeling</td>\n",
              "    </tr>\n",
              "    <tr>\n",
              "      <th>33</th>\n",
              "      <td>42</td>\n",
              "      <td>fyre festival</td>\n",
              "    </tr>\n",
              "    <tr>\n",
              "      <th>34</th>\n",
              "      <td>43</td>\n",
              "      <td>hong kong protests</td>\n",
              "    </tr>\n",
              "    <tr>\n",
              "      <th>35</th>\n",
              "      <td>44</td>\n",
              "      <td>thanksgiving comedy special</td>\n",
              "    </tr>\n",
              "    <tr>\n",
              "      <th>36</th>\n",
              "      <td>45</td>\n",
              "      <td>drafting tight ends</td>\n",
              "    </tr>\n",
              "    <tr>\n",
              "      <th>37</th>\n",
              "      <td>46</td>\n",
              "      <td>missouri quilt mom</td>\n",
              "    </tr>\n",
              "    <tr>\n",
              "      <th>38</th>\n",
              "      <td>47</td>\n",
              "      <td>sci-fi author interview mars</td>\n",
              "    </tr>\n",
              "    <tr>\n",
              "      <th>39</th>\n",
              "      <td>48</td>\n",
              "      <td>spike lee movie score</td>\n",
              "    </tr>\n",
              "    <tr>\n",
              "      <th>40</th>\n",
              "      <td>49</td>\n",
              "      <td>thrift store smell</td>\n",
              "    </tr>\n",
              "    <tr>\n",
              "      <th>41</th>\n",
              "      <td>50</td>\n",
              "      <td>coast guard coxswain</td>\n",
              "    </tr>\n",
              "    <tr>\n",
              "      <th>42</th>\n",
              "      <td>51</td>\n",
              "      <td>queer eye veteran</td>\n",
              "    </tr>\n",
              "    <tr>\n",
              "      <th>43</th>\n",
              "      <td>52</td>\n",
              "      <td>fauci interview</td>\n",
              "    </tr>\n",
              "    <tr>\n",
              "      <th>44</th>\n",
              "      <td>53</td>\n",
              "      <td>recommended books for entrepreneurs</td>\n",
              "    </tr>\n",
              "    <tr>\n",
              "      <th>45</th>\n",
              "      <td>54</td>\n",
              "      <td>bias in college admissions</td>\n",
              "    </tr>\n",
              "    <tr>\n",
              "      <th>46</th>\n",
              "      <td>55</td>\n",
              "      <td>malcolm x biography</td>\n",
              "    </tr>\n",
              "    <tr>\n",
              "      <th>47</th>\n",
              "      <td>56</td>\n",
              "      <td>gaslighting</td>\n",
              "    </tr>\n",
              "    <tr>\n",
              "      <th>48</th>\n",
              "      <td>57</td>\n",
              "      <td>nefertiti</td>\n",
              "    </tr>\n",
              "    <tr>\n",
              "      <th>49</th>\n",
              "      <td>58</td>\n",
              "      <td>sam bush interview</td>\n",
              "    </tr>\n",
              "  </tbody>\n",
              "</table>\n",
              "</div>"
            ],
            "text/plain": [
              "    qnum                                query\n",
              "0      9       trump call ukrainian president\n",
              "1     10              boeing 737 crash causes\n",
              "2     11                   how to cook turkey\n",
              "3     12                    imran khan career\n",
              "4     13              drug addiction recovery\n",
              "5     14               near death experiences\n",
              "6     15               podcast about podcasts\n",
              "7     16   causes and prevention of wildfires\n",
              "8     17                time between meetings\n",
              "9     18                        women in stem\n",
              "10    19                     ai in healthcare\n",
              "11    20                    cost of childcare\n",
              "12    21                           juneteenth\n",
              "13    22                        chernobyl hbo\n",
              "14    23                      notre dame fire\n",
              "15    24          france yellow vest protests\n",
              "16    25                   black lives matter\n",
              "17    26                         bob woodward\n",
              "18    27         civil rights protest stories\n",
              "19    28                        yo-yo dieting\n",
              "20    29                     racism in canada\n",
              "21    30                           motherhood\n",
              "22    31             horoscope reading cancer\n",
              "23    32              giants game december 22\n",
              "24    33       hvac industry environmentalism\n",
              "25    34           halloween stories and chat\n",
              "26    35                     living debt free\n",
              "27    36                 cryptocurrency risks\n",
              "28    37                          slow travel\n",
              "29    38                  workplace diversity\n",
              "30    39               social media marketing\n",
              "31    40                           bees dying\n",
              "32    41                    gmo food labeling\n",
              "33    42                        fyre festival\n",
              "34    43                   hong kong protests\n",
              "35    44          thanksgiving comedy special\n",
              "36    45                  drafting tight ends\n",
              "37    46                   missouri quilt mom\n",
              "38    47         sci-fi author interview mars\n",
              "39    48                spike lee movie score\n",
              "40    49                   thrift store smell\n",
              "41    50                 coast guard coxswain\n",
              "42    51                    queer eye veteran\n",
              "43    52                      fauci interview\n",
              "44    53  recommended books for entrepreneurs\n",
              "45    54           bias in college admissions\n",
              "46    55                  malcolm x biography\n",
              "47    56                          gaslighting\n",
              "48    57                            nefertiti\n",
              "49    58                   sam bush interview"
            ]
          },
          "metadata": {},
          "execution_count": 9
        }
      ]
    },
    {
      "cell_type": "code",
      "metadata": {
        "id": "i0-ku5woz3qf"
      },
      "source": [
        "results_file = '/content/gdrive/MyDrive/col764/results/run.query.test.txt'"
      ],
      "execution_count": 10,
      "outputs": []
    },
    {
      "cell_type": "code",
      "metadata": {
        "id": "bZNjSKORzq1a"
      },
      "source": [
        "bm25_ranks = pd.read_csv(results_file,sep=' ',header=None)\n",
        "bm25_ranks.columns = ['qnum','qid','epid','rank','score','runid']"
      ],
      "execution_count": 11,
      "outputs": []
    },
    {
      "cell_type": "code",
      "metadata": {
        "colab": {
          "base_uri": "https://localhost:8080/",
          "height": 423
        },
        "id": "BAql2YMV0ENg",
        "outputId": "0b17c2da-f69f-403d-efcc-0ca17c570874"
      },
      "source": [
        "bm25_ranks"
      ],
      "execution_count": 12,
      "outputs": [
        {
          "output_type": "execute_result",
          "data": {
            "text/html": [
              "<div>\n",
              "<style scoped>\n",
              "    .dataframe tbody tr th:only-of-type {\n",
              "        vertical-align: middle;\n",
              "    }\n",
              "\n",
              "    .dataframe tbody tr th {\n",
              "        vertical-align: top;\n",
              "    }\n",
              "\n",
              "    .dataframe thead th {\n",
              "        text-align: right;\n",
              "    }\n",
              "</style>\n",
              "<table border=\"1\" class=\"dataframe\">\n",
              "  <thead>\n",
              "    <tr style=\"text-align: right;\">\n",
              "      <th></th>\n",
              "      <th>qnum</th>\n",
              "      <th>qid</th>\n",
              "      <th>epid</th>\n",
              "      <th>rank</th>\n",
              "      <th>score</th>\n",
              "      <th>runid</th>\n",
              "    </tr>\n",
              "  </thead>\n",
              "  <tbody>\n",
              "    <tr>\n",
              "      <th>0</th>\n",
              "      <td>9</td>\n",
              "      <td>Q0</td>\n",
              "      <td>spotify:episode:6O8djf3RL94yNfaoWqvk3r_840.0</td>\n",
              "      <td>1</td>\n",
              "      <td>16.569401</td>\n",
              "      <td>Anserini</td>\n",
              "    </tr>\n",
              "    <tr>\n",
              "      <th>1</th>\n",
              "      <td>9</td>\n",
              "      <td>Q0</td>\n",
              "      <td>spotify:episode:3gJ0fBXYRryWAjgwxY4q6C_240.0</td>\n",
              "      <td>2</td>\n",
              "      <td>16.302999</td>\n",
              "      <td>Anserini</td>\n",
              "    </tr>\n",
              "    <tr>\n",
              "      <th>2</th>\n",
              "      <td>9</td>\n",
              "      <td>Q0</td>\n",
              "      <td>spotify:episode:6svv5L5kRn8groSsM8gkpc_3180.0</td>\n",
              "      <td>3</td>\n",
              "      <td>15.984800</td>\n",
              "      <td>Anserini</td>\n",
              "    </tr>\n",
              "    <tr>\n",
              "      <th>3</th>\n",
              "      <td>9</td>\n",
              "      <td>Q0</td>\n",
              "      <td>spotify:episode:4JqqVFhNjtlwoIMl5tvL8R_780.0</td>\n",
              "      <td>4</td>\n",
              "      <td>15.275800</td>\n",
              "      <td>Anserini</td>\n",
              "    </tr>\n",
              "    <tr>\n",
              "      <th>4</th>\n",
              "      <td>9</td>\n",
              "      <td>Q0</td>\n",
              "      <td>spotify:episode:3gJ0fBXYRryWAjgwxY4q6C_0.0</td>\n",
              "      <td>5</td>\n",
              "      <td>14.734600</td>\n",
              "      <td>Anserini</td>\n",
              "    </tr>\n",
              "    <tr>\n",
              "      <th>...</th>\n",
              "      <td>...</td>\n",
              "      <td>...</td>\n",
              "      <td>...</td>\n",
              "      <td>...</td>\n",
              "      <td>...</td>\n",
              "      <td>...</td>\n",
              "    </tr>\n",
              "    <tr>\n",
              "      <th>47753</th>\n",
              "      <td>58</td>\n",
              "      <td>Q0</td>\n",
              "      <td>spotify:episode:30j4F0dABykbXJuGevrfNB_1920.0</td>\n",
              "      <td>996</td>\n",
              "      <td>4.663695</td>\n",
              "      <td>Anserini</td>\n",
              "    </tr>\n",
              "    <tr>\n",
              "      <th>47754</th>\n",
              "      <td>58</td>\n",
              "      <td>Q0</td>\n",
              "      <td>spotify:episode:3ALoC0SU00c8RtxQHohesZ_1440.0</td>\n",
              "      <td>997</td>\n",
              "      <td>4.663694</td>\n",
              "      <td>Anserini</td>\n",
              "    </tr>\n",
              "    <tr>\n",
              "      <th>47755</th>\n",
              "      <td>58</td>\n",
              "      <td>Q0</td>\n",
              "      <td>spotify:episode:3ALoC0SU00c8RtxQHohesZ_420.0</td>\n",
              "      <td>998</td>\n",
              "      <td>4.663693</td>\n",
              "      <td>Anserini</td>\n",
              "    </tr>\n",
              "    <tr>\n",
              "      <th>47756</th>\n",
              "      <td>58</td>\n",
              "      <td>Q0</td>\n",
              "      <td>spotify:episode:3bieaciVail62osQ0YC8JE_1380.0</td>\n",
              "      <td>999</td>\n",
              "      <td>4.663692</td>\n",
              "      <td>Anserini</td>\n",
              "    </tr>\n",
              "    <tr>\n",
              "      <th>47757</th>\n",
              "      <td>58</td>\n",
              "      <td>Q0</td>\n",
              "      <td>spotify:episode:46C2ViLe0XIWBxQEIW0RpM_1020.0</td>\n",
              "      <td>1000</td>\n",
              "      <td>4.663691</td>\n",
              "      <td>Anserini</td>\n",
              "    </tr>\n",
              "  </tbody>\n",
              "</table>\n",
              "<p>47758 rows × 6 columns</p>\n",
              "</div>"
            ],
            "text/plain": [
              "       qnum qid  ...      score     runid\n",
              "0         9  Q0  ...  16.569401  Anserini\n",
              "1         9  Q0  ...  16.302999  Anserini\n",
              "2         9  Q0  ...  15.984800  Anserini\n",
              "3         9  Q0  ...  15.275800  Anserini\n",
              "4         9  Q0  ...  14.734600  Anserini\n",
              "...     ...  ..  ...        ...       ...\n",
              "47753    58  Q0  ...   4.663695  Anserini\n",
              "47754    58  Q0  ...   4.663694  Anserini\n",
              "47755    58  Q0  ...   4.663693  Anserini\n",
              "47756    58  Q0  ...   4.663692  Anserini\n",
              "47757    58  Q0  ...   4.663691  Anserini\n",
              "\n",
              "[47758 rows x 6 columns]"
            ]
          },
          "metadata": {},
          "execution_count": 12
        }
      ]
    },
    {
      "cell_type": "code",
      "metadata": {
        "id": "BHJG1JotK9PX"
      },
      "source": [
        "bm25_ranks = bm25_ranks[bm25_ranks['rank']<21].reset_index(drop=True)"
      ],
      "execution_count": 13,
      "outputs": []
    },
    {
      "cell_type": "code",
      "metadata": {
        "id": "6JdrhHAJ0tc7"
      },
      "source": [
        "episode_contents = {k:None for k in bm25_ranks.epid.unique()}"
      ],
      "execution_count": 14,
      "outputs": []
    },
    {
      "cell_type": "code",
      "metadata": {
        "colab": {
          "base_uri": "https://localhost:8080/"
        },
        "id": "_XH7UC2N161K",
        "outputId": "99ec8f16-8466-4c72-a709-8e69e20d04af"
      },
      "source": [
        "!ls /content/"
      ],
      "execution_count": 15,
      "outputs": [
        {
          "output_type": "stream",
          "name": "stdout",
          "text": [
            "gdrive\toutput_copy  sample_data\n"
          ]
        }
      ]
    },
    {
      "cell_type": "code",
      "metadata": {
        "id": "KzeQQHXCzJm1"
      },
      "source": [
        "import json\n",
        "for root, dirs, files in os.walk('/content/output_copy'):\n",
        "  files.sort()\n",
        "  for file in files:\n",
        "    # print(file)\n",
        "    with open(root+\"/\"+file,'r') as f:\n",
        "      episode_segments = json.load(f)\n",
        "      for segment in episode_segments:\n",
        "        if segment['id'] in episode_contents:\n",
        "          episode_contents[segment['id']] = segment['contents']"
      ],
      "execution_count": 16,
      "outputs": []
    },
    {
      "cell_type": "code",
      "metadata": {
        "colab": {
          "base_uri": "https://localhost:8080/"
        },
        "id": "IelSspxn1fPb",
        "outputId": "f736a88f-b793-4600-9c9b-949506d780fe"
      },
      "source": [
        "len(sorted(list(episode_contents.keys())))"
      ],
      "execution_count": 17,
      "outputs": [
        {
          "output_type": "execute_result",
          "data": {
            "text/plain": [
              "1000"
            ]
          },
          "metadata": {},
          "execution_count": 17
        }
      ]
    },
    {
      "cell_type": "code",
      "metadata": {
        "id": "U_iVzB5WLTgp"
      },
      "source": [
        "bm25_ranks['segment'] = bm25_ranks['epid'].map(episode_contents)"
      ],
      "execution_count": 18,
      "outputs": []
    },
    {
      "cell_type": "code",
      "metadata": {
        "id": "alrFrfp9LiQu"
      },
      "source": [
        "bm25_ranks=bm25_ranks.merge(queries,how='left',left_on='qnum',right_on='qnum')"
      ],
      "execution_count": 19,
      "outputs": []
    },
    {
      "cell_type": "code",
      "metadata": {
        "id": "vYLPkdz3v9qV"
      },
      "source": [
        "bm25_ranks = bm25_ranks.merge(bm25_ranks[['qnum','segment','epid']],how='left',left_on='qnum',right_on='qnum')"
      ],
      "execution_count": 20,
      "outputs": []
    },
    {
      "cell_type": "markdown",
      "metadata": {
        "id": "tEPseJqA1GLF"
      },
      "source": [
        "Distribution of token sizes"
      ]
    },
    {
      "cell_type": "code",
      "metadata": {
        "colab": {
          "base_uri": "https://localhost:8080/",
          "height": 283
        },
        "id": "wWKh7uKp0C1P",
        "outputId": "9b2763c5-b5a8-43a6-cec4-5953859dc366"
      },
      "source": [
        "pd.DataFrame(bm25_ranks['segment_y'].unique()).apply(lambda x:len(x[0].split()),axis=1).hist()"
      ],
      "execution_count": 41,
      "outputs": [
        {
          "output_type": "execute_result",
          "data": {
            "text/plain": [
              "<matplotlib.axes._subplots.AxesSubplot at 0x7f82b0506b50>"
            ]
          },
          "metadata": {},
          "execution_count": 41
        },
        {
          "output_type": "display_data",
          "data": {
            "image/png": "[encoded data removed]",
            "text/plain": [
              "<Figure size 432x288 with 1 Axes>"
            ]
          },
          "metadata": {
            "needs_background": "light"
          }
        }
      ]
    },
    {
      "cell_type": "code",
      "metadata": {
        "colab": {
          "base_uri": "https://localhost:8080/",
          "height": 283
        },
        "id": "0AtvDFjH1FnJ",
        "outputId": "238a8338-c882-414a-db85-ff138e49123c"
      },
      "source": [
        "pd.DataFrame(bm25_ranks['query'].unique()).apply(lambda x:len(x[0].split()),axis=1).hist()"
      ],
      "execution_count": 42,
      "outputs": [
        {
          "output_type": "execute_result",
          "data": {
            "text/plain": [
              "<matplotlib.axes._subplots.AxesSubplot at 0x7f82b0533890>"
            ]
          },
          "metadata": {},
          "execution_count": 42
        },
        {
          "output_type": "display_data",
          "data": {
            "image/png": "[encoded data removed]",
            "text/plain": [
              "<Figure size 432x288 with 1 Axes>"
            ]
          },
          "metadata": {
            "needs_background": "light"
          }
        }
      ]
    },
    {
      "cell_type": "markdown",
      "metadata": {
        "id": "YPuwFSSwz2bO"
      },
      "source": [
        "### Reranking"
      ]
    },
    {
      "cell_type": "code",
      "metadata": {
        "id": "MYDOjNRgt5eW"
      },
      "source": [
        "q_trunc = 64\n",
        "p_trunc = 512-64+1"
      ],
      "execution_count": null,
      "outputs": []
    },
    {
      "cell_type": "code",
      "metadata": {
        "id": "FjF14HTFu7HB"
      },
      "source": [
        "import gc\n",
        "import numpy as np"
      ],
      "execution_count": null,
      "outputs": []
    },
    {
      "cell_type": "code",
      "metadata": {
        "colab": {
          "base_uri": "https://localhost:8080/"
        },
        "id": "398g7Ja6MkNn",
        "outputId": "6cd53def-401c-4a22-d072-38986c9bde58"
      },
      "source": [
        "q = tokenizer(bm25_ranks['query'].values.tolist(), return_tensors=\"tf\",padding=\"max_length\",max_length=q_trunc,truncation=True)\n",
        "p_1 = tokenizer(bm25_ranks['segment_x'].values.tolist(), return_tensors=\"tf\",padding=\"max_length\",max_length=p_trunc,truncation=True)\n",
        "p_2 = tokenizer(bm25_ranks['segment_y'].values.tolist(), return_tensors=\"tf\",padding=\"max_length\",max_length=p_trunc,truncation=True)\n",
        "X_test = []\n",
        "for id in ['input_ids','token_type_ids','attention_mask']:\n",
        "  X_test.append(tf.concat([q[id],p_1[id][:,1:]],1))\n",
        "for id in ['input_ids','token_type_ids','attention_mask']:\n",
        "  X_test.append(tf.concat([q[id],p_2[id][:,1:]],1))\n",
        "q = None\n",
        "p_1 = None\n",
        "p_2 = None\n",
        "gc.collect()"
      ],
      "execution_count": null,
      "outputs": [
        {
          "output_type": "execute_result",
          "data": {
            "text/plain": [
              "0"
            ]
          },
          "metadata": {},
          "execution_count": 28
        }
      ]
    },
    {
      "cell_type": "code",
      "metadata": {
        "id": "2fTZQ14CNHmV",
        "colab": {
          "base_uri": "https://localhost:8080/"
        },
        "outputId": "877b41ce-0b43-45e0-8a72-09fe0eb3ce69"
      },
      "source": [
        "scores = model.predict(X_test,batch_size=8,verbose=1)"
      ],
      "execution_count": null,
      "outputs": [
        {
          "output_type": "stream",
          "name": "stdout",
          "text": [
            "2500/2500 [==============================] - 2983s 1s/step\n"
          ]
        }
      ]
    },
    {
      "cell_type": "markdown",
      "metadata": {
        "id": "L_F8NBvsz7sm"
      },
      "source": [
        "#### Scores to rank"
      ]
    },
    {
      "cell_type": "code",
      "metadata": {
        "id": "Jom5W4lEOd39"
      },
      "source": [
        "bm25_ranks['score'] = scores"
      ],
      "execution_count": null,
      "outputs": []
    },
    {
      "cell_type": "code",
      "metadata": {
        "id": "L7wMEbUIP19a"
      },
      "source": [
        "bm25_ranks = bm25_ranks.drop(['segment_x','segment_y','query'],axis=1)"
      ],
      "execution_count": null,
      "outputs": []
    },
    {
      "cell_type": "code",
      "metadata": {
        "id": "RwWQ4dGl0XyW"
      },
      "source": [
        "def getRanks(results):\n",
        "  pivot = results.pivot('epid_x','epid_y','score')\n",
        "  pivot_t = pivot.T\n",
        "  np.fill_diagonal(pivot.values,1)\n",
        "  results_ranked = pd.DataFrame((pivot>pivot_t).sum(axis=1) + pivot.mean(axis=1))\n",
        "  results_ranked = results_ranked.reset_index()\n",
        "  dropped = results.drop(['epid_y','score'],axis=1).drop_duplicates()\n",
        "  results_ranked = results_ranked.merge(dropped,how='left',left_on='epid_x',right_on='epid_x')\n",
        "  results_ranked.columns = ['epid','score','qnum','qid','rank','runid']\n",
        "  return results_ranked"
      ],
      "execution_count": null,
      "outputs": []
    },
    {
      "cell_type": "code",
      "metadata": {
        "colab": {
          "base_uri": "https://localhost:8080/",
          "height": 423
        },
        "id": "V174LAxI3TjM",
        "outputId": "7e564d23-cdd4-457c-aef1-798e2423ffa7"
      },
      "source": [
        "bm25_ranks = bm25_ranks.groupby('qnum').apply(getRanks).reset_index(drop=True)\n",
        "bm25_ranks[['rank','qnum']] = bm25_ranks[['rank','qnum']].astype(np.int32)\n",
        "bm25_ranks"
      ],
      "execution_count": null,
      "outputs": [
        {
          "output_type": "execute_result",
          "data": {
            "text/html": [
              "<div>\n",
              "<style scoped>\n",
              "    .dataframe tbody tr th:only-of-type {\n",
              "        vertical-align: middle;\n",
              "    }\n",
              "\n",
              "    .dataframe tbody tr th {\n",
              "        vertical-align: top;\n",
              "    }\n",
              "\n",
              "    .dataframe thead th {\n",
              "        text-align: right;\n",
              "    }\n",
              "</style>\n",
              "<table border=\"1\" class=\"dataframe\">\n",
              "  <thead>\n",
              "    <tr style=\"text-align: right;\">\n",
              "      <th></th>\n",
              "      <th>epid</th>\n",
              "      <th>score</th>\n",
              "      <th>qnum</th>\n",
              "      <th>qid</th>\n",
              "      <th>rank</th>\n",
              "      <th>runid</th>\n",
              "    </tr>\n",
              "  </thead>\n",
              "  <tbody>\n",
              "    <tr>\n",
              "      <th>0</th>\n",
              "      <td>spotify:episode:0DNqe9Rnj8gP0fRCOsWxfT_1440.0</td>\n",
              "      <td>7.480740</td>\n",
              "      <td>9</td>\n",
              "      <td>Q0</td>\n",
              "      <td>16</td>\n",
              "      <td>Anserini</td>\n",
              "    </tr>\n",
              "    <tr>\n",
              "      <th>1</th>\n",
              "      <td>spotify:episode:0nhWyQfESIgR4X8nQZa08y_1980.0</td>\n",
              "      <td>3.258539</td>\n",
              "      <td>9</td>\n",
              "      <td>Q0</td>\n",
              "      <td>20</td>\n",
              "      <td>Anserini</td>\n",
              "    </tr>\n",
              "    <tr>\n",
              "      <th>2</th>\n",
              "      <td>spotify:episode:14RFTGKJ9RQlxtJJ6MhNXs_300.0</td>\n",
              "      <td>10.590264</td>\n",
              "      <td>9</td>\n",
              "      <td>Q0</td>\n",
              "      <td>7</td>\n",
              "      <td>Anserini</td>\n",
              "    </tr>\n",
              "    <tr>\n",
              "      <th>3</th>\n",
              "      <td>spotify:episode:1jvy4Usn4Z8awRi3gpw0iQ_900.0</td>\n",
              "      <td>17.899696</td>\n",
              "      <td>9</td>\n",
              "      <td>Q0</td>\n",
              "      <td>17</td>\n",
              "      <td>Anserini</td>\n",
              "    </tr>\n",
              "    <tr>\n",
              "      <th>4</th>\n",
              "      <td>spotify:episode:1nu9RsgfYsbNb7CDmHlvKx_1320.0</td>\n",
              "      <td>16.855876</td>\n",
              "      <td>9</td>\n",
              "      <td>Q0</td>\n",
              "      <td>8</td>\n",
              "      <td>Anserini</td>\n",
              "    </tr>\n",
              "    <tr>\n",
              "      <th>...</th>\n",
              "      <td>...</td>\n",
              "      <td>...</td>\n",
              "      <td>...</td>\n",
              "      <td>...</td>\n",
              "      <td>...</td>\n",
              "      <td>...</td>\n",
              "    </tr>\n",
              "    <tr>\n",
              "      <th>995</th>\n",
              "      <td>spotify:episode:5xDfrpC4pmkHBVf28JYKv1_120.0</td>\n",
              "      <td>3.244529</td>\n",
              "      <td>58</td>\n",
              "      <td>Q0</td>\n",
              "      <td>14</td>\n",
              "      <td>Anserini</td>\n",
              "    </tr>\n",
              "    <tr>\n",
              "      <th>996</th>\n",
              "      <td>spotify:episode:62DJcqXZ65VsObZPkv4ZIJ_4140.0</td>\n",
              "      <td>16.859750</td>\n",
              "      <td>58</td>\n",
              "      <td>Q0</td>\n",
              "      <td>20</td>\n",
              "      <td>Anserini</td>\n",
              "    </tr>\n",
              "    <tr>\n",
              "      <th>997</th>\n",
              "      <td>spotify:episode:73jHKrU0ZDmI2SNCsYyCsz_2160.0</td>\n",
              "      <td>18.928263</td>\n",
              "      <td>58</td>\n",
              "      <td>Q0</td>\n",
              "      <td>4</td>\n",
              "      <td>Anserini</td>\n",
              "    </tr>\n",
              "    <tr>\n",
              "      <th>998</th>\n",
              "      <td>spotify:episode:76ezvYdkEkPsWO5x5PwUjz_5100.0</td>\n",
              "      <td>4.276828</td>\n",
              "      <td>58</td>\n",
              "      <td>Q0</td>\n",
              "      <td>12</td>\n",
              "      <td>Anserini</td>\n",
              "    </tr>\n",
              "    <tr>\n",
              "      <th>999</th>\n",
              "      <td>spotify:episode:7pECOFSfCit9J2ZIvPDNMm_0.0</td>\n",
              "      <td>2.258043</td>\n",
              "      <td>58</td>\n",
              "      <td>Q0</td>\n",
              "      <td>1</td>\n",
              "      <td>Anserini</td>\n",
              "    </tr>\n",
              "  </tbody>\n",
              "</table>\n",
              "<p>1000 rows × 6 columns</p>\n",
              "</div>"
            ],
            "text/plain": [
              "                                              epid      score  ...  rank     runid\n",
              "0    spotify:episode:0DNqe9Rnj8gP0fRCOsWxfT_1440.0   7.480740  ...    16  Anserini\n",
              "1    spotify:episode:0nhWyQfESIgR4X8nQZa08y_1980.0   3.258539  ...    20  Anserini\n",
              "2     spotify:episode:14RFTGKJ9RQlxtJJ6MhNXs_300.0  10.590264  ...     7  Anserini\n",
              "3     spotify:episode:1jvy4Usn4Z8awRi3gpw0iQ_900.0  17.899696  ...    17  Anserini\n",
              "4    spotify:episode:1nu9RsgfYsbNb7CDmHlvKx_1320.0  16.855876  ...     8  Anserini\n",
              "..                                             ...        ...  ...   ...       ...\n",
              "995   spotify:episode:5xDfrpC4pmkHBVf28JYKv1_120.0   3.244529  ...    14  Anserini\n",
              "996  spotify:episode:62DJcqXZ65VsObZPkv4ZIJ_4140.0  16.859750  ...    20  Anserini\n",
              "997  spotify:episode:73jHKrU0ZDmI2SNCsYyCsz_2160.0  18.928263  ...     4  Anserini\n",
              "998  spotify:episode:76ezvYdkEkPsWO5x5PwUjz_5100.0   4.276828  ...    12  Anserini\n",
              "999     spotify:episode:7pECOFSfCit9J2ZIvPDNMm_0.0   2.258043  ...     1  Anserini\n",
              "\n",
              "[1000 rows x 6 columns]"
            ]
          },
          "metadata": {},
          "execution_count": 35
        }
      ]
    },
    {
      "cell_type": "code",
      "metadata": {
        "id": "Syr26U4_Onuo"
      },
      "source": [
        "bm25_ranks = bm25_ranks.sort_values(['qnum','score'], ascending = [True, False]).reset_index(drop=True)"
      ],
      "execution_count": null,
      "outputs": []
    },
    {
      "cell_type": "code",
      "metadata": {
        "id": "EblD05iwQHSw"
      },
      "source": [
        "bm25_ranks['rank'] = bm25_ranks.groupby('qnum')['score'].rank(ascending=False).astype(np.int16)"
      ],
      "execution_count": null,
      "outputs": []
    },
    {
      "cell_type": "code",
      "metadata": {
        "colab": {
          "base_uri": "https://localhost:8080/",
          "height": 423
        },
        "id": "1KVBgY13QqNe",
        "outputId": "28d858ed-f097-4a81-bc86-0601c4cd1742"
      },
      "source": [
        "bm25_ranks = bm25_ranks[['qnum',\t'qid',\t'epid',\t'rank',\t'score',\t'runid']]\n",
        "bm25_ranks"
      ],
      "execution_count": null,
      "outputs": [
        {
          "output_type": "execute_result",
          "data": {
            "text/html": [
              "<div>\n",
              "<style scoped>\n",
              "    .dataframe tbody tr th:only-of-type {\n",
              "        vertical-align: middle;\n",
              "    }\n",
              "\n",
              "    .dataframe tbody tr th {\n",
              "        vertical-align: top;\n",
              "    }\n",
              "\n",
              "    .dataframe thead th {\n",
              "        text-align: right;\n",
              "    }\n",
              "</style>\n",
              "<table border=\"1\" class=\"dataframe\">\n",
              "  <thead>\n",
              "    <tr style=\"text-align: right;\">\n",
              "      <th></th>\n",
              "      <th>qnum</th>\n",
              "      <th>qid</th>\n",
              "      <th>epid</th>\n",
              "      <th>rank</th>\n",
              "      <th>score</th>\n",
              "      <th>runid</th>\n",
              "    </tr>\n",
              "  </thead>\n",
              "  <tbody>\n",
              "    <tr>\n",
              "      <th>0</th>\n",
              "      <td>9</td>\n",
              "      <td>Q0</td>\n",
              "      <td>spotify:episode:4JqqVFhNjtlwoIMl5tvL8R_780.0</td>\n",
              "      <td>1</td>\n",
              "      <td>19.972418</td>\n",
              "      <td>Anserini</td>\n",
              "    </tr>\n",
              "    <tr>\n",
              "      <th>1</th>\n",
              "      <td>9</td>\n",
              "      <td>Q0</td>\n",
              "      <td>spotify:episode:3gJ0fBXYRryWAjgwxY4q6C_0.0</td>\n",
              "      <td>2</td>\n",
              "      <td>18.926608</td>\n",
              "      <td>Anserini</td>\n",
              "    </tr>\n",
              "    <tr>\n",
              "      <th>2</th>\n",
              "      <td>9</td>\n",
              "      <td>Q0</td>\n",
              "      <td>spotify:episode:1jvy4Usn4Z8awRi3gpw0iQ_900.0</td>\n",
              "      <td>3</td>\n",
              "      <td>17.899696</td>\n",
              "      <td>Anserini</td>\n",
              "    </tr>\n",
              "    <tr>\n",
              "      <th>3</th>\n",
              "      <td>9</td>\n",
              "      <td>Q0</td>\n",
              "      <td>spotify:episode:1nu9RsgfYsbNb7CDmHlvKx_1320.0</td>\n",
              "      <td>4</td>\n",
              "      <td>16.855876</td>\n",
              "      <td>Anserini</td>\n",
              "    </tr>\n",
              "    <tr>\n",
              "      <th>4</th>\n",
              "      <td>9</td>\n",
              "      <td>Q0</td>\n",
              "      <td>spotify:episode:2wlZZPXaCiEBGB0TCPk7VL_780.0</td>\n",
              "      <td>5</td>\n",
              "      <td>15.788488</td>\n",
              "      <td>Anserini</td>\n",
              "    </tr>\n",
              "    <tr>\n",
              "      <th>...</th>\n",
              "      <td>...</td>\n",
              "      <td>...</td>\n",
              "      <td>...</td>\n",
              "      <td>...</td>\n",
              "      <td>...</td>\n",
              "      <td>...</td>\n",
              "    </tr>\n",
              "    <tr>\n",
              "      <th>995</th>\n",
              "      <td>58</td>\n",
              "      <td>Q0</td>\n",
              "      <td>spotify:episode:76ezvYdkEkPsWO5x5PwUjz_5100.0</td>\n",
              "      <td>16</td>\n",
              "      <td>4.276828</td>\n",
              "      <td>Anserini</td>\n",
              "    </tr>\n",
              "    <tr>\n",
              "      <th>996</th>\n",
              "      <td>58</td>\n",
              "      <td>Q0</td>\n",
              "      <td>spotify:episode:5xDfrpC4pmkHBVf28JYKv1_120.0</td>\n",
              "      <td>17</td>\n",
              "      <td>3.244529</td>\n",
              "      <td>Anserini</td>\n",
              "    </tr>\n",
              "    <tr>\n",
              "      <th>997</th>\n",
              "      <td>58</td>\n",
              "      <td>Q0</td>\n",
              "      <td>spotify:episode:7pECOFSfCit9J2ZIvPDNMm_0.0</td>\n",
              "      <td>18</td>\n",
              "      <td>2.258043</td>\n",
              "      <td>Anserini</td>\n",
              "    </tr>\n",
              "    <tr>\n",
              "      <th>998</th>\n",
              "      <td>58</td>\n",
              "      <td>Q0</td>\n",
              "      <td>spotify:episode:4oPXTfrAk9nq7gxWl6zkuY_360.0</td>\n",
              "      <td>19</td>\n",
              "      <td>1.173298</td>\n",
              "      <td>Anserini</td>\n",
              "    </tr>\n",
              "    <tr>\n",
              "      <th>999</th>\n",
              "      <td>58</td>\n",
              "      <td>Q0</td>\n",
              "      <td>spotify:episode:157pxhEAYkEViaxyYY2Qqi_2460.0</td>\n",
              "      <td>20</td>\n",
              "      <td>0.114912</td>\n",
              "      <td>Anserini</td>\n",
              "    </tr>\n",
              "  </tbody>\n",
              "</table>\n",
              "<p>1000 rows × 6 columns</p>\n",
              "</div>"
            ],
            "text/plain": [
              "     qnum qid  ...      score     runid\n",
              "0       9  Q0  ...  19.972418  Anserini\n",
              "1       9  Q0  ...  18.926608  Anserini\n",
              "2       9  Q0  ...  17.899696  Anserini\n",
              "3       9  Q0  ...  16.855876  Anserini\n",
              "4       9  Q0  ...  15.788488  Anserini\n",
              "..    ...  ..  ...        ...       ...\n",
              "995    58  Q0  ...   4.276828  Anserini\n",
              "996    58  Q0  ...   3.244529  Anserini\n",
              "997    58  Q0  ...   2.258043  Anserini\n",
              "998    58  Q0  ...   1.173298  Anserini\n",
              "999    58  Q0  ...   0.114912  Anserini\n",
              "\n",
              "[1000 rows x 6 columns]"
            ]
          },
          "metadata": {},
          "execution_count": 38
        }
      ]
    },
    {
      "cell_type": "code",
      "metadata": {
        "id": "HDU7Tc3fQxZy"
      },
      "source": [
        "bm25_ranks.to_csv(results_file+'.reranked', sep = '\\t', index=False)"
      ],
      "execution_count": null,
      "outputs": []
    },
    {
      "cell_type": "code",
      "metadata": {
        "colab": {
          "base_uri": "https://localhost:8080/"
        },
        "id": "naBwbVastvE-",
        "outputId": "f3b7e89b-109e-440a-c731-054289db51c0"
      },
      "source": [
        "!git clone https://github.com/usnistgov/trec_eval"
      ],
      "execution_count": null,
      "outputs": [
        {
          "output_type": "stream",
          "name": "stdout",
          "text": [
            "fatal: destination path 'trec_eval' already exists and is not an empty directory.\n"
          ]
        }
      ]
    },
    {
      "cell_type": "code",
      "metadata": {
        "colab": {
          "base_uri": "https://localhost:8080/"
        },
        "id": "J_KCo3XWJbCY",
        "outputId": "449c306d-ab12-4d95-f9e9-d6b3ecd6d55b"
      },
      "source": [
        "!cd trec_eval;make"
      ],
      "execution_count": null,
      "outputs": [
        {
          "output_type": "stream",
          "name": "stdout",
          "text": [
            "make: 'trec_eval' is up to date.\n"
          ]
        }
      ]
    },
    {
      "cell_type": "code",
      "metadata": {
        "colab": {
          "base_uri": "https://localhost:8080/"
        },
        "id": "8UkKuvrM1Zv9",
        "outputId": "8c3642cf-97d1-4f2d-e70d-81bd093210c2"
      },
      "source": [
        "!./trec_eval/trec_eval  -q -c -M1000 -m ndcg_cut.10 /content/gdrive/MyDrive/col764/qrels/2020_test_qrels.list {results_file}.reranked"
      ],
      "execution_count": null,
      "outputs": [
        {
          "output_type": "stream",
          "name": "stdout",
          "text": [
            "ndcg_cut_10           \t10\t0.3638\n",
            "ndcg_cut_10           \t11\t0.1257\n",
            "ndcg_cut_10           \t12\t0.2042\n",
            "ndcg_cut_10           \t13\t0.0000\n",
            "ndcg_cut_10           \t14\t0.6687\n",
            "ndcg_cut_10           \t15\t0.0620\n",
            "ndcg_cut_10           \t16\t0.2415\n",
            "ndcg_cut_10           \t17\t0.0636\n",
            "ndcg_cut_10           \t18\t0.3152\n",
            "ndcg_cut_10           \t19\t0.5967\n",
            "ndcg_cut_10           \t20\t0.3674\n",
            "ndcg_cut_10           \t21\t0.4645\n",
            "ndcg_cut_10           \t22\t0.3396\n",
            "ndcg_cut_10           \t23\t0.0386\n",
            "ndcg_cut_10           \t24\t0.7772\n",
            "ndcg_cut_10           \t25\t0.5022\n",
            "ndcg_cut_10           \t26\t0.5501\n",
            "ndcg_cut_10           \t27\t0.3464\n",
            "ndcg_cut_10           \t28\t0.6111\n",
            "ndcg_cut_10           \t29\t0.6423\n",
            "ndcg_cut_10           \t30\t0.0698\n",
            "ndcg_cut_10           \t31\t0.0000\n",
            "ndcg_cut_10           \t32\t0.0980\n",
            "ndcg_cut_10           \t33\t0.2787\n",
            "ndcg_cut_10           \t34\t0.0941\n",
            "ndcg_cut_10           \t35\t0.1914\n",
            "ndcg_cut_10           \t36\t0.4020\n",
            "ndcg_cut_10           \t37\t0.1500\n",
            "ndcg_cut_10           \t38\t0.6880\n",
            "ndcg_cut_10           \t39\t0.1790\n",
            "ndcg_cut_10           \t40\t0.5063\n",
            "ndcg_cut_10           \t41\t0.4759\n",
            "ndcg_cut_10           \t42\t0.0000\n",
            "ndcg_cut_10           \t43\t0.4693\n",
            "ndcg_cut_10           \t44\t0.1459\n",
            "ndcg_cut_10           \t45\t0.5523\n",
            "ndcg_cut_10           \t46\t0.9174\n",
            "ndcg_cut_10           \t48\t0.3138\n",
            "ndcg_cut_10           \t49\t0.2636\n",
            "ndcg_cut_10           \t51\t0.4528\n",
            "ndcg_cut_10           \t52\t0.0000\n",
            "ndcg_cut_10           \t53\t0.2630\n",
            "ndcg_cut_10           \t54\t0.6053\n",
            "ndcg_cut_10           \t55\t0.1932\n",
            "ndcg_cut_10           \t56\t0.0000\n",
            "ndcg_cut_10           \t57\t0.8949\n",
            "ndcg_cut_10           \t58\t0.0663\n",
            "ndcg_cut_10           \t9\t0.8248\n",
            "ndcg_cut_10           \tall\t0.3412\n"
          ]
        }
      ]
    },
    {
      "cell_type": "code",
      "metadata": {
        "colab": {
          "base_uri": "https://localhost:8080/"
        },
        "id": "4KuScHB8L6ZR",
        "outputId": "17117977-7921-4623-a18c-513f6e97031b"
      },
      "source": [
        "!./trec_eval/trec_eval  -q -c -m ndcg_cut.10  /content/gdrive/MyDrive/col764/qrels/2020_test_qrels.list {results_file}"
      ],
      "execution_count": null,
      "outputs": [
        {
          "output_type": "stream",
          "name": "stdout",
          "text": [
            "ndcg_cut_10           \t10\t0.7417\n",
            "ndcg_cut_10           \t11\t0.2351\n",
            "ndcg_cut_10           \t12\t0.2562\n",
            "ndcg_cut_10           \t13\t0.0979\n",
            "ndcg_cut_10           \t14\t0.6778\n",
            "ndcg_cut_10           \t15\t0.0568\n",
            "ndcg_cut_10           \t16\t0.1587\n",
            "ndcg_cut_10           \t17\t0.0694\n",
            "ndcg_cut_10           \t18\t0.1443\n",
            "ndcg_cut_10           \t19\t0.6888\n",
            "ndcg_cut_10           \t20\t0.5237\n",
            "ndcg_cut_10           \t21\t0.4987\n",
            "ndcg_cut_10           \t22\t0.1936\n",
            "ndcg_cut_10           \t23\t0.0807\n",
            "ndcg_cut_10           \t24\t0.4212\n",
            "ndcg_cut_10           \t25\t0.5670\n",
            "ndcg_cut_10           \t26\t0.6419\n",
            "ndcg_cut_10           \t27\t0.5210\n",
            "ndcg_cut_10           \t28\t0.6111\n",
            "ndcg_cut_10           \t29\t0.7128\n",
            "ndcg_cut_10           \t30\t0.1138\n",
            "ndcg_cut_10           \t31\t0.0000\n",
            "ndcg_cut_10           \t32\t0.1091\n",
            "ndcg_cut_10           \t33\t0.2867\n",
            "ndcg_cut_10           \t34\t0.2077\n",
            "ndcg_cut_10           \t35\t0.3097\n",
            "ndcg_cut_10           \t36\t0.5705\n",
            "ndcg_cut_10           \t37\t0.2247\n",
            "ndcg_cut_10           \t38\t0.7711\n",
            "ndcg_cut_10           \t39\t0.3954\n",
            "ndcg_cut_10           \t40\t0.5549\n",
            "ndcg_cut_10           \t41\t0.5493\n",
            "ndcg_cut_10           \t42\t0.0000\n",
            "ndcg_cut_10           \t43\t0.4693\n",
            "ndcg_cut_10           \t44\t0.4846\n",
            "ndcg_cut_10           \t45\t0.6989\n",
            "ndcg_cut_10           \t46\t0.8452\n",
            "ndcg_cut_10           \t48\t0.1845\n",
            "ndcg_cut_10           \t49\t0.2142\n",
            "ndcg_cut_10           \t51\t0.2195\n",
            "ndcg_cut_10           \t52\t0.0000\n",
            "ndcg_cut_10           \t53\t0.3685\n",
            "ndcg_cut_10           \t54\t0.3529\n",
            "ndcg_cut_10           \t55\t0.2389\n",
            "ndcg_cut_10           \t56\t0.1145\n",
            "ndcg_cut_10           \t57\t0.8765\n",
            "ndcg_cut_10           \t58\t0.4284\n",
            "ndcg_cut_10           \t9\t0.7934\n",
            "ndcg_cut_10           \tall\t0.3808\n"
          ]
        }
      ]
    },
    {
      "cell_type": "code",
      "metadata": {
        "colab": {
          "base_uri": "https://localhost:8080/"
        },
        "id": "lhjuJ9lRJIZ4",
        "outputId": "a471879d-99a0-4f2b-a48d-97e9cf5657e4"
      },
      "source": [
        "!ls /content/gdrive/MyDrive/col764/results/"
      ],
      "execution_count": null,
      "outputs": [
        {
          "output_type": "stream",
          "name": "stdout",
          "text": [
            "run.desc.test.txt   run.query.test.txt\t\t run.query.train.txt\n",
            "run.desc.train.txt  run.query.test.txt.reranked\n"
          ]
        }
      ]
    }
  ]
}