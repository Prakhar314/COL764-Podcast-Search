{
  "nbformat": 4,
  "nbformat_minor": 0,
  "metadata": {
    "kernelspec": {
      "name": "python3",
      "display_name": "Python 3",
      "language": "python"
    },
    "language_info": {
      "name": "python",
      "version": "3.6.13",
      "mimetype": "text/x-python",
      "codemirror_mode": {
        "name": "ipython",
        "version": 3
      },
      "pygments_lexer": "ipython3",
      "nbconvert_exporter": "python",
      "file_extension": ".py"
    },
    "colab": {
      "name": "pointwise.ipynb",
      "provenance": [],
      "collapsed_sections": [],
      "include_colab_link": true
    },
    "accelerator": "GPU",
    "widgets": {
      "application/vnd.jupyter.widget-state+json": {
        "dd22a7522ec34206aed8c9471ceea373": {
          "model_module": "@jupyter-widgets/controls",
          "model_name": "HBoxModel",
          "model_module_version": "1.5.0",
          "state": {
            "_view_name": "HBoxView",
            "_dom_classes": [],
            "_model_name": "HBoxModel",
            "_view_module": "@jupyter-widgets/controls",
            "_model_module_version": "1.5.0",
            "_view_count": null,
            "_view_module_version": "1.5.0",
            "box_style": "",
            "layout": "IPY_MODEL_7caed0c01c9848838b48466f5735d3e7",
            "_model_module": "@jupyter-widgets/controls",
            "children": [
              "IPY_MODEL_60a52d91da284dbfb0883691fe2d7e57",
              "IPY_MODEL_0d095597dadd4c6eb8640fb57be93d82",
              "IPY_MODEL_fe51fe3de675465d960fb195bcaa4c39"
            ]
          }
        },
        "7caed0c01c9848838b48466f5735d3e7": {
          "model_module": "@jupyter-widgets/base",
          "model_name": "LayoutModel",
          "model_module_version": "1.2.0",
          "state": {
            "_view_name": "LayoutView",
            "grid_template_rows": null,
            "right": null,
            "justify_content": null,
            "_view_module": "@jupyter-widgets/base",
            "overflow": null,
            "_model_module_version": "1.2.0",
            "_view_count": null,
            "flex_flow": null,
            "width": null,
            "min_width": null,
            "border": null,
            "align_items": null,
            "bottom": null,
            "_model_module": "@jupyter-widgets/base",
            "top": null,
            "grid_column": null,
            "overflow_y": null,
            "overflow_x": null,
            "grid_auto_flow": null,
            "grid_area": null,
            "grid_template_columns": null,
            "flex": null,
            "_model_name": "LayoutModel",
            "justify_items": null,
            "grid_row": null,
            "max_height": null,
            "align_content": null,
            "visibility": null,
            "align_self": null,
            "height": null,
            "min_height": null,
            "padding": null,
            "grid_auto_rows": null,
            "grid_gap": null,
            "max_width": null,
            "order": null,
            "_view_module_version": "1.2.0",
            "grid_template_areas": null,
            "object_position": null,
            "object_fit": null,
            "grid_auto_columns": null,
            "margin": null,
            "display": null,
            "left": null
          }
        },
        "60a52d91da284dbfb0883691fe2d7e57": {
          "model_module": "@jupyter-widgets/controls",
          "model_name": "HTMLModel",
          "model_module_version": "1.5.0",
          "state": {
            "_view_name": "HTMLView",
            "style": "IPY_MODEL_cc11050b4dde4f508714d472fb55aeef",
            "_dom_classes": [],
            "description": "",
            "_model_name": "HTMLModel",
            "placeholder": "​",
            "_view_module": "@jupyter-widgets/controls",
            "_model_module_version": "1.5.0",
            "value": "Downloading: 100%",
            "_view_count": null,
            "_view_module_version": "1.5.0",
            "description_tooltip": null,
            "_model_module": "@jupyter-widgets/controls",
            "layout": "IPY_MODEL_b23b539c59ee4f11bb7bce06cfe334d4"
          }
        },
        "0d095597dadd4c6eb8640fb57be93d82": {
          "model_module": "@jupyter-widgets/controls",
          "model_name": "FloatProgressModel",
          "model_module_version": "1.5.0",
          "state": {
            "_view_name": "ProgressView",
            "style": "IPY_MODEL_8599bea35c1d4e39ab3d0094ae22d841",
            "_dom_classes": [],
            "description": "",
            "_model_name": "FloatProgressModel",
            "bar_style": "success",
            "max": 231508,
            "_view_module": "@jupyter-widgets/controls",
            "_model_module_version": "1.5.0",
            "value": 231508,
            "_view_count": null,
            "_view_module_version": "1.5.0",
            "orientation": "horizontal",
            "min": 0,
            "description_tooltip": null,
            "_model_module": "@jupyter-widgets/controls",
            "layout": "IPY_MODEL_51c5547f3bbb4b41b0f264f51475561d"
          }
        },
        "fe51fe3de675465d960fb195bcaa4c39": {
          "model_module": "@jupyter-widgets/controls",
          "model_name": "HTMLModel",
          "model_module_version": "1.5.0",
          "state": {
            "_view_name": "HTMLView",
            "style": "IPY_MODEL_4b268ddf9492434db9c6f955ce38b313",
            "_dom_classes": [],
            "description": "",
            "_model_name": "HTMLModel",
            "placeholder": "​",
            "_view_module": "@jupyter-widgets/controls",
            "_model_module_version": "1.5.0",
            "value": " 226k/226k [00:00&lt;00:00, 341kB/s]",
            "_view_count": null,
            "_view_module_version": "1.5.0",
            "description_tooltip": null,
            "_model_module": "@jupyter-widgets/controls",
            "layout": "IPY_MODEL_ca947b58bda746748f61dd28a96fbbed"
          }
        },
        "cc11050b4dde4f508714d472fb55aeef": {
          "model_module": "@jupyter-widgets/controls",
          "model_name": "DescriptionStyleModel",
          "model_module_version": "1.5.0",
          "state": {
            "_view_name": "StyleView",
            "_model_name": "DescriptionStyleModel",
            "description_width": "",
            "_view_module": "@jupyter-widgets/base",
            "_model_module_version": "1.5.0",
            "_view_count": null,
            "_view_module_version": "1.2.0",
            "_model_module": "@jupyter-widgets/controls"
          }
        },
        "b23b539c59ee4f11bb7bce06cfe334d4": {
          "model_module": "@jupyter-widgets/base",
          "model_name": "LayoutModel",
          "model_module_version": "1.2.0",
          "state": {
            "_view_name": "LayoutView",
            "grid_template_rows": null,
            "right": null,
            "justify_content": null,
            "_view_module": "@jupyter-widgets/base",
            "overflow": null,
            "_model_module_version": "1.2.0",
            "_view_count": null,
            "flex_flow": null,
            "width": null,
            "min_width": null,
            "border": null,
            "align_items": null,
            "bottom": null,
            "_model_module": "@jupyter-widgets/base",
            "top": null,
            "grid_column": null,
            "overflow_y": null,
            "overflow_x": null,
            "grid_auto_flow": null,
            "grid_area": null,
            "grid_template_columns": null,
            "flex": null,
            "_model_name": "LayoutModel",
            "justify_items": null,
            "grid_row": null,
            "max_height": null,
            "align_content": null,
            "visibility": null,
            "align_self": null,
            "height": null,
            "min_height": null,
            "padding": null,
            "grid_auto_rows": null,
            "grid_gap": null,
            "max_width": null,
            "order": null,
            "_view_module_version": "1.2.0",
            "grid_template_areas": null,
            "object_position": null,
            "object_fit": null,
            "grid_auto_columns": null,
            "margin": null,
            "display": null,
            "left": null
          }
        },
        "8599bea35c1d4e39ab3d0094ae22d841": {
          "model_module": "@jupyter-widgets/controls",
          "model_name": "ProgressStyleModel",
          "model_module_version": "1.5.0",
          "state": {
            "_view_name": "StyleView",
            "_model_name": "ProgressStyleModel",
            "description_width": "",
            "_view_module": "@jupyter-widgets/base",
            "_model_module_version": "1.5.0",
            "_view_count": null,
            "_view_module_version": "1.2.0",
            "bar_color": null,
            "_model_module": "@jupyter-widgets/controls"
          }
        },
        "51c5547f3bbb4b41b0f264f51475561d": {
          "model_module": "@jupyter-widgets/base",
          "model_name": "LayoutModel",
          "model_module_version": "1.2.0",
          "state": {
            "_view_name": "LayoutView",
            "grid_template_rows": null,
            "right": null,
            "justify_content": null,
            "_view_module": "@jupyter-widgets/base",
            "overflow": null,
            "_model_module_version": "1.2.0",
            "_view_count": null,
            "flex_flow": null,
            "width": null,
            "min_width": null,
            "border": null,
            "align_items": null,
            "bottom": null,
            "_model_module": "@jupyter-widgets/base",
            "top": null,
            "grid_column": null,
            "overflow_y": null,
            "overflow_x": null,
            "grid_auto_flow": null,
            "grid_area": null,
            "grid_template_columns": null,
            "flex": null,
            "_model_name": "LayoutModel",
            "justify_items": null,
            "grid_row": null,
            "max_height": null,
            "align_content": null,
            "visibility": null,
            "align_self": null,
            "height": null,
            "min_height": null,
            "padding": null,
            "grid_auto_rows": null,
            "grid_gap": null,
            "max_width": null,
            "order": null,
            "_view_module_version": "1.2.0",
            "grid_template_areas": null,
            "object_position": null,
            "object_fit": null,
            "grid_auto_columns": null,
            "margin": null,
            "display": null,
            "left": null
          }
        },
        "4b268ddf9492434db9c6f955ce38b313": {
          "model_module": "@jupyter-widgets/controls",
          "model_name": "DescriptionStyleModel",
          "model_module_version": "1.5.0",
          "state": {
            "_view_name": "StyleView",
            "_model_name": "DescriptionStyleModel",
            "description_width": "",
            "_view_module": "@jupyter-widgets/base",
            "_model_module_version": "1.5.0",
            "_view_count": null,
            "_view_module_version": "1.2.0",
            "_model_module": "@jupyter-widgets/controls"
          }
        },
        "ca947b58bda746748f61dd28a96fbbed": {
          "model_module": "@jupyter-widgets/base",
          "model_name": "LayoutModel",
          "model_module_version": "1.2.0",
          "state": {
            "_view_name": "LayoutView",
            "grid_template_rows": null,
            "right": null,
            "justify_content": null,
            "_view_module": "@jupyter-widgets/base",
            "overflow": null,
            "_model_module_version": "1.2.0",
            "_view_count": null,
            "flex_flow": null,
            "width": null,
            "min_width": null,
            "border": null,
            "align_items": null,
            "bottom": null,
            "_model_module": "@jupyter-widgets/base",
            "top": null,
            "grid_column": null,
            "overflow_y": null,
            "overflow_x": null,
            "grid_auto_flow": null,
            "grid_area": null,
            "grid_template_columns": null,
            "flex": null,
            "_model_name": "LayoutModel",
            "justify_items": null,
            "grid_row": null,
            "max_height": null,
            "align_content": null,
            "visibility": null,
            "align_self": null,
            "height": null,
            "min_height": null,
            "padding": null,
            "grid_auto_rows": null,
            "grid_gap": null,
            "max_width": null,
            "order": null,
            "_view_module_version": "1.2.0",
            "grid_template_areas": null,
            "object_position": null,
            "object_fit": null,
            "grid_auto_columns": null,
            "margin": null,
            "display": null,
            "left": null
          }
        },
        "84200045f5de4c1f8d9c454c50e8087b": {
          "model_module": "@jupyter-widgets/controls",
          "model_name": "HBoxModel",
          "model_module_version": "1.5.0",
          "state": {
            "_view_name": "HBoxView",
            "_dom_classes": [],
            "_model_name": "HBoxModel",
            "_view_module": "@jupyter-widgets/controls",
            "_model_module_version": "1.5.0",
            "_view_count": null,
            "_view_module_version": "1.5.0",
            "box_style": "",
            "layout": "IPY_MODEL_b4a549295cde4c378c2802168b13c3c8",
            "_model_module": "@jupyter-widgets/controls",
            "children": [
              "IPY_MODEL_2df8502b4aad4ed5a6dbcfde141f1f91",
              "IPY_MODEL_e365cf9edde943cea3bb1b2bc277360b",
              "IPY_MODEL_64535f2ae4ac40d09c6d53641674978f"
            ]
          }
        },
        "b4a549295cde4c378c2802168b13c3c8": {
          "model_module": "@jupyter-widgets/base",
          "model_name": "LayoutModel",
          "model_module_version": "1.2.0",
          "state": {
            "_view_name": "LayoutView",
            "grid_template_rows": null,
            "right": null,
            "justify_content": null,
            "_view_module": "@jupyter-widgets/base",
            "overflow": null,
            "_model_module_version": "1.2.0",
            "_view_count": null,
            "flex_flow": null,
            "width": null,
            "min_width": null,
            "border": null,
            "align_items": null,
            "bottom": null,
            "_model_module": "@jupyter-widgets/base",
            "top": null,
            "grid_column": null,
            "overflow_y": null,
            "overflow_x": null,
            "grid_auto_flow": null,
            "grid_area": null,
            "grid_template_columns": null,
            "flex": null,
            "_model_name": "LayoutModel",
            "justify_items": null,
            "grid_row": null,
            "max_height": null,
            "align_content": null,
            "visibility": null,
            "align_self": null,
            "height": null,
            "min_height": null,
            "padding": null,
            "grid_auto_rows": null,
            "grid_gap": null,
            "max_width": null,
            "order": null,
            "_view_module_version": "1.2.0",
            "grid_template_areas": null,
            "object_position": null,
            "object_fit": null,
            "grid_auto_columns": null,
            "margin": null,
            "display": null,
            "left": null
          }
        },
        "2df8502b4aad4ed5a6dbcfde141f1f91": {
          "model_module": "@jupyter-widgets/controls",
          "model_name": "HTMLModel",
          "model_module_version": "1.5.0",
          "state": {
            "_view_name": "HTMLView",
            "style": "IPY_MODEL_73f804a9eb9a44e6a7cf1a801e28b092",
            "_dom_classes": [],
            "description": "",
            "_model_name": "HTMLModel",
            "placeholder": "​",
            "_view_module": "@jupyter-widgets/controls",
            "_model_module_version": "1.5.0",
            "value": "Downloading: 100%",
            "_view_count": null,
            "_view_module_version": "1.5.0",
            "description_tooltip": null,
            "_model_module": "@jupyter-widgets/controls",
            "layout": "IPY_MODEL_78137af479574eec86ac4b4f67e836dd"
          }
        },
        "e365cf9edde943cea3bb1b2bc277360b": {
          "model_module": "@jupyter-widgets/controls",
          "model_name": "FloatProgressModel",
          "model_module_version": "1.5.0",
          "state": {
            "_view_name": "ProgressView",
            "style": "IPY_MODEL_1dafa5801a0d4544b4eaae7a4a1e5e90",
            "_dom_classes": [],
            "description": "",
            "_model_name": "FloatProgressModel",
            "bar_style": "success",
            "max": 28,
            "_view_module": "@jupyter-widgets/controls",
            "_model_module_version": "1.5.0",
            "value": 28,
            "_view_count": null,
            "_view_module_version": "1.5.0",
            "orientation": "horizontal",
            "min": 0,
            "description_tooltip": null,
            "_model_module": "@jupyter-widgets/controls",
            "layout": "IPY_MODEL_57a984cef8e842cb8577a4589d072e51"
          }
        },
        "64535f2ae4ac40d09c6d53641674978f": {
          "model_module": "@jupyter-widgets/controls",
          "model_name": "HTMLModel",
          "model_module_version": "1.5.0",
          "state": {
            "_view_name": "HTMLView",
            "style": "IPY_MODEL_19453742061a4c94b680915d7392ecbb",
            "_dom_classes": [],
            "description": "",
            "_model_name": "HTMLModel",
            "placeholder": "​",
            "_view_module": "@jupyter-widgets/controls",
            "_model_module_version": "1.5.0",
            "value": " 28.0/28.0 [00:00&lt;00:00, 638B/s]",
            "_view_count": null,
            "_view_module_version": "1.5.0",
            "description_tooltip": null,
            "_model_module": "@jupyter-widgets/controls",
            "layout": "IPY_MODEL_356c935b5c7240d3ad7e989f0e7c54d1"
          }
        },
        "73f804a9eb9a44e6a7cf1a801e28b092": {
          "model_module": "@jupyter-widgets/controls",
          "model_name": "DescriptionStyleModel",
          "model_module_version": "1.5.0",
          "state": {
            "_view_name": "StyleView",
            "_model_name": "DescriptionStyleModel",
            "description_width": "",
            "_view_module": "@jupyter-widgets/base",
            "_model_module_version": "1.5.0",
            "_view_count": null,
            "_view_module_version": "1.2.0",
            "_model_module": "@jupyter-widgets/controls"
          }
        },
        "78137af479574eec86ac4b4f67e836dd": {
          "model_module": "@jupyter-widgets/base",
          "model_name": "LayoutModel",
          "model_module_version": "1.2.0",
          "state": {
            "_view_name": "LayoutView",
            "grid_template_rows": null,
            "right": null,
            "justify_content": null,
            "_view_module": "@jupyter-widgets/base",
            "overflow": null,
            "_model_module_version": "1.2.0",
            "_view_count": null,
            "flex_flow": null,
            "width": null,
            "min_width": null,
            "border": null,
            "align_items": null,
            "bottom": null,
            "_model_module": "@jupyter-widgets/base",
            "top": null,
            "grid_column": null,
            "overflow_y": null,
            "overflow_x": null,
            "grid_auto_flow": null,
            "grid_area": null,
            "grid_template_columns": null,
            "flex": null,
            "_model_name": "LayoutModel",
            "justify_items": null,
            "grid_row": null,
            "max_height": null,
            "align_content": null,
            "visibility": null,
            "align_self": null,
            "height": null,
            "min_height": null,
            "padding": null,
            "grid_auto_rows": null,
            "grid_gap": null,
            "max_width": null,
            "order": null,
            "_view_module_version": "1.2.0",
            "grid_template_areas": null,
            "object_position": null,
            "object_fit": null,
            "grid_auto_columns": null,
            "margin": null,
            "display": null,
            "left": null
          }
        },
        "1dafa5801a0d4544b4eaae7a4a1e5e90": {
          "model_module": "@jupyter-widgets/controls",
          "model_name": "ProgressStyleModel",
          "model_module_version": "1.5.0",
          "state": {
            "_view_name": "StyleView",
            "_model_name": "ProgressStyleModel",
            "description_width": "",
            "_view_module": "@jupyter-widgets/base",
            "_model_module_version": "1.5.0",
            "_view_count": null,
            "_view_module_version": "1.2.0",
            "bar_color": null,
            "_model_module": "@jupyter-widgets/controls"
          }
        },
        "57a984cef8e842cb8577a4589d072e51": {
          "model_module": "@jupyter-widgets/base",
          "model_name": "LayoutModel",
          "model_module_version": "1.2.0",
          "state": {
            "_view_name": "LayoutView",
            "grid_template_rows": null,
            "right": null,
            "justify_content": null,
            "_view_module": "@jupyter-widgets/base",
            "overflow": null,
            "_model_module_version": "1.2.0",
            "_view_count": null,
            "flex_flow": null,
            "width": null,
            "min_width": null,
            "border": null,
            "align_items": null,
            "bottom": null,
            "_model_module": "@jupyter-widgets/base",
            "top": null,
            "grid_column": null,
            "overflow_y": null,
            "overflow_x": null,
            "grid_auto_flow": null,
            "grid_area": null,
            "grid_template_columns": null,
            "flex": null,
            "_model_name": "LayoutModel",
            "justify_items": null,
            "grid_row": null,
            "max_height": null,
            "align_content": null,
            "visibility": null,
            "align_self": null,
            "height": null,
            "min_height": null,
            "padding": null,
            "grid_auto_rows": null,
            "grid_gap": null,
            "max_width": null,
            "order": null,
            "_view_module_version": "1.2.0",
            "grid_template_areas": null,
            "object_position": null,
            "object_fit": null,
            "grid_auto_columns": null,
            "margin": null,
            "display": null,
            "left": null
          }
        },
        "19453742061a4c94b680915d7392ecbb": {
          "model_module": "@jupyter-widgets/controls",
          "model_name": "DescriptionStyleModel",
          "model_module_version": "1.5.0",
          "state": {
            "_view_name": "StyleView",
            "_model_name": "DescriptionStyleModel",
            "description_width": "",
            "_view_module": "@jupyter-widgets/base",
            "_model_module_version": "1.5.0",
            "_view_count": null,
            "_view_module_version": "1.2.0",
            "_model_module": "@jupyter-widgets/controls"
          }
        },
        "356c935b5c7240d3ad7e989f0e7c54d1": {
          "model_module": "@jupyter-widgets/base",
          "model_name": "LayoutModel",
          "model_module_version": "1.2.0",
          "state": {
            "_view_name": "LayoutView",
            "grid_template_rows": null,
            "right": null,
            "justify_content": null,
            "_view_module": "@jupyter-widgets/base",
            "overflow": null,
            "_model_module_version": "1.2.0",
            "_view_count": null,
            "flex_flow": null,
            "width": null,
            "min_width": null,
            "border": null,
            "align_items": null,
            "bottom": null,
            "_model_module": "@jupyter-widgets/base",
            "top": null,
            "grid_column": null,
            "overflow_y": null,
            "overflow_x": null,
            "grid_auto_flow": null,
            "grid_area": null,
            "grid_template_columns": null,
            "flex": null,
            "_model_name": "LayoutModel",
            "justify_items": null,
            "grid_row": null,
            "max_height": null,
            "align_content": null,
            "visibility": null,
            "align_self": null,
            "height": null,
            "min_height": null,
            "padding": null,
            "grid_auto_rows": null,
            "grid_gap": null,
            "max_width": null,
            "order": null,
            "_view_module_version": "1.2.0",
            "grid_template_areas": null,
            "object_position": null,
            "object_fit": null,
            "grid_auto_columns": null,
            "margin": null,
            "display": null,
            "left": null
          }
        },
        "936b312b8ce441d6947335ed3c9c99fb": {
          "model_module": "@jupyter-widgets/controls",
          "model_name": "HBoxModel",
          "model_module_version": "1.5.0",
          "state": {
            "_view_name": "HBoxView",
            "_dom_classes": [],
            "_model_name": "HBoxModel",
            "_view_module": "@jupyter-widgets/controls",
            "_model_module_version": "1.5.0",
            "_view_count": null,
            "_view_module_version": "1.5.0",
            "box_style": "",
            "layout": "IPY_MODEL_7acba0cf5a054e75874710c48460a351",
            "_model_module": "@jupyter-widgets/controls",
            "children": [
              "IPY_MODEL_d595d141ce4d46fcbf840bb3382be0a3",
              "IPY_MODEL_4d2bd07e785b42cb915cfed5789321c0",
              "IPY_MODEL_1c194b10aaac44f0ab33dda24e446329"
            ]
          }
        },
        "7acba0cf5a054e75874710c48460a351": {
          "model_module": "@jupyter-widgets/base",
          "model_name": "LayoutModel",
          "model_module_version": "1.2.0",
          "state": {
            "_view_name": "LayoutView",
            "grid_template_rows": null,
            "right": null,
            "justify_content": null,
            "_view_module": "@jupyter-widgets/base",
            "overflow": null,
            "_model_module_version": "1.2.0",
            "_view_count": null,
            "flex_flow": null,
            "width": null,
            "min_width": null,
            "border": null,
            "align_items": null,
            "bottom": null,
            "_model_module": "@jupyter-widgets/base",
            "top": null,
            "grid_column": null,
            "overflow_y": null,
            "overflow_x": null,
            "grid_auto_flow": null,
            "grid_area": null,
            "grid_template_columns": null,
            "flex": null,
            "_model_name": "LayoutModel",
            "justify_items": null,
            "grid_row": null,
            "max_height": null,
            "align_content": null,
            "visibility": null,
            "align_self": null,
            "height": null,
            "min_height": null,
            "padding": null,
            "grid_auto_rows": null,
            "grid_gap": null,
            "max_width": null,
            "order": null,
            "_view_module_version": "1.2.0",
            "grid_template_areas": null,
            "object_position": null,
            "object_fit": null,
            "grid_auto_columns": null,
            "margin": null,
            "display": null,
            "left": null
          }
        },
        "d595d141ce4d46fcbf840bb3382be0a3": {
          "model_module": "@jupyter-widgets/controls",
          "model_name": "HTMLModel",
          "model_module_version": "1.5.0",
          "state": {
            "_view_name": "HTMLView",
            "style": "IPY_MODEL_140fa42f6133498c98dc12d642b08335",
            "_dom_classes": [],
            "description": "",
            "_model_name": "HTMLModel",
            "placeholder": "​",
            "_view_module": "@jupyter-widgets/controls",
            "_model_module_version": "1.5.0",
            "value": "Downloading: 100%",
            "_view_count": null,
            "_view_module_version": "1.5.0",
            "description_tooltip": null,
            "_model_module": "@jupyter-widgets/controls",
            "layout": "IPY_MODEL_a495bfe8fa0a4032866ec26fac7c1b57"
          }
        },
        "4d2bd07e785b42cb915cfed5789321c0": {
          "model_module": "@jupyter-widgets/controls",
          "model_name": "FloatProgressModel",
          "model_module_version": "1.5.0",
          "state": {
            "_view_name": "ProgressView",
            "style": "IPY_MODEL_69417d5967e84f4e882825f91c6583ff",
            "_dom_classes": [],
            "description": "",
            "_model_name": "FloatProgressModel",
            "bar_style": "success",
            "max": 466062,
            "_view_module": "@jupyter-widgets/controls",
            "_model_module_version": "1.5.0",
            "value": 466062,
            "_view_count": null,
            "_view_module_version": "1.5.0",
            "orientation": "horizontal",
            "min": 0,
            "description_tooltip": null,
            "_model_module": "@jupyter-widgets/controls",
            "layout": "IPY_MODEL_7886e1c91ff64243bf9792f24dc0e5ed"
          }
        },
        "1c194b10aaac44f0ab33dda24e446329": {
          "model_module": "@jupyter-widgets/controls",
          "model_name": "HTMLModel",
          "model_module_version": "1.5.0",
          "state": {
            "_view_name": "HTMLView",
            "style": "IPY_MODEL_f491b43c6c6c46babd7da4dd6f548ffb",
            "_dom_classes": [],
            "description": "",
            "_model_name": "HTMLModel",
            "placeholder": "​",
            "_view_module": "@jupyter-widgets/controls",
            "_model_module_version": "1.5.0",
            "value": " 455k/455k [00:00&lt;00:00, 613kB/s]",
            "_view_count": null,
            "_view_module_version": "1.5.0",
            "description_tooltip": null,
            "_model_module": "@jupyter-widgets/controls",
            "layout": "IPY_MODEL_aa7daefabb2a4db8ab5a96da1a2931eb"
          }
        },
        "140fa42f6133498c98dc12d642b08335": {
          "model_module": "@jupyter-widgets/controls",
          "model_name": "DescriptionStyleModel",
          "model_module_version": "1.5.0",
          "state": {
            "_view_name": "StyleView",
            "_model_name": "DescriptionStyleModel",
            "description_width": "",
            "_view_module": "@jupyter-widgets/base",
            "_model_module_version": "1.5.0",
            "_view_count": null,
            "_view_module_version": "1.2.0",
            "_model_module": "@jupyter-widgets/controls"
          }
        },
        "a495bfe8fa0a4032866ec26fac7c1b57": {
          "model_module": "@jupyter-widgets/base",
          "model_name": "LayoutModel",
          "model_module_version": "1.2.0",
          "state": {
            "_view_name": "LayoutView",
            "grid_template_rows": null,
            "right": null,
            "justify_content": null,
            "_view_module": "@jupyter-widgets/base",
            "overflow": null,
            "_model_module_version": "1.2.0",
            "_view_count": null,
            "flex_flow": null,
            "width": null,
            "min_width": null,
            "border": null,
            "align_items": null,
            "bottom": null,
            "_model_module": "@jupyter-widgets/base",
            "top": null,
            "grid_column": null,
            "overflow_y": null,
            "overflow_x": null,
            "grid_auto_flow": null,
            "grid_area": null,
            "grid_template_columns": null,
            "flex": null,
            "_model_name": "LayoutModel",
            "justify_items": null,
            "grid_row": null,
            "max_height": null,
            "align_content": null,
            "visibility": null,
            "align_self": null,
            "height": null,
            "min_height": null,
            "padding": null,
            "grid_auto_rows": null,
            "grid_gap": null,
            "max_width": null,
            "order": null,
            "_view_module_version": "1.2.0",
            "grid_template_areas": null,
            "object_position": null,
            "object_fit": null,
            "grid_auto_columns": null,
            "margin": null,
            "display": null,
            "left": null
          }
        },
        "69417d5967e84f4e882825f91c6583ff": {
          "model_module": "@jupyter-widgets/controls",
          "model_name": "ProgressStyleModel",
          "model_module_version": "1.5.0",
          "state": {
            "_view_name": "StyleView",
            "_model_name": "ProgressStyleModel",
            "description_width": "",
            "_view_module": "@jupyter-widgets/base",
            "_model_module_version": "1.5.0",
            "_view_count": null,
            "_view_module_version": "1.2.0",
            "bar_color": null,
            "_model_module": "@jupyter-widgets/controls"
          }
        },
        "7886e1c91ff64243bf9792f24dc0e5ed": {
          "model_module": "@jupyter-widgets/base",
          "model_name": "LayoutModel",
          "model_module_version": "1.2.0",
          "state": {
            "_view_name": "LayoutView",
            "grid_template_rows": null,
            "right": null,
            "justify_content": null,
            "_view_module": "@jupyter-widgets/base",
            "overflow": null,
            "_model_module_version": "1.2.0",
            "_view_count": null,
            "flex_flow": null,
            "width": null,
            "min_width": null,
            "border": null,
            "align_items": null,
            "bottom": null,
            "_model_module": "@jupyter-widgets/base",
            "top": null,
            "grid_column": null,
            "overflow_y": null,
            "overflow_x": null,
            "grid_auto_flow": null,
            "grid_area": null,
            "grid_template_columns": null,
            "flex": null,
            "_model_name": "LayoutModel",
            "justify_items": null,
            "grid_row": null,
            "max_height": null,
            "align_content": null,
            "visibility": null,
            "align_self": null,
            "height": null,
            "min_height": null,
            "padding": null,
            "grid_auto_rows": null,
            "grid_gap": null,
            "max_width": null,
            "order": null,
            "_view_module_version": "1.2.0",
            "grid_template_areas": null,
            "object_position": null,
            "object_fit": null,
            "grid_auto_columns": null,
            "margin": null,
            "display": null,
            "left": null
          }
        },
        "f491b43c6c6c46babd7da4dd6f548ffb": {
          "model_module": "@jupyter-widgets/controls",
          "model_name": "DescriptionStyleModel",
          "model_module_version": "1.5.0",
          "state": {
            "_view_name": "StyleView",
            "_model_name": "DescriptionStyleModel",
            "description_width": "",
            "_view_module": "@jupyter-widgets/base",
            "_model_module_version": "1.5.0",
            "_view_count": null,
            "_view_module_version": "1.2.0",
            "_model_module": "@jupyter-widgets/controls"
          }
        },
        "aa7daefabb2a4db8ab5a96da1a2931eb": {
          "model_module": "@jupyter-widgets/base",
          "model_name": "LayoutModel",
          "model_module_version": "1.2.0",
          "state": {
            "_view_name": "LayoutView",
            "grid_template_rows": null,
            "right": null,
            "justify_content": null,
            "_view_module": "@jupyter-widgets/base",
            "overflow": null,
            "_model_module_version": "1.2.0",
            "_view_count": null,
            "flex_flow": null,
            "width": null,
            "min_width": null,
            "border": null,
            "align_items": null,
            "bottom": null,
            "_model_module": "@jupyter-widgets/base",
            "top": null,
            "grid_column": null,
            "overflow_y": null,
            "overflow_x": null,
            "grid_auto_flow": null,
            "grid_area": null,
            "grid_template_columns": null,
            "flex": null,
            "_model_name": "LayoutModel",
            "justify_items": null,
            "grid_row": null,
            "max_height": null,
            "align_content": null,
            "visibility": null,
            "align_self": null,
            "height": null,
            "min_height": null,
            "padding": null,
            "grid_auto_rows": null,
            "grid_gap": null,
            "max_width": null,
            "order": null,
            "_view_module_version": "1.2.0",
            "grid_template_areas": null,
            "object_position": null,
            "object_fit": null,
            "grid_auto_columns": null,
            "margin": null,
            "display": null,
            "left": null
          }
        },
        "39207383b17a485a8ead4f335081a1e3": {
          "model_module": "@jupyter-widgets/controls",
          "model_name": "HBoxModel",
          "model_module_version": "1.5.0",
          "state": {
            "_view_name": "HBoxView",
            "_dom_classes": [],
            "_model_name": "HBoxModel",
            "_view_module": "@jupyter-widgets/controls",
            "_model_module_version": "1.5.0",
            "_view_count": null,
            "_view_module_version": "1.5.0",
            "box_style": "",
            "layout": "IPY_MODEL_cf82c993e74c48a8a1b27d438bac2b7f",
            "_model_module": "@jupyter-widgets/controls",
            "children": [
              "IPY_MODEL_de5b83afa2e84bdcb6d0d921a7413c4f",
              "IPY_MODEL_36ecb28dbdd64fd089093aa7aef412f6",
              "IPY_MODEL_bd162c034b3f405286a3f1281fa4a525"
            ]
          }
        },
        "cf82c993e74c48a8a1b27d438bac2b7f": {
          "model_module": "@jupyter-widgets/base",
          "model_name": "LayoutModel",
          "model_module_version": "1.2.0",
          "state": {
            "_view_name": "LayoutView",
            "grid_template_rows": null,
            "right": null,
            "justify_content": null,
            "_view_module": "@jupyter-widgets/base",
            "overflow": null,
            "_model_module_version": "1.2.0",
            "_view_count": null,
            "flex_flow": null,
            "width": null,
            "min_width": null,
            "border": null,
            "align_items": null,
            "bottom": null,
            "_model_module": "@jupyter-widgets/base",
            "top": null,
            "grid_column": null,
            "overflow_y": null,
            "overflow_x": null,
            "grid_auto_flow": null,
            "grid_area": null,
            "grid_template_columns": null,
            "flex": null,
            "_model_name": "LayoutModel",
            "justify_items": null,
            "grid_row": null,
            "max_height": null,
            "align_content": null,
            "visibility": null,
            "align_self": null,
            "height": null,
            "min_height": null,
            "padding": null,
            "grid_auto_rows": null,
            "grid_gap": null,
            "max_width": null,
            "order": null,
            "_view_module_version": "1.2.0",
            "grid_template_areas": null,
            "object_position": null,
            "object_fit": null,
            "grid_auto_columns": null,
            "margin": null,
            "display": null,
            "left": null
          }
        },
        "de5b83afa2e84bdcb6d0d921a7413c4f": {
          "model_module": "@jupyter-widgets/controls",
          "model_name": "HTMLModel",
          "model_module_version": "1.5.0",
          "state": {
            "_view_name": "HTMLView",
            "style": "IPY_MODEL_d1db28f796d24ae6968a9d617e986143",
            "_dom_classes": [],
            "description": "",
            "_model_name": "HTMLModel",
            "placeholder": "​",
            "_view_module": "@jupyter-widgets/controls",
            "_model_module_version": "1.5.0",
            "value": "Downloading: 100%",
            "_view_count": null,
            "_view_module_version": "1.5.0",
            "description_tooltip": null,
            "_model_module": "@jupyter-widgets/controls",
            "layout": "IPY_MODEL_089a1a5d639e4643a6d493aff47f4132"
          }
        },
        "36ecb28dbdd64fd089093aa7aef412f6": {
          "model_module": "@jupyter-widgets/controls",
          "model_name": "FloatProgressModel",
          "model_module_version": "1.5.0",
          "state": {
            "_view_name": "ProgressView",
            "style": "IPY_MODEL_51757650142a452fb085a7236e28e079",
            "_dom_classes": [],
            "description": "",
            "_model_name": "FloatProgressModel",
            "bar_style": "success",
            "max": 570,
            "_view_module": "@jupyter-widgets/controls",
            "_model_module_version": "1.5.0",
            "value": 570,
            "_view_count": null,
            "_view_module_version": "1.5.0",
            "orientation": "horizontal",
            "min": 0,
            "description_tooltip": null,
            "_model_module": "@jupyter-widgets/controls",
            "layout": "IPY_MODEL_ae754c6574e0487fbf7652517a5770ba"
          }
        },
        "bd162c034b3f405286a3f1281fa4a525": {
          "model_module": "@jupyter-widgets/controls",
          "model_name": "HTMLModel",
          "model_module_version": "1.5.0",
          "state": {
            "_view_name": "HTMLView",
            "style": "IPY_MODEL_7c29ff7df7964287b01033c49ac9eea0",
            "_dom_classes": [],
            "description": "",
            "_model_name": "HTMLModel",
            "placeholder": "​",
            "_view_module": "@jupyter-widgets/controls",
            "_model_module_version": "1.5.0",
            "value": " 570/570 [00:00&lt;00:00, 12.4kB/s]",
            "_view_count": null,
            "_view_module_version": "1.5.0",
            "description_tooltip": null,
            "_model_module": "@jupyter-widgets/controls",
            "layout": "IPY_MODEL_c94d162c52cf4e34a395faa959afa47d"
          }
        },
        "d1db28f796d24ae6968a9d617e986143": {
          "model_module": "@jupyter-widgets/controls",
          "model_name": "DescriptionStyleModel",
          "model_module_version": "1.5.0",
          "state": {
            "_view_name": "StyleView",
            "_model_name": "DescriptionStyleModel",
            "description_width": "",
            "_view_module": "@jupyter-widgets/base",
            "_model_module_version": "1.5.0",
            "_view_count": null,
            "_view_module_version": "1.2.0",
            "_model_module": "@jupyter-widgets/controls"
          }
        },
        "089a1a5d639e4643a6d493aff47f4132": {
          "model_module": "@jupyter-widgets/base",
          "model_name": "LayoutModel",
          "model_module_version": "1.2.0",
          "state": {
            "_view_name": "LayoutView",
            "grid_template_rows": null,
            "right": null,
            "justify_content": null,
            "_view_module": "@jupyter-widgets/base",
            "overflow": null,
            "_model_module_version": "1.2.0",
            "_view_count": null,
            "flex_flow": null,
            "width": null,
            "min_width": null,
            "border": null,
            "align_items": null,
            "bottom": null,
            "_model_module": "@jupyter-widgets/base",
            "top": null,
            "grid_column": null,
            "overflow_y": null,
            "overflow_x": null,
            "grid_auto_flow": null,
            "grid_area": null,
            "grid_template_columns": null,
            "flex": null,
            "_model_name": "LayoutModel",
            "justify_items": null,
            "grid_row": null,
            "max_height": null,
            "align_content": null,
            "visibility": null,
            "align_self": null,
            "height": null,
            "min_height": null,
            "padding": null,
            "grid_auto_rows": null,
            "grid_gap": null,
            "max_width": null,
            "order": null,
            "_view_module_version": "1.2.0",
            "grid_template_areas": null,
            "object_position": null,
            "object_fit": null,
            "grid_auto_columns": null,
            "margin": null,
            "display": null,
            "left": null
          }
        },
        "51757650142a452fb085a7236e28e079": {
          "model_module": "@jupyter-widgets/controls",
          "model_name": "ProgressStyleModel",
          "model_module_version": "1.5.0",
          "state": {
            "_view_name": "StyleView",
            "_model_name": "ProgressStyleModel",
            "description_width": "",
            "_view_module": "@jupyter-widgets/base",
            "_model_module_version": "1.5.0",
            "_view_count": null,
            "_view_module_version": "1.2.0",
            "bar_color": null,
            "_model_module": "@jupyter-widgets/controls"
          }
        },
        "ae754c6574e0487fbf7652517a5770ba": {
          "model_module": "@jupyter-widgets/base",
          "model_name": "LayoutModel",
          "model_module_version": "1.2.0",
          "state": {
            "_view_name": "LayoutView",
            "grid_template_rows": null,
            "right": null,
            "justify_content": null,
            "_view_module": "@jupyter-widgets/base",
            "overflow": null,
            "_model_module_version": "1.2.0",
            "_view_count": null,
            "flex_flow": null,
            "width": null,
            "min_width": null,
            "border": null,
            "align_items": null,
            "bottom": null,
            "_model_module": "@jupyter-widgets/base",
            "top": null,
            "grid_column": null,
            "overflow_y": null,
            "overflow_x": null,
            "grid_auto_flow": null,
            "grid_area": null,
            "grid_template_columns": null,
            "flex": null,
            "_model_name": "LayoutModel",
            "justify_items": null,
            "grid_row": null,
            "max_height": null,
            "align_content": null,
            "visibility": null,
            "align_self": null,
            "height": null,
            "min_height": null,
            "padding": null,
            "grid_auto_rows": null,
            "grid_gap": null,
            "max_width": null,
            "order": null,
            "_view_module_version": "1.2.0",
            "grid_template_areas": null,
            "object_position": null,
            "object_fit": null,
            "grid_auto_columns": null,
            "margin": null,
            "display": null,
            "left": null
          }
        },
        "7c29ff7df7964287b01033c49ac9eea0": {
          "model_module": "@jupyter-widgets/controls",
          "model_name": "DescriptionStyleModel",
          "model_module_version": "1.5.0",
          "state": {
            "_view_name": "StyleView",
            "_model_name": "DescriptionStyleModel",
            "description_width": "",
            "_view_module": "@jupyter-widgets/base",
            "_model_module_version": "1.5.0",
            "_view_count": null,
            "_view_module_version": "1.2.0",
            "_model_module": "@jupyter-widgets/controls"
          }
        },
        "c94d162c52cf4e34a395faa959afa47d": {
          "model_module": "@jupyter-widgets/base",
          "model_name": "LayoutModel",
          "model_module_version": "1.2.0",
          "state": {
            "_view_name": "LayoutView",
            "grid_template_rows": null,
            "right": null,
            "justify_content": null,
            "_view_module": "@jupyter-widgets/base",
            "overflow": null,
            "_model_module_version": "1.2.0",
            "_view_count": null,
            "flex_flow": null,
            "width": null,
            "min_width": null,
            "border": null,
            "align_items": null,
            "bottom": null,
            "_model_module": "@jupyter-widgets/base",
            "top": null,
            "grid_column": null,
            "overflow_y": null,
            "overflow_x": null,
            "grid_auto_flow": null,
            "grid_area": null,
            "grid_template_columns": null,
            "flex": null,
            "_model_name": "LayoutModel",
            "justify_items": null,
            "grid_row": null,
            "max_height": null,
            "align_content": null,
            "visibility": null,
            "align_self": null,
            "height": null,
            "min_height": null,
            "padding": null,
            "grid_auto_rows": null,
            "grid_gap": null,
            "max_width": null,
            "order": null,
            "_view_module_version": "1.2.0",
            "grid_template_areas": null,
            "object_position": null,
            "object_fit": null,
            "grid_auto_columns": null,
            "margin": null,
            "display": null,
            "left": null
          }
        },
        "b79880df8bb143ca881ab74e063cc43f": {
          "model_module": "@jupyter-widgets/controls",
          "model_name": "HBoxModel",
          "model_module_version": "1.5.0",
          "state": {
            "_view_name": "HBoxView",
            "_dom_classes": [],
            "_model_name": "HBoxModel",
            "_view_module": "@jupyter-widgets/controls",
            "_model_module_version": "1.5.0",
            "_view_count": null,
            "_view_module_version": "1.5.0",
            "box_style": "",
            "layout": "IPY_MODEL_6308ad9684ec4fca9989b324b5e5a773",
            "_model_module": "@jupyter-widgets/controls",
            "children": [
              "IPY_MODEL_985f3677e27e4f418f4973542f14c255",
              "IPY_MODEL_bf5550ca895f4ce6a1c5e7dabeab0132",
              "IPY_MODEL_f9abc3ac0a6e45709b9c051973af8bc7"
            ]
          }
        },
        "6308ad9684ec4fca9989b324b5e5a773": {
          "model_module": "@jupyter-widgets/base",
          "model_name": "LayoutModel",
          "model_module_version": "1.2.0",
          "state": {
            "_view_name": "LayoutView",
            "grid_template_rows": null,
            "right": null,
            "justify_content": null,
            "_view_module": "@jupyter-widgets/base",
            "overflow": null,
            "_model_module_version": "1.2.0",
            "_view_count": null,
            "flex_flow": null,
            "width": null,
            "min_width": null,
            "border": null,
            "align_items": null,
            "bottom": null,
            "_model_module": "@jupyter-widgets/base",
            "top": null,
            "grid_column": null,
            "overflow_y": null,
            "overflow_x": null,
            "grid_auto_flow": null,
            "grid_area": null,
            "grid_template_columns": null,
            "flex": null,
            "_model_name": "LayoutModel",
            "justify_items": null,
            "grid_row": null,
            "max_height": null,
            "align_content": null,
            "visibility": null,
            "align_self": null,
            "height": null,
            "min_height": null,
            "padding": null,
            "grid_auto_rows": null,
            "grid_gap": null,
            "max_width": null,
            "order": null,
            "_view_module_version": "1.2.0",
            "grid_template_areas": null,
            "object_position": null,
            "object_fit": null,
            "grid_auto_columns": null,
            "margin": null,
            "display": null,
            "left": null
          }
        },
        "985f3677e27e4f418f4973542f14c255": {
          "model_module": "@jupyter-widgets/controls",
          "model_name": "HTMLModel",
          "model_module_version": "1.5.0",
          "state": {
            "_view_name": "HTMLView",
            "style": "IPY_MODEL_2f04f2352a164d4eb9914494c49aaafc",
            "_dom_classes": [],
            "description": "",
            "_model_name": "HTMLModel",
            "placeholder": "​",
            "_view_module": "@jupyter-widgets/controls",
            "_model_module_version": "1.5.0",
            "value": "Downloading: 100%",
            "_view_count": null,
            "_view_module_version": "1.5.0",
            "description_tooltip": null,
            "_model_module": "@jupyter-widgets/controls",
            "layout": "IPY_MODEL_8b5827ea35f94c37b5c09dde373dd933"
          }
        },
        "bf5550ca895f4ce6a1c5e7dabeab0132": {
          "model_module": "@jupyter-widgets/controls",
          "model_name": "FloatProgressModel",
          "model_module_version": "1.5.0",
          "state": {
            "_view_name": "ProgressView",
            "style": "IPY_MODEL_1cdd2e558121464e9e24e90a69209892",
            "_dom_classes": [],
            "description": "",
            "_model_name": "FloatProgressModel",
            "bar_style": "success",
            "max": 536063208,
            "_view_module": "@jupyter-widgets/controls",
            "_model_module_version": "1.5.0",
            "value": 536063208,
            "_view_count": null,
            "_view_module_version": "1.5.0",
            "orientation": "horizontal",
            "min": 0,
            "description_tooltip": null,
            "_model_module": "@jupyter-widgets/controls",
            "layout": "IPY_MODEL_fb9f9f52479944ecae1f6287e2040d4d"
          }
        },
        "f9abc3ac0a6e45709b9c051973af8bc7": {
          "model_module": "@jupyter-widgets/controls",
          "model_name": "HTMLModel",
          "model_module_version": "1.5.0",
          "state": {
            "_view_name": "HTMLView",
            "style": "IPY_MODEL_34dacf3b89784530871fba49cf0f0b45",
            "_dom_classes": [],
            "description": "",
            "_model_name": "HTMLModel",
            "placeholder": "​",
            "_view_module": "@jupyter-widgets/controls",
            "_model_module_version": "1.5.0",
            "value": " 511M/511M [00:16&lt;00:00, 33.4MB/s]",
            "_view_count": null,
            "_view_module_version": "1.5.0",
            "description_tooltip": null,
            "_model_module": "@jupyter-widgets/controls",
            "layout": "IPY_MODEL_a904dbc8bad4457aa8e30b17372d85d2"
          }
        },
        "2f04f2352a164d4eb9914494c49aaafc": {
          "model_module": "@jupyter-widgets/controls",
          "model_name": "DescriptionStyleModel",
          "model_module_version": "1.5.0",
          "state": {
            "_view_name": "StyleView",
            "_model_name": "DescriptionStyleModel",
            "description_width": "",
            "_view_module": "@jupyter-widgets/base",
            "_model_module_version": "1.5.0",
            "_view_count": null,
            "_view_module_version": "1.2.0",
            "_model_module": "@jupyter-widgets/controls"
          }
        },
        "8b5827ea35f94c37b5c09dde373dd933": {
          "model_module": "@jupyter-widgets/base",
          "model_name": "LayoutModel",
          "model_module_version": "1.2.0",
          "state": {
            "_view_name": "LayoutView",
            "grid_template_rows": null,
            "right": null,
            "justify_content": null,
            "_view_module": "@jupyter-widgets/base",
            "overflow": null,
            "_model_module_version": "1.2.0",
            "_view_count": null,
            "flex_flow": null,
            "width": null,
            "min_width": null,
            "border": null,
            "align_items": null,
            "bottom": null,
            "_model_module": "@jupyter-widgets/base",
            "top": null,
            "grid_column": null,
            "overflow_y": null,
            "overflow_x": null,
            "grid_auto_flow": null,
            "grid_area": null,
            "grid_template_columns": null,
            "flex": null,
            "_model_name": "LayoutModel",
            "justify_items": null,
            "grid_row": null,
            "max_height": null,
            "align_content": null,
            "visibility": null,
            "align_self": null,
            "height": null,
            "min_height": null,
            "padding": null,
            "grid_auto_rows": null,
            "grid_gap": null,
            "max_width": null,
            "order": null,
            "_view_module_version": "1.2.0",
            "grid_template_areas": null,
            "object_position": null,
            "object_fit": null,
            "grid_auto_columns": null,
            "margin": null,
            "display": null,
            "left": null
          }
        },
        "1cdd2e558121464e9e24e90a69209892": {
          "model_module": "@jupyter-widgets/controls",
          "model_name": "ProgressStyleModel",
          "model_module_version": "1.5.0",
          "state": {
            "_view_name": "StyleView",
            "_model_name": "ProgressStyleModel",
            "description_width": "",
            "_view_module": "@jupyter-widgets/base",
            "_model_module_version": "1.5.0",
            "_view_count": null,
            "_view_module_version": "1.2.0",
            "bar_color": null,
            "_model_module": "@jupyter-widgets/controls"
          }
        },
        "fb9f9f52479944ecae1f6287e2040d4d": {
          "model_module": "@jupyter-widgets/base",
          "model_name": "LayoutModel",
          "model_module_version": "1.2.0",
          "state": {
            "_view_name": "LayoutView",
            "grid_template_rows": null,
            "right": null,
            "justify_content": null,
            "_view_module": "@jupyter-widgets/base",
            "overflow": null,
            "_model_module_version": "1.2.0",
            "_view_count": null,
            "flex_flow": null,
            "width": null,
            "min_width": null,
            "border": null,
            "align_items": null,
            "bottom": null,
            "_model_module": "@jupyter-widgets/base",
            "top": null,
            "grid_column": null,
            "overflow_y": null,
            "overflow_x": null,
            "grid_auto_flow": null,
            "grid_area": null,
            "grid_template_columns": null,
            "flex": null,
            "_model_name": "LayoutModel",
            "justify_items": null,
            "grid_row": null,
            "max_height": null,
            "align_content": null,
            "visibility": null,
            "align_self": null,
            "height": null,
            "min_height": null,
            "padding": null,
            "grid_auto_rows": null,
            "grid_gap": null,
            "max_width": null,
            "order": null,
            "_view_module_version": "1.2.0",
            "grid_template_areas": null,
            "object_position": null,
            "object_fit": null,
            "grid_auto_columns": null,
            "margin": null,
            "display": null,
            "left": null
          }
        },
        "34dacf3b89784530871fba49cf0f0b45": {
          "model_module": "@jupyter-widgets/controls",
          "model_name": "DescriptionStyleModel",
          "model_module_version": "1.5.0",
          "state": {
            "_view_name": "StyleView",
            "_model_name": "DescriptionStyleModel",
            "description_width": "",
            "_view_module": "@jupyter-widgets/base",
            "_model_module_version": "1.5.0",
            "_view_count": null,
            "_view_module_version": "1.2.0",
            "_model_module": "@jupyter-widgets/controls"
          }
        },
        "a904dbc8bad4457aa8e30b17372d85d2": {
          "model_module": "@jupyter-widgets/base",
          "model_name": "LayoutModel",
          "model_module_version": "1.2.0",
          "state": {
            "_view_name": "LayoutView",
            "grid_template_rows": null,
            "right": null,
            "justify_content": null,
            "_view_module": "@jupyter-widgets/base",
            "overflow": null,
            "_model_module_version": "1.2.0",
            "_view_count": null,
            "flex_flow": null,
            "width": null,
            "min_width": null,
            "border": null,
            "align_items": null,
            "bottom": null,
            "_model_module": "@jupyter-widgets/base",
            "top": null,
            "grid_column": null,
            "overflow_y": null,
            "overflow_x": null,
            "grid_auto_flow": null,
            "grid_area": null,
            "grid_template_columns": null,
            "flex": null,
            "_model_name": "LayoutModel",
            "justify_items": null,
            "grid_row": null,
            "max_height": null,
            "align_content": null,
            "visibility": null,
            "align_self": null,
            "height": null,
            "min_height": null,
            "padding": null,
            "grid_auto_rows": null,
            "grid_gap": null,
            "max_width": null,
            "order": null,
            "_view_module_version": "1.2.0",
            "grid_template_areas": null,
            "object_position": null,
            "object_fit": null,
            "grid_auto_columns": null,
            "margin": null,
            "display": null,
            "left": null
          }
        }
      }
    }
  },
  "cells": [
    {
      "cell_type": "markdown",
      "metadata": {
        "id": "view-in-github",
        "colab_type": "text"
      },
      "source": [
        "<a href=\"https://colab.research.google.com/github/Prakhar314/COL764-Project/blob/main/pointwise.ipynb\" target=\"_parent\"><img src=\"https://colab.research.google.com/assets/colab-badge.svg\" alt=\"Open In Colab\"/></a>"
      ]
    },
    {
      "cell_type": "markdown",
      "metadata": {
        "id": "79zo_E1ADpTU"
      },
      "source": [
        "### Install Dependencies"
      ]
    },
    {
      "cell_type": "code",
      "metadata": {
        "colab": {
          "base_uri": "https://localhost:8080/"
        },
        "id": "ht6Ah8MrMDKi",
        "outputId": "a661179e-fa24-4b7a-fd8d-fd3f6f526b34"
      },
      "source": [
        "!pip install tensorflow-addons transformers"
      ],
      "execution_count": 1,
      "outputs": [
        {
          "output_type": "stream",
          "name": "stdout",
          "text": [
            "Collecting tensorflow-addons\n",
            "  Downloading tensorflow_addons-0.15.0-cp37-cp37m-manylinux_2_12_x86_64.manylinux2010_x86_64.whl (1.1 MB)\n",
            "\u001b[K     |████████████████████████████████| 1.1 MB 5.1 MB/s \n",
            "\u001b[?25hCollecting transformers\n",
            "  Downloading transformers-4.12.5-py3-none-any.whl (3.1 MB)\n",
            "\u001b[K     |████████████████████████████████| 3.1 MB 33.8 MB/s \n",
            "\u001b[?25hRequirement already satisfied: typeguard>=2.7 in /usr/local/lib/python3.7/dist-packages (from tensorflow-addons) (2.7.1)\n",
            "Requirement already satisfied: numpy>=1.17 in /usr/local/lib/python3.7/dist-packages (from transformers) (1.19.5)\n",
            "Collecting huggingface-hub<1.0,>=0.1.0\n",
            "  Downloading huggingface_hub-0.1.2-py3-none-any.whl (59 kB)\n",
            "\u001b[K     |████████████████████████████████| 59 kB 6.5 MB/s \n",
            "\u001b[?25hRequirement already satisfied: importlib-metadata in /usr/local/lib/python3.7/dist-packages (from transformers) (4.8.2)\n",
            "Requirement already satisfied: filelock in /usr/local/lib/python3.7/dist-packages (from transformers) (3.4.0)\n",
            "Collecting tokenizers<0.11,>=0.10.1\n",
            "  Downloading tokenizers-0.10.3-cp37-cp37m-manylinux_2_5_x86_64.manylinux1_x86_64.manylinux_2_12_x86_64.manylinux2010_x86_64.whl (3.3 MB)\n",
            "\u001b[K     |████████████████████████████████| 3.3 MB 37.7 MB/s \n",
            "\u001b[?25hCollecting sacremoses\n",
            "  Downloading sacremoses-0.0.46-py3-none-any.whl (895 kB)\n",
            "\u001b[K     |████████████████████████████████| 895 kB 46.3 MB/s \n",
            "\u001b[?25hCollecting pyyaml>=5.1\n",
            "  Downloading PyYAML-6.0-cp37-cp37m-manylinux_2_5_x86_64.manylinux1_x86_64.manylinux_2_12_x86_64.manylinux2010_x86_64.whl (596 kB)\n",
            "\u001b[K     |████████████████████████████████| 596 kB 48.8 MB/s \n",
            "\u001b[?25hRequirement already satisfied: packaging>=20.0 in /usr/local/lib/python3.7/dist-packages (from transformers) (21.3)\n",
            "Requirement already satisfied: requests in /usr/local/lib/python3.7/dist-packages (from transformers) (2.23.0)\n",
            "Requirement already satisfied: regex!=2019.12.17 in /usr/local/lib/python3.7/dist-packages (from transformers) (2019.12.20)\n",
            "Requirement already satisfied: tqdm>=4.27 in /usr/local/lib/python3.7/dist-packages (from transformers) (4.62.3)\n",
            "Requirement already satisfied: typing-extensions>=3.7.4.3 in /usr/local/lib/python3.7/dist-packages (from huggingface-hub<1.0,>=0.1.0->transformers) (3.10.0.2)\n",
            "Requirement already satisfied: pyparsing!=3.0.5,>=2.0.2 in /usr/local/lib/python3.7/dist-packages (from packaging>=20.0->transformers) (3.0.6)\n",
            "Requirement already satisfied: zipp>=0.5 in /usr/local/lib/python3.7/dist-packages (from importlib-metadata->transformers) (3.6.0)\n",
            "Requirement already satisfied: idna<3,>=2.5 in /usr/local/lib/python3.7/dist-packages (from requests->transformers) (2.10)\n",
            "Requirement already satisfied: urllib3!=1.25.0,!=1.25.1,<1.26,>=1.21.1 in /usr/local/lib/python3.7/dist-packages (from requests->transformers) (1.24.3)\n",
            "Requirement already satisfied: certifi>=2017.4.17 in /usr/local/lib/python3.7/dist-packages (from requests->transformers) (2021.10.8)\n",
            "Requirement already satisfied: chardet<4,>=3.0.2 in /usr/local/lib/python3.7/dist-packages (from requests->transformers) (3.0.4)\n",
            "Requirement already satisfied: joblib in /usr/local/lib/python3.7/dist-packages (from sacremoses->transformers) (1.1.0)\n",
            "Requirement already satisfied: six in /usr/local/lib/python3.7/dist-packages (from sacremoses->transformers) (1.15.0)\n",
            "Requirement already satisfied: click in /usr/local/lib/python3.7/dist-packages (from sacremoses->transformers) (7.1.2)\n",
            "Installing collected packages: pyyaml, tokenizers, sacremoses, huggingface-hub, transformers, tensorflow-addons\n",
            "  Attempting uninstall: pyyaml\n",
            "    Found existing installation: PyYAML 3.13\n",
            "    Uninstalling PyYAML-3.13:\n",
            "      Successfully uninstalled PyYAML-3.13\n",
            "Successfully installed huggingface-hub-0.1.2 pyyaml-6.0 sacremoses-0.0.46 tensorflow-addons-0.15.0 tokenizers-0.10.3 transformers-4.12.5\n"
          ]
        }
      ]
    },
    {
      "cell_type": "markdown",
      "metadata": {
        "id": "yRmpBTqqDt1L"
      },
      "source": [
        "### Load Data"
      ]
    },
    {
      "cell_type": "markdown",
      "metadata": {
        "id": "RSmryDWED8GH"
      },
      "source": [
        "#### Import libraries"
      ]
    },
    {
      "cell_type": "code",
      "metadata": {
        "id": "eMCN2eHkNQlG"
      },
      "source": [
        "import gc\n",
        "import random\n",
        "import os\n",
        "\n",
        "import pandas as pd\n",
        "import numpy as np\n",
        "from sklearn.utils import class_weight\n",
        "from sklearn.model_selection import train_test_split\n",
        "import transformers\n",
        "from transformers import BertTokenizer, TFBertModel, BertConfig\n",
        "import tensorflow as tf\n",
        "import tensorflow_addons as tfa"
      ],
      "execution_count": 2,
      "outputs": []
    },
    {
      "cell_type": "code",
      "metadata": {
        "id": "XnL24nxgFBZl"
      },
      "source": [
        "random.seed(0)\n",
        "np.random.seed(0)\n",
        "tf.random.set_seed(0)"
      ],
      "execution_count": 3,
      "outputs": []
    },
    {
      "cell_type": "markdown",
      "metadata": {
        "id": "aUiED5I_DzrT"
      },
      "source": [
        "#### Attach drive and unpack"
      ]
    },
    {
      "cell_type": "code",
      "metadata": {
        "colab": {
          "base_uri": "https://localhost:8080/"
        },
        "id": "4nqdP-dfkcR4",
        "outputId": "aab067ab-1c5e-41fd-9dbd-d7639cd2cf05"
      },
      "source": [
        "from google.colab import drive\n",
        "drive.mount('/content/gdrive')"
      ],
      "execution_count": 4,
      "outputs": [
        {
          "output_type": "stream",
          "name": "stdout",
          "text": [
            "Mounted at /content/gdrive\n"
          ]
        }
      ]
    },
    {
      "cell_type": "code",
      "metadata": {
        "id": "XU5ddgDQ7BHa"
      },
      "source": [
        "# !rm /content/gdrive/MyDrive/col764/pointwise_best_model.h5"
      ],
      "execution_count": 5,
      "outputs": []
    },
    {
      "cell_type": "code",
      "metadata": {
        "id": "nL9d-zDCL1Cn"
      },
      "source": [
        "!tar -xf /content/gdrive/MyDrive/col764/collectionandqueries.tar.gz"
      ],
      "execution_count": 6,
      "outputs": []
    },
    {
      "cell_type": "code",
      "metadata": {
        "id": "8VzNHdQHjqRz"
      },
      "source": [
        "!tar -xf /content/gdrive/MyDrive/col764/top1000.dev.tar.gz"
      ],
      "execution_count": 7,
      "outputs": []
    },
    {
      "cell_type": "code",
      "metadata": {
        "id": "hbND7lDwMpaY",
        "colab": {
          "base_uri": "https://localhost:8080/"
        },
        "outputId": "15115f91-f659-400b-f71b-79833eb70188"
      },
      "source": [
        "!ls -alh"
      ],
      "execution_count": 8,
      "outputs": [
        {
          "output_type": "stream",
          "name": "stdout",
          "text": [
            "total 5.4G\n",
            "drwxr-xr-x 1 root    root    4.0K Nov 21 14:14 .\n",
            "drwxr-xr-x 1 root    root    4.0K Nov 21 14:09 ..\n",
            "-rwxrwxrwx 1    1000    1000 2.9G Nov 13  2018 collection.tsv\n",
            "drwxr-xr-x 4 root    root    4.0K Nov 18 14:35 .config\n",
            "drwx------ 5 root    root    4.0K Nov 21 14:13 gdrive\n",
            "-rwxrwxrwx 1    1000    1000 140K Jan 22  2019 qrels.dev.small.tsv\n",
            "-rwxrwxrwx 1    1000    1000  11M Nov 28  2018 qrels.train.tsv\n",
            "-rw-rw-r-- 1    1000    1000 284K May  2  2019 queries.dev.small.tsv\n",
            "-rwxrwxrwx 1    1000    1000 4.3M Nov 13  2018 queries.dev.tsv\n",
            "-rw-rw-r-- 1    1000    1000 275K May  2  2019 queries.eval.small.tsv\n",
            "-rwxrwxrwx 1    1000    1000 4.3M Nov 13  2018 queries.eval.tsv\n",
            "-rwxrwxrwx 1    1000    1000  34M Nov 13  2018 queries.train.tsv\n",
            "drwxr-xr-x 1 root    root    4.0K Nov 18 14:36 sample_data\n",
            "-rwxrwx--- 1 8045835 1049089 2.5G Jul 17  2019 top1000.dev\n"
          ]
        }
      ]
    },
    {
      "cell_type": "code",
      "metadata": {
        "colab": {
          "base_uri": "https://localhost:8080/"
        },
        "id": "F5VafgNymJTo",
        "outputId": "202e8406-f674-40ad-f4f9-72aad9b44376"
      },
      "source": [
        "!wget https://msmarco.blob.core.windows.net/msmarcoranking/qrels.dev.tsv"
      ],
      "execution_count": 9,
      "outputs": [
        {
          "output_type": "stream",
          "name": "stdout",
          "text": [
            "--2021-11-21 14:15:44--  https://msmarco.blob.core.windows.net/msmarcoranking/qrels.dev.tsv\n",
            "Resolving msmarco.blob.core.windows.net (msmarco.blob.core.windows.net)... 20.150.34.4\n",
            "Connecting to msmarco.blob.core.windows.net (msmarco.blob.core.windows.net)|20.150.34.4|:443... connected.\n",
            "HTTP request sent, awaiting response... 200 OK\n",
            "Length: 1201626 (1.1M) [text/tab-separated-values]\n",
            "Saving to: ‘qrels.dev.tsv’\n",
            "\n",
            "qrels.dev.tsv       100%[===================>]   1.15M  3.71MB/s    in 0.3s    \n",
            "\n",
            "2021-11-21 14:15:46 (3.71 MB/s) - ‘qrels.dev.tsv’ saved [1201626/1201626]\n",
            "\n"
          ]
        }
      ]
    },
    {
      "cell_type": "markdown",
      "metadata": {
        "id": "c2HC62o7EEOS"
      },
      "source": [
        "#### Read data"
      ]
    },
    {
      "cell_type": "code",
      "metadata": {
        "id": "sf9ZOl7UJWXr"
      },
      "source": [
        "root_dir = \"/content/gdrive/MyDrive/col764/\""
      ],
      "execution_count": 10,
      "outputs": []
    },
    {
      "cell_type": "code",
      "metadata": {
        "id": "tZO67YfnOrDe"
      },
      "source": [
        "qrels = pd.read_csv('qrels.dev.tsv',sep='\\t',header=None)"
      ],
      "execution_count": 11,
      "outputs": []
    },
    {
      "cell_type": "code",
      "metadata": {
        "id": "ZeML2VPEsO3S",
        "colab": {
          "base_uri": "https://localhost:8080/",
          "height": 206
        },
        "outputId": "fd8c2b25-1d0b-4be6-838f-cb41f6e0a878"
      },
      "source": [
        "qrels.head(5)"
      ],
      "execution_count": 12,
      "outputs": [
        {
          "output_type": "execute_result",
          "data": {
            "text/html": [
              "<div>\n",
              "<style scoped>\n",
              "    .dataframe tbody tr th:only-of-type {\n",
              "        vertical-align: middle;\n",
              "    }\n",
              "\n",
              "    .dataframe tbody tr th {\n",
              "        vertical-align: top;\n",
              "    }\n",
              "\n",
              "    .dataframe thead th {\n",
              "        text-align: right;\n",
              "    }\n",
              "</style>\n",
              "<table border=\"1\" class=\"dataframe\">\n",
              "  <thead>\n",
              "    <tr style=\"text-align: right;\">\n",
              "      <th></th>\n",
              "      <th>0</th>\n",
              "      <th>1</th>\n",
              "      <th>2</th>\n",
              "      <th>3</th>\n",
              "    </tr>\n",
              "  </thead>\n",
              "  <tbody>\n",
              "    <tr>\n",
              "      <th>0</th>\n",
              "      <td>1102432</td>\n",
              "      <td>0</td>\n",
              "      <td>2026790</td>\n",
              "      <td>1</td>\n",
              "    </tr>\n",
              "    <tr>\n",
              "      <th>1</th>\n",
              "      <td>1102431</td>\n",
              "      <td>0</td>\n",
              "      <td>7066866</td>\n",
              "      <td>1</td>\n",
              "    </tr>\n",
              "    <tr>\n",
              "      <th>2</th>\n",
              "      <td>1102431</td>\n",
              "      <td>0</td>\n",
              "      <td>7066867</td>\n",
              "      <td>1</td>\n",
              "    </tr>\n",
              "    <tr>\n",
              "      <th>3</th>\n",
              "      <td>1090282</td>\n",
              "      <td>0</td>\n",
              "      <td>7066900</td>\n",
              "      <td>1</td>\n",
              "    </tr>\n",
              "    <tr>\n",
              "      <th>4</th>\n",
              "      <td>39449</td>\n",
              "      <td>0</td>\n",
              "      <td>7066905</td>\n",
              "      <td>1</td>\n",
              "    </tr>\n",
              "  </tbody>\n",
              "</table>\n",
              "</div>"
            ],
            "text/plain": [
              "         0  1        2  3\n",
              "0  1102432  0  2026790  1\n",
              "1  1102431  0  7066866  1\n",
              "2  1102431  0  7066867  1\n",
              "3  1090282  0  7066900  1\n",
              "4    39449  0  7066905  1"
            ]
          },
          "metadata": {},
          "execution_count": 12
        }
      ]
    },
    {
      "cell_type": "code",
      "metadata": {
        "id": "NymwwYDIokb-",
        "colab": {
          "base_uri": "https://localhost:8080/",
          "height": 423
        },
        "outputId": "3c0363bc-0453-4258-f28d-1c0271932fe0"
      },
      "source": [
        "top1000 = pd.read_csv('top1000.dev',sep='\\t',header=None)\n",
        "top1000"
      ],
      "execution_count": 13,
      "outputs": [
        {
          "output_type": "execute_result",
          "data": {
            "text/html": [
              "<div>\n",
              "<style scoped>\n",
              "    .dataframe tbody tr th:only-of-type {\n",
              "        vertical-align: middle;\n",
              "    }\n",
              "\n",
              "    .dataframe tbody tr th {\n",
              "        vertical-align: top;\n",
              "    }\n",
              "\n",
              "    .dataframe thead th {\n",
              "        text-align: right;\n",
              "    }\n",
              "</style>\n",
              "<table border=\"1\" class=\"dataframe\">\n",
              "  <thead>\n",
              "    <tr style=\"text-align: right;\">\n",
              "      <th></th>\n",
              "      <th>0</th>\n",
              "      <th>1</th>\n",
              "      <th>2</th>\n",
              "      <th>3</th>\n",
              "    </tr>\n",
              "  </thead>\n",
              "  <tbody>\n",
              "    <tr>\n",
              "      <th>0</th>\n",
              "      <td>188714</td>\n",
              "      <td>1000052</td>\n",
              "      <td>foods and supplements to lower blood sugar</td>\n",
              "      <td>Watch portion sizes: ■ Even healthy foods will...</td>\n",
              "    </tr>\n",
              "    <tr>\n",
              "      <th>1</th>\n",
              "      <td>1082792</td>\n",
              "      <td>1000084</td>\n",
              "      <td>what does the golgi apparatus do to the protei...</td>\n",
              "      <td>Start studying Bonding, Carbs, Proteins, Lipid...</td>\n",
              "    </tr>\n",
              "    <tr>\n",
              "      <th>2</th>\n",
              "      <td>995526</td>\n",
              "      <td>1000094</td>\n",
              "      <td>where is the federal penitentiary in ind</td>\n",
              "      <td>It takes THOUSANDS of Macy's associates to bri...</td>\n",
              "    </tr>\n",
              "    <tr>\n",
              "      <th>3</th>\n",
              "      <td>199776</td>\n",
              "      <td>1000115</td>\n",
              "      <td>health benefits of eating vegetarian</td>\n",
              "      <td>The good news is that you will discover what g...</td>\n",
              "    </tr>\n",
              "    <tr>\n",
              "      <th>4</th>\n",
              "      <td>660957</td>\n",
              "      <td>1000115</td>\n",
              "      <td>what foods are good if you have gout?</td>\n",
              "      <td>The good news is that you will discover what g...</td>\n",
              "    </tr>\n",
              "    <tr>\n",
              "      <th>...</th>\n",
              "      <td>...</td>\n",
              "      <td>...</td>\n",
              "      <td>...</td>\n",
              "      <td>...</td>\n",
              "    </tr>\n",
              "    <tr>\n",
              "      <th>6668962</th>\n",
              "      <td>679360</td>\n",
              "      <td>999933</td>\n",
              "      <td>what is a corporate bylaws</td>\n",
              "      <td>Corporate Records for Nonprofit Corporations. ...</td>\n",
              "    </tr>\n",
              "    <tr>\n",
              "      <th>6668963</th>\n",
              "      <td>36388</td>\n",
              "      <td>999956</td>\n",
              "      <td>average family savings account</td>\n",
              "      <td>When it comes to average retirement savings st...</td>\n",
              "    </tr>\n",
              "    <tr>\n",
              "      <th>6668964</th>\n",
              "      <td>43781</td>\n",
              "      <td>999956</td>\n",
              "      <td>average savings per age group</td>\n",
              "      <td>When it comes to average retirement savings st...</td>\n",
              "    </tr>\n",
              "    <tr>\n",
              "      <th>6668965</th>\n",
              "      <td>28442</td>\n",
              "      <td>999956</td>\n",
              "      <td>at what age does the average person retire</td>\n",
              "      <td>When it comes to average retirement savings st...</td>\n",
              "    </tr>\n",
              "    <tr>\n",
              "      <th>6668966</th>\n",
              "      <td>36473</td>\n",
              "      <td>999956</td>\n",
              "      <td>average fifty year old retirement savings</td>\n",
              "      <td>When it comes to average retirement savings st...</td>\n",
              "    </tr>\n",
              "  </tbody>\n",
              "</table>\n",
              "<p>6668967 rows × 4 columns</p>\n",
              "</div>"
            ],
            "text/plain": [
              "               0  ...                                                  3\n",
              "0         188714  ...  Watch portion sizes: ■ Even healthy foods will...\n",
              "1        1082792  ...  Start studying Bonding, Carbs, Proteins, Lipid...\n",
              "2         995526  ...  It takes THOUSANDS of Macy's associates to bri...\n",
              "3         199776  ...  The good news is that you will discover what g...\n",
              "4         660957  ...  The good news is that you will discover what g...\n",
              "...          ...  ...                                                ...\n",
              "6668962   679360  ...  Corporate Records for Nonprofit Corporations. ...\n",
              "6668963    36388  ...  When it comes to average retirement savings st...\n",
              "6668964    43781  ...  When it comes to average retirement savings st...\n",
              "6668965    28442  ...  When it comes to average retirement savings st...\n",
              "6668966    36473  ...  When it comes to average retirement savings st...\n",
              "\n",
              "[6668967 rows x 4 columns]"
            ]
          },
          "metadata": {},
          "execution_count": 13
        }
      ]
    },
    {
      "cell_type": "code",
      "metadata": {
        "colab": {
          "base_uri": "https://localhost:8080/",
          "height": 423
        },
        "id": "PFC29Z0AVI-w",
        "outputId": "dc3c30a7-2302-48cd-f285-a42a68ba94e4"
      },
      "source": [
        "top1000 = top1000.sort_values(by=0).reset_index(drop=True)\n",
        "top1000"
      ],
      "execution_count": 14,
      "outputs": [
        {
          "output_type": "execute_result",
          "data": {
            "text/html": [
              "<div>\n",
              "<style scoped>\n",
              "    .dataframe tbody tr th:only-of-type {\n",
              "        vertical-align: middle;\n",
              "    }\n",
              "\n",
              "    .dataframe tbody tr th {\n",
              "        vertical-align: top;\n",
              "    }\n",
              "\n",
              "    .dataframe thead th {\n",
              "        text-align: right;\n",
              "    }\n",
              "</style>\n",
              "<table border=\"1\" class=\"dataframe\">\n",
              "  <thead>\n",
              "    <tr style=\"text-align: right;\">\n",
              "      <th></th>\n",
              "      <th>0</th>\n",
              "      <th>1</th>\n",
              "      <th>2</th>\n",
              "      <th>3</th>\n",
              "    </tr>\n",
              "  </thead>\n",
              "  <tbody>\n",
              "    <tr>\n",
              "      <th>0</th>\n",
              "      <td>2</td>\n",
              "      <td>2700543</td>\n",
              "      <td>Androgen receptor define</td>\n",
              "      <td>Structure-function of the glucagon receptor fa...</td>\n",
              "    </tr>\n",
              "    <tr>\n",
              "      <th>1</th>\n",
              "      <td>2</td>\n",
              "      <td>2726978</td>\n",
              "      <td>Androgen receptor define</td>\n",
              "      <td>In pharmacology, an antagonist binds to the re...</td>\n",
              "    </tr>\n",
              "    <tr>\n",
              "      <th>2</th>\n",
              "      <td>2</td>\n",
              "      <td>2726974</td>\n",
              "      <td>Androgen receptor define</td>\n",
              "      <td>A drug antagonist is any drug that binds with ...</td>\n",
              "    </tr>\n",
              "    <tr>\n",
              "      <th>3</th>\n",
              "      <td>2</td>\n",
              "      <td>3046559</td>\n",
              "      <td>Androgen receptor define</td>\n",
              "      <td>A neurotransmitter receptor located in the pre...</td>\n",
              "    </tr>\n",
              "    <tr>\n",
              "      <th>4</th>\n",
              "      <td>2</td>\n",
              "      <td>1817960</td>\n",
              "      <td>Androgen receptor define</td>\n",
              "      <td>Effect of Beta2 Receptor Activation on Smooth ...</td>\n",
              "    </tr>\n",
              "    <tr>\n",
              "      <th>...</th>\n",
              "      <td>...</td>\n",
              "      <td>...</td>\n",
              "      <td>...</td>\n",
              "      <td>...</td>\n",
              "    </tr>\n",
              "    <tr>\n",
              "      <th>6668962</th>\n",
              "      <td>1102400</td>\n",
              "      <td>991048</td>\n",
              "      <td>why do bears hibernate</td>\n",
              "      <td>Hibernate mode uses the hiberfil.sys file to s...</td>\n",
              "    </tr>\n",
              "    <tr>\n",
              "      <th>6668963</th>\n",
              "      <td>1102400</td>\n",
              "      <td>5714166</td>\n",
              "      <td>why do bears hibernate</td>\n",
              "      <td>Black Bear. Though rarely seen by most New Yor...</td>\n",
              "    </tr>\n",
              "    <tr>\n",
              "      <th>6668964</th>\n",
              "      <td>1102400</td>\n",
              "      <td>7225717</td>\n",
              "      <td>why do bears hibernate</td>\n",
              "      <td>The gummy bears grew in all of the. liquids, e...</td>\n",
              "    </tr>\n",
              "    <tr>\n",
              "      <th>6668965</th>\n",
              "      <td>1102400</td>\n",
              "      <td>260344</td>\n",
              "      <td>why do bears hibernate</td>\n",
              "      <td>In Asia, a large tiger might sometimes kill an...</td>\n",
              "    </tr>\n",
              "    <tr>\n",
              "      <th>6668966</th>\n",
              "      <td>1102400</td>\n",
              "      <td>550524</td>\n",
              "      <td>why do bears hibernate</td>\n",
              "      <td>Panda Bears do not live in snow climate. Unlik...</td>\n",
              "    </tr>\n",
              "  </tbody>\n",
              "</table>\n",
              "<p>6668967 rows × 4 columns</p>\n",
              "</div>"
            ],
            "text/plain": [
              "               0  ...                                                  3\n",
              "0              2  ...  Structure-function of the glucagon receptor fa...\n",
              "1              2  ...  In pharmacology, an antagonist binds to the re...\n",
              "2              2  ...  A drug antagonist is any drug that binds with ...\n",
              "3              2  ...  A neurotransmitter receptor located in the pre...\n",
              "4              2  ...  Effect of Beta2 Receptor Activation on Smooth ...\n",
              "...          ...  ...                                                ...\n",
              "6668962  1102400  ...  Hibernate mode uses the hiberfil.sys file to s...\n",
              "6668963  1102400  ...  Black Bear. Though rarely seen by most New Yor...\n",
              "6668964  1102400  ...  The gummy bears grew in all of the. liquids, e...\n",
              "6668965  1102400  ...  In Asia, a large tiger might sometimes kill an...\n",
              "6668966  1102400  ...  Panda Bears do not live in snow climate. Unlik...\n",
              "\n",
              "[6668967 rows x 4 columns]"
            ]
          },
          "metadata": {},
          "execution_count": 14
        }
      ]
    },
    {
      "cell_type": "markdown",
      "metadata": {
        "id": "XtGfQ-XP121H"
      },
      "source": [
        "Distribution over tokens"
      ]
    },
    {
      "cell_type": "code",
      "metadata": {
        "colab": {
          "base_uri": "https://localhost:8080/",
          "height": 294
        },
        "id": "oHbuW2s115u_",
        "outputId": "983ac564-a7e6-4783-d406-e5c6e8a03b80"
      },
      "source": [
        "pd.DataFrame(top1000[3].unique()).apply(lambda x:len(x[0].split()),axis=1).hist()"
      ],
      "execution_count": 15,
      "outputs": [
        {
          "output_type": "execute_result",
          "data": {
            "text/plain": [
              "<matplotlib.axes._subplots.AxesSubplot at 0x7fd85b213ad0>"
            ]
          },
          "metadata": {},
          "execution_count": 15
        },
        {
          "output_type": "display_data",
          "data": {
            "image/png": "[encoded data removed]",
            "text/plain": [
              "<Figure size 432x288 with 1 Axes>"
            ]
          },
          "metadata": {
            "needs_background": "light"
          }
        }
      ]
    },
    {
      "cell_type": "code",
      "metadata": {
        "colab": {
          "base_uri": "https://localhost:8080/",
          "height": 283
        },
        "id": "ENKwjMu22xQn",
        "outputId": "7832d5bf-6e78-4f42-c1d4-dd38265957ac"
      },
      "source": [
        "pd.DataFrame(top1000[2].unique()).apply(lambda x:len(x[0].split()),axis=1).hist()"
      ],
      "execution_count": 16,
      "outputs": [
        {
          "output_type": "execute_result",
          "data": {
            "text/plain": [
              "<matplotlib.axes._subplots.AxesSubplot at 0x7fd871d9bf50>"
            ]
          },
          "metadata": {},
          "execution_count": 16
        },
        {
          "output_type": "display_data",
          "data": {
            "image/png": "[encoded data removed]",
            "text/plain": [
              "<Figure size 432x288 with 1 Axes>"
            ]
          },
          "metadata": {
            "needs_background": "light"
          }
        }
      ]
    },
    {
      "cell_type": "markdown",
      "metadata": {
        "id": "L0kwJ5HAE2bE"
      },
      "source": [
        "### Preprocessing"
      ]
    },
    {
      "cell_type": "markdown",
      "metadata": {
        "id": "yTn6ictJHTKu"
      },
      "source": [
        "Set train set size (number of query passage pairs)"
      ]
    },
    {
      "cell_type": "code",
      "metadata": {
        "id": "VxRywptC6GYQ"
      },
      "source": [
        "bert_model_name = 'bert-base-uncased'\n",
        "passage_per_query = 50\n",
        "num_queries = 100"
      ],
      "execution_count": null,
      "outputs": []
    },
    {
      "cell_type": "code",
      "metadata": {
        "id": "yCI_0Af6uGGf",
        "colab": {
          "base_uri": "https://localhost:8080/",
          "height": 145,
          "referenced_widgets": [
            "dd22a7522ec34206aed8c9471ceea373",
            "7caed0c01c9848838b48466f5735d3e7",
            "60a52d91da284dbfb0883691fe2d7e57",
            "0d095597dadd4c6eb8640fb57be93d82",
            "fe51fe3de675465d960fb195bcaa4c39",
            "cc11050b4dde4f508714d472fb55aeef",
            "b23b539c59ee4f11bb7bce06cfe334d4",
            "8599bea35c1d4e39ab3d0094ae22d841",
            "51c5547f3bbb4b41b0f264f51475561d",
            "4b268ddf9492434db9c6f955ce38b313",
            "ca947b58bda746748f61dd28a96fbbed",
            "84200045f5de4c1f8d9c454c50e8087b",
            "b4a549295cde4c378c2802168b13c3c8",
            "2df8502b4aad4ed5a6dbcfde141f1f91",
            "e365cf9edde943cea3bb1b2bc277360b",
            "64535f2ae4ac40d09c6d53641674978f",
            "73f804a9eb9a44e6a7cf1a801e28b092",
            "78137af479574eec86ac4b4f67e836dd",
            "1dafa5801a0d4544b4eaae7a4a1e5e90",
            "57a984cef8e842cb8577a4589d072e51",
            "19453742061a4c94b680915d7392ecbb",
            "356c935b5c7240d3ad7e989f0e7c54d1",
            "936b312b8ce441d6947335ed3c9c99fb",
            "7acba0cf5a054e75874710c48460a351",
            "d595d141ce4d46fcbf840bb3382be0a3",
            "4d2bd07e785b42cb915cfed5789321c0",
            "1c194b10aaac44f0ab33dda24e446329",
            "140fa42f6133498c98dc12d642b08335",
            "a495bfe8fa0a4032866ec26fac7c1b57",
            "69417d5967e84f4e882825f91c6583ff",
            "7886e1c91ff64243bf9792f24dc0e5ed",
            "f491b43c6c6c46babd7da4dd6f548ffb",
            "aa7daefabb2a4db8ab5a96da1a2931eb",
            "39207383b17a485a8ead4f335081a1e3",
            "cf82c993e74c48a8a1b27d438bac2b7f",
            "de5b83afa2e84bdcb6d0d921a7413c4f",
            "36ecb28dbdd64fd089093aa7aef412f6",
            "bd162c034b3f405286a3f1281fa4a525",
            "d1db28f796d24ae6968a9d617e986143",
            "089a1a5d639e4643a6d493aff47f4132",
            "51757650142a452fb085a7236e28e079",
            "ae754c6574e0487fbf7652517a5770ba",
            "7c29ff7df7964287b01033c49ac9eea0",
            "c94d162c52cf4e34a395faa959afa47d"
          ]
        },
        "outputId": "c2b6580c-63d8-4e21-a553-22269fd48199"
      },
      "source": [
        "tokenizer = BertTokenizer.from_pretrained(bert_model_name)"
      ],
      "execution_count": null,
      "outputs": [
        {
          "output_type": "display_data",
          "data": {
            "application/vnd.jupyter.widget-view+json": {
              "model_id": "dd22a7522ec34206aed8c9471ceea373",
              "version_minor": 0,
              "version_major": 2
            },
            "text/plain": [
              "Downloading:   0%|          | 0.00/226k [00:00<?, ?B/s]"
            ]
          },
          "metadata": {}
        },
        {
          "output_type": "display_data",
          "data": {
            "application/vnd.jupyter.widget-view+json": {
              "model_id": "84200045f5de4c1f8d9c454c50e8087b",
              "version_minor": 0,
              "version_major": 2
            },
            "text/plain": [
              "Downloading:   0%|          | 0.00/28.0 [00:00<?, ?B/s]"
            ]
          },
          "metadata": {}
        },
        {
          "output_type": "display_data",
          "data": {
            "application/vnd.jupyter.widget-view+json": {
              "model_id": "936b312b8ce441d6947335ed3c9c99fb",
              "version_minor": 0,
              "version_major": 2
            },
            "text/plain": [
              "Downloading:   0%|          | 0.00/455k [00:00<?, ?B/s]"
            ]
          },
          "metadata": {}
        },
        {
          "output_type": "display_data",
          "data": {
            "application/vnd.jupyter.widget-view+json": {
              "model_id": "39207383b17a485a8ead4f335081a1e3",
              "version_minor": 0,
              "version_major": 2
            },
            "text/plain": [
              "Downloading:   0%|          | 0.00/570 [00:00<?, ?B/s]"
            ]
          },
          "metadata": {}
        }
      ]
    },
    {
      "cell_type": "code",
      "metadata": {
        "colab": {
          "base_uri": "https://localhost:8080/"
        },
        "id": "L5jb33LaMFjd",
        "outputId": "79fe8466-23ad-4f94-94de-9fbb86161db3"
      },
      "source": [
        "tokenizer.save_pretrained('./bert-tokenizer/')"
      ],
      "execution_count": null,
      "outputs": [
        {
          "output_type": "execute_result",
          "data": {
            "text/plain": [
              "('./bert-tokenizer/tokenizer_config.json',\n",
              " './bert-tokenizer/special_tokens_map.json',\n",
              " './bert-tokenizer/vocab.txt',\n",
              " './bert-tokenizer/added_tokens.json')"
            ]
          },
          "metadata": {},
          "execution_count": 17
        }
      ]
    },
    {
      "cell_type": "code",
      "metadata": {
        "colab": {
          "base_uri": "https://localhost:8080/"
        },
        "id": "gfNXxysLMZYK",
        "outputId": "b5c71884-8e12-4fb9-c015-7bc44147c5a0"
      },
      "source": [
        "!tar -zcvf bert-tokenizer.tar.gz bert-tokenizer"
      ],
      "execution_count": null,
      "outputs": [
        {
          "output_type": "stream",
          "name": "stdout",
          "text": [
            "bert-tokenizer/\n",
            "bert-tokenizer/tokenizer_config.json\n",
            "bert-tokenizer/vocab.txt\n",
            "bert-tokenizer/special_tokens_map.json\n"
          ]
        }
      ]
    },
    {
      "cell_type": "code",
      "metadata": {
        "id": "Sk263gyeoxj3"
      },
      "source": [
        "qrels = qrels[[0,2]].rename(columns={0: 0, 2: 1})"
      ],
      "execution_count": null,
      "outputs": []
    },
    {
      "cell_type": "code",
      "metadata": {
        "colab": {
          "base_uri": "https://localhost:8080/",
          "height": 423
        },
        "id": "ygAoeC29qYq9",
        "outputId": "6193bb77-4347-4171-d725-f24252b90e22"
      },
      "source": [
        "qrels['y']=1\n",
        "qrels"
      ],
      "execution_count": null,
      "outputs": [
        {
          "output_type": "execute_result",
          "data": {
            "text/html": [
              "<div>\n",
              "<style scoped>\n",
              "    .dataframe tbody tr th:only-of-type {\n",
              "        vertical-align: middle;\n",
              "    }\n",
              "\n",
              "    .dataframe tbody tr th {\n",
              "        vertical-align: top;\n",
              "    }\n",
              "\n",
              "    .dataframe thead th {\n",
              "        text-align: right;\n",
              "    }\n",
              "</style>\n",
              "<table border=\"1\" class=\"dataframe\">\n",
              "  <thead>\n",
              "    <tr style=\"text-align: right;\">\n",
              "      <th></th>\n",
              "      <th>0</th>\n",
              "      <th>1</th>\n",
              "      <th>y</th>\n",
              "    </tr>\n",
              "  </thead>\n",
              "  <tbody>\n",
              "    <tr>\n",
              "      <th>0</th>\n",
              "      <td>1102432</td>\n",
              "      <td>2026790</td>\n",
              "      <td>1</td>\n",
              "    </tr>\n",
              "    <tr>\n",
              "      <th>1</th>\n",
              "      <td>1102431</td>\n",
              "      <td>7066866</td>\n",
              "      <td>1</td>\n",
              "    </tr>\n",
              "    <tr>\n",
              "      <th>2</th>\n",
              "      <td>1102431</td>\n",
              "      <td>7066867</td>\n",
              "      <td>1</td>\n",
              "    </tr>\n",
              "    <tr>\n",
              "      <th>3</th>\n",
              "      <td>1090282</td>\n",
              "      <td>7066900</td>\n",
              "      <td>1</td>\n",
              "    </tr>\n",
              "    <tr>\n",
              "      <th>4</th>\n",
              "      <td>39449</td>\n",
              "      <td>7066905</td>\n",
              "      <td>1</td>\n",
              "    </tr>\n",
              "    <tr>\n",
              "      <th>...</th>\n",
              "      <td>...</td>\n",
              "      <td>...</td>\n",
              "      <td>...</td>\n",
              "    </tr>\n",
              "    <tr>\n",
              "      <th>59268</th>\n",
              "      <td>150337</td>\n",
              "      <td>8009410</td>\n",
              "      <td>1</td>\n",
              "    </tr>\n",
              "    <tr>\n",
              "      <th>59269</th>\n",
              "      <td>22241</td>\n",
              "      <td>8009429</td>\n",
              "      <td>1</td>\n",
              "    </tr>\n",
              "    <tr>\n",
              "      <th>59270</th>\n",
              "      <td>129177</td>\n",
              "      <td>8009442</td>\n",
              "      <td>1</td>\n",
              "    </tr>\n",
              "    <tr>\n",
              "      <th>59271</th>\n",
              "      <td>190655</td>\n",
              "      <td>3576091</td>\n",
              "      <td>1</td>\n",
              "    </tr>\n",
              "    <tr>\n",
              "      <th>59272</th>\n",
              "      <td>371455</td>\n",
              "      <td>8009476</td>\n",
              "      <td>1</td>\n",
              "    </tr>\n",
              "  </tbody>\n",
              "</table>\n",
              "<p>59273 rows × 3 columns</p>\n",
              "</div>"
            ],
            "text/plain": [
              "             0        1  y\n",
              "0      1102432  2026790  1\n",
              "1      1102431  7066866  1\n",
              "2      1102431  7066867  1\n",
              "3      1090282  7066900  1\n",
              "4        39449  7066905  1\n",
              "...        ...      ... ..\n",
              "59268   150337  8009410  1\n",
              "59269    22241  8009429  1\n",
              "59270   129177  8009442  1\n",
              "59271   190655  3576091  1\n",
              "59272   371455  8009476  1\n",
              "\n",
              "[59273 rows x 3 columns]"
            ]
          },
          "metadata": {},
          "execution_count": 20
        }
      ]
    },
    {
      "cell_type": "markdown",
      "metadata": {
        "id": "GNQRoidUMRyU"
      },
      "source": [
        "Train Test Split"
      ]
    },
    {
      "cell_type": "code",
      "metadata": {
        "id": "ml7TpoQjSuHg"
      },
      "source": [
        "qrels = qrels[qrels[0].isin(top1000[0].unique()[:num_queries])]"
      ],
      "execution_count": null,
      "outputs": []
    },
    {
      "cell_type": "code",
      "metadata": {
        "id": "49S_hp55Ti6D"
      },
      "source": [
        "split = np.random.choice(qrels[0].unique(),qrels.shape[0]//5)\n",
        "train_queries = qrels[~qrels[0].isin(split)]\n",
        "test_queries = qrels[qrels[0].isin(split)]"
      ],
      "execution_count": null,
      "outputs": []
    },
    {
      "cell_type": "code",
      "metadata": {
        "id": "mOJczIkQMTvm"
      },
      "source": [
        "assert not train_queries[0].isin(test_queries[0]).any()"
      ],
      "execution_count": null,
      "outputs": []
    },
    {
      "cell_type": "markdown",
      "metadata": {
        "id": "pxzUzi1jHJ1y"
      },
      "source": [
        "Add labels"
      ]
    },
    {
      "cell_type": "code",
      "metadata": {
        "id": "QRBpIykWPtDa"
      },
      "source": [
        "def generateTable(queries):\n",
        "  # Add labels\n",
        "  df = pd.merge(top1000, queries,  how='left', left_on=[0,1], right_on = [0,1]).fillna(0)\n",
        "  # drop queries not in set\n",
        "  df = df[df[0].isin(queries[0])][[2,3,'y']]\n",
        "  # positive samples\n",
        "  df_p = df[df['y']==1].reset_index(drop=True)\n",
        "  # negative samples\n",
        "  df_n = df[(df[2].isin(df_p[2])) & (df['y']==0)]\n",
        "  # sample\n",
        "  df_n = df_n.groupby(2).sample(n=passage_per_query,replace=True).drop_duplicates().reset_index(drop=True)\n",
        "  # append and shuffle\n",
        "  df = df_p.append(df_n, ignore_index=True).sample(frac=1).reset_index(drop=True)\n",
        "  return df\n"
      ],
      "execution_count": null,
      "outputs": []
    },
    {
      "cell_type": "code",
      "metadata": {
        "id": "7E-VfLGdRZJN"
      },
      "source": [
        "train_set = generateTable(train_queries)\n",
        "test_set = generateTable(test_queries)"
      ],
      "execution_count": null,
      "outputs": []
    },
    {
      "cell_type": "code",
      "metadata": {
        "colab": {
          "base_uri": "https://localhost:8080/",
          "height": 597
        },
        "id": "-HBv2hFLWA7U",
        "outputId": "3da1c6a3-3b9d-4a5c-e446-e8d558896a3a"
      },
      "source": [
        "train_set"
      ],
      "execution_count": null,
      "outputs": [
        {
          "output_type": "execute_result",
          "data": {
            "text/html": [
              "<div>\n",
              "<style scoped>\n",
              "    .dataframe tbody tr th:only-of-type {\n",
              "        vertical-align: middle;\n",
              "    }\n",
              "\n",
              "    .dataframe tbody tr th {\n",
              "        vertical-align: top;\n",
              "    }\n",
              "\n",
              "    .dataframe thead th {\n",
              "        text-align: right;\n",
              "    }\n",
              "</style>\n",
              "<table border=\"1\" class=\"dataframe\">\n",
              "  <thead>\n",
              "    <tr style=\"text-align: right;\">\n",
              "      <th></th>\n",
              "      <th>2</th>\n",
              "      <th>3</th>\n",
              "      <th>y</th>\n",
              "    </tr>\n",
              "  </thead>\n",
              "  <tbody>\n",
              "    <tr>\n",
              "      <th>0</th>\n",
              "      <td>an increase of adh causes the kidneys to _____...</td>\n",
              "      <td>Dark yellow urine is a sign of dehydration. Yo...</td>\n",
              "      <td>0.0</td>\n",
              "    </tr>\n",
              "    <tr>\n",
              "      <th>1</th>\n",
              "      <td>all of the following were created by the first...</td>\n",
              "      <td>John Hanson was the first president of the Con...</td>\n",
              "      <td>0.0</td>\n",
              "    </tr>\n",
              "    <tr>\n",
              "      <th>2</th>\n",
              "      <td>actress who plays alice on the magicians</td>\n",
              "      <td>Princess Alice died peacefully in her sleep at...</td>\n",
              "      <td>0.0</td>\n",
              "    </tr>\n",
              "    <tr>\n",
              "      <th>3</th>\n",
              "      <td>array definition computer</td>\n",
              "      <td>A single value in a JavaScript array is called...</td>\n",
              "      <td>0.0</td>\n",
              "    </tr>\n",
              "    <tr>\n",
              "      <th>4</th>\n",
              "      <td>amp definition</td>\n",
              "      <td>See, the default power adapter that comes with...</td>\n",
              "      <td>0.0</td>\n",
              "    </tr>\n",
              "    <tr>\n",
              "      <th>...</th>\n",
              "      <td>...</td>\n",
              "      <td>...</td>\n",
              "      <td>...</td>\n",
              "    </tr>\n",
              "    <tr>\n",
              "      <th>3566</th>\n",
              "      <td>are corn snakes poisonous</td>\n",
              "      <td>Corn is a common staple of cultural diets all ...</td>\n",
              "      <td>0.0</td>\n",
              "    </tr>\n",
              "    <tr>\n",
              "      <th>3567</th>\n",
              "      <td>accelerated cml symptoms</td>\n",
              "      <td>Report Abuse. We think that ANY skydive is a g...</td>\n",
              "      <td>0.0</td>\n",
              "    </tr>\n",
              "    <tr>\n",
              "      <th>3568</th>\n",
              "      <td>airport code mont tremblant</td>\n",
              "      <td>1 Enter the Distance To city, village, town, a...</td>\n",
              "      <td>0.0</td>\n",
              "    </tr>\n",
              "    <tr>\n",
              "      <th>3569</th>\n",
              "      <td>academic cheating definition</td>\n",
              "      <td>(Definition of “cellophane” from the Cambridge...</td>\n",
              "      <td>0.0</td>\n",
              "    </tr>\n",
              "    <tr>\n",
              "      <th>3570</th>\n",
              "      <td>are tesla electric cars</td>\n",
              "      <td>Tesla set a target of between 50,000 and 52,00...</td>\n",
              "      <td>0.0</td>\n",
              "    </tr>\n",
              "  </tbody>\n",
              "</table>\n",
              "<p>3571 rows × 3 columns</p>\n",
              "</div>"
            ],
            "text/plain": [
              "                                                      2  ...    y\n",
              "0     an increase of adh causes the kidneys to _____...  ...  0.0\n",
              "1     all of the following were created by the first...  ...  0.0\n",
              "2              actress who plays alice on the magicians  ...  0.0\n",
              "3                             array definition computer  ...  0.0\n",
              "4                                        amp definition  ...  0.0\n",
              "...                                                 ...  ...  ...\n",
              "3566                          are corn snakes poisonous  ...  0.0\n",
              "3567                           accelerated cml symptoms  ...  0.0\n",
              "3568                        airport code mont tremblant  ...  0.0\n",
              "3569                       academic cheating definition  ...  0.0\n",
              "3570                            are tesla electric cars  ...  0.0\n",
              "\n",
              "[3571 rows x 3 columns]"
            ]
          },
          "metadata": {},
          "execution_count": 26
        }
      ]
    },
    {
      "cell_type": "markdown",
      "metadata": {
        "id": "RZOXX1AXVDDz"
      },
      "source": [
        "There shouldn't be any overlap in queries"
      ]
    },
    {
      "cell_type": "code",
      "metadata": {
        "id": "A3RKquFpSAY7"
      },
      "source": [
        "assert not train_set[2].isin(test_set[2]).any()"
      ],
      "execution_count": null,
      "outputs": []
    },
    {
      "cell_type": "code",
      "metadata": {
        "id": "dMPmK1Ftd-we"
      },
      "source": [
        "# from sklearn.model_selection import train_test_split\n",
        "# train_set,test_set = train_test_split(train_set,test_size=0.2)"
      ],
      "execution_count": null,
      "outputs": []
    },
    {
      "cell_type": "code",
      "metadata": {
        "id": "iArgIYaTTcSf"
      },
      "source": [
        "# batch_size = 128\n",
        "# def generateSamples(df):\n",
        "#   for i,row in df.iterrows():\n",
        "#     q = tokenizer(row[2], return_tensors=\"tf\",padding=\"max_length\",max_length=q_trunc,truncation=True)\n",
        "#     p = tokenizer(row[3], return_tensors=\"tf\",padding=\"max_length\",max_length=p_trunc,truncation=True)\n",
        "#     X={}\n",
        "#     for id in ['input_ids','token_type_ids','attention_mask']:\n",
        "#       X[id] = tf.concat([q[id],p[id][:,1:]],1)\n",
        "#     yield X,[row['y']]\n",
        "# type_dict = {id:tf.int32 for id in ['input_ids','token_type_ids','attention_mask']}\n",
        "# train_ds = tf.data.Dataset.from_generator(lambda :generateSamples(train_set),(type_dict,tf.int32))\n",
        "# train_ds = train_ds.batch(batch_size).prefetch(1)\n",
        "# test_ds = tf.data.Dataset.from_generator(lambda :generateSamples(test_set),(type_dict,tf.int32))\n",
        "# test_ds = test_ds.batch(batch_size).prefetch(1)"
      ],
      "execution_count": null,
      "outputs": []
    },
    {
      "cell_type": "markdown",
      "metadata": {
        "id": "p2D0kjEuGnG1"
      },
      "source": [
        "##### Tokenize"
      ]
    },
    {
      "cell_type": "markdown",
      "metadata": {
        "id": "NvevQZLZG2Is"
      },
      "source": [
        "Truncation Limits"
      ]
    },
    {
      "cell_type": "code",
      "metadata": {
        "id": "waoCl3mPKT5-"
      },
      "source": [
        "q_trunc = 64\n",
        "p_trunc = 449\n",
        "assert q_trunc+p_trunc-1==512"
      ],
      "execution_count": null,
      "outputs": []
    },
    {
      "cell_type": "markdown",
      "metadata": {
        "id": "RoMzxje6Gam0"
      },
      "source": [
        "Create training set"
      ]
    },
    {
      "cell_type": "code",
      "metadata": {
        "id": "GKWuDTH6NH0c"
      },
      "source": [
        "def generateSet(df):\n",
        "  # tokenize\n",
        "  q = tokenizer(df[2].values.tolist(), return_tensors=\"tf\",padding=\"max_length\",max_length=q_trunc,truncation=True)\n",
        "  p = tokenizer(df[3].values.tolist(), return_tensors=\"tf\",padding=\"max_length\",max_length=p_trunc,truncation=True)\n",
        "  X=[]\n",
        "  # labels\n",
        "  y = df['y']\n",
        "  for id in ['input_ids','token_type_ids','attention_mask']:\n",
        "    X.append(tf.concat([q[id],p[id][:,1:]],1))\n",
        "  # delete unwanted variables\n",
        "  q = None\n",
        "  p = None\n",
        "  gc.collect()\n",
        "  return X,y"
      ],
      "execution_count": null,
      "outputs": []
    },
    {
      "cell_type": "code",
      "metadata": {
        "id": "C0RwmpFlNZJh"
      },
      "source": [
        "X_train,y_train = generateSet(train_set)\n",
        "X_test,y_test = generateSet(test_set)"
      ],
      "execution_count": null,
      "outputs": []
    },
    {
      "cell_type": "markdown",
      "metadata": {
        "id": "acJNGLWlEYLi"
      },
      "source": [
        "#### Setup Tensorflow"
      ]
    },
    {
      "cell_type": "markdown",
      "metadata": {
        "id": "IJx2-RzjGQyk"
      },
      "source": [
        "Setup TPU"
      ]
    },
    {
      "cell_type": "code",
      "metadata": {
        "id": "-WcTtRCHuCJX"
      },
      "source": [
        "# #Get a handle to the attached TPU. On GCP it will be the CloudTPU itself\n",
        "# resolver = tf.distribute.cluster_resolver.TPUClusterResolver(tpu='grpc://' + os.environ['COLAB_TPU_ADDR'])\n",
        "# #Connect to the TPU handle and initialise it\n",
        "# tf.config.experimental_connect_to_cluster(resolver)\n",
        "# tf.tpu.experimental.initialize_tpu_system(resolver)\n",
        "# strategy = tf.distribute.experimental.TPUStrategy(resolver)"
      ],
      "execution_count": null,
      "outputs": []
    },
    {
      "cell_type": "code",
      "metadata": {
        "id": "Fto_1UDRaX6U"
      },
      "source": [
        "tf.config.run_functions_eagerly(False)"
      ],
      "execution_count": null,
      "outputs": []
    },
    {
      "cell_type": "markdown",
      "metadata": {
        "id": "EkLMSq0cEpOJ"
      },
      "source": [
        "### Create Model"
      ]
    },
    {
      "cell_type": "markdown",
      "metadata": {
        "id": "_4CFH49qGLeW"
      },
      "source": [
        "Batch size: 128 on TPU, 8 on GPU"
      ]
    },
    {
      "cell_type": "code",
      "metadata": {
        "id": "_hSqFAqrX224"
      },
      "source": [
        "num_epochs = 2\n",
        "batch_size = 8\n",
        "num_train_steps = X_train[0].shape[0]//batch_size*num_epochs"
      ],
      "execution_count": null,
      "outputs": []
    },
    {
      "cell_type": "markdown",
      "metadata": {
        "id": "GT8o-TsoFvAI"
      },
      "source": [
        "A model with three inputs:\n",
        "- Input IDs\n",
        "- Token Type IDs\n",
        "- Attention Masks\n",
        "These are from tokenizer.\n",
        "\n",
        "Fed to BERT, from which the [CLS] vector is taken, and fed into a dense layer with one output after sigmoid."
      ]
    },
    {
      "cell_type": "code",
      "metadata": {
        "id": "4L9t0GEb8zob"
      },
      "source": [
        "def create_inputs(num_nodes,name):\n",
        "  layers = []\n",
        "  for layer_name in ['input_ids','token_type_ids','attention_mask']:\n",
        "    layers.append(tf.keras.layers.Input(shape=(num_nodes,),dtype=tf.int32,name=layer_name))\n",
        "  return layers\n",
        "\n",
        "def create_model(output_bias=None):\n",
        "    if output_bias is not None:\n",
        "      output_bias = tf.keras.initializers.Constant(output_bias)\n",
        "    config = BertConfig(hidden_dropout_prob=0.1)\n",
        "    bert = TFBertModel.from_pretrained(bert_model_name,config=config)\n",
        "    bert.save_pretrained('./bert-model/')\n",
        "    for layer in bert.layers[:]:\n",
        "      if isinstance(layer, transformers.models.bert.modeling_tf_bert.TFBertMainLayer):\n",
        "        layer.embeddings.trainable=False\n",
        "        layer.pooler.trainable=False\n",
        "        for idx, layer in enumerate(layer.encoder.layer):\n",
        "            # print(layer)\n",
        "            # freeze first 10\n",
        "            if idx in range(10):\n",
        "                layer.trainable = False\n",
        "      else:\n",
        "        layer.trainable = False\n",
        "              \n",
        "    input_layer = create_inputs(512,'pair')\n",
        "    bert_out = bert(input_layer).last_hidden_state\n",
        "    cls = tf.keras.layers.Lambda(lambda x:x[:,0,:])(bert_out)\n",
        "    # print(avg_q.shape)\n",
        "    output = tf.keras.layers.Dense(1, activation=\"sigmoid\",bias_initializer=output_bias)(cls)\n",
        "    model = tf.keras.models.Model(inputs=input_layer, outputs=[output])\n",
        "    opt,schedule = transformers.create_optimizer(num_train_steps=num_train_steps,init_lr=3e-5,adam_beta1=0.9,adam_beta2=0.999,weight_decay_rate=0.01,num_warmup_steps=num_train_steps//10)\n",
        "    # opt = tfa.optimizers.RectifiedAdam()\n",
        "    model.compile(optimizer=opt,\n",
        "              loss=tf.keras.losses.BinaryCrossentropy(),\n",
        "              metrics=[tf.keras.metrics.BinaryAccuracy(),\n",
        "                       tf.keras.metrics.AUC(curve=\"ROC\")])\n",
        "    model.summary()\n",
        "    return model"
      ],
      "execution_count": null,
      "outputs": []
    },
    {
      "cell_type": "markdown",
      "metadata": {
        "id": "VZJlWpc0Fqar"
      },
      "source": [
        "Save on best validation loss"
      ]
    },
    {
      "cell_type": "code",
      "metadata": {
        "id": "IMdRLXOCFD4V"
      },
      "source": [
        "checkpoint = tf.keras.callbacks.ModelCheckpoint(root_dir + \"pointwise_best_model.h5\", monitor='val_loss', verbose=1, save_weights_only=True, save_best_only=True, mode='min', save_freq='epoch')"
      ],
      "execution_count": null,
      "outputs": []
    },
    {
      "cell_type": "markdown",
      "metadata": {
        "id": "_T9pFD06Fo9U"
      },
      "source": [
        "Check GPU"
      ]
    },
    {
      "cell_type": "code",
      "metadata": {
        "id": "OAj81oYua79R",
        "colab": {
          "base_uri": "https://localhost:8080/",
          "height": 36
        },
        "outputId": "8559e62e-da6d-4f3d-c58b-0fb8563c44b7"
      },
      "source": [
        "tf.test.gpu_device_name()"
      ],
      "execution_count": null,
      "outputs": [
        {
          "output_type": "execute_result",
          "data": {
            "application/vnd.google.colaboratory.intrinsic+json": {
              "type": "string"
            },
            "text/plain": [
              "'/device:GPU:0'"
            ]
          },
          "metadata": {},
          "execution_count": 38
        }
      ]
    },
    {
      "cell_type": "markdown",
      "metadata": {
        "id": "8JdoAcjaFm-c"
      },
      "source": [
        "Free memory"
      ]
    },
    {
      "cell_type": "code",
      "metadata": {
        "id": "UfARg8ouZSzj",
        "colab": {
          "base_uri": "https://localhost:8080/"
        },
        "outputId": "3baff267-f9a6-475b-a3ed-53698fc8dd44"
      },
      "source": [
        "gc.collect()"
      ],
      "execution_count": null,
      "outputs": [
        {
          "output_type": "execute_result",
          "data": {
            "text/plain": [
              "150"
            ]
          },
          "metadata": {},
          "execution_count": 39
        }
      ]
    },
    {
      "cell_type": "markdown",
      "metadata": {
        "id": "uW_gd4UzFlg1"
      },
      "source": [
        "Hide warnings"
      ]
    },
    {
      "cell_type": "code",
      "metadata": {
        "id": "4g8FPQfDgF4S"
      },
      "source": [
        "import os\n",
        "os.environ['TF_CPP_MIN_LOG_LEVEL'] = '2' \n",
        "tf.get_logger().setLevel('WARNING')"
      ],
      "execution_count": null,
      "outputs": []
    },
    {
      "cell_type": "markdown",
      "metadata": {
        "id": "RvAL0-Q4FiJl"
      },
      "source": [
        "Biases, and class weights"
      ]
    },
    {
      "cell_type": "code",
      "metadata": {
        "id": "xmwQY008BMyx"
      },
      "source": [
        "total = len(train_set['y'])\n",
        "pos = train_set['y'].sum()\n",
        "neg = total-pos\n",
        "initial_bias = np.log([pos/neg])\n",
        "\n",
        "weight_for_0 = (1 / neg) * (total / 2.0)\n",
        "weight_for_1 = (1 / pos) * (total / 2.0)\n",
        "\n",
        "class_weight = {0: weight_for_0, 1: weight_for_1}\n",
        "# class_weight={0:1,1:1}"
      ],
      "execution_count": null,
      "outputs": []
    },
    {
      "cell_type": "markdown",
      "metadata": {
        "id": "gjkTLj-YFS-G"
      },
      "source": [
        "#### Train"
      ]
    },
    {
      "cell_type": "code",
      "metadata": {
        "id": "4pIAdMxRFbTF"
      },
      "source": [
        "def createAndRun():\n",
        "  model = None\n",
        "  if initial_bias:\n",
        "    print(\"Bias\",initial_bias)\n",
        "    model = create_model(initial_bias)\n",
        "  else:\n",
        "    model = create_model()\n",
        "  gc.collect()\n",
        "  print(\"Class weight\",class_weight)\n",
        "  # model.fit(x=train_ds, epochs=4, verbose=1, validation_data=test_ds, callbacks=[checkpoint])\n",
        "  history = model.fit(x=X_train, y=y_train, batch_size=batch_size, epochs=num_epochs, verbose=1, validation_data=(X_test,y_test), use_multiprocessing=False, callbacks=[checkpoint],class_weight=class_weight)\n",
        "  model.save_weights('final_model.h5')\n",
        "  return model,history\n",
        "\n",
        "def cpu():\n",
        "  return createAndRun()\n",
        "\n",
        "def gpu():\n",
        "  with tf.device('/device:GPU:0'):\n",
        "    return createAndRun()\n",
        "\n",
        "def tpu():\n",
        "  with strategy.scope():\n",
        "    return createAndRun()"
      ],
      "execution_count": null,
      "outputs": []
    },
    {
      "cell_type": "code",
      "metadata": {
        "id": "uUb1eYjwcXdo"
      },
      "source": [
        "# model,history = cpu()"
      ],
      "execution_count": null,
      "outputs": []
    },
    {
      "cell_type": "code",
      "metadata": {
        "colab": {
          "base_uri": "https://localhost:8080/",
          "height": 922,
          "referenced_widgets": [
            "b79880df8bb143ca881ab74e063cc43f",
            "6308ad9684ec4fca9989b324b5e5a773",
            "985f3677e27e4f418f4973542f14c255",
            "bf5550ca895f4ce6a1c5e7dabeab0132",
            "f9abc3ac0a6e45709b9c051973af8bc7",
            "2f04f2352a164d4eb9914494c49aaafc",
            "8b5827ea35f94c37b5c09dde373dd933",
            "1cdd2e558121464e9e24e90a69209892",
            "fb9f9f52479944ecae1f6287e2040d4d",
            "34dacf3b89784530871fba49cf0f0b45",
            "a904dbc8bad4457aa8e30b17372d85d2"
          ]
        },
        "id": "f6G--AfwklAr",
        "outputId": "d998369f-5ae5-42ec-e00b-8c5e8e465730"
      },
      "source": [
        "model,history = gpu()"
      ],
      "execution_count": null,
      "outputs": [
        {
          "output_type": "stream",
          "name": "stdout",
          "text": [
            "Bias [-3.82835531]\n"
          ]
        },
        {
          "output_type": "display_data",
          "data": {
            "application/vnd.jupyter.widget-view+json": {
              "model_id": "b79880df8bb143ca881ab74e063cc43f",
              "version_minor": 0,
              "version_major": 2
            },
            "text/plain": [
              "Downloading:   0%|          | 0.00/511M [00:00<?, ?B/s]"
            ]
          },
          "metadata": {}
        },
        {
          "output_type": "stream",
          "name": "stderr",
          "text": [
            "Some layers from the model checkpoint at bert-base-uncased were not used when initializing TFBertModel: ['nsp___cls', 'mlm___cls']\n",
            "- This IS expected if you are initializing TFBertModel from the checkpoint of a model trained on another task or with another architecture (e.g. initializing a BertForSequenceClassification model from a BertForPreTraining model).\n",
            "- This IS NOT expected if you are initializing TFBertModel from the checkpoint of a model that you expect to be exactly identical (initializing a BertForSequenceClassification model from a BertForSequenceClassification model).\n",
            "All the layers of TFBertModel were initialized from the model checkpoint at bert-base-uncased.\n",
            "If your task is similar to the task the model of the checkpoint was trained on, you can already use TFBertModel for predictions without further training.\n"
          ]
        },
        {
          "output_type": "stream",
          "name": "stdout",
          "text": [
            "Model: \"model\"\n",
            "__________________________________________________________________________________________________\n",
            " Layer (type)                   Output Shape         Param #     Connected to                     \n",
            "==================================================================================================\n",
            " input_ids (InputLayer)         [(None, 512)]        0           []                               \n",
            "                                                                                                  \n",
            " token_type_ids (InputLayer)    [(None, 512)]        0           []                               \n",
            "                                                                                                  \n",
            " attention_mask (InputLayer)    [(None, 512)]        0           []                               \n",
            "                                                                                                  \n",
            " tf_bert_model (TFBertModel)    TFBaseModelOutputWi  109482240   ['input_ids[0][0]',              \n",
            "                                thPoolingAndCrossAt               'token_type_ids[0][0]',         \n",
            "                                tentions(last_hidde               'attention_mask[0][0]']         \n",
            "                                n_state=(None, 512,                                               \n",
            "                                 768),                                                            \n",
            "                                 pooler_output=(Non                                               \n",
            "                                e, 768),                                                          \n",
            "                                 past_key_values=No                                               \n",
            "                                ne, hidden_states=N                                               \n",
            "                                one, attentions=Non                                               \n",
            "                                e, cross_attentions                                               \n",
            "                                =None)                                                            \n",
            "                                                                                                  \n",
            " lambda (Lambda)                (None, 768)          0           ['tf_bert_model[0][0]']          \n",
            "                                                                                                  \n",
            " dense (Dense)                  (None, 1)            769         ['lambda[0][0]']                 \n",
            "                                                                                                  \n",
            "==================================================================================================\n",
            "Total params: 109,483,009\n",
            "Trainable params: 14,176,513\n",
            "Non-trainable params: 95,306,496\n",
            "__________________________________________________________________________________________________\n",
            "Class weight {0: 0.5108726752503577, 1: 23.49342105263158}\n",
            "Epoch 1/2\n",
            "447/447 [==============================] - ETA: 0s - loss: 0.8901 - binary_accuracy: 0.5542 - auc: 0.4664\n",
            "Epoch 00001: val_loss improved from inf to 0.95570, saving model to /content/gdrive/MyDrive/col764/pointwise_best_model.h5\n",
            "447/447 [==============================] - 466s 1s/step - loss: 0.8901 - binary_accuracy: 0.5542 - auc: 0.4664 - val_loss: 0.9557 - val_binary_accuracy: 0.0402 - val_auc: 0.5523\n",
            "Epoch 2/2\n",
            "447/447 [==============================] - ETA: 0s - loss: 0.6994 - binary_accuracy: 0.5332 - auc: 0.5483\n",
            "Epoch 00002: val_loss improved from 0.95570 to 0.57109, saving model to /content/gdrive/MyDrive/col764/pointwise_best_model.h5\n",
            "447/447 [==============================] - 444s 994ms/step - loss: 0.6994 - binary_accuracy: 0.5332 - auc: 0.5483 - val_loss: 0.5711 - val_binary_accuracy: 0.8592 - val_auc: 0.5635\n"
          ]
        }
      ]
    },
    {
      "cell_type": "code",
      "metadata": {
        "id": "Golkc-ggfhdW"
      },
      "source": [
        "# model,history = tpu()"
      ],
      "execution_count": null,
      "outputs": []
    },
    {
      "cell_type": "code",
      "metadata": {
        "id": "du8VESG-Mjzw",
        "colab": {
          "base_uri": "https://localhost:8080/"
        },
        "outputId": "579024a0-1595-4717-cbbc-9dae77a3b6e7"
      },
      "source": [
        "!tar -zcvf bert-model.tar.gz bert-model"
      ],
      "execution_count": null,
      "outputs": [
        {
          "output_type": "stream",
          "name": "stdout",
          "text": [
            "bert-model/\n",
            "bert-model/tf_model.h5\n",
            "bert-model/config.json\n"
          ]
        }
      ]
    },
    {
      "cell_type": "code",
      "metadata": {
        "id": "LAp8TipihGEA",
        "colab": {
          "base_uri": "https://localhost:8080/"
        },
        "outputId": "d6d36ba5-8d93-4db6-d428-3370367155f2"
      },
      "source": [
        "!ls -alh top1000.dev qrels.dev.tsv"
      ],
      "execution_count": null,
      "outputs": [
        {
          "output_type": "stream",
          "name": "stdout",
          "text": [
            "-rw-r--r-- 1 root    root    1.2M Nov 28  2018 qrels.dev.tsv\n",
            "-rwxrwx--- 1 8045835 1049089 2.5G Jul 17  2019 top1000.dev\n"
          ]
        }
      ]
    },
    {
      "cell_type": "code",
      "metadata": {
        "id": "pg6eQr0CHRUm",
        "colab": {
          "base_uri": "https://localhost:8080/",
          "height": 174
        },
        "outputId": "a33add3f-cd71-43dd-e80d-550e40cada90"
      },
      "source": [
        "pd.DataFrame({\n",
        "    'embedding':[True,False,False,False],\n",
        "    'batch':[128,128,128,128],\n",
        "    'time':[327,225,180,254],\n",
        "    'loss':[0.67241,0.66957,0.22111,0.5409],\n",
        "    'auc':[0.5674,0.5798,0.5055,0.8734],\n",
        "    'acc':[0.5811,0.5958,0.9479,0.7318],\n",
        "    'frozen':[10,10,12,8]\n",
        "              })"
      ],
      "execution_count": null,
      "outputs": [
        {
          "output_type": "execute_result",
          "data": {
            "text/html": [
              "<div>\n",
              "<style scoped>\n",
              "    .dataframe tbody tr th:only-of-type {\n",
              "        vertical-align: middle;\n",
              "    }\n",
              "\n",
              "    .dataframe tbody tr th {\n",
              "        vertical-align: top;\n",
              "    }\n",
              "\n",
              "    .dataframe thead th {\n",
              "        text-align: right;\n",
              "    }\n",
              "</style>\n",
              "<table border=\"1\" class=\"dataframe\">\n",
              "  <thead>\n",
              "    <tr style=\"text-align: right;\">\n",
              "      <th></th>\n",
              "      <th>embedding</th>\n",
              "      <th>batch</th>\n",
              "      <th>time</th>\n",
              "      <th>loss</th>\n",
              "      <th>auc</th>\n",
              "      <th>acc</th>\n",
              "      <th>frozen</th>\n",
              "    </tr>\n",
              "  </thead>\n",
              "  <tbody>\n",
              "    <tr>\n",
              "      <th>0</th>\n",
              "      <td>True</td>\n",
              "      <td>128</td>\n",
              "      <td>327</td>\n",
              "      <td>0.67241</td>\n",
              "      <td>0.5674</td>\n",
              "      <td>0.5811</td>\n",
              "      <td>10</td>\n",
              "    </tr>\n",
              "    <tr>\n",
              "      <th>1</th>\n",
              "      <td>False</td>\n",
              "      <td>128</td>\n",
              "      <td>225</td>\n",
              "      <td>0.66957</td>\n",
              "      <td>0.5798</td>\n",
              "      <td>0.5958</td>\n",
              "      <td>10</td>\n",
              "    </tr>\n",
              "    <tr>\n",
              "      <th>2</th>\n",
              "      <td>False</td>\n",
              "      <td>128</td>\n",
              "      <td>180</td>\n",
              "      <td>0.22111</td>\n",
              "      <td>0.5055</td>\n",
              "      <td>0.9479</td>\n",
              "      <td>12</td>\n",
              "    </tr>\n",
              "    <tr>\n",
              "      <th>3</th>\n",
              "      <td>False</td>\n",
              "      <td>128</td>\n",
              "      <td>254</td>\n",
              "      <td>0.54090</td>\n",
              "      <td>0.8734</td>\n",
              "      <td>0.7318</td>\n",
              "      <td>8</td>\n",
              "    </tr>\n",
              "  </tbody>\n",
              "</table>\n",
              "</div>"
            ],
            "text/plain": [
              "   embedding  batch  time     loss     auc     acc  frozen\n",
              "0       True    128   327  0.67241  0.5674  0.5811      10\n",
              "1      False    128   225  0.66957  0.5798  0.5958      10\n",
              "2      False    128   180  0.22111  0.5055  0.9479      12\n",
              "3      False    128   254  0.54090  0.8734  0.7318       8"
            ]
          },
          "metadata": {},
          "execution_count": 48
        }
      ]
    }
  ]
}