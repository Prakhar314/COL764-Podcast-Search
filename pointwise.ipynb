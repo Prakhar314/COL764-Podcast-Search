{
  "nbformat": 4,
  "nbformat_minor": 0,
  "metadata": {
    "kernelspec": {
      "name": "python3",
      "display_name": "Python 3",
      "language": "python"
    },
    "language_info": {
      "name": "python",
      "version": "3.6.13",
      "mimetype": "text/x-python",
      "codemirror_mode": {
        "name": "ipython",
        "version": 3
      },
      "pygments_lexer": "ipython3",
      "nbconvert_exporter": "python",
      "file_extension": ".py"
    },
    "colab": {
      "name": "pointwise.ipynb",
      "provenance": [],
      "collapsed_sections": [],
      "include_colab_link": true
    },
    "accelerator": "GPU",
    "widgets": {
      "application/vnd.jupyter.widget-state+json": {
        "81e9731f638d4e43923db260d5af3a81": {
          "model_module": "@jupyter-widgets/controls",
          "model_name": "HBoxModel",
          "model_module_version": "1.5.0",
          "state": {
            "_view_name": "HBoxView",
            "_dom_classes": [],
            "_model_name": "HBoxModel",
            "_view_module": "@jupyter-widgets/controls",
            "_model_module_version": "1.5.0",
            "_view_count": null,
            "_view_module_version": "1.5.0",
            "box_style": "",
            "layout": "IPY_MODEL_0b5f5abdfcd743ca95376e269a1599cb",
            "_model_module": "@jupyter-widgets/controls",
            "children": [
              "IPY_MODEL_b8cbc9d5df324e5ba49ce69e03393bd3",
              "IPY_MODEL_3173cd885b3f488dbe2bc15403ce1ef6",
              "IPY_MODEL_7aadadc488a9436aa583dd5ec55ac505"
            ]
          }
        },
        "0b5f5abdfcd743ca95376e269a1599cb": {
          "model_module": "@jupyter-widgets/base",
          "model_name": "LayoutModel",
          "model_module_version": "1.2.0",
          "state": {
            "_view_name": "LayoutView",
            "grid_template_rows": null,
            "right": null,
            "justify_content": null,
            "_view_module": "@jupyter-widgets/base",
            "overflow": null,
            "_model_module_version": "1.2.0",
            "_view_count": null,
            "flex_flow": null,
            "width": null,
            "min_width": null,
            "border": null,
            "align_items": null,
            "bottom": null,
            "_model_module": "@jupyter-widgets/base",
            "top": null,
            "grid_column": null,
            "overflow_y": null,
            "overflow_x": null,
            "grid_auto_flow": null,
            "grid_area": null,
            "grid_template_columns": null,
            "flex": null,
            "_model_name": "LayoutModel",
            "justify_items": null,
            "grid_row": null,
            "max_height": null,
            "align_content": null,
            "visibility": null,
            "align_self": null,
            "height": null,
            "min_height": null,
            "padding": null,
            "grid_auto_rows": null,
            "grid_gap": null,
            "max_width": null,
            "order": null,
            "_view_module_version": "1.2.0",
            "grid_template_areas": null,
            "object_position": null,
            "object_fit": null,
            "grid_auto_columns": null,
            "margin": null,
            "display": null,
            "left": null
          }
        },
        "b8cbc9d5df324e5ba49ce69e03393bd3": {
          "model_module": "@jupyter-widgets/controls",
          "model_name": "HTMLModel",
          "model_module_version": "1.5.0",
          "state": {
            "_view_name": "HTMLView",
            "style": "IPY_MODEL_1f73019c880f4f249e1b7da46f6525f7",
            "_dom_classes": [],
            "description": "",
            "_model_name": "HTMLModel",
            "placeholder": "​",
            "_view_module": "@jupyter-widgets/controls",
            "_model_module_version": "1.5.0",
            "value": "Downloading: 100%",
            "_view_count": null,
            "_view_module_version": "1.5.0",
            "description_tooltip": null,
            "_model_module": "@jupyter-widgets/controls",
            "layout": "IPY_MODEL_53cd073fabd94f26a4812814f3ff0673"
          }
        },
        "3173cd885b3f488dbe2bc15403ce1ef6": {
          "model_module": "@jupyter-widgets/controls",
          "model_name": "FloatProgressModel",
          "model_module_version": "1.5.0",
          "state": {
            "_view_name": "ProgressView",
            "style": "IPY_MODEL_0777fe007f544fb4a9b87895a9e20bc1",
            "_dom_classes": [],
            "description": "",
            "_model_name": "FloatProgressModel",
            "bar_style": "success",
            "max": 231508,
            "_view_module": "@jupyter-widgets/controls",
            "_model_module_version": "1.5.0",
            "value": 231508,
            "_view_count": null,
            "_view_module_version": "1.5.0",
            "orientation": "horizontal",
            "min": 0,
            "description_tooltip": null,
            "_model_module": "@jupyter-widgets/controls",
            "layout": "IPY_MODEL_35546e2081f94ee183beb1772c1be334"
          }
        },
        "7aadadc488a9436aa583dd5ec55ac505": {
          "model_module": "@jupyter-widgets/controls",
          "model_name": "HTMLModel",
          "model_module_version": "1.5.0",
          "state": {
            "_view_name": "HTMLView",
            "style": "IPY_MODEL_6d7f575cc1634650bbb7564e87f64025",
            "_dom_classes": [],
            "description": "",
            "_model_name": "HTMLModel",
            "placeholder": "​",
            "_view_module": "@jupyter-widgets/controls",
            "_model_module_version": "1.5.0",
            "value": " 226k/226k [00:00&lt;00:00, 879kB/s]",
            "_view_count": null,
            "_view_module_version": "1.5.0",
            "description_tooltip": null,
            "_model_module": "@jupyter-widgets/controls",
            "layout": "IPY_MODEL_7488b7f6ab4146eea2755350efd09c2e"
          }
        },
        "1f73019c880f4f249e1b7da46f6525f7": {
          "model_module": "@jupyter-widgets/controls",
          "model_name": "DescriptionStyleModel",
          "model_module_version": "1.5.0",
          "state": {
            "_view_name": "StyleView",
            "_model_name": "DescriptionStyleModel",
            "description_width": "",
            "_view_module": "@jupyter-widgets/base",
            "_model_module_version": "1.5.0",
            "_view_count": null,
            "_view_module_version": "1.2.0",
            "_model_module": "@jupyter-widgets/controls"
          }
        },
        "53cd073fabd94f26a4812814f3ff0673": {
          "model_module": "@jupyter-widgets/base",
          "model_name": "LayoutModel",
          "model_module_version": "1.2.0",
          "state": {
            "_view_name": "LayoutView",
            "grid_template_rows": null,
            "right": null,
            "justify_content": null,
            "_view_module": "@jupyter-widgets/base",
            "overflow": null,
            "_model_module_version": "1.2.0",
            "_view_count": null,
            "flex_flow": null,
            "width": null,
            "min_width": null,
            "border": null,
            "align_items": null,
            "bottom": null,
            "_model_module": "@jupyter-widgets/base",
            "top": null,
            "grid_column": null,
            "overflow_y": null,
            "overflow_x": null,
            "grid_auto_flow": null,
            "grid_area": null,
            "grid_template_columns": null,
            "flex": null,
            "_model_name": "LayoutModel",
            "justify_items": null,
            "grid_row": null,
            "max_height": null,
            "align_content": null,
            "visibility": null,
            "align_self": null,
            "height": null,
            "min_height": null,
            "padding": null,
            "grid_auto_rows": null,
            "grid_gap": null,
            "max_width": null,
            "order": null,
            "_view_module_version": "1.2.0",
            "grid_template_areas": null,
            "object_position": null,
            "object_fit": null,
            "grid_auto_columns": null,
            "margin": null,
            "display": null,
            "left": null
          }
        },
        "0777fe007f544fb4a9b87895a9e20bc1": {
          "model_module": "@jupyter-widgets/controls",
          "model_name": "ProgressStyleModel",
          "model_module_version": "1.5.0",
          "state": {
            "_view_name": "StyleView",
            "_model_name": "ProgressStyleModel",
            "description_width": "",
            "_view_module": "@jupyter-widgets/base",
            "_model_module_version": "1.5.0",
            "_view_count": null,
            "_view_module_version": "1.2.0",
            "bar_color": null,
            "_model_module": "@jupyter-widgets/controls"
          }
        },
        "35546e2081f94ee183beb1772c1be334": {
          "model_module": "@jupyter-widgets/base",
          "model_name": "LayoutModel",
          "model_module_version": "1.2.0",
          "state": {
            "_view_name": "LayoutView",
            "grid_template_rows": null,
            "right": null,
            "justify_content": null,
            "_view_module": "@jupyter-widgets/base",
            "overflow": null,
            "_model_module_version": "1.2.0",
            "_view_count": null,
            "flex_flow": null,
            "width": null,
            "min_width": null,
            "border": null,
            "align_items": null,
            "bottom": null,
            "_model_module": "@jupyter-widgets/base",
            "top": null,
            "grid_column": null,
            "overflow_y": null,
            "overflow_x": null,
            "grid_auto_flow": null,
            "grid_area": null,
            "grid_template_columns": null,
            "flex": null,
            "_model_name": "LayoutModel",
            "justify_items": null,
            "grid_row": null,
            "max_height": null,
            "align_content": null,
            "visibility": null,
            "align_self": null,
            "height": null,
            "min_height": null,
            "padding": null,
            "grid_auto_rows": null,
            "grid_gap": null,
            "max_width": null,
            "order": null,
            "_view_module_version": "1.2.0",
            "grid_template_areas": null,
            "object_position": null,
            "object_fit": null,
            "grid_auto_columns": null,
            "margin": null,
            "display": null,
            "left": null
          }
        },
        "6d7f575cc1634650bbb7564e87f64025": {
          "model_module": "@jupyter-widgets/controls",
          "model_name": "DescriptionStyleModel",
          "model_module_version": "1.5.0",
          "state": {
            "_view_name": "StyleView",
            "_model_name": "DescriptionStyleModel",
            "description_width": "",
            "_view_module": "@jupyter-widgets/base",
            "_model_module_version": "1.5.0",
            "_view_count": null,
            "_view_module_version": "1.2.0",
            "_model_module": "@jupyter-widgets/controls"
          }
        },
        "7488b7f6ab4146eea2755350efd09c2e": {
          "model_module": "@jupyter-widgets/base",
          "model_name": "LayoutModel",
          "model_module_version": "1.2.0",
          "state": {
            "_view_name": "LayoutView",
            "grid_template_rows": null,
            "right": null,
            "justify_content": null,
            "_view_module": "@jupyter-widgets/base",
            "overflow": null,
            "_model_module_version": "1.2.0",
            "_view_count": null,
            "flex_flow": null,
            "width": null,
            "min_width": null,
            "border": null,
            "align_items": null,
            "bottom": null,
            "_model_module": "@jupyter-widgets/base",
            "top": null,
            "grid_column": null,
            "overflow_y": null,
            "overflow_x": null,
            "grid_auto_flow": null,
            "grid_area": null,
            "grid_template_columns": null,
            "flex": null,
            "_model_name": "LayoutModel",
            "justify_items": null,
            "grid_row": null,
            "max_height": null,
            "align_content": null,
            "visibility": null,
            "align_self": null,
            "height": null,
            "min_height": null,
            "padding": null,
            "grid_auto_rows": null,
            "grid_gap": null,
            "max_width": null,
            "order": null,
            "_view_module_version": "1.2.0",
            "grid_template_areas": null,
            "object_position": null,
            "object_fit": null,
            "grid_auto_columns": null,
            "margin": null,
            "display": null,
            "left": null
          }
        },
        "b019efe384f940ec938f3b3db56e9ec5": {
          "model_module": "@jupyter-widgets/controls",
          "model_name": "HBoxModel",
          "model_module_version": "1.5.0",
          "state": {
            "_view_name": "HBoxView",
            "_dom_classes": [],
            "_model_name": "HBoxModel",
            "_view_module": "@jupyter-widgets/controls",
            "_model_module_version": "1.5.0",
            "_view_count": null,
            "_view_module_version": "1.5.0",
            "box_style": "",
            "layout": "IPY_MODEL_20c9a06144194888815344e769d80084",
            "_model_module": "@jupyter-widgets/controls",
            "children": [
              "IPY_MODEL_4c8aa49b043147578ca89ec4ea1ec59e",
              "IPY_MODEL_3ce47bcff8e14b57a5e23a0d36f17640",
              "IPY_MODEL_f3c41d6a7eaa49c3a5117d50df9bcd1c"
            ]
          }
        },
        "20c9a06144194888815344e769d80084": {
          "model_module": "@jupyter-widgets/base",
          "model_name": "LayoutModel",
          "model_module_version": "1.2.0",
          "state": {
            "_view_name": "LayoutView",
            "grid_template_rows": null,
            "right": null,
            "justify_content": null,
            "_view_module": "@jupyter-widgets/base",
            "overflow": null,
            "_model_module_version": "1.2.0",
            "_view_count": null,
            "flex_flow": null,
            "width": null,
            "min_width": null,
            "border": null,
            "align_items": null,
            "bottom": null,
            "_model_module": "@jupyter-widgets/base",
            "top": null,
            "grid_column": null,
            "overflow_y": null,
            "overflow_x": null,
            "grid_auto_flow": null,
            "grid_area": null,
            "grid_template_columns": null,
            "flex": null,
            "_model_name": "LayoutModel",
            "justify_items": null,
            "grid_row": null,
            "max_height": null,
            "align_content": null,
            "visibility": null,
            "align_self": null,
            "height": null,
            "min_height": null,
            "padding": null,
            "grid_auto_rows": null,
            "grid_gap": null,
            "max_width": null,
            "order": null,
            "_view_module_version": "1.2.0",
            "grid_template_areas": null,
            "object_position": null,
            "object_fit": null,
            "grid_auto_columns": null,
            "margin": null,
            "display": null,
            "left": null
          }
        },
        "4c8aa49b043147578ca89ec4ea1ec59e": {
          "model_module": "@jupyter-widgets/controls",
          "model_name": "HTMLModel",
          "model_module_version": "1.5.0",
          "state": {
            "_view_name": "HTMLView",
            "style": "IPY_MODEL_30e5cf53092c43b4bed9bbbff2aad18a",
            "_dom_classes": [],
            "description": "",
            "_model_name": "HTMLModel",
            "placeholder": "​",
            "_view_module": "@jupyter-widgets/controls",
            "_model_module_version": "1.5.0",
            "value": "Downloading: 100%",
            "_view_count": null,
            "_view_module_version": "1.5.0",
            "description_tooltip": null,
            "_model_module": "@jupyter-widgets/controls",
            "layout": "IPY_MODEL_dcfe4b633ef34560a2bf201426002e71"
          }
        },
        "3ce47bcff8e14b57a5e23a0d36f17640": {
          "model_module": "@jupyter-widgets/controls",
          "model_name": "FloatProgressModel",
          "model_module_version": "1.5.0",
          "state": {
            "_view_name": "ProgressView",
            "style": "IPY_MODEL_028ed82453184a32a91ffc0f56127c89",
            "_dom_classes": [],
            "description": "",
            "_model_name": "FloatProgressModel",
            "bar_style": "success",
            "max": 28,
            "_view_module": "@jupyter-widgets/controls",
            "_model_module_version": "1.5.0",
            "value": 28,
            "_view_count": null,
            "_view_module_version": "1.5.0",
            "orientation": "horizontal",
            "min": 0,
            "description_tooltip": null,
            "_model_module": "@jupyter-widgets/controls",
            "layout": "IPY_MODEL_89bf67f97ba44bddbc08e51e51bd99cb"
          }
        },
        "f3c41d6a7eaa49c3a5117d50df9bcd1c": {
          "model_module": "@jupyter-widgets/controls",
          "model_name": "HTMLModel",
          "model_module_version": "1.5.0",
          "state": {
            "_view_name": "HTMLView",
            "style": "IPY_MODEL_685548f0c3864c588c41aacaa423304e",
            "_dom_classes": [],
            "description": "",
            "_model_name": "HTMLModel",
            "placeholder": "​",
            "_view_module": "@jupyter-widgets/controls",
            "_model_module_version": "1.5.0",
            "value": " 28.0/28.0 [00:00&lt;00:00, 419B/s]",
            "_view_count": null,
            "_view_module_version": "1.5.0",
            "description_tooltip": null,
            "_model_module": "@jupyter-widgets/controls",
            "layout": "IPY_MODEL_75d7432d0bb64c09b2bc849e5e5e4ba5"
          }
        },
        "30e5cf53092c43b4bed9bbbff2aad18a": {
          "model_module": "@jupyter-widgets/controls",
          "model_name": "DescriptionStyleModel",
          "model_module_version": "1.5.0",
          "state": {
            "_view_name": "StyleView",
            "_model_name": "DescriptionStyleModel",
            "description_width": "",
            "_view_module": "@jupyter-widgets/base",
            "_model_module_version": "1.5.0",
            "_view_count": null,
            "_view_module_version": "1.2.0",
            "_model_module": "@jupyter-widgets/controls"
          }
        },
        "dcfe4b633ef34560a2bf201426002e71": {
          "model_module": "@jupyter-widgets/base",
          "model_name": "LayoutModel",
          "model_module_version": "1.2.0",
          "state": {
            "_view_name": "LayoutView",
            "grid_template_rows": null,
            "right": null,
            "justify_content": null,
            "_view_module": "@jupyter-widgets/base",
            "overflow": null,
            "_model_module_version": "1.2.0",
            "_view_count": null,
            "flex_flow": null,
            "width": null,
            "min_width": null,
            "border": null,
            "align_items": null,
            "bottom": null,
            "_model_module": "@jupyter-widgets/base",
            "top": null,
            "grid_column": null,
            "overflow_y": null,
            "overflow_x": null,
            "grid_auto_flow": null,
            "grid_area": null,
            "grid_template_columns": null,
            "flex": null,
            "_model_name": "LayoutModel",
            "justify_items": null,
            "grid_row": null,
            "max_height": null,
            "align_content": null,
            "visibility": null,
            "align_self": null,
            "height": null,
            "min_height": null,
            "padding": null,
            "grid_auto_rows": null,
            "grid_gap": null,
            "max_width": null,
            "order": null,
            "_view_module_version": "1.2.0",
            "grid_template_areas": null,
            "object_position": null,
            "object_fit": null,
            "grid_auto_columns": null,
            "margin": null,
            "display": null,
            "left": null
          }
        },
        "028ed82453184a32a91ffc0f56127c89": {
          "model_module": "@jupyter-widgets/controls",
          "model_name": "ProgressStyleModel",
          "model_module_version": "1.5.0",
          "state": {
            "_view_name": "StyleView",
            "_model_name": "ProgressStyleModel",
            "description_width": "",
            "_view_module": "@jupyter-widgets/base",
            "_model_module_version": "1.5.0",
            "_view_count": null,
            "_view_module_version": "1.2.0",
            "bar_color": null,
            "_model_module": "@jupyter-widgets/controls"
          }
        },
        "89bf67f97ba44bddbc08e51e51bd99cb": {
          "model_module": "@jupyter-widgets/base",
          "model_name": "LayoutModel",
          "model_module_version": "1.2.0",
          "state": {
            "_view_name": "LayoutView",
            "grid_template_rows": null,
            "right": null,
            "justify_content": null,
            "_view_module": "@jupyter-widgets/base",
            "overflow": null,
            "_model_module_version": "1.2.0",
            "_view_count": null,
            "flex_flow": null,
            "width": null,
            "min_width": null,
            "border": null,
            "align_items": null,
            "bottom": null,
            "_model_module": "@jupyter-widgets/base",
            "top": null,
            "grid_column": null,
            "overflow_y": null,
            "overflow_x": null,
            "grid_auto_flow": null,
            "grid_area": null,
            "grid_template_columns": null,
            "flex": null,
            "_model_name": "LayoutModel",
            "justify_items": null,
            "grid_row": null,
            "max_height": null,
            "align_content": null,
            "visibility": null,
            "align_self": null,
            "height": null,
            "min_height": null,
            "padding": null,
            "grid_auto_rows": null,
            "grid_gap": null,
            "max_width": null,
            "order": null,
            "_view_module_version": "1.2.0",
            "grid_template_areas": null,
            "object_position": null,
            "object_fit": null,
            "grid_auto_columns": null,
            "margin": null,
            "display": null,
            "left": null
          }
        },
        "685548f0c3864c588c41aacaa423304e": {
          "model_module": "@jupyter-widgets/controls",
          "model_name": "DescriptionStyleModel",
          "model_module_version": "1.5.0",
          "state": {
            "_view_name": "StyleView",
            "_model_name": "DescriptionStyleModel",
            "description_width": "",
            "_view_module": "@jupyter-widgets/base",
            "_model_module_version": "1.5.0",
            "_view_count": null,
            "_view_module_version": "1.2.0",
            "_model_module": "@jupyter-widgets/controls"
          }
        },
        "75d7432d0bb64c09b2bc849e5e5e4ba5": {
          "model_module": "@jupyter-widgets/base",
          "model_name": "LayoutModel",
          "model_module_version": "1.2.0",
          "state": {
            "_view_name": "LayoutView",
            "grid_template_rows": null,
            "right": null,
            "justify_content": null,
            "_view_module": "@jupyter-widgets/base",
            "overflow": null,
            "_model_module_version": "1.2.0",
            "_view_count": null,
            "flex_flow": null,
            "width": null,
            "min_width": null,
            "border": null,
            "align_items": null,
            "bottom": null,
            "_model_module": "@jupyter-widgets/base",
            "top": null,
            "grid_column": null,
            "overflow_y": null,
            "overflow_x": null,
            "grid_auto_flow": null,
            "grid_area": null,
            "grid_template_columns": null,
            "flex": null,
            "_model_name": "LayoutModel",
            "justify_items": null,
            "grid_row": null,
            "max_height": null,
            "align_content": null,
            "visibility": null,
            "align_self": null,
            "height": null,
            "min_height": null,
            "padding": null,
            "grid_auto_rows": null,
            "grid_gap": null,
            "max_width": null,
            "order": null,
            "_view_module_version": "1.2.0",
            "grid_template_areas": null,
            "object_position": null,
            "object_fit": null,
            "grid_auto_columns": null,
            "margin": null,
            "display": null,
            "left": null
          }
        },
        "83d30eb1d541478396d05ef5fe1fe544": {
          "model_module": "@jupyter-widgets/controls",
          "model_name": "HBoxModel",
          "model_module_version": "1.5.0",
          "state": {
            "_view_name": "HBoxView",
            "_dom_classes": [],
            "_model_name": "HBoxModel",
            "_view_module": "@jupyter-widgets/controls",
            "_model_module_version": "1.5.0",
            "_view_count": null,
            "_view_module_version": "1.5.0",
            "box_style": "",
            "layout": "IPY_MODEL_3c82217fa7674e2c9a2323a881732af8",
            "_model_module": "@jupyter-widgets/controls",
            "children": [
              "IPY_MODEL_53261dff676641518857c88bdd61a160",
              "IPY_MODEL_321494c714c94de4ad58dc8acdd9f216",
              "IPY_MODEL_7554e01a5de245dd8c09a72beceff365"
            ]
          }
        },
        "3c82217fa7674e2c9a2323a881732af8": {
          "model_module": "@jupyter-widgets/base",
          "model_name": "LayoutModel",
          "model_module_version": "1.2.0",
          "state": {
            "_view_name": "LayoutView",
            "grid_template_rows": null,
            "right": null,
            "justify_content": null,
            "_view_module": "@jupyter-widgets/base",
            "overflow": null,
            "_model_module_version": "1.2.0",
            "_view_count": null,
            "flex_flow": null,
            "width": null,
            "min_width": null,
            "border": null,
            "align_items": null,
            "bottom": null,
            "_model_module": "@jupyter-widgets/base",
            "top": null,
            "grid_column": null,
            "overflow_y": null,
            "overflow_x": null,
            "grid_auto_flow": null,
            "grid_area": null,
            "grid_template_columns": null,
            "flex": null,
            "_model_name": "LayoutModel",
            "justify_items": null,
            "grid_row": null,
            "max_height": null,
            "align_content": null,
            "visibility": null,
            "align_self": null,
            "height": null,
            "min_height": null,
            "padding": null,
            "grid_auto_rows": null,
            "grid_gap": null,
            "max_width": null,
            "order": null,
            "_view_module_version": "1.2.0",
            "grid_template_areas": null,
            "object_position": null,
            "object_fit": null,
            "grid_auto_columns": null,
            "margin": null,
            "display": null,
            "left": null
          }
        },
        "53261dff676641518857c88bdd61a160": {
          "model_module": "@jupyter-widgets/controls",
          "model_name": "HTMLModel",
          "model_module_version": "1.5.0",
          "state": {
            "_view_name": "HTMLView",
            "style": "IPY_MODEL_b6308467c96d42d4a1bd6cfc743c202a",
            "_dom_classes": [],
            "description": "",
            "_model_name": "HTMLModel",
            "placeholder": "​",
            "_view_module": "@jupyter-widgets/controls",
            "_model_module_version": "1.5.0",
            "value": "Downloading: 100%",
            "_view_count": null,
            "_view_module_version": "1.5.0",
            "description_tooltip": null,
            "_model_module": "@jupyter-widgets/controls",
            "layout": "IPY_MODEL_ffaa7cce767c49818d2f6d0eb32090bc"
          }
        },
        "321494c714c94de4ad58dc8acdd9f216": {
          "model_module": "@jupyter-widgets/controls",
          "model_name": "FloatProgressModel",
          "model_module_version": "1.5.0",
          "state": {
            "_view_name": "ProgressView",
            "style": "IPY_MODEL_a34b900a2f79407bb4c06a1dc4cbdcee",
            "_dom_classes": [],
            "description": "",
            "_model_name": "FloatProgressModel",
            "bar_style": "success",
            "max": 466062,
            "_view_module": "@jupyter-widgets/controls",
            "_model_module_version": "1.5.0",
            "value": 466062,
            "_view_count": null,
            "_view_module_version": "1.5.0",
            "orientation": "horizontal",
            "min": 0,
            "description_tooltip": null,
            "_model_module": "@jupyter-widgets/controls",
            "layout": "IPY_MODEL_b923008bb7634178ae14d30717370e45"
          }
        },
        "7554e01a5de245dd8c09a72beceff365": {
          "model_module": "@jupyter-widgets/controls",
          "model_name": "HTMLModel",
          "model_module_version": "1.5.0",
          "state": {
            "_view_name": "HTMLView",
            "style": "IPY_MODEL_ea2ea418a24440f1aa55c756b3a01b89",
            "_dom_classes": [],
            "description": "",
            "_model_name": "HTMLModel",
            "placeholder": "​",
            "_view_module": "@jupyter-widgets/controls",
            "_model_module_version": "1.5.0",
            "value": " 455k/455k [00:00&lt;00:00, 883kB/s]",
            "_view_count": null,
            "_view_module_version": "1.5.0",
            "description_tooltip": null,
            "_model_module": "@jupyter-widgets/controls",
            "layout": "IPY_MODEL_ac36bb7c05ab4726a14f99d86a851a49"
          }
        },
        "b6308467c96d42d4a1bd6cfc743c202a": {
          "model_module": "@jupyter-widgets/controls",
          "model_name": "DescriptionStyleModel",
          "model_module_version": "1.5.0",
          "state": {
            "_view_name": "StyleView",
            "_model_name": "DescriptionStyleModel",
            "description_width": "",
            "_view_module": "@jupyter-widgets/base",
            "_model_module_version": "1.5.0",
            "_view_count": null,
            "_view_module_version": "1.2.0",
            "_model_module": "@jupyter-widgets/controls"
          }
        },
        "ffaa7cce767c49818d2f6d0eb32090bc": {
          "model_module": "@jupyter-widgets/base",
          "model_name": "LayoutModel",
          "model_module_version": "1.2.0",
          "state": {
            "_view_name": "LayoutView",
            "grid_template_rows": null,
            "right": null,
            "justify_content": null,
            "_view_module": "@jupyter-widgets/base",
            "overflow": null,
            "_model_module_version": "1.2.0",
            "_view_count": null,
            "flex_flow": null,
            "width": null,
            "min_width": null,
            "border": null,
            "align_items": null,
            "bottom": null,
            "_model_module": "@jupyter-widgets/base",
            "top": null,
            "grid_column": null,
            "overflow_y": null,
            "overflow_x": null,
            "grid_auto_flow": null,
            "grid_area": null,
            "grid_template_columns": null,
            "flex": null,
            "_model_name": "LayoutModel",
            "justify_items": null,
            "grid_row": null,
            "max_height": null,
            "align_content": null,
            "visibility": null,
            "align_self": null,
            "height": null,
            "min_height": null,
            "padding": null,
            "grid_auto_rows": null,
            "grid_gap": null,
            "max_width": null,
            "order": null,
            "_view_module_version": "1.2.0",
            "grid_template_areas": null,
            "object_position": null,
            "object_fit": null,
            "grid_auto_columns": null,
            "margin": null,
            "display": null,
            "left": null
          }
        },
        "a34b900a2f79407bb4c06a1dc4cbdcee": {
          "model_module": "@jupyter-widgets/controls",
          "model_name": "ProgressStyleModel",
          "model_module_version": "1.5.0",
          "state": {
            "_view_name": "StyleView",
            "_model_name": "ProgressStyleModel",
            "description_width": "",
            "_view_module": "@jupyter-widgets/base",
            "_model_module_version": "1.5.0",
            "_view_count": null,
            "_view_module_version": "1.2.0",
            "bar_color": null,
            "_model_module": "@jupyter-widgets/controls"
          }
        },
        "b923008bb7634178ae14d30717370e45": {
          "model_module": "@jupyter-widgets/base",
          "model_name": "LayoutModel",
          "model_module_version": "1.2.0",
          "state": {
            "_view_name": "LayoutView",
            "grid_template_rows": null,
            "right": null,
            "justify_content": null,
            "_view_module": "@jupyter-widgets/base",
            "overflow": null,
            "_model_module_version": "1.2.0",
            "_view_count": null,
            "flex_flow": null,
            "width": null,
            "min_width": null,
            "border": null,
            "align_items": null,
            "bottom": null,
            "_model_module": "@jupyter-widgets/base",
            "top": null,
            "grid_column": null,
            "overflow_y": null,
            "overflow_x": null,
            "grid_auto_flow": null,
            "grid_area": null,
            "grid_template_columns": null,
            "flex": null,
            "_model_name": "LayoutModel",
            "justify_items": null,
            "grid_row": null,
            "max_height": null,
            "align_content": null,
            "visibility": null,
            "align_self": null,
            "height": null,
            "min_height": null,
            "padding": null,
            "grid_auto_rows": null,
            "grid_gap": null,
            "max_width": null,
            "order": null,
            "_view_module_version": "1.2.0",
            "grid_template_areas": null,
            "object_position": null,
            "object_fit": null,
            "grid_auto_columns": null,
            "margin": null,
            "display": null,
            "left": null
          }
        },
        "ea2ea418a24440f1aa55c756b3a01b89": {
          "model_module": "@jupyter-widgets/controls",
          "model_name": "DescriptionStyleModel",
          "model_module_version": "1.5.0",
          "state": {
            "_view_name": "StyleView",
            "_model_name": "DescriptionStyleModel",
            "description_width": "",
            "_view_module": "@jupyter-widgets/base",
            "_model_module_version": "1.5.0",
            "_view_count": null,
            "_view_module_version": "1.2.0",
            "_model_module": "@jupyter-widgets/controls"
          }
        },
        "ac36bb7c05ab4726a14f99d86a851a49": {
          "model_module": "@jupyter-widgets/base",
          "model_name": "LayoutModel",
          "model_module_version": "1.2.0",
          "state": {
            "_view_name": "LayoutView",
            "grid_template_rows": null,
            "right": null,
            "justify_content": null,
            "_view_module": "@jupyter-widgets/base",
            "overflow": null,
            "_model_module_version": "1.2.0",
            "_view_count": null,
            "flex_flow": null,
            "width": null,
            "min_width": null,
            "border": null,
            "align_items": null,
            "bottom": null,
            "_model_module": "@jupyter-widgets/base",
            "top": null,
            "grid_column": null,
            "overflow_y": null,
            "overflow_x": null,
            "grid_auto_flow": null,
            "grid_area": null,
            "grid_template_columns": null,
            "flex": null,
            "_model_name": "LayoutModel",
            "justify_items": null,
            "grid_row": null,
            "max_height": null,
            "align_content": null,
            "visibility": null,
            "align_self": null,
            "height": null,
            "min_height": null,
            "padding": null,
            "grid_auto_rows": null,
            "grid_gap": null,
            "max_width": null,
            "order": null,
            "_view_module_version": "1.2.0",
            "grid_template_areas": null,
            "object_position": null,
            "object_fit": null,
            "grid_auto_columns": null,
            "margin": null,
            "display": null,
            "left": null
          }
        },
        "62413f4fb1434dd9adc0327a1fbee5a6": {
          "model_module": "@jupyter-widgets/controls",
          "model_name": "HBoxModel",
          "model_module_version": "1.5.0",
          "state": {
            "_view_name": "HBoxView",
            "_dom_classes": [],
            "_model_name": "HBoxModel",
            "_view_module": "@jupyter-widgets/controls",
            "_model_module_version": "1.5.0",
            "_view_count": null,
            "_view_module_version": "1.5.0",
            "box_style": "",
            "layout": "IPY_MODEL_80c8415c48194abd946470982af45786",
            "_model_module": "@jupyter-widgets/controls",
            "children": [
              "IPY_MODEL_e52de605f4784e79b47b598213f9d52c",
              "IPY_MODEL_20cb76c9dbc74fe88b5844d79d99a00f",
              "IPY_MODEL_16f0974823844a08a516480a7bf8c3bf"
            ]
          }
        },
        "80c8415c48194abd946470982af45786": {
          "model_module": "@jupyter-widgets/base",
          "model_name": "LayoutModel",
          "model_module_version": "1.2.0",
          "state": {
            "_view_name": "LayoutView",
            "grid_template_rows": null,
            "right": null,
            "justify_content": null,
            "_view_module": "@jupyter-widgets/base",
            "overflow": null,
            "_model_module_version": "1.2.0",
            "_view_count": null,
            "flex_flow": null,
            "width": null,
            "min_width": null,
            "border": null,
            "align_items": null,
            "bottom": null,
            "_model_module": "@jupyter-widgets/base",
            "top": null,
            "grid_column": null,
            "overflow_y": null,
            "overflow_x": null,
            "grid_auto_flow": null,
            "grid_area": null,
            "grid_template_columns": null,
            "flex": null,
            "_model_name": "LayoutModel",
            "justify_items": null,
            "grid_row": null,
            "max_height": null,
            "align_content": null,
            "visibility": null,
            "align_self": null,
            "height": null,
            "min_height": null,
            "padding": null,
            "grid_auto_rows": null,
            "grid_gap": null,
            "max_width": null,
            "order": null,
            "_view_module_version": "1.2.0",
            "grid_template_areas": null,
            "object_position": null,
            "object_fit": null,
            "grid_auto_columns": null,
            "margin": null,
            "display": null,
            "left": null
          }
        },
        "e52de605f4784e79b47b598213f9d52c": {
          "model_module": "@jupyter-widgets/controls",
          "model_name": "HTMLModel",
          "model_module_version": "1.5.0",
          "state": {
            "_view_name": "HTMLView",
            "style": "IPY_MODEL_65e350290c8b4b03aba9a179f665b2fb",
            "_dom_classes": [],
            "description": "",
            "_model_name": "HTMLModel",
            "placeholder": "​",
            "_view_module": "@jupyter-widgets/controls",
            "_model_module_version": "1.5.0",
            "value": "Downloading: 100%",
            "_view_count": null,
            "_view_module_version": "1.5.0",
            "description_tooltip": null,
            "_model_module": "@jupyter-widgets/controls",
            "layout": "IPY_MODEL_b83e408d0ffa4f1199fe9de28ac1f114"
          }
        },
        "20cb76c9dbc74fe88b5844d79d99a00f": {
          "model_module": "@jupyter-widgets/controls",
          "model_name": "FloatProgressModel",
          "model_module_version": "1.5.0",
          "state": {
            "_view_name": "ProgressView",
            "style": "IPY_MODEL_214a299c88b34270a9fbdae17839772c",
            "_dom_classes": [],
            "description": "",
            "_model_name": "FloatProgressModel",
            "bar_style": "success",
            "max": 570,
            "_view_module": "@jupyter-widgets/controls",
            "_model_module_version": "1.5.0",
            "value": 570,
            "_view_count": null,
            "_view_module_version": "1.5.0",
            "orientation": "horizontal",
            "min": 0,
            "description_tooltip": null,
            "_model_module": "@jupyter-widgets/controls",
            "layout": "IPY_MODEL_48a60e9732be4725b020ff7d2a91e9e6"
          }
        },
        "16f0974823844a08a516480a7bf8c3bf": {
          "model_module": "@jupyter-widgets/controls",
          "model_name": "HTMLModel",
          "model_module_version": "1.5.0",
          "state": {
            "_view_name": "HTMLView",
            "style": "IPY_MODEL_55aa19cb6a2741349aa27ae66b0c6e06",
            "_dom_classes": [],
            "description": "",
            "_model_name": "HTMLModel",
            "placeholder": "​",
            "_view_module": "@jupyter-widgets/controls",
            "_model_module_version": "1.5.0",
            "value": " 570/570 [00:00&lt;00:00, 12.8kB/s]",
            "_view_count": null,
            "_view_module_version": "1.5.0",
            "description_tooltip": null,
            "_model_module": "@jupyter-widgets/controls",
            "layout": "IPY_MODEL_5efdb4f3963a4d629cf67f292df4a8e7"
          }
        },
        "65e350290c8b4b03aba9a179f665b2fb": {
          "model_module": "@jupyter-widgets/controls",
          "model_name": "DescriptionStyleModel",
          "model_module_version": "1.5.0",
          "state": {
            "_view_name": "StyleView",
            "_model_name": "DescriptionStyleModel",
            "description_width": "",
            "_view_module": "@jupyter-widgets/base",
            "_model_module_version": "1.5.0",
            "_view_count": null,
            "_view_module_version": "1.2.0",
            "_model_module": "@jupyter-widgets/controls"
          }
        },
        "b83e408d0ffa4f1199fe9de28ac1f114": {
          "model_module": "@jupyter-widgets/base",
          "model_name": "LayoutModel",
          "model_module_version": "1.2.0",
          "state": {
            "_view_name": "LayoutView",
            "grid_template_rows": null,
            "right": null,
            "justify_content": null,
            "_view_module": "@jupyter-widgets/base",
            "overflow": null,
            "_model_module_version": "1.2.0",
            "_view_count": null,
            "flex_flow": null,
            "width": null,
            "min_width": null,
            "border": null,
            "align_items": null,
            "bottom": null,
            "_model_module": "@jupyter-widgets/base",
            "top": null,
            "grid_column": null,
            "overflow_y": null,
            "overflow_x": null,
            "grid_auto_flow": null,
            "grid_area": null,
            "grid_template_columns": null,
            "flex": null,
            "_model_name": "LayoutModel",
            "justify_items": null,
            "grid_row": null,
            "max_height": null,
            "align_content": null,
            "visibility": null,
            "align_self": null,
            "height": null,
            "min_height": null,
            "padding": null,
            "grid_auto_rows": null,
            "grid_gap": null,
            "max_width": null,
            "order": null,
            "_view_module_version": "1.2.0",
            "grid_template_areas": null,
            "object_position": null,
            "object_fit": null,
            "grid_auto_columns": null,
            "margin": null,
            "display": null,
            "left": null
          }
        },
        "214a299c88b34270a9fbdae17839772c": {
          "model_module": "@jupyter-widgets/controls",
          "model_name": "ProgressStyleModel",
          "model_module_version": "1.5.0",
          "state": {
            "_view_name": "StyleView",
            "_model_name": "ProgressStyleModel",
            "description_width": "",
            "_view_module": "@jupyter-widgets/base",
            "_model_module_version": "1.5.0",
            "_view_count": null,
            "_view_module_version": "1.2.0",
            "bar_color": null,
            "_model_module": "@jupyter-widgets/controls"
          }
        },
        "48a60e9732be4725b020ff7d2a91e9e6": {
          "model_module": "@jupyter-widgets/base",
          "model_name": "LayoutModel",
          "model_module_version": "1.2.0",
          "state": {
            "_view_name": "LayoutView",
            "grid_template_rows": null,
            "right": null,
            "justify_content": null,
            "_view_module": "@jupyter-widgets/base",
            "overflow": null,
            "_model_module_version": "1.2.0",
            "_view_count": null,
            "flex_flow": null,
            "width": null,
            "min_width": null,
            "border": null,
            "align_items": null,
            "bottom": null,
            "_model_module": "@jupyter-widgets/base",
            "top": null,
            "grid_column": null,
            "overflow_y": null,
            "overflow_x": null,
            "grid_auto_flow": null,
            "grid_area": null,
            "grid_template_columns": null,
            "flex": null,
            "_model_name": "LayoutModel",
            "justify_items": null,
            "grid_row": null,
            "max_height": null,
            "align_content": null,
            "visibility": null,
            "align_self": null,
            "height": null,
            "min_height": null,
            "padding": null,
            "grid_auto_rows": null,
            "grid_gap": null,
            "max_width": null,
            "order": null,
            "_view_module_version": "1.2.0",
            "grid_template_areas": null,
            "object_position": null,
            "object_fit": null,
            "grid_auto_columns": null,
            "margin": null,
            "display": null,
            "left": null
          }
        },
        "55aa19cb6a2741349aa27ae66b0c6e06": {
          "model_module": "@jupyter-widgets/controls",
          "model_name": "DescriptionStyleModel",
          "model_module_version": "1.5.0",
          "state": {
            "_view_name": "StyleView",
            "_model_name": "DescriptionStyleModel",
            "description_width": "",
            "_view_module": "@jupyter-widgets/base",
            "_model_module_version": "1.5.0",
            "_view_count": null,
            "_view_module_version": "1.2.0",
            "_model_module": "@jupyter-widgets/controls"
          }
        },
        "5efdb4f3963a4d629cf67f292df4a8e7": {
          "model_module": "@jupyter-widgets/base",
          "model_name": "LayoutModel",
          "model_module_version": "1.2.0",
          "state": {
            "_view_name": "LayoutView",
            "grid_template_rows": null,
            "right": null,
            "justify_content": null,
            "_view_module": "@jupyter-widgets/base",
            "overflow": null,
            "_model_module_version": "1.2.0",
            "_view_count": null,
            "flex_flow": null,
            "width": null,
            "min_width": null,
            "border": null,
            "align_items": null,
            "bottom": null,
            "_model_module": "@jupyter-widgets/base",
            "top": null,
            "grid_column": null,
            "overflow_y": null,
            "overflow_x": null,
            "grid_auto_flow": null,
            "grid_area": null,
            "grid_template_columns": null,
            "flex": null,
            "_model_name": "LayoutModel",
            "justify_items": null,
            "grid_row": null,
            "max_height": null,
            "align_content": null,
            "visibility": null,
            "align_self": null,
            "height": null,
            "min_height": null,
            "padding": null,
            "grid_auto_rows": null,
            "grid_gap": null,
            "max_width": null,
            "order": null,
            "_view_module_version": "1.2.0",
            "grid_template_areas": null,
            "object_position": null,
            "object_fit": null,
            "grid_auto_columns": null,
            "margin": null,
            "display": null,
            "left": null
          }
        }
      }
    }
  },
  "cells": [
    {
      "cell_type": "markdown",
      "metadata": {
        "id": "view-in-github",
        "colab_type": "text"
      },
      "source": [
        "<a href=\"https://colab.research.google.com/github/Prakhar314/COL764-Project/blob/main/pointwise.ipynb\" target=\"_parent\"><img src=\"https://colab.research.google.com/assets/colab-badge.svg\" alt=\"Open In Colab\"/></a>"
      ]
    },
    {
      "cell_type": "code",
      "metadata": {
        "colab": {
          "base_uri": "https://localhost:8080/"
        },
        "id": "ht6Ah8MrMDKi",
        "outputId": "b979c42d-0774-4301-f5c6-ef4745247fe8"
      },
      "source": [
        "!pip install tensorflow-addons"
      ],
      "execution_count": null,
      "outputs": [
        {
          "output_type": "stream",
          "name": "stdout",
          "text": [
            "Collecting tensorflow-addons\n",
            "  Downloading tensorflow_addons-0.15.0-cp37-cp37m-manylinux_2_12_x86_64.manylinux2010_x86_64.whl (1.1 MB)\n",
            "\u001b[?25l\r\u001b[K     |▎                               | 10 kB 20.2 MB/s eta 0:00:01\r\u001b[K     |▋                               | 20 kB 22.9 MB/s eta 0:00:01\r\u001b[K     |▉                               | 30 kB 10.9 MB/s eta 0:00:01\r\u001b[K     |█▏                              | 40 kB 11.9 MB/s eta 0:00:01\r\u001b[K     |█▌                              | 51 kB 5.7 MB/s eta 0:00:01\r\u001b[K     |█▊                              | 61 kB 6.1 MB/s eta 0:00:01\r\u001b[K     |██                              | 71 kB 5.6 MB/s eta 0:00:01\r\u001b[K     |██▍                             | 81 kB 6.2 MB/s eta 0:00:01\r\u001b[K     |██▋                             | 92 kB 6.2 MB/s eta 0:00:01\r\u001b[K     |███                             | 102 kB 5.5 MB/s eta 0:00:01\r\u001b[K     |███▎                            | 112 kB 5.5 MB/s eta 0:00:01\r\u001b[K     |███▌                            | 122 kB 5.5 MB/s eta 0:00:01\r\u001b[K     |███▉                            | 133 kB 5.5 MB/s eta 0:00:01\r\u001b[K     |████▏                           | 143 kB 5.5 MB/s eta 0:00:01\r\u001b[K     |████▍                           | 153 kB 5.5 MB/s eta 0:00:01\r\u001b[K     |████▊                           | 163 kB 5.5 MB/s eta 0:00:01\r\u001b[K     |█████                           | 174 kB 5.5 MB/s eta 0:00:01\r\u001b[K     |█████▎                          | 184 kB 5.5 MB/s eta 0:00:01\r\u001b[K     |█████▋                          | 194 kB 5.5 MB/s eta 0:00:01\r\u001b[K     |█████▉                          | 204 kB 5.5 MB/s eta 0:00:01\r\u001b[K     |██████▏                         | 215 kB 5.5 MB/s eta 0:00:01\r\u001b[K     |██████▌                         | 225 kB 5.5 MB/s eta 0:00:01\r\u001b[K     |██████▊                         | 235 kB 5.5 MB/s eta 0:00:01\r\u001b[K     |███████                         | 245 kB 5.5 MB/s eta 0:00:01\r\u001b[K     |███████▍                        | 256 kB 5.5 MB/s eta 0:00:01\r\u001b[K     |███████▋                        | 266 kB 5.5 MB/s eta 0:00:01\r\u001b[K     |████████                        | 276 kB 5.5 MB/s eta 0:00:01\r\u001b[K     |████████▎                       | 286 kB 5.5 MB/s eta 0:00:01\r\u001b[K     |████████▌                       | 296 kB 5.5 MB/s eta 0:00:01\r\u001b[K     |████████▉                       | 307 kB 5.5 MB/s eta 0:00:01\r\u001b[K     |█████████                       | 317 kB 5.5 MB/s eta 0:00:01\r\u001b[K     |█████████▍                      | 327 kB 5.5 MB/s eta 0:00:01\r\u001b[K     |█████████▊                      | 337 kB 5.5 MB/s eta 0:00:01\r\u001b[K     |██████████                      | 348 kB 5.5 MB/s eta 0:00:01\r\u001b[K     |██████████▎                     | 358 kB 5.5 MB/s eta 0:00:01\r\u001b[K     |██████████▋                     | 368 kB 5.5 MB/s eta 0:00:01\r\u001b[K     |██████████▉                     | 378 kB 5.5 MB/s eta 0:00:01\r\u001b[K     |███████████▏                    | 389 kB 5.5 MB/s eta 0:00:01\r\u001b[K     |███████████▌                    | 399 kB 5.5 MB/s eta 0:00:01\r\u001b[K     |███████████▊                    | 409 kB 5.5 MB/s eta 0:00:01\r\u001b[K     |████████████                    | 419 kB 5.5 MB/s eta 0:00:01\r\u001b[K     |████████████▍                   | 430 kB 5.5 MB/s eta 0:00:01\r\u001b[K     |████████████▋                   | 440 kB 5.5 MB/s eta 0:00:01\r\u001b[K     |█████████████                   | 450 kB 5.5 MB/s eta 0:00:01\r\u001b[K     |█████████████▎                  | 460 kB 5.5 MB/s eta 0:00:01\r\u001b[K     |█████████████▌                  | 471 kB 5.5 MB/s eta 0:00:01\r\u001b[K     |█████████████▉                  | 481 kB 5.5 MB/s eta 0:00:01\r\u001b[K     |██████████████                  | 491 kB 5.5 MB/s eta 0:00:01\r\u001b[K     |██████████████▍                 | 501 kB 5.5 MB/s eta 0:00:01\r\u001b[K     |██████████████▊                 | 512 kB 5.5 MB/s eta 0:00:01\r\u001b[K     |███████████████                 | 522 kB 5.5 MB/s eta 0:00:01\r\u001b[K     |███████████████▎                | 532 kB 5.5 MB/s eta 0:00:01\r\u001b[K     |███████████████▋                | 542 kB 5.5 MB/s eta 0:00:01\r\u001b[K     |███████████████▉                | 552 kB 5.5 MB/s eta 0:00:01\r\u001b[K     |████████████████▏               | 563 kB 5.5 MB/s eta 0:00:01\r\u001b[K     |████████████████▌               | 573 kB 5.5 MB/s eta 0:00:01\r\u001b[K     |████████████████▊               | 583 kB 5.5 MB/s eta 0:00:01\r\u001b[K     |█████████████████               | 593 kB 5.5 MB/s eta 0:00:01\r\u001b[K     |█████████████████▍              | 604 kB 5.5 MB/s eta 0:00:01\r\u001b[K     |█████████████████▋              | 614 kB 5.5 MB/s eta 0:00:01\r\u001b[K     |██████████████████              | 624 kB 5.5 MB/s eta 0:00:01\r\u001b[K     |██████████████████▏             | 634 kB 5.5 MB/s eta 0:00:01\r\u001b[K     |██████████████████▌             | 645 kB 5.5 MB/s eta 0:00:01\r\u001b[K     |██████████████████▉             | 655 kB 5.5 MB/s eta 0:00:01\r\u001b[K     |███████████████████             | 665 kB 5.5 MB/s eta 0:00:01\r\u001b[K     |███████████████████▍            | 675 kB 5.5 MB/s eta 0:00:01\r\u001b[K     |███████████████████▊            | 686 kB 5.5 MB/s eta 0:00:01\r\u001b[K     |████████████████████            | 696 kB 5.5 MB/s eta 0:00:01\r\u001b[K     |████████████████████▎           | 706 kB 5.5 MB/s eta 0:00:01\r\u001b[K     |████████████████████▋           | 716 kB 5.5 MB/s eta 0:00:01\r\u001b[K     |████████████████████▉           | 727 kB 5.5 MB/s eta 0:00:01\r\u001b[K     |█████████████████████▏          | 737 kB 5.5 MB/s eta 0:00:01\r\u001b[K     |█████████████████████▌          | 747 kB 5.5 MB/s eta 0:00:01\r\u001b[K     |█████████████████████▊          | 757 kB 5.5 MB/s eta 0:00:01\r\u001b[K     |██████████████████████          | 768 kB 5.5 MB/s eta 0:00:01\r\u001b[K     |██████████████████████▎         | 778 kB 5.5 MB/s eta 0:00:01\r\u001b[K     |██████████████████████▋         | 788 kB 5.5 MB/s eta 0:00:01\r\u001b[K     |███████████████████████         | 798 kB 5.5 MB/s eta 0:00:01\r\u001b[K     |███████████████████████▏        | 808 kB 5.5 MB/s eta 0:00:01\r\u001b[K     |███████████████████████▌        | 819 kB 5.5 MB/s eta 0:00:01\r\u001b[K     |███████████████████████▉        | 829 kB 5.5 MB/s eta 0:00:01\r\u001b[K     |████████████████████████        | 839 kB 5.5 MB/s eta 0:00:01\r\u001b[K     |████████████████████████▍       | 849 kB 5.5 MB/s eta 0:00:01\r\u001b[K     |████████████████████████▊       | 860 kB 5.5 MB/s eta 0:00:01\r\u001b[K     |█████████████████████████       | 870 kB 5.5 MB/s eta 0:00:01\r\u001b[K     |█████████████████████████▎      | 880 kB 5.5 MB/s eta 0:00:01\r\u001b[K     |█████████████████████████▋      | 890 kB 5.5 MB/s eta 0:00:01\r\u001b[K     |█████████████████████████▉      | 901 kB 5.5 MB/s eta 0:00:01\r\u001b[K     |██████████████████████████▏     | 911 kB 5.5 MB/s eta 0:00:01\r\u001b[K     |██████████████████████████▌     | 921 kB 5.5 MB/s eta 0:00:01\r\u001b[K     |██████████████████████████▊     | 931 kB 5.5 MB/s eta 0:00:01\r\u001b[K     |███████████████████████████     | 942 kB 5.5 MB/s eta 0:00:01\r\u001b[K     |███████████████████████████▎    | 952 kB 5.5 MB/s eta 0:00:01\r\u001b[K     |███████████████████████████▋    | 962 kB 5.5 MB/s eta 0:00:01\r\u001b[K     |████████████████████████████    | 972 kB 5.5 MB/s eta 0:00:01\r\u001b[K     |████████████████████████████▏   | 983 kB 5.5 MB/s eta 0:00:01\r\u001b[K     |████████████████████████████▌   | 993 kB 5.5 MB/s eta 0:00:01\r\u001b[K     |████████████████████████████▉   | 1.0 MB 5.5 MB/s eta 0:00:01\r\u001b[K     |█████████████████████████████   | 1.0 MB 5.5 MB/s eta 0:00:01\r\u001b[K     |█████████████████████████████▍  | 1.0 MB 5.5 MB/s eta 0:00:01\r\u001b[K     |█████████████████████████████▊  | 1.0 MB 5.5 MB/s eta 0:00:01\r\u001b[K     |██████████████████████████████  | 1.0 MB 5.5 MB/s eta 0:00:01\r\u001b[K     |██████████████████████████████▎ | 1.1 MB 5.5 MB/s eta 0:00:01\r\u001b[K     |██████████████████████████████▋ | 1.1 MB 5.5 MB/s eta 0:00:01\r\u001b[K     |██████████████████████████████▉ | 1.1 MB 5.5 MB/s eta 0:00:01\r\u001b[K     |███████████████████████████████▏| 1.1 MB 5.5 MB/s eta 0:00:01\r\u001b[K     |███████████████████████████████▍| 1.1 MB 5.5 MB/s eta 0:00:01\r\u001b[K     |███████████████████████████████▊| 1.1 MB 5.5 MB/s eta 0:00:01\r\u001b[K     |████████████████████████████████| 1.1 MB 5.5 MB/s \n",
            "\u001b[?25hRequirement already satisfied: typeguard>=2.7 in /usr/local/lib/python3.7/dist-packages (from tensorflow-addons) (2.7.1)\n",
            "Installing collected packages: tensorflow-addons\n",
            "Successfully installed tensorflow-addons-0.15.0\n"
          ]
        }
      ]
    },
    {
      "cell_type": "code",
      "metadata": {
        "colab": {
          "base_uri": "https://localhost:8080/"
        },
        "id": "obZ9Fwuv-dkz",
        "outputId": "aafafbaf-9c0b-4347-f849-6cc96e0d9e7a"
      },
      "source": [
        "!pip list -v | grep tensorflow"
      ],
      "execution_count": null,
      "outputs": [
        {
          "output_type": "stream",
          "name": "stdout",
          "text": [
            "tensorflow                    2.7.0          /usr/local/lib/python3.7/dist-packages pip\n",
            "tensorflow-addons             0.15.0         /usr/local/lib/python3.7/dist-packages pip\n",
            "tensorflow-datasets           4.0.1          /usr/local/lib/python3.7/dist-packages pip\n",
            "tensorflow-estimator          2.7.0          /usr/local/lib/python3.7/dist-packages pip\n",
            "tensorflow-gcs-config         2.7.0          /usr/local/lib/python3.7/dist-packages pip\n",
            "tensorflow-hub                0.12.0         /usr/local/lib/python3.7/dist-packages pip\n",
            "tensorflow-io-gcs-filesystem  0.22.0         /usr/local/lib/python3.7/dist-packages pip\n",
            "tensorflow-metadata           1.4.0          /usr/local/lib/python3.7/dist-packages pip\n",
            "tensorflow-probability        0.14.1         /usr/local/lib/python3.7/dist-packages pip\n"
          ]
        }
      ]
    },
    {
      "cell_type": "code",
      "metadata": {
        "colab": {
          "base_uri": "https://localhost:8080/"
        },
        "id": "c4vrwrf0IeaX",
        "outputId": "82a2e42f-0227-42b7-ddd5-b4cda0e178cc"
      },
      "source": [
        "!pip install transformers"
      ],
      "execution_count": null,
      "outputs": [
        {
          "output_type": "stream",
          "name": "stdout",
          "text": [
            "Collecting transformers\n",
            "  Downloading transformers-4.12.5-py3-none-any.whl (3.1 MB)\n",
            "\u001b[K     |████████████████████████████████| 3.1 MB 5.3 MB/s \n",
            "\u001b[?25hCollecting tokenizers<0.11,>=0.10.1\n",
            "  Downloading tokenizers-0.10.3-cp37-cp37m-manylinux_2_5_x86_64.manylinux1_x86_64.manylinux_2_12_x86_64.manylinux2010_x86_64.whl (3.3 MB)\n",
            "\u001b[K     |████████████████████████████████| 3.3 MB 35.5 MB/s \n",
            "\u001b[?25hCollecting huggingface-hub<1.0,>=0.1.0\n",
            "  Downloading huggingface_hub-0.1.2-py3-none-any.whl (59 kB)\n",
            "\u001b[K     |████████████████████████████████| 59 kB 6.3 MB/s \n",
            "\u001b[?25hRequirement already satisfied: requests in /usr/local/lib/python3.7/dist-packages (from transformers) (2.23.0)\n",
            "Requirement already satisfied: tqdm>=4.27 in /usr/local/lib/python3.7/dist-packages (from transformers) (4.62.3)\n",
            "Requirement already satisfied: filelock in /usr/local/lib/python3.7/dist-packages (from transformers) (3.3.2)\n",
            "Requirement already satisfied: numpy>=1.17 in /usr/local/lib/python3.7/dist-packages (from transformers) (1.19.5)\n",
            "Requirement already satisfied: packaging>=20.0 in /usr/local/lib/python3.7/dist-packages (from transformers) (21.2)\n",
            "Requirement already satisfied: importlib-metadata in /usr/local/lib/python3.7/dist-packages (from transformers) (4.8.2)\n",
            "Collecting sacremoses\n",
            "  Downloading sacremoses-0.0.46-py3-none-any.whl (895 kB)\n",
            "\u001b[K     |████████████████████████████████| 895 kB 33.9 MB/s \n",
            "\u001b[?25hCollecting pyyaml>=5.1\n",
            "  Downloading PyYAML-6.0-cp37-cp37m-manylinux_2_5_x86_64.manylinux1_x86_64.manylinux_2_12_x86_64.manylinux2010_x86_64.whl (596 kB)\n",
            "\u001b[K     |████████████████████████████████| 596 kB 40.8 MB/s \n",
            "\u001b[?25hRequirement already satisfied: regex!=2019.12.17 in /usr/local/lib/python3.7/dist-packages (from transformers) (2019.12.20)\n",
            "Requirement already satisfied: typing-extensions>=3.7.4.3 in /usr/local/lib/python3.7/dist-packages (from huggingface-hub<1.0,>=0.1.0->transformers) (3.10.0.2)\n",
            "Requirement already satisfied: pyparsing<3,>=2.0.2 in /usr/local/lib/python3.7/dist-packages (from packaging>=20.0->transformers) (2.4.7)\n",
            "Requirement already satisfied: zipp>=0.5 in /usr/local/lib/python3.7/dist-packages (from importlib-metadata->transformers) (3.6.0)\n",
            "Requirement already satisfied: urllib3!=1.25.0,!=1.25.1,<1.26,>=1.21.1 in /usr/local/lib/python3.7/dist-packages (from requests->transformers) (1.24.3)\n",
            "Requirement already satisfied: certifi>=2017.4.17 in /usr/local/lib/python3.7/dist-packages (from requests->transformers) (2021.10.8)\n",
            "Requirement already satisfied: idna<3,>=2.5 in /usr/local/lib/python3.7/dist-packages (from requests->transformers) (2.10)\n",
            "Requirement already satisfied: chardet<4,>=3.0.2 in /usr/local/lib/python3.7/dist-packages (from requests->transformers) (3.0.4)\n",
            "Requirement already satisfied: click in /usr/local/lib/python3.7/dist-packages (from sacremoses->transformers) (7.1.2)\n",
            "Requirement already satisfied: joblib in /usr/local/lib/python3.7/dist-packages (from sacremoses->transformers) (1.1.0)\n",
            "Requirement already satisfied: six in /usr/local/lib/python3.7/dist-packages (from sacremoses->transformers) (1.15.0)\n",
            "Installing collected packages: pyyaml, tokenizers, sacremoses, huggingface-hub, transformers\n",
            "  Attempting uninstall: pyyaml\n",
            "    Found existing installation: PyYAML 3.13\n",
            "    Uninstalling PyYAML-3.13:\n",
            "      Successfully uninstalled PyYAML-3.13\n",
            "Successfully installed huggingface-hub-0.1.2 pyyaml-6.0 sacremoses-0.0.46 tokenizers-0.10.3 transformers-4.12.5\n"
          ]
        }
      ]
    },
    {
      "cell_type": "code",
      "metadata": {
        "colab": {
          "base_uri": "https://localhost:8080/"
        },
        "id": "4nqdP-dfkcR4",
        "outputId": "01216374-2135-4dae-d1a4-f9008bd91e74"
      },
      "source": [
        "from google.colab import drive\n",
        "drive.mount('/content/gdrive')"
      ],
      "execution_count": null,
      "outputs": [
        {
          "output_type": "stream",
          "name": "stdout",
          "text": [
            "Mounted at /content/gdrive\n"
          ]
        }
      ]
    },
    {
      "cell_type": "code",
      "metadata": {
        "id": "XU5ddgDQ7BHa"
      },
      "source": [
        "!rm /content/gdrive/MyDrive/col764/pointwise_best_model.h5"
      ],
      "execution_count": null,
      "outputs": []
    },
    {
      "cell_type": "code",
      "metadata": {
        "id": "nL9d-zDCL1Cn"
      },
      "source": [
        "!tar -xf /content/gdrive/MyDrive/col764/collectionandqueries.tar.gz"
      ],
      "execution_count": null,
      "outputs": []
    },
    {
      "cell_type": "code",
      "metadata": {
        "id": "8VzNHdQHjqRz"
      },
      "source": [
        "!tar -xf /content/gdrive/MyDrive/col764/top1000.dev.tar.gz"
      ],
      "execution_count": null,
      "outputs": []
    },
    {
      "cell_type": "code",
      "metadata": {
        "id": "hbND7lDwMpaY",
        "colab": {
          "base_uri": "https://localhost:8080/"
        },
        "outputId": "cd921eae-aaed-4fe4-8fc4-1a09c2405139"
      },
      "source": [
        "!ls -alh"
      ],
      "execution_count": null,
      "outputs": [
        {
          "output_type": "stream",
          "name": "stdout",
          "text": [
            "total 5.4G\n",
            "drwxr-xr-x 1 root    root    4.0K Nov 19 13:16 .\n",
            "drwxr-xr-x 1 root    root    4.0K Nov 19 13:11 ..\n",
            "-rwxrwxrwx 1    1000    1000 2.9G Nov 13  2018 collection.tsv\n",
            "drwxr-xr-x 4 root    root    4.0K Nov  1 13:34 .config\n",
            "drwx------ 5 root    root    4.0K Nov 19 13:14 gdrive\n",
            "-rwxrwxrwx 1    1000    1000 140K Jan 22  2019 qrels.dev.small.tsv\n",
            "-rwxrwxrwx 1    1000    1000  11M Nov 28  2018 qrels.train.tsv\n",
            "-rw-rw-r-- 1    1000    1000 284K May  2  2019 queries.dev.small.tsv\n",
            "-rwxrwxrwx 1    1000    1000 4.3M Nov 13  2018 queries.dev.tsv\n",
            "-rw-rw-r-- 1    1000    1000 275K May  2  2019 queries.eval.small.tsv\n",
            "-rwxrwxrwx 1    1000    1000 4.3M Nov 13  2018 queries.eval.tsv\n",
            "-rwxrwxrwx 1    1000    1000  34M Nov 13  2018 queries.train.tsv\n",
            "drwxr-xr-x 1 root    root    4.0K Nov  1 13:35 sample_data\n",
            "-rwxrwx--- 1 8045835 1049089 2.5G Jul 17  2019 top1000.dev\n"
          ]
        }
      ]
    },
    {
      "cell_type": "code",
      "metadata": {
        "colab": {
          "base_uri": "https://localhost:8080/"
        },
        "id": "F5VafgNymJTo",
        "outputId": "6d8f36df-4a53-4461-ff19-b086a281ec01"
      },
      "source": [
        "!wget https://msmarco.blob.core.windows.net/msmarcoranking/qrels.dev.tsv"
      ],
      "execution_count": null,
      "outputs": [
        {
          "output_type": "stream",
          "name": "stdout",
          "text": [
            "--2021-11-19 13:17:14--  https://msmarco.blob.core.windows.net/msmarcoranking/qrels.dev.tsv\n",
            "Resolving msmarco.blob.core.windows.net (msmarco.blob.core.windows.net)... 20.150.34.4\n",
            "Connecting to msmarco.blob.core.windows.net (msmarco.blob.core.windows.net)|20.150.34.4|:443... connected.\n",
            "HTTP request sent, awaiting response... 200 OK\n",
            "Length: 1201626 (1.1M) [text/tab-separated-values]\n",
            "Saving to: ‘qrels.dev.tsv’\n",
            "\n",
            "qrels.dev.tsv       100%[===================>]   1.15M  3.25MB/s    in 0.4s    \n",
            "\n",
            "2021-11-19 13:17:14 (3.25 MB/s) - ‘qrels.dev.tsv’ saved [1201626/1201626]\n",
            "\n"
          ]
        }
      ]
    },
    {
      "cell_type": "code",
      "metadata": {
        "id": "eMCN2eHkNQlG"
      },
      "source": [
        "import transformers\n",
        "import pandas as pd\n",
        "from sklearn.utils import class_weight"
      ],
      "execution_count": null,
      "outputs": []
    },
    {
      "cell_type": "code",
      "metadata": {
        "id": "XGf8dBa4Uhj7",
        "colab": {
          "base_uri": "https://localhost:8080/"
        },
        "outputId": "c6e36148-f8ec-4c7a-c081-2966bbd1f8b9"
      },
      "source": [
        "import gc\n",
        "gc.collect()"
      ],
      "execution_count": null,
      "outputs": [
        {
          "output_type": "execute_result",
          "data": {
            "text/plain": [
              "50"
            ]
          },
          "metadata": {},
          "execution_count": 11
        }
      ]
    },
    {
      "cell_type": "code",
      "metadata": {
        "id": "tZO67YfnOrDe"
      },
      "source": [
        "qrels = pd.read_csv('qrels.dev.tsv',sep='\\t',header=None)"
      ],
      "execution_count": null,
      "outputs": []
    },
    {
      "cell_type": "code",
      "metadata": {
        "id": "ZeML2VPEsO3S",
        "colab": {
          "base_uri": "https://localhost:8080/",
          "height": 203
        },
        "outputId": "0df5a0ff-4777-4c55-de1f-a7f2a0d6c982"
      },
      "source": [
        "qrels.head(5)"
      ],
      "execution_count": null,
      "outputs": [
        {
          "output_type": "execute_result",
          "data": {
            "text/html": [
              "<div>\n",
              "<style scoped>\n",
              "    .dataframe tbody tr th:only-of-type {\n",
              "        vertical-align: middle;\n",
              "    }\n",
              "\n",
              "    .dataframe tbody tr th {\n",
              "        vertical-align: top;\n",
              "    }\n",
              "\n",
              "    .dataframe thead th {\n",
              "        text-align: right;\n",
              "    }\n",
              "</style>\n",
              "<table border=\"1\" class=\"dataframe\">\n",
              "  <thead>\n",
              "    <tr style=\"text-align: right;\">\n",
              "      <th></th>\n",
              "      <th>0</th>\n",
              "      <th>1</th>\n",
              "      <th>2</th>\n",
              "      <th>3</th>\n",
              "    </tr>\n",
              "  </thead>\n",
              "  <tbody>\n",
              "    <tr>\n",
              "      <th>0</th>\n",
              "      <td>1102432</td>\n",
              "      <td>0</td>\n",
              "      <td>2026790</td>\n",
              "      <td>1</td>\n",
              "    </tr>\n",
              "    <tr>\n",
              "      <th>1</th>\n",
              "      <td>1102431</td>\n",
              "      <td>0</td>\n",
              "      <td>7066866</td>\n",
              "      <td>1</td>\n",
              "    </tr>\n",
              "    <tr>\n",
              "      <th>2</th>\n",
              "      <td>1102431</td>\n",
              "      <td>0</td>\n",
              "      <td>7066867</td>\n",
              "      <td>1</td>\n",
              "    </tr>\n",
              "    <tr>\n",
              "      <th>3</th>\n",
              "      <td>1090282</td>\n",
              "      <td>0</td>\n",
              "      <td>7066900</td>\n",
              "      <td>1</td>\n",
              "    </tr>\n",
              "    <tr>\n",
              "      <th>4</th>\n",
              "      <td>39449</td>\n",
              "      <td>0</td>\n",
              "      <td>7066905</td>\n",
              "      <td>1</td>\n",
              "    </tr>\n",
              "  </tbody>\n",
              "</table>\n",
              "</div>"
            ],
            "text/plain": [
              "         0  1        2  3\n",
              "0  1102432  0  2026790  1\n",
              "1  1102431  0  7066866  1\n",
              "2  1102431  0  7066867  1\n",
              "3  1090282  0  7066900  1\n",
              "4    39449  0  7066905  1"
            ]
          },
          "metadata": {},
          "execution_count": 13
        }
      ]
    },
    {
      "cell_type": "code",
      "metadata": {
        "id": "Lm7lUdwLsgKV"
      },
      "source": [
        "from transformers import BertTokenizer, TFBertModel, BertConfig"
      ],
      "execution_count": null,
      "outputs": []
    },
    {
      "cell_type": "code",
      "metadata": {
        "id": "-WcTtRCHuCJX"
      },
      "source": [
        "import tensorflow as tf\n",
        "import os\n",
        "# #Get a handle to the attached TPU. On GCP it will be the CloudTPU itself\n",
        "# resolver = tf.distribute.cluster_resolver.TPUClusterResolver(tpu='grpc://' + os.environ['COLAB_TPU_ADDR'])\n",
        "# #Connect to the TPU handle and initialise it\n",
        "# tf.config.experimental_connect_to_cluster(resolver)\n",
        "# tf.tpu.experimental.initialize_tpu_system(resolver)\n",
        "# strategy = tf.distribute.experimental.TPUStrategy(resolver)\n",
        "import tensorflow_addons as tfa"
      ],
      "execution_count": null,
      "outputs": []
    },
    {
      "cell_type": "code",
      "metadata": {
        "id": "Fto_1UDRaX6U"
      },
      "source": [
        "tf.config.run_functions_eagerly(False)"
      ],
      "execution_count": null,
      "outputs": []
    },
    {
      "cell_type": "code",
      "metadata": {
        "id": "sf9ZOl7UJWXr"
      },
      "source": [
        "root_dir = \"/content/gdrive/MyDrive/col764/\""
      ],
      "execution_count": null,
      "outputs": []
    },
    {
      "cell_type": "code",
      "metadata": {
        "id": "VxRywptC6GYQ"
      },
      "source": [
        "bert_model_name = 'bert-base-uncased'\n",
        "# passage_per_query = 50\n",
        "num_pairs = 3000"
      ],
      "execution_count": null,
      "outputs": []
    },
    {
      "cell_type": "code",
      "metadata": {
        "id": "yCI_0Af6uGGf",
        "colab": {
          "base_uri": "https://localhost:8080/",
          "height": 145,
          "referenced_widgets": [
            "81e9731f638d4e43923db260d5af3a81",
            "0b5f5abdfcd743ca95376e269a1599cb",
            "b8cbc9d5df324e5ba49ce69e03393bd3",
            "3173cd885b3f488dbe2bc15403ce1ef6",
            "7aadadc488a9436aa583dd5ec55ac505",
            "1f73019c880f4f249e1b7da46f6525f7",
            "53cd073fabd94f26a4812814f3ff0673",
            "0777fe007f544fb4a9b87895a9e20bc1",
            "35546e2081f94ee183beb1772c1be334",
            "6d7f575cc1634650bbb7564e87f64025",
            "7488b7f6ab4146eea2755350efd09c2e",
            "b019efe384f940ec938f3b3db56e9ec5",
            "20c9a06144194888815344e769d80084",
            "4c8aa49b043147578ca89ec4ea1ec59e",
            "3ce47bcff8e14b57a5e23a0d36f17640",
            "f3c41d6a7eaa49c3a5117d50df9bcd1c",
            "30e5cf53092c43b4bed9bbbff2aad18a",
            "dcfe4b633ef34560a2bf201426002e71",
            "028ed82453184a32a91ffc0f56127c89",
            "89bf67f97ba44bddbc08e51e51bd99cb",
            "685548f0c3864c588c41aacaa423304e",
            "75d7432d0bb64c09b2bc849e5e5e4ba5",
            "83d30eb1d541478396d05ef5fe1fe544",
            "3c82217fa7674e2c9a2323a881732af8",
            "53261dff676641518857c88bdd61a160",
            "321494c714c94de4ad58dc8acdd9f216",
            "7554e01a5de245dd8c09a72beceff365",
            "b6308467c96d42d4a1bd6cfc743c202a",
            "ffaa7cce767c49818d2f6d0eb32090bc",
            "a34b900a2f79407bb4c06a1dc4cbdcee",
            "b923008bb7634178ae14d30717370e45",
            "ea2ea418a24440f1aa55c756b3a01b89",
            "ac36bb7c05ab4726a14f99d86a851a49",
            "62413f4fb1434dd9adc0327a1fbee5a6",
            "80c8415c48194abd946470982af45786",
            "e52de605f4784e79b47b598213f9d52c",
            "20cb76c9dbc74fe88b5844d79d99a00f",
            "16f0974823844a08a516480a7bf8c3bf",
            "65e350290c8b4b03aba9a179f665b2fb",
            "b83e408d0ffa4f1199fe9de28ac1f114",
            "214a299c88b34270a9fbdae17839772c",
            "48a60e9732be4725b020ff7d2a91e9e6",
            "55aa19cb6a2741349aa27ae66b0c6e06",
            "5efdb4f3963a4d629cf67f292df4a8e7"
          ]
        },
        "outputId": "e435704a-9048-43c2-ee13-aa311992d323"
      },
      "source": [
        "tokenizer = BertTokenizer.from_pretrained(bert_model_name)"
      ],
      "execution_count": null,
      "outputs": [
        {
          "output_type": "display_data",
          "data": {
            "application/vnd.jupyter.widget-view+json": {
              "model_id": "81e9731f638d4e43923db260d5af3a81",
              "version_minor": 0,
              "version_major": 2
            },
            "text/plain": [
              "Downloading:   0%|          | 0.00/226k [00:00<?, ?B/s]"
            ]
          },
          "metadata": {}
        },
        {
          "output_type": "display_data",
          "data": {
            "application/vnd.jupyter.widget-view+json": {
              "model_id": "b019efe384f940ec938f3b3db56e9ec5",
              "version_minor": 0,
              "version_major": 2
            },
            "text/plain": [
              "Downloading:   0%|          | 0.00/28.0 [00:00<?, ?B/s]"
            ]
          },
          "metadata": {}
        },
        {
          "output_type": "display_data",
          "data": {
            "application/vnd.jupyter.widget-view+json": {
              "model_id": "83d30eb1d541478396d05ef5fe1fe544",
              "version_minor": 0,
              "version_major": 2
            },
            "text/plain": [
              "Downloading:   0%|          | 0.00/455k [00:00<?, ?B/s]"
            ]
          },
          "metadata": {}
        },
        {
          "output_type": "display_data",
          "data": {
            "application/vnd.jupyter.widget-view+json": {
              "model_id": "62413f4fb1434dd9adc0327a1fbee5a6",
              "version_minor": 0,
              "version_major": 2
            },
            "text/plain": [
              "Downloading:   0%|          | 0.00/570 [00:00<?, ?B/s]"
            ]
          },
          "metadata": {}
        }
      ]
    },
    {
      "cell_type": "code",
      "metadata": {
        "colab": {
          "base_uri": "https://localhost:8080/"
        },
        "id": "L5jb33LaMFjd",
        "outputId": "becd4a93-ac7a-4c1b-fbf9-b1472b464455"
      },
      "source": [
        "tokenizer.save_pretrained('./bert-tokenizer/')"
      ],
      "execution_count": null,
      "outputs": [
        {
          "output_type": "execute_result",
          "data": {
            "text/plain": [
              "('./bert-tokenizer/tokenizer_config.json',\n",
              " './bert-tokenizer/special_tokens_map.json',\n",
              " './bert-tokenizer/vocab.txt',\n",
              " './bert-tokenizer/added_tokens.json')"
            ]
          },
          "metadata": {},
          "execution_count": 20
        }
      ]
    },
    {
      "cell_type": "code",
      "metadata": {
        "colab": {
          "base_uri": "https://localhost:8080/"
        },
        "id": "gfNXxysLMZYK",
        "outputId": "6a2861a8-8b2d-47ee-d5ed-37753f41123c"
      },
      "source": [
        "!tar -zcvf bert-tokenizer.tar.gz bert-tokenizer"
      ],
      "execution_count": null,
      "outputs": [
        {
          "output_type": "stream",
          "name": "stdout",
          "text": [
            "bert-tokenizer/\n",
            "bert-tokenizer/special_tokens_map.json\n",
            "bert-tokenizer/tokenizer_config.json\n",
            "bert-tokenizer/vocab.txt\n"
          ]
        }
      ]
    },
    {
      "cell_type": "code",
      "metadata": {
        "id": "SNVqt4N3w0UJ"
      },
      "source": [
        "import random\n",
        "import numpy as np\n",
        "from sklearn.model_selection import train_test_split\n",
        "random.seed(0)\n",
        "np.random.seed(0)\n",
        "tf.random.set_seed(0)"
      ],
      "execution_count": null,
      "outputs": []
    },
    {
      "cell_type": "code",
      "metadata": {
        "id": "NymwwYDIokb-",
        "colab": {
          "base_uri": "https://localhost:8080/",
          "height": 585
        },
        "outputId": "83bae2b6-c0b5-4255-fd1d-38daf411350e"
      },
      "source": [
        "top1000 = pd.read_csv('top1000.dev',sep='\\t',header=None)\n",
        "top1000"
      ],
      "execution_count": null,
      "outputs": [
        {
          "output_type": "execute_result",
          "data": {
            "text/html": [
              "<div>\n",
              "<style scoped>\n",
              "    .dataframe tbody tr th:only-of-type {\n",
              "        vertical-align: middle;\n",
              "    }\n",
              "\n",
              "    .dataframe tbody tr th {\n",
              "        vertical-align: top;\n",
              "    }\n",
              "\n",
              "    .dataframe thead th {\n",
              "        text-align: right;\n",
              "    }\n",
              "</style>\n",
              "<table border=\"1\" class=\"dataframe\">\n",
              "  <thead>\n",
              "    <tr style=\"text-align: right;\">\n",
              "      <th></th>\n",
              "      <th>0</th>\n",
              "      <th>1</th>\n",
              "      <th>2</th>\n",
              "      <th>3</th>\n",
              "    </tr>\n",
              "  </thead>\n",
              "  <tbody>\n",
              "    <tr>\n",
              "      <th>0</th>\n",
              "      <td>188714</td>\n",
              "      <td>1000052</td>\n",
              "      <td>foods and supplements to lower blood sugar</td>\n",
              "      <td>Watch portion sizes: ■ Even healthy foods will...</td>\n",
              "    </tr>\n",
              "    <tr>\n",
              "      <th>1</th>\n",
              "      <td>1082792</td>\n",
              "      <td>1000084</td>\n",
              "      <td>what does the golgi apparatus do to the protei...</td>\n",
              "      <td>Start studying Bonding, Carbs, Proteins, Lipid...</td>\n",
              "    </tr>\n",
              "    <tr>\n",
              "      <th>2</th>\n",
              "      <td>995526</td>\n",
              "      <td>1000094</td>\n",
              "      <td>where is the federal penitentiary in ind</td>\n",
              "      <td>It takes THOUSANDS of Macy's associates to bri...</td>\n",
              "    </tr>\n",
              "    <tr>\n",
              "      <th>3</th>\n",
              "      <td>199776</td>\n",
              "      <td>1000115</td>\n",
              "      <td>health benefits of eating vegetarian</td>\n",
              "      <td>The good news is that you will discover what g...</td>\n",
              "    </tr>\n",
              "    <tr>\n",
              "      <th>4</th>\n",
              "      <td>660957</td>\n",
              "      <td>1000115</td>\n",
              "      <td>what foods are good if you have gout?</td>\n",
              "      <td>The good news is that you will discover what g...</td>\n",
              "    </tr>\n",
              "    <tr>\n",
              "      <th>...</th>\n",
              "      <td>...</td>\n",
              "      <td>...</td>\n",
              "      <td>...</td>\n",
              "      <td>...</td>\n",
              "    </tr>\n",
              "    <tr>\n",
              "      <th>6668962</th>\n",
              "      <td>679360</td>\n",
              "      <td>999933</td>\n",
              "      <td>what is a corporate bylaws</td>\n",
              "      <td>Corporate Records for Nonprofit Corporations. ...</td>\n",
              "    </tr>\n",
              "    <tr>\n",
              "      <th>6668963</th>\n",
              "      <td>36388</td>\n",
              "      <td>999956</td>\n",
              "      <td>average family savings account</td>\n",
              "      <td>When it comes to average retirement savings st...</td>\n",
              "    </tr>\n",
              "    <tr>\n",
              "      <th>6668964</th>\n",
              "      <td>43781</td>\n",
              "      <td>999956</td>\n",
              "      <td>average savings per age group</td>\n",
              "      <td>When it comes to average retirement savings st...</td>\n",
              "    </tr>\n",
              "    <tr>\n",
              "      <th>6668965</th>\n",
              "      <td>28442</td>\n",
              "      <td>999956</td>\n",
              "      <td>at what age does the average person retire</td>\n",
              "      <td>When it comes to average retirement savings st...</td>\n",
              "    </tr>\n",
              "    <tr>\n",
              "      <th>6668966</th>\n",
              "      <td>36473</td>\n",
              "      <td>999956</td>\n",
              "      <td>average fifty year old retirement savings</td>\n",
              "      <td>When it comes to average retirement savings st...</td>\n",
              "    </tr>\n",
              "  </tbody>\n",
              "</table>\n",
              "<p>6668967 rows × 4 columns</p>\n",
              "</div>"
            ],
            "text/plain": [
              "               0  ...                                                  3\n",
              "0         188714  ...  Watch portion sizes: ■ Even healthy foods will...\n",
              "1        1082792  ...  Start studying Bonding, Carbs, Proteins, Lipid...\n",
              "2         995526  ...  It takes THOUSANDS of Macy's associates to bri...\n",
              "3         199776  ...  The good news is that you will discover what g...\n",
              "4         660957  ...  The good news is that you will discover what g...\n",
              "...          ...  ...                                                ...\n",
              "6668962   679360  ...  Corporate Records for Nonprofit Corporations. ...\n",
              "6668963    36388  ...  When it comes to average retirement savings st...\n",
              "6668964    43781  ...  When it comes to average retirement savings st...\n",
              "6668965    28442  ...  When it comes to average retirement savings st...\n",
              "6668966    36473  ...  When it comes to average retirement savings st...\n",
              "\n",
              "[6668967 rows x 4 columns]"
            ]
          },
          "metadata": {},
          "execution_count": 23
        }
      ]
    },
    {
      "cell_type": "code",
      "metadata": {
        "colab": {
          "base_uri": "https://localhost:8080/",
          "height": 585
        },
        "id": "PFC29Z0AVI-w",
        "outputId": "c9fa4896-5824-4655-8e66-a35ee19208be"
      },
      "source": [
        "top1000 = top1000.sort_values(by=0).reset_index(drop=True)\n",
        "top1000"
      ],
      "execution_count": null,
      "outputs": [
        {
          "output_type": "execute_result",
          "data": {
            "text/html": [
              "<div>\n",
              "<style scoped>\n",
              "    .dataframe tbody tr th:only-of-type {\n",
              "        vertical-align: middle;\n",
              "    }\n",
              "\n",
              "    .dataframe tbody tr th {\n",
              "        vertical-align: top;\n",
              "    }\n",
              "\n",
              "    .dataframe thead th {\n",
              "        text-align: right;\n",
              "    }\n",
              "</style>\n",
              "<table border=\"1\" class=\"dataframe\">\n",
              "  <thead>\n",
              "    <tr style=\"text-align: right;\">\n",
              "      <th></th>\n",
              "      <th>0</th>\n",
              "      <th>1</th>\n",
              "      <th>2</th>\n",
              "      <th>3</th>\n",
              "    </tr>\n",
              "  </thead>\n",
              "  <tbody>\n",
              "    <tr>\n",
              "      <th>0</th>\n",
              "      <td>2</td>\n",
              "      <td>2700543</td>\n",
              "      <td>Androgen receptor define</td>\n",
              "      <td>Structure-function of the glucagon receptor fa...</td>\n",
              "    </tr>\n",
              "    <tr>\n",
              "      <th>1</th>\n",
              "      <td>2</td>\n",
              "      <td>2726978</td>\n",
              "      <td>Androgen receptor define</td>\n",
              "      <td>In pharmacology, an antagonist binds to the re...</td>\n",
              "    </tr>\n",
              "    <tr>\n",
              "      <th>2</th>\n",
              "      <td>2</td>\n",
              "      <td>2726974</td>\n",
              "      <td>Androgen receptor define</td>\n",
              "      <td>A drug antagonist is any drug that binds with ...</td>\n",
              "    </tr>\n",
              "    <tr>\n",
              "      <th>3</th>\n",
              "      <td>2</td>\n",
              "      <td>3046559</td>\n",
              "      <td>Androgen receptor define</td>\n",
              "      <td>A neurotransmitter receptor located in the pre...</td>\n",
              "    </tr>\n",
              "    <tr>\n",
              "      <th>4</th>\n",
              "      <td>2</td>\n",
              "      <td>1817960</td>\n",
              "      <td>Androgen receptor define</td>\n",
              "      <td>Effect of Beta2 Receptor Activation on Smooth ...</td>\n",
              "    </tr>\n",
              "    <tr>\n",
              "      <th>...</th>\n",
              "      <td>...</td>\n",
              "      <td>...</td>\n",
              "      <td>...</td>\n",
              "      <td>...</td>\n",
              "    </tr>\n",
              "    <tr>\n",
              "      <th>6668962</th>\n",
              "      <td>1102400</td>\n",
              "      <td>991048</td>\n",
              "      <td>why do bears hibernate</td>\n",
              "      <td>Hibernate mode uses the hiberfil.sys file to s...</td>\n",
              "    </tr>\n",
              "    <tr>\n",
              "      <th>6668963</th>\n",
              "      <td>1102400</td>\n",
              "      <td>5714166</td>\n",
              "      <td>why do bears hibernate</td>\n",
              "      <td>Black Bear. Though rarely seen by most New Yor...</td>\n",
              "    </tr>\n",
              "    <tr>\n",
              "      <th>6668964</th>\n",
              "      <td>1102400</td>\n",
              "      <td>7225717</td>\n",
              "      <td>why do bears hibernate</td>\n",
              "      <td>The gummy bears grew in all of the. liquids, e...</td>\n",
              "    </tr>\n",
              "    <tr>\n",
              "      <th>6668965</th>\n",
              "      <td>1102400</td>\n",
              "      <td>260344</td>\n",
              "      <td>why do bears hibernate</td>\n",
              "      <td>In Asia, a large tiger might sometimes kill an...</td>\n",
              "    </tr>\n",
              "    <tr>\n",
              "      <th>6668966</th>\n",
              "      <td>1102400</td>\n",
              "      <td>550524</td>\n",
              "      <td>why do bears hibernate</td>\n",
              "      <td>Panda Bears do not live in snow climate. Unlik...</td>\n",
              "    </tr>\n",
              "  </tbody>\n",
              "</table>\n",
              "<p>6668967 rows × 4 columns</p>\n",
              "</div>"
            ],
            "text/plain": [
              "               0  ...                                                  3\n",
              "0              2  ...  Structure-function of the glucagon receptor fa...\n",
              "1              2  ...  In pharmacology, an antagonist binds to the re...\n",
              "2              2  ...  A drug antagonist is any drug that binds with ...\n",
              "3              2  ...  A neurotransmitter receptor located in the pre...\n",
              "4              2  ...  Effect of Beta2 Receptor Activation on Smooth ...\n",
              "...          ...  ...                                                ...\n",
              "6668962  1102400  ...  Hibernate mode uses the hiberfil.sys file to s...\n",
              "6668963  1102400  ...  Black Bear. Though rarely seen by most New Yor...\n",
              "6668964  1102400  ...  The gummy bears grew in all of the. liquids, e...\n",
              "6668965  1102400  ...  In Asia, a large tiger might sometimes kill an...\n",
              "6668966  1102400  ...  Panda Bears do not live in snow climate. Unlik...\n",
              "\n",
              "[6668967 rows x 4 columns]"
            ]
          },
          "metadata": {},
          "execution_count": 24
        }
      ]
    },
    {
      "cell_type": "code",
      "metadata": {
        "id": "Sk263gyeoxj3"
      },
      "source": [
        "qrels = qrels[[0,2]].rename(columns={0: 0, 2: 1})"
      ],
      "execution_count": null,
      "outputs": []
    },
    {
      "cell_type": "code",
      "metadata": {
        "colab": {
          "base_uri": "https://localhost:8080/",
          "height": 417
        },
        "id": "ygAoeC29qYq9",
        "outputId": "f8038420-3a27-473d-b9dc-6a16c2d91edf"
      },
      "source": [
        "qrels['y']=1\n",
        "qrels"
      ],
      "execution_count": null,
      "outputs": [
        {
          "output_type": "execute_result",
          "data": {
            "text/html": [
              "<div>\n",
              "<style scoped>\n",
              "    .dataframe tbody tr th:only-of-type {\n",
              "        vertical-align: middle;\n",
              "    }\n",
              "\n",
              "    .dataframe tbody tr th {\n",
              "        vertical-align: top;\n",
              "    }\n",
              "\n",
              "    .dataframe thead th {\n",
              "        text-align: right;\n",
              "    }\n",
              "</style>\n",
              "<table border=\"1\" class=\"dataframe\">\n",
              "  <thead>\n",
              "    <tr style=\"text-align: right;\">\n",
              "      <th></th>\n",
              "      <th>0</th>\n",
              "      <th>1</th>\n",
              "      <th>y</th>\n",
              "    </tr>\n",
              "  </thead>\n",
              "  <tbody>\n",
              "    <tr>\n",
              "      <th>0</th>\n",
              "      <td>1102432</td>\n",
              "      <td>2026790</td>\n",
              "      <td>1</td>\n",
              "    </tr>\n",
              "    <tr>\n",
              "      <th>1</th>\n",
              "      <td>1102431</td>\n",
              "      <td>7066866</td>\n",
              "      <td>1</td>\n",
              "    </tr>\n",
              "    <tr>\n",
              "      <th>2</th>\n",
              "      <td>1102431</td>\n",
              "      <td>7066867</td>\n",
              "      <td>1</td>\n",
              "    </tr>\n",
              "    <tr>\n",
              "      <th>3</th>\n",
              "      <td>1090282</td>\n",
              "      <td>7066900</td>\n",
              "      <td>1</td>\n",
              "    </tr>\n",
              "    <tr>\n",
              "      <th>4</th>\n",
              "      <td>39449</td>\n",
              "      <td>7066905</td>\n",
              "      <td>1</td>\n",
              "    </tr>\n",
              "    <tr>\n",
              "      <th>...</th>\n",
              "      <td>...</td>\n",
              "      <td>...</td>\n",
              "      <td>...</td>\n",
              "    </tr>\n",
              "    <tr>\n",
              "      <th>59268</th>\n",
              "      <td>150337</td>\n",
              "      <td>8009410</td>\n",
              "      <td>1</td>\n",
              "    </tr>\n",
              "    <tr>\n",
              "      <th>59269</th>\n",
              "      <td>22241</td>\n",
              "      <td>8009429</td>\n",
              "      <td>1</td>\n",
              "    </tr>\n",
              "    <tr>\n",
              "      <th>59270</th>\n",
              "      <td>129177</td>\n",
              "      <td>8009442</td>\n",
              "      <td>1</td>\n",
              "    </tr>\n",
              "    <tr>\n",
              "      <th>59271</th>\n",
              "      <td>190655</td>\n",
              "      <td>3576091</td>\n",
              "      <td>1</td>\n",
              "    </tr>\n",
              "    <tr>\n",
              "      <th>59272</th>\n",
              "      <td>371455</td>\n",
              "      <td>8009476</td>\n",
              "      <td>1</td>\n",
              "    </tr>\n",
              "  </tbody>\n",
              "</table>\n",
              "<p>59273 rows × 3 columns</p>\n",
              "</div>"
            ],
            "text/plain": [
              "             0        1  y\n",
              "0      1102432  2026790  1\n",
              "1      1102431  7066866  1\n",
              "2      1102431  7066867  1\n",
              "3      1090282  7066900  1\n",
              "4        39449  7066905  1\n",
              "...        ...      ... ..\n",
              "59268   150337  8009410  1\n",
              "59269    22241  8009429  1\n",
              "59270   129177  8009442  1\n",
              "59271   190655  3576091  1\n",
              "59272   371455  8009476  1\n",
              "\n",
              "[59273 rows x 3 columns]"
            ]
          },
          "metadata": {},
          "execution_count": 26
        }
      ]
    },
    {
      "cell_type": "code",
      "metadata": {
        "colab": {
          "base_uri": "https://localhost:8080/",
          "height": 417
        },
        "id": "wrVT1s52qxGH",
        "outputId": "640f4cea-a3ed-404e-b790-ff562914c3f3"
      },
      "source": [
        "train_set = pd.merge(top1000, qrels,  how='left', left_on=[0,1], right_on = [0,1]).fillna(0)[[2,3,'y']]\n",
        "train_set"
      ],
      "execution_count": null,
      "outputs": [
        {
          "output_type": "execute_result",
          "data": {
            "text/html": [
              "<div>\n",
              "<style scoped>\n",
              "    .dataframe tbody tr th:only-of-type {\n",
              "        vertical-align: middle;\n",
              "    }\n",
              "\n",
              "    .dataframe tbody tr th {\n",
              "        vertical-align: top;\n",
              "    }\n",
              "\n",
              "    .dataframe thead th {\n",
              "        text-align: right;\n",
              "    }\n",
              "</style>\n",
              "<table border=\"1\" class=\"dataframe\">\n",
              "  <thead>\n",
              "    <tr style=\"text-align: right;\">\n",
              "      <th></th>\n",
              "      <th>2</th>\n",
              "      <th>3</th>\n",
              "      <th>y</th>\n",
              "    </tr>\n",
              "  </thead>\n",
              "  <tbody>\n",
              "    <tr>\n",
              "      <th>0</th>\n",
              "      <td>Androgen receptor define</td>\n",
              "      <td>Structure-function of the glucagon receptor fa...</td>\n",
              "      <td>0.0</td>\n",
              "    </tr>\n",
              "    <tr>\n",
              "      <th>1</th>\n",
              "      <td>Androgen receptor define</td>\n",
              "      <td>In pharmacology, an antagonist binds to the re...</td>\n",
              "      <td>0.0</td>\n",
              "    </tr>\n",
              "    <tr>\n",
              "      <th>2</th>\n",
              "      <td>Androgen receptor define</td>\n",
              "      <td>A drug antagonist is any drug that binds with ...</td>\n",
              "      <td>0.0</td>\n",
              "    </tr>\n",
              "    <tr>\n",
              "      <th>3</th>\n",
              "      <td>Androgen receptor define</td>\n",
              "      <td>A neurotransmitter receptor located in the pre...</td>\n",
              "      <td>0.0</td>\n",
              "    </tr>\n",
              "    <tr>\n",
              "      <th>4</th>\n",
              "      <td>Androgen receptor define</td>\n",
              "      <td>Effect of Beta2 Receptor Activation on Smooth ...</td>\n",
              "      <td>0.0</td>\n",
              "    </tr>\n",
              "    <tr>\n",
              "      <th>...</th>\n",
              "      <td>...</td>\n",
              "      <td>...</td>\n",
              "      <td>...</td>\n",
              "    </tr>\n",
              "    <tr>\n",
              "      <th>6668962</th>\n",
              "      <td>why do bears hibernate</td>\n",
              "      <td>Hibernate mode uses the hiberfil.sys file to s...</td>\n",
              "      <td>0.0</td>\n",
              "    </tr>\n",
              "    <tr>\n",
              "      <th>6668963</th>\n",
              "      <td>why do bears hibernate</td>\n",
              "      <td>Black Bear. Though rarely seen by most New Yor...</td>\n",
              "      <td>0.0</td>\n",
              "    </tr>\n",
              "    <tr>\n",
              "      <th>6668964</th>\n",
              "      <td>why do bears hibernate</td>\n",
              "      <td>The gummy bears grew in all of the. liquids, e...</td>\n",
              "      <td>0.0</td>\n",
              "    </tr>\n",
              "    <tr>\n",
              "      <th>6668965</th>\n",
              "      <td>why do bears hibernate</td>\n",
              "      <td>In Asia, a large tiger might sometimes kill an...</td>\n",
              "      <td>0.0</td>\n",
              "    </tr>\n",
              "    <tr>\n",
              "      <th>6668966</th>\n",
              "      <td>why do bears hibernate</td>\n",
              "      <td>Panda Bears do not live in snow climate. Unlik...</td>\n",
              "      <td>0.0</td>\n",
              "    </tr>\n",
              "  </tbody>\n",
              "</table>\n",
              "<p>6668967 rows × 3 columns</p>\n",
              "</div>"
            ],
            "text/plain": [
              "                                 2  ...    y\n",
              "0         Androgen receptor define  ...  0.0\n",
              "1         Androgen receptor define  ...  0.0\n",
              "2         Androgen receptor define  ...  0.0\n",
              "3         Androgen receptor define  ...  0.0\n",
              "4         Androgen receptor define  ...  0.0\n",
              "...                            ...  ...  ...\n",
              "6668962     why do bears hibernate  ...  0.0\n",
              "6668963     why do bears hibernate  ...  0.0\n",
              "6668964     why do bears hibernate  ...  0.0\n",
              "6668965     why do bears hibernate  ...  0.0\n",
              "6668966     why do bears hibernate  ...  0.0\n",
              "\n",
              "[6668967 rows x 3 columns]"
            ]
          },
          "metadata": {},
          "execution_count": 27
        }
      ]
    },
    {
      "cell_type": "code",
      "metadata": {
        "colab": {
          "base_uri": "https://localhost:8080/"
        },
        "id": "xysw5_DIELgx",
        "outputId": "bc36f63c-4e71-4779-9980-c22d2865ac22"
      },
      "source": [
        "train_set[2].map(lambda x: len(x.split())).max(),train_set[2].map(lambda x: len(x.split())).mean()"
      ],
      "execution_count": null,
      "outputs": [
        {
          "output_type": "execute_result",
          "data": {
            "text/plain": [
              "(30, 6.033436212834761)"
            ]
          },
          "metadata": {},
          "execution_count": 28
        }
      ]
    },
    {
      "cell_type": "code",
      "metadata": {
        "colab": {
          "base_uri": "https://localhost:8080/"
        },
        "id": "mJiEPc4QEnQo",
        "outputId": "19f27d08-2788-4cfe-e32c-d720a661cb1c"
      },
      "source": [
        "train_set[3].map(lambda x: len(x.split())).max(),train_set[3].map(lambda x: len(x.split())).mean()"
      ],
      "execution_count": null,
      "outputs": [
        {
          "output_type": "execute_result",
          "data": {
            "text/plain": [
              "(287, 56.951783687038784)"
            ]
          },
          "metadata": {},
          "execution_count": 29
        }
      ]
    },
    {
      "cell_type": "code",
      "metadata": {
        "colab": {
          "base_uri": "https://localhost:8080/",
          "height": 192
        },
        "id": "r_QN1EcSvTrd",
        "outputId": "ab77c31c-73ab-4947-c2a7-f85007d9c295"
      },
      "source": [
        "train_set_p = train_set[train_set['y']==1].reset_index(drop=True)[:num_pairs//1000]\n",
        "train_set_p"
      ],
      "execution_count": null,
      "outputs": [
        {
          "output_type": "execute_result",
          "data": {
            "text/html": [
              "<div>\n",
              "<style scoped>\n",
              "    .dataframe tbody tr th:only-of-type {\n",
              "        vertical-align: middle;\n",
              "    }\n",
              "\n",
              "    .dataframe tbody tr th {\n",
              "        vertical-align: top;\n",
              "    }\n",
              "\n",
              "    .dataframe thead th {\n",
              "        text-align: right;\n",
              "    }\n",
              "</style>\n",
              "<table border=\"1\" class=\"dataframe\">\n",
              "  <thead>\n",
              "    <tr style=\"text-align: right;\">\n",
              "      <th></th>\n",
              "      <th>2</th>\n",
              "      <th>3</th>\n",
              "      <th>y</th>\n",
              "    </tr>\n",
              "  </thead>\n",
              "  <tbody>\n",
              "    <tr>\n",
              "      <th>0</th>\n",
              "      <td>Androgen receptor define</td>\n",
              "      <td>The androgen receptor (AR), also known as NR3C...</td>\n",
              "      <td>1.0</td>\n",
              "    </tr>\n",
              "    <tr>\n",
              "      <th>1</th>\n",
              "      <td>3 levels of government in canada and their res...</td>\n",
              "      <td>In Canada, there are 3 levels of government. E...</td>\n",
              "      <td>1.0</td>\n",
              "    </tr>\n",
              "    <tr>\n",
              "      <th>2</th>\n",
              "      <td>Bethel University was founded in what year</td>\n",
              "      <td>Bethel University is a private institution tha...</td>\n",
              "      <td>1.0</td>\n",
              "    </tr>\n",
              "  </tbody>\n",
              "</table>\n",
              "</div>"
            ],
            "text/plain": [
              "                                                   2  ...    y\n",
              "0                           Androgen receptor define  ...  1.0\n",
              "1  3 levels of government in canada and their res...  ...  1.0\n",
              "2         Bethel University was founded in what year  ...  1.0\n",
              "\n",
              "[3 rows x 3 columns]"
            ]
          },
          "metadata": {},
          "execution_count": 30
        }
      ]
    },
    {
      "cell_type": "code",
      "metadata": {
        "colab": {
          "base_uri": "https://localhost:8080/",
          "height": 585
        },
        "id": "qCo2eglnvVLK",
        "outputId": "c0743e15-7bd7-4044-fda2-de2ee9a4ce8b"
      },
      "source": [
        "train_set_n = train_set[(train_set[2].isin(train_set_p[2])) & (train_set['y']==0)].drop_duplicates().reset_index(drop=True)\n",
        "train_set_n"
      ],
      "execution_count": null,
      "outputs": [
        {
          "output_type": "execute_result",
          "data": {
            "text/html": [
              "<div>\n",
              "<style scoped>\n",
              "    .dataframe tbody tr th:only-of-type {\n",
              "        vertical-align: middle;\n",
              "    }\n",
              "\n",
              "    .dataframe tbody tr th {\n",
              "        vertical-align: top;\n",
              "    }\n",
              "\n",
              "    .dataframe thead th {\n",
              "        text-align: right;\n",
              "    }\n",
              "</style>\n",
              "<table border=\"1\" class=\"dataframe\">\n",
              "  <thead>\n",
              "    <tr style=\"text-align: right;\">\n",
              "      <th></th>\n",
              "      <th>2</th>\n",
              "      <th>3</th>\n",
              "      <th>y</th>\n",
              "    </tr>\n",
              "  </thead>\n",
              "  <tbody>\n",
              "    <tr>\n",
              "      <th>0</th>\n",
              "      <td>Androgen receptor define</td>\n",
              "      <td>Structure-function of the glucagon receptor fa...</td>\n",
              "      <td>0.0</td>\n",
              "    </tr>\n",
              "    <tr>\n",
              "      <th>1</th>\n",
              "      <td>Androgen receptor define</td>\n",
              "      <td>In pharmacology, an antagonist binds to the re...</td>\n",
              "      <td>0.0</td>\n",
              "    </tr>\n",
              "    <tr>\n",
              "      <th>2</th>\n",
              "      <td>Androgen receptor define</td>\n",
              "      <td>A drug antagonist is any drug that binds with ...</td>\n",
              "      <td>0.0</td>\n",
              "    </tr>\n",
              "    <tr>\n",
              "      <th>3</th>\n",
              "      <td>Androgen receptor define</td>\n",
              "      <td>A neurotransmitter receptor located in the pre...</td>\n",
              "      <td>0.0</td>\n",
              "    </tr>\n",
              "    <tr>\n",
              "      <th>4</th>\n",
              "      <td>Androgen receptor define</td>\n",
              "      <td>Effect of Beta2 Receptor Activation on Smooth ...</td>\n",
              "      <td>0.0</td>\n",
              "    </tr>\n",
              "    <tr>\n",
              "      <th>...</th>\n",
              "      <td>...</td>\n",
              "      <td>...</td>\n",
              "      <td>...</td>\n",
              "    </tr>\n",
              "    <tr>\n",
              "      <th>2992</th>\n",
              "      <td>Bethel University was founded in what year</td>\n",
              "      <td>Founded in 1969, Indiana University-Purdue Uni...</td>\n",
              "      <td>0.0</td>\n",
              "    </tr>\n",
              "    <tr>\n",
              "      <th>2993</th>\n",
              "      <td>Bethel University was founded in what year</td>\n",
              "      <td>The University of Salamanca, which was founded...</td>\n",
              "      <td>0.0</td>\n",
              "    </tr>\n",
              "    <tr>\n",
              "      <th>2994</th>\n",
              "      <td>Bethel University was founded in what year</td>\n",
              "      <td>The University of Oregon (also referred to as ...</td>\n",
              "      <td>0.0</td>\n",
              "    </tr>\n",
              "    <tr>\n",
              "      <th>2995</th>\n",
              "      <td>Bethel University was founded in what year</td>\n",
              "      <td>The Ohio State University was founded as a lan...</td>\n",
              "      <td>0.0</td>\n",
              "    </tr>\n",
              "    <tr>\n",
              "      <th>2996</th>\n",
              "      <td>Bethel University was founded in what year</td>\n",
              "      <td>Antigua Guatemala. The university of San Carlo...</td>\n",
              "      <td>0.0</td>\n",
              "    </tr>\n",
              "  </tbody>\n",
              "</table>\n",
              "<p>2997 rows × 3 columns</p>\n",
              "</div>"
            ],
            "text/plain": [
              "                                               2  ...    y\n",
              "0                       Androgen receptor define  ...  0.0\n",
              "1                       Androgen receptor define  ...  0.0\n",
              "2                       Androgen receptor define  ...  0.0\n",
              "3                       Androgen receptor define  ...  0.0\n",
              "4                       Androgen receptor define  ...  0.0\n",
              "...                                          ...  ...  ...\n",
              "2992  Bethel University was founded in what year  ...  0.0\n",
              "2993  Bethel University was founded in what year  ...  0.0\n",
              "2994  Bethel University was founded in what year  ...  0.0\n",
              "2995  Bethel University was founded in what year  ...  0.0\n",
              "2996  Bethel University was founded in what year  ...  0.0\n",
              "\n",
              "[2997 rows x 3 columns]"
            ]
          },
          "metadata": {},
          "execution_count": 31
        }
      ]
    },
    {
      "cell_type": "code",
      "metadata": {
        "colab": {
          "base_uri": "https://localhost:8080/",
          "height": 585
        },
        "id": "2RgL4tcDs1ql",
        "outputId": "376c6bcc-c930-4b86-c4a8-7cfcb240e771"
      },
      "source": [
        "train_set = train_set_p.append(train_set_n, ignore_index=True).sample(frac=1).reset_index(drop=True)\n",
        "train_set[train_set[2]=='Bethel University was founded in what year']"
      ],
      "execution_count": null,
      "outputs": [
        {
          "output_type": "execute_result",
          "data": {
            "text/html": [
              "<div>\n",
              "<style scoped>\n",
              "    .dataframe tbody tr th:only-of-type {\n",
              "        vertical-align: middle;\n",
              "    }\n",
              "\n",
              "    .dataframe tbody tr th {\n",
              "        vertical-align: top;\n",
              "    }\n",
              "\n",
              "    .dataframe thead th {\n",
              "        text-align: right;\n",
              "    }\n",
              "</style>\n",
              "<table border=\"1\" class=\"dataframe\">\n",
              "  <thead>\n",
              "    <tr style=\"text-align: right;\">\n",
              "      <th></th>\n",
              "      <th>2</th>\n",
              "      <th>3</th>\n",
              "      <th>y</th>\n",
              "    </tr>\n",
              "  </thead>\n",
              "  <tbody>\n",
              "    <tr>\n",
              "      <th>3</th>\n",
              "      <td>Bethel University was founded in what year</td>\n",
              "      <td>The first public liberal arts university found...</td>\n",
              "      <td>0.0</td>\n",
              "    </tr>\n",
              "    <tr>\n",
              "      <th>4</th>\n",
              "      <td>Bethel University was founded in what year</td>\n",
              "      <td>List of Stanford University people. This page ...</td>\n",
              "      <td>0.0</td>\n",
              "    </tr>\n",
              "    <tr>\n",
              "      <th>5</th>\n",
              "      <td>Bethel University was founded in what year</td>\n",
              "      <td>In 2008, an interactive museum commemorating W...</td>\n",
              "      <td>0.0</td>\n",
              "    </tr>\n",
              "    <tr>\n",
              "      <th>6</th>\n",
              "      <td>Bethel University was founded in what year</td>\n",
              "      <td>In 1978 a public health research and consultin...</td>\n",
              "      <td>0.0</td>\n",
              "    </tr>\n",
              "    <tr>\n",
              "      <th>9</th>\n",
              "      <td>Bethel University was founded in what year</td>\n",
              "      <td>Profile. Michigan Technological University was...</td>\n",
              "      <td>0.0</td>\n",
              "    </tr>\n",
              "    <tr>\n",
              "      <th>...</th>\n",
              "      <td>...</td>\n",
              "      <td>...</td>\n",
              "      <td>...</td>\n",
              "    </tr>\n",
              "    <tr>\n",
              "      <th>2987</th>\n",
              "      <td>Bethel University was founded in what year</td>\n",
              "      <td>University of Houston. Founded in 1927 and led...</td>\n",
              "      <td>0.0</td>\n",
              "    </tr>\n",
              "    <tr>\n",
              "      <th>2988</th>\n",
              "      <td>Bethel University was founded in what year</td>\n",
              "      <td>Bahauddin Zakariya University Multan Admission...</td>\n",
              "      <td>0.0</td>\n",
              "    </tr>\n",
              "    <tr>\n",
              "      <th>2989</th>\n",
              "      <td>Bethel University was founded in what year</td>\n",
              "      <td>Griffin, Indiana. Griffin is a town in Bethel ...</td>\n",
              "      <td>0.0</td>\n",
              "    </tr>\n",
              "    <tr>\n",
              "      <th>2998</th>\n",
              "      <td>Bethel University was founded in what year</td>\n",
              "      <td>Eastern Michigan University. Eastern Michigan ...</td>\n",
              "      <td>0.0</td>\n",
              "    </tr>\n",
              "    <tr>\n",
              "      <th>2999</th>\n",
              "      <td>Bethel University was founded in what year</td>\n",
              "      <td>More about Duke University. Duke University, l...</td>\n",
              "      <td>0.0</td>\n",
              "    </tr>\n",
              "  </tbody>\n",
              "</table>\n",
              "<p>1000 rows × 3 columns</p>\n",
              "</div>"
            ],
            "text/plain": [
              "                                               2  ...    y\n",
              "3     Bethel University was founded in what year  ...  0.0\n",
              "4     Bethel University was founded in what year  ...  0.0\n",
              "5     Bethel University was founded in what year  ...  0.0\n",
              "6     Bethel University was founded in what year  ...  0.0\n",
              "9     Bethel University was founded in what year  ...  0.0\n",
              "...                                          ...  ...  ...\n",
              "2987  Bethel University was founded in what year  ...  0.0\n",
              "2988  Bethel University was founded in what year  ...  0.0\n",
              "2989  Bethel University was founded in what year  ...  0.0\n",
              "2998  Bethel University was founded in what year  ...  0.0\n",
              "2999  Bethel University was founded in what year  ...  0.0\n",
              "\n",
              "[1000 rows x 3 columns]"
            ]
          },
          "metadata": {},
          "execution_count": 32
        }
      ]
    },
    {
      "cell_type": "code",
      "metadata": {
        "id": "waoCl3mPKT5-"
      },
      "source": [
        "q_trunc = 64\n",
        "p_trunc = 449\n",
        "assert q_trunc+p_trunc-1==512"
      ],
      "execution_count": null,
      "outputs": []
    },
    {
      "cell_type": "code",
      "metadata": {
        "id": "dMPmK1Ftd-we"
      },
      "source": [
        "# from sklearn.model_selection import train_test_split\n",
        "# train_set,test_set = train_test_split(train_set,test_size=0.2)"
      ],
      "execution_count": null,
      "outputs": []
    },
    {
      "cell_type": "code",
      "metadata": {
        "id": "iArgIYaTTcSf"
      },
      "source": [
        "# batch_size = 128\n",
        "# def generateSamples(df):\n",
        "#   for i,row in df.iterrows():\n",
        "#     q = tokenizer(row[2], return_tensors=\"tf\",padding=\"max_length\",max_length=q_trunc,truncation=True)\n",
        "#     p = tokenizer(row[3], return_tensors=\"tf\",padding=\"max_length\",max_length=p_trunc,truncation=True)\n",
        "#     X={}\n",
        "#     for id in ['input_ids','token_type_ids','attention_mask']:\n",
        "#       X[id] = tf.concat([q[id],p[id][:,1:]],1)\n",
        "#     yield X,[row['y']]\n",
        "# type_dict = {id:tf.int32 for id in ['input_ids','token_type_ids','attention_mask']}\n",
        "# train_ds = tf.data.Dataset.from_generator(lambda :generateSamples(train_set),(type_dict,tf.int32))\n",
        "# train_ds = train_ds.batch(batch_size).prefetch(1)\n",
        "# test_ds = tf.data.Dataset.from_generator(lambda :generateSamples(test_set),(type_dict,tf.int32))\n",
        "# test_ds = test_ds.batch(batch_size).prefetch(1)"
      ],
      "execution_count": null,
      "outputs": []
    },
    {
      "cell_type": "code",
      "metadata": {
        "id": "ySqu2NZkA3GV",
        "colab": {
          "base_uri": "https://localhost:8080/"
        },
        "outputId": "cb4dae53-7c75-4db7-97bf-0d0ef9b837ca"
      },
      "source": [
        "q = tokenizer(train_set[2].values.tolist(), return_tensors=\"tf\",padding=\"max_length\",max_length=q_trunc,truncation=True)\n",
        "p = tokenizer(train_set[3].values.tolist(), return_tensors=\"tf\",padding=\"max_length\",max_length=p_trunc,truncation=True)\n",
        "X=[]\n",
        "y = train_set['y']\n",
        "for id in ['input_ids','token_type_ids','attention_mask']:\n",
        "  X.append(tf.concat([q[id],p[id][:,1:]],1))\n",
        "q = None\n",
        "p = None\n",
        "gc.collect()"
      ],
      "execution_count": null,
      "outputs": [
        {
          "output_type": "execute_result",
          "data": {
            "text/plain": [
              "8"
            ]
          },
          "metadata": {},
          "execution_count": 36
        }
      ]
    },
    {
      "cell_type": "code",
      "metadata": {
        "id": "_hSqFAqrX224"
      },
      "source": [
        "num_epochs = 2\n",
        "batch_size = 8\n",
        "num_train_steps = X[0].shape[0]//batch_size*num_epochs"
      ],
      "execution_count": null,
      "outputs": []
    },
    {
      "cell_type": "code",
      "metadata": {
        "id": "4L9t0GEb8zob"
      },
      "source": [
        "def create_inputs(num_nodes,name):\n",
        "  layers = []\n",
        "  for layer_name in ['input_ids','token_type_ids','attention_mask']:\n",
        "    layers.append(tf.keras.layers.Input(shape=(num_nodes,),dtype=tf.int32,name=layer_name))\n",
        "  return layers\n",
        "\n",
        "def create_model(output_bias=None):\n",
        "    if output_bias is not None:\n",
        "      output_bias = tf.keras.initializers.Constant(output_bias)\n",
        "    config = BertConfig(hidden_dropout_prob=0.1)\n",
        "    bert = TFBertModel.from_pretrained(bert_model_name,config=config)\n",
        "    bert.save_pretrained('./bert-model/')\n",
        "    for layer in bert.layers[:]:\n",
        "      if isinstance(layer, transformers.models.bert.modeling_tf_bert.TFBertMainLayer):\n",
        "        layer.embeddings.trainable=False\n",
        "        layer.pooler.trainable=False\n",
        "        for idx, layer in enumerate(layer.encoder.layer):\n",
        "            # print(layer)\n",
        "            # freeze first 10\n",
        "            if idx in range(8):\n",
        "                layer.trainable = False\n",
        "      else:\n",
        "        layer.trainable = False\n",
        "              \n",
        "    input_layer = create_inputs(512,'pair')\n",
        "    bert_out = bert(input_layer).last_hidden_state\n",
        "    cls = tf.keras.layers.Lambda(lambda x:x[:,0,:])(bert_out)\n",
        "    # print(avg_q.shape)\n",
        "    output = tf.keras.layers.Dense(1, activation=\"sigmoid\",bias_initializer=output_bias)(cls)\n",
        "    model = tf.keras.models.Model(inputs=input_layer, outputs=[output])\n",
        "    opt,schedule = transformers.create_optimizer(num_train_steps=num_train_steps,init_lr=3e-5,adam_beta1=0.9,adam_beta2=0.999,weight_decay_rate=0.01,num_warmup_steps=10000)\n",
        "    # opt = tfa.optimizers.RectifiedAdam()\n",
        "    model.compile(optimizer=opt,\n",
        "              loss=tf.keras.losses.BinaryCrossentropy(),\n",
        "              metrics=[tf.keras.metrics.BinaryAccuracy(),\n",
        "                       tf.keras.metrics.AUC(curve=\"ROC\")])\n",
        "    model.summary()\n",
        "    return model"
      ],
      "execution_count": null,
      "outputs": []
    },
    {
      "cell_type": "code",
      "metadata": {
        "id": "IMdRLXOCFD4V"
      },
      "source": [
        "checkpoint = tf.keras.callbacks.ModelCheckpoint(root_dir + \"pointwise_best_model.h5\", monitor='val_loss', verbose=1, save_weights_only=True, save_best_only=True, mode='min', save_freq='epoch')"
      ],
      "execution_count": null,
      "outputs": []
    },
    {
      "cell_type": "code",
      "metadata": {
        "id": "OAj81oYua79R",
        "colab": {
          "base_uri": "https://localhost:8080/",
          "height": 36
        },
        "outputId": "4dfaba25-e471-4ef4-e19b-32ea5c24fa51"
      },
      "source": [
        "tf.test.gpu_device_name()"
      ],
      "execution_count": null,
      "outputs": [
        {
          "output_type": "execute_result",
          "data": {
            "application/vnd.google.colaboratory.intrinsic+json": {
              "type": "string"
            },
            "text/plain": [
              "'/device:GPU:0'"
            ]
          },
          "metadata": {},
          "execution_count": 39
        }
      ]
    },
    {
      "cell_type": "code",
      "metadata": {
        "id": "UfARg8ouZSzj"
      },
      "source": [
        "for i in range(5):\n",
        "  gc.collect()"
      ],
      "execution_count": null,
      "outputs": []
    },
    {
      "cell_type": "code",
      "metadata": {
        "id": "4g8FPQfDgF4S"
      },
      "source": [
        "import os\n",
        "os.environ['TF_CPP_MIN_LOG_LEVEL'] = '2' \n",
        "tf.get_logger().setLevel('WARNING')"
      ],
      "execution_count": null,
      "outputs": []
    },
    {
      "cell_type": "code",
      "metadata": {
        "id": "xmwQY008BMyx"
      },
      "source": [
        "total = len(train_set['y'])\n",
        "pos = train_set['y'].sum()\n",
        "neg = total-pos\n",
        "initial_bias = np.log([pos/neg])\n",
        "\n",
        "# weight_for_0 = (1 / neg) * (total / 2.0)\n",
        "# weight_for_1 = (1 / pos) * (total / 2.0)\n",
        "\n",
        "# class_weight = {0: weight_for_0, 1: weight_for_1}\n",
        "class_weight={0:1,1:1}"
      ],
      "execution_count": null,
      "outputs": []
    },
    {
      "cell_type": "code",
      "metadata": {
        "id": "4pIAdMxRFbTF"
      },
      "source": [
        "def createAndRun():\n",
        "  model = None\n",
        "  if initial_bias:\n",
        "    print(\"Bias\",initial_bias)\n",
        "    model = create_model(initial_bias)\n",
        "  else:\n",
        "    model = create_model()\n",
        "  gc.collect()\n",
        "  print(\"Class weight\",class_weight)\n",
        "  # model.fit(x=train_ds, epochs=4, verbose=1, validation_data=test_ds, callbacks=[checkpoint])\n",
        "  history = model.fit(x=X, y=y, batch_size=batch_size, epochs=num_epochs, verbose=1, validation_split=0.2, use_multiprocessing=False, callbacks=[checkpoint],class_weight=class_weight)\n",
        "  model.save_weights('final_model.h5')\n",
        "  return model,history\n",
        "\n",
        "def cpu():\n",
        "  return createAndRun()\n",
        "\n",
        "def gpu():\n",
        "  with tf.device('/device:GPU:0'):\n",
        "    return createAndRun()\n",
        "\n",
        "def tpu():\n",
        "  with strategy.scope():\n",
        "    return createAndRun()"
      ],
      "execution_count": null,
      "outputs": []
    },
    {
      "cell_type": "code",
      "metadata": {
        "id": "uUb1eYjwcXdo"
      },
      "source": [
        "# model,history = cpu()"
      ],
      "execution_count": null,
      "outputs": []
    },
    {
      "cell_type": "code",
      "metadata": {
        "colab": {
          "base_uri": "https://localhost:8080/"
        },
        "id": "f6G--AfwklAr",
        "outputId": "0acb765e-54b5-4245-d5da-ae4b25951015"
      },
      "source": [
        "model,history = gpu()"
      ],
      "execution_count": null,
      "outputs": [
        {
          "output_type": "stream",
          "name": "stdout",
          "text": [
            "Bias [-6.90675478]\n"
          ]
        },
        {
          "output_type": "stream",
          "name": "stderr",
          "text": [
            "Some layers from the model checkpoint at bert-base-uncased were not used when initializing TFBertModel: ['mlm___cls', 'nsp___cls']\n",
            "- This IS expected if you are initializing TFBertModel from the checkpoint of a model trained on another task or with another architecture (e.g. initializing a BertForSequenceClassification model from a BertForPreTraining model).\n",
            "- This IS NOT expected if you are initializing TFBertModel from the checkpoint of a model that you expect to be exactly identical (initializing a BertForSequenceClassification model from a BertForSequenceClassification model).\n",
            "All the layers of TFBertModel were initialized from the model checkpoint at bert-base-uncased.\n",
            "If your task is similar to the task the model of the checkpoint was trained on, you can already use TFBertModel for predictions without further training.\n"
          ]
        },
        {
          "output_type": "stream",
          "name": "stdout",
          "text": [
            "Model: \"model_2\"\n",
            "__________________________________________________________________________________________________\n",
            " Layer (type)                   Output Shape         Param #     Connected to                     \n",
            "==================================================================================================\n",
            " input_ids (InputLayer)         [(None, 512)]        0           []                               \n",
            "                                                                                                  \n",
            " token_type_ids (InputLayer)    [(None, 512)]        0           []                               \n",
            "                                                                                                  \n",
            " attention_mask (InputLayer)    [(None, 512)]        0           []                               \n",
            "                                                                                                  \n",
            " tf_bert_model_2 (TFBertModel)  TFBaseModelOutputWi  109482240   ['input_ids[0][0]',              \n",
            "                                thPoolingAndCrossAt               'token_type_ids[0][0]',         \n",
            "                                tentions(last_hidde               'attention_mask[0][0]']         \n",
            "                                n_state=(None, 512,                                               \n",
            "                                 768),                                                            \n",
            "                                 pooler_output=(Non                                               \n",
            "                                e, 768),                                                          \n",
            "                                 past_key_values=No                                               \n",
            "                                ne, hidden_states=N                                               \n",
            "                                one, attentions=Non                                               \n",
            "                                e, cross_attentions                                               \n",
            "                                =None)                                                            \n",
            "                                                                                                  \n",
            " lambda_2 (Lambda)              (None, 768)          0           ['tf_bert_model_2[0][0]']        \n",
            "                                                                                                  \n",
            " dense_2 (Dense)                (None, 1)            769         ['lambda_2[0][0]']               \n",
            "                                                                                                  \n",
            "==================================================================================================\n",
            "Total params: 109,483,009\n",
            "Trainable params: 28,352,257\n",
            "Non-trainable params: 81,130,752\n",
            "__________________________________________________________________________________________________\n",
            "Class weight {0: 1, 1: 1}\n",
            "Epoch 1/4\n",
            "300/300 [==============================] - ETA: 0s - loss: 0.0078 - binary_accuracy: 0.9992 - auc: 0.5000\n",
            "Epoch 00001: val_loss improved from inf to 0.01474, saving model to /content/gdrive/MyDrive/col764/pointwise_best_model.h5\n",
            "300/300 [==============================] - 393s 1s/step - loss: 0.0078 - binary_accuracy: 0.9992 - auc: 0.5000 - val_loss: 0.0147 - val_binary_accuracy: 0.9983 - val_auc: 0.5000\n",
            "Epoch 2/4\n",
            "300/300 [==============================] - ETA: 0s - loss: 0.0066 - binary_accuracy: 0.9992 - auc: 0.5000\n",
            "Epoch 00002: val_loss did not improve from 0.01474\n",
            "300/300 [==============================] - 376s 1s/step - loss: 0.0066 - binary_accuracy: 0.9992 - auc: 0.5000 - val_loss: 0.0151 - val_binary_accuracy: 0.9983 - val_auc: 0.5000\n",
            "Epoch 3/4\n",
            "300/300 [==============================] - ETA: 0s - loss: 0.0070 - binary_accuracy: 0.9992 - auc: 0.4994\n",
            "Epoch 00003: val_loss did not improve from 0.01474\n",
            "300/300 [==============================] - 378s 1s/step - loss: 0.0070 - binary_accuracy: 0.9992 - auc: 0.4994 - val_loss: 0.0155 - val_binary_accuracy: 0.9983 - val_auc: 0.5000\n",
            "Epoch 4/4\n",
            "300/300 [==============================] - ETA: 0s - loss: 0.0065 - binary_accuracy: 0.9992 - auc: 0.4985\n",
            "Epoch 00004: val_loss did not improve from 0.01474\n",
            "300/300 [==============================] - 378s 1s/step - loss: 0.0065 - binary_accuracy: 0.9992 - auc: 0.4985 - val_loss: 0.0153 - val_binary_accuracy: 0.9983 - val_auc: 0.4658\n"
          ]
        }
      ]
    },
    {
      "cell_type": "code",
      "metadata": {
        "id": "Golkc-ggfhdW"
      },
      "source": [
        "# model,history = tpu()"
      ],
      "execution_count": null,
      "outputs": []
    },
    {
      "cell_type": "code",
      "metadata": {
        "colab": {
          "base_uri": "https://localhost:8080/"
        },
        "id": "du8VESG-Mjzw",
        "outputId": "98e68cf2-4c05-43c1-cf37-9c3fe7662556"
      },
      "source": [
        "!tar -zcvf bert-model.tar.gz bert-model"
      ],
      "execution_count": null,
      "outputs": [
        {
          "output_type": "stream",
          "name": "stdout",
          "text": [
            "bert-model/\n",
            "bert-model/tf_model.h5\n",
            "bert-model/config.json\n"
          ]
        }
      ]
    },
    {
      "cell_type": "code",
      "metadata": {
        "colab": {
          "base_uri": "https://localhost:8080/"
        },
        "id": "LAp8TipihGEA",
        "outputId": "2512c7fd-e56f-4c14-db7a-76132d7556eb"
      },
      "source": [
        "!ls -alh top1000.dev qrels.dev.tsv"
      ],
      "execution_count": null,
      "outputs": [
        {
          "output_type": "stream",
          "name": "stdout",
          "text": [
            "-rw-r--r-- 1 root    root    1.2M Nov 28  2018 qrels.dev.tsv\n",
            "-rwxrwx--- 1 8045835 1049089 2.5G Jul 17  2019 top1000.dev\n"
          ]
        }
      ]
    },
    {
      "cell_type": "code",
      "metadata": {
        "id": "pg6eQr0CHRUm"
      },
      "source": [
        "pd.DataFrame({\n",
        "    'embedding':[True,False,False,False],\n",
        "    'batch':[128,128,128,128],\n",
        "    'time':[327,225,180,254],\n",
        "    'loss':[0.67241,0.66957,0.22111,0.5409],\n",
        "    'auc':[0.5674,0.5798,0.5055,0.8734],\n",
        "    'acc':[0.5811,0.5958,0.9479,0.7318],\n",
        "    'frozen':[10,10,12,8]\n",
        "              })"
      ],
      "execution_count": null,
      "outputs": []
    }
  ]
}